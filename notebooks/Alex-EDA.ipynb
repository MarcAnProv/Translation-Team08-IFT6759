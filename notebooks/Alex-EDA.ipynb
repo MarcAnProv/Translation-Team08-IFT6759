{
 "cells": [
  {
   "cell_type": "code",
   "execution_count": 1,
   "metadata": {},
   "outputs": [],
   "source": [
    "en_file1 = '../data/train.lang1'\n",
    "en_file2 = '../data/train.en.no-punctuation/unaligned.en'\n",
    "fr_file1 = '../data/train.lang2'\n",
    "fr_file2 = '../data/train.fr.tokenized/unaligned.fr'\n",
    "en_files = [en_file1, en_file2]\n",
    "fr_files = [fr_file1, fr_file2]\n",
    "lang_files = [en_files, fr_files]\n",
    "corpus_name = ['EN', 'FR']"
   ]
  },
  {
   "cell_type": "code",
   "execution_count": 2,
   "metadata": {},
   "outputs": [
    {
     "name": "stdout",
     "output_type": "stream",
     "text": [
      "{'input_ids': [0, 923, 281, 261, 41, 722, 281, 1162, 289, 281, 1692, 279, 281, 597, 298, 281, 1053, 279, 281, 1807, 302, 281, 1752, 279, 268, 11, 327, 297, 314, 6746, 272, 289, 2566, 6531, 272, 637, 1666, 317, 348, 7728, 788, 3756, 272, 289, 723, 272, 264, 11, 2633, 561, 307, 2228, 302, 307, 1433, 276, 2, 1, 1, 1, 1, 1, 1, 1], 'attention_mask': [1, 1, 1, 1, 1, 1, 1, 1, 1, 1, 1, 1, 1, 1, 1, 1, 1, 1, 1, 1, 1, 1, 1, 1, 1, 1, 1, 1, 1, 1, 1, 1, 1, 1, 1, 1, 1, 1, 1, 1, 1, 1, 1, 1, 1, 1, 1, 1, 1, 1, 1, 1, 1, 1, 1, 1, 1, 0, 0, 0, 0, 0, 0, 0]}\n",
      "( DE ) Madame la Présidente , Monsieur le Commissaire , Mesdames et Messieurs , c' est un des signes de la pauvreté absolue de notre société que nous devions encore discuter de la question de l' égalité entre les hommes et les femmes .\n",
      "{'input_ids': [0, 325, 266, 1347, 4806, 288, 266, 8313, 323, 647, 732, 1102, 14490, 1364, 2986, 1390, 299, 2709, 350, 1390, 330, 371, 87, 1809, 2, 1, 1, 1, 1, 1, 1, 1, 1, 1, 1, 1, 1, 1, 1, 1, 1, 1, 1, 1, 1, 1, 1, 1, 1, 1, 1, 1, 1, 1, 1, 1, 1, 1, 1, 1, 1, 1, 1, 1], 'attention_mask': [1, 1, 1, 1, 1, 1, 1, 1, 1, 1, 1, 1, 1, 1, 1, 1, 1, 1, 1, 1, 1, 1, 1, 1, 1, 0, 0, 0, 0, 0, 0, 0, 0, 0, 0, 0, 0, 0, 0, 0, 0, 0, 0, 0, 0, 0, 0, 0, 0, 0, 0, 0, 0, 0, 0, 0, 0, 0, 0, 0, 0, 0, 0, 0]}\n",
      " for the second phase of the trials we just had different sizes small medium large and extra - large it 's true\n"
     ]
    }
   ],
   "source": [
    "import sys\n",
    "sys.path.insert(1, '../code')\n",
    "import pretrained_tokenizer"
   ]
  },
  {
   "cell_type": "code",
   "execution_count": 3,
   "metadata": {},
   "outputs": [],
   "source": [
    "t_fr = pretrained_tokenizer.Tokenizer(language='fr')\n",
    "t_fr.MAX_LENGTH = 512\n",
    "t_en = pretrained_tokenizer.Tokenizer(language='en')\n",
    "t_en.MAX_LENGTH = 512"
   ]
  },
  {
   "cell_type": "code",
   "execution_count": 22,
   "metadata": {},
   "outputs": [],
   "source": [
    "from collections import Counter\n",
    "import numpy as np\n",
    "\n",
    "def get_stats(t, lang_files):\n",
    "    line_lengths = []\n",
    "    my_counter = Counter()\n",
    "    for lang_file in lang_files:\n",
    "        with open(lang_file) as f:\n",
    "            for line in f:\n",
    "                encoded = t.encode(line)\n",
    "                tokens = np.array(encoded['input_ids'])[np.array(encoded['attention_mask'])==1]\n",
    "                line_lengths += [len(tokens)]\n",
    "                for token in tokens:\n",
    "                    my_counter.update([token])\n",
    "    return my_counter, line_lengths\n",
    "\n",
    "corpus_line_lengths = []\n",
    "counters = []\n",
    "my_counter, line_lengths = get_stats(t_en, en_files)\n",
    "counters += [my_counter]\n",
    "corpus_line_lengths += [line_lengths]"
   ]
  },
  {
   "cell_type": "code",
   "execution_count": 23,
   "metadata": {},
   "outputs": [],
   "source": [
    "my_counter, line_lengths = get_stats(t_fr, fr_files)\n",
    "counters += [my_counter]\n",
    "corpus_line_lengths += [line_lengths]"
   ]
  },
  {
   "cell_type": "code",
   "execution_count": 24,
   "metadata": {},
   "outputs": [
    {
     "name": "stdout",
     "output_type": "stream",
     "text": [
      "number of unique tokens in EN corpus: 48285\n",
      "number of unique tokens in FR corpus: 54698\n"
     ]
    }
   ],
   "source": [
    "for my_counter, corpus in zip(counters, corpus_name):\n",
    "    print(f'number of unique tokens in {corpus} corpus: {len(my_counter)}')"
   ]
  },
  {
   "cell_type": "code",
   "execution_count": 25,
   "metadata": {},
   "outputs": [
    {
     "data": {
      "image/png": "[encoded data removed]",
      "text/plain": [
       "<Figure size 432x288 with 1 Axes>"
      ]
     },
     "metadata": {
      "needs_background": "light"
     },
     "output_type": "display_data"
    }
   ],
   "source": [
    "import matplotlib.pyplot as plt\n",
    "\n",
    "for my_counter, corpus in zip(counters, corpus_name):\n",
    "    plt.plot(range(len(my_counter.values())), sorted(my_counter.values(), reverse=True), label=f'{corpus} corpus')\n",
    "    plt.yscale('log')\n",
    "    plt.xlabel('Token ID')\n",
    "    plt.ylabel('frequency')\n",
    "    plt.title(f'Frequency of tokens in corpus')\n",
    "plt.legend()\n",
    "plt.show()"
   ]
  },
  {
   "cell_type": "code",
   "execution_count": 26,
   "metadata": {},
   "outputs": [
    {
     "data": {
      "image/png": "[encoded data removed]",
      "text/plain": [
       "<Figure size 432x288 with 1 Axes>"
      ]
     },
     "metadata": {
      "needs_background": "light"
     },
     "output_type": "display_data"
    }
   ],
   "source": [
    "for line_lengths, corpus in zip(corpus_line_lengths, corpus_name):\n",
    "    plt.hist(line_lengths, bins=50, alpha=0.5, label=f'{corpus} corpus')\n",
    "    plt.xlabel('Token count per sentence')\n",
    "    plt.ylabel('Frequency')\n",
    "    plt.yscale('log')\n",
    "    plt.title(f'Distribution of tokens per sample over corpus')\n",
    "plt.legend()\n",
    "plt.show()"
   ]
  },
  {
   "cell_type": "code",
   "execution_count": 27,
   "metadata": {},
   "outputs": [
    {
     "name": "stdout",
     "output_type": "stream",
     "text": [
      "max number of tokens per EN sentence: 189\n",
      "max number of tokens per FR sentence: 266\n"
     ]
    }
   ],
   "source": [
    "for line_lengths, corpus in zip(corpus_line_lengths, corpus_name):\n",
    "    print(f'max number of tokens per {corpus} sentence: {max(line_lengths)}')"
   ]
  },
  {
   "cell_type": "code",
   "execution_count": 52,
   "metadata": {},
   "outputs": [
    {
     "name": "stdout",
     "output_type": "stream",
     "text": [
      "EN Coverage with line length 64: 99.8680412371134%\n",
      "FR Coverage with line length 64: 99.36969072164949%\n"
     ]
    }
   ],
   "source": [
    "MAX_LENGTH = 64\n",
    "for line_lengths, corpus in zip(corpus_line_lengths, corpus_name):\n",
    "    print(f'{corpus} Coverage with line length {MAX_LENGTH}: {np.sum(np.array(line_lengths) < MAX_LENGTH) / len(corpus_line_lengths[0]) * 100.0}%')\n",
    "# np.sum(np.array(corpus_line_lengths[1]) < MAX_LENGTH)"
   ]
  },
  {
   "cell_type": "code",
   "execution_count": 53,
   "metadata": {},
   "outputs": [
    {
     "name": "stdout",
     "output_type": "stream",
     "text": [
      "Most common tokens in EN corpus: [(266, 599638), (0, 485000), (2, 485000), (282, 285881), (288, 281662), (299, 231661), (286, 195339), (263, 167964), (306, 157777), (310, 157378)]\n",
      "Decoded: [' the', '', '', ' to', ' of', ' and', ' in', ' a', ' is', ' that']\n",
      "Most common tokens in FR corpus: [(281, 899530), (0, 485000), (2, 485000), (272, 471563), (276, 471474), (11, 467177), (279, 459546), (289, 305467), (264, 229172), (302, 215907)]\n",
      "Decoded: [' m', '', '', 'er', 'it', \"'\", ' b', 'al', 'in', 'le']\n"
     ]
    }
   ],
   "source": [
    "for my_counter, corpus in zip(counters, corpus_name):\n",
    "    print(f'Most common tokens in {corpus} corpus: {my_counter.most_common(10)}')\n",
    "    print(f'Decoded: {[t_en.decode([t[0]]) for t in my_counter.most_common(10)]}')"
   ]
  },
  {
   "cell_type": "code",
   "execution_count": null,
   "metadata": {},
   "outputs": [],
   "source": []
  }
 ],
 "metadata": {
  "kernelspec": {
   "display_name": "Python 3",
   "language": "python",
   "name": "python3"
  },
  "language_info": {
   "codemirror_mode": {
    "name": "ipython",
    "version": 3
   },
   "file_extension": ".py",
   "mimetype": "text/x-python",
   "name": "python",
   "nbconvert_exporter": "python",
   "pygments_lexer": "ipython3",
   "version": "3.6.9"
  }
 },
 "nbformat": 4,
 "nbformat_minor": 4
}
