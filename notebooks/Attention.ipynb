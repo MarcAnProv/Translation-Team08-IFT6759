{
  "nbformat": 4,
  "nbformat_minor": 0,
  "metadata": {
    "colab": {
      "name": "Attention.ipynb",
      "provenance": [],
      "collapsed_sections": [],
      "toc_visible": true
    },
    "kernelspec": {
      "name": "python3",
      "display_name": "Python 3"
    },
    "accelerator": "GPU"
  },
  "cells": [
    {
      "cell_type": "markdown",
      "metadata": {
        "id": "GJMhAX-Py9K2",
        "colab_type": "text"
      },
      "source": [
        "# Seq2seq"
      ]
    },
    {
      "cell_type": "markdown",
      "metadata": {
        "id": "qxX8qL1sgAeB",
        "colab_type": "text"
      },
      "source": [
        "Implementation of seq2seq model with attention from https://www.tensorflow.org/tutorials/text/nmt_with_attention\n",
        "\n",
        "To run this notebook, you only need to have the file train.lang1 and train.lang2 in a Google Drive directory"
      ]
    },
    {
      "cell_type": "code",
      "metadata": {
        "id": "hDqFxbKOG54e",
        "colab_type": "code",
        "colab": {
          "base_uri": "https://localhost:8080/",
          "height": 34
        },
        "outputId": "1e69f7d3-76a6-4057-c932-e6eb5edc3def"
      },
      "source": [
        "from __future__ import absolute_import, division, print_function, unicode_literals\n",
        "\n",
        "try:\n",
        "  # %tensorflow_version only exists in Colab.\n",
        "  %tensorflow_version 2.x\n",
        "except Exception:\n",
        "  pass\n",
        "  \n",
        "import tensorflow as tf\n",
        "\n",
        "import matplotlib.pyplot as plt\n",
        "import matplotlib.ticker as ticker\n",
        "from sklearn.model_selection import train_test_split\n",
        "\n",
        "#import unicodedata\n",
        "import re\n",
        "import numpy as np\n",
        "import os\n",
        "import time"
      ],
      "execution_count": 1,
      "outputs": [
        {
          "output_type": "stream",
          "text": [
            "TensorFlow 2.x selected.\n"
          ],
          "name": "stdout"
        }
      ]
    },
    {
      "cell_type": "code",
      "metadata": {
        "id": "eY5eWMSPJXNc",
        "colab_type": "code",
        "colab": {
          "base_uri": "https://localhost:8080/",
          "height": 122
        },
        "outputId": "c2bd7598-7e20-41aa-e08d-72bfb322f6e0"
      },
      "source": [
        "from google.colab import drive\n",
        "drive.mount('/content/gdrive')"
      ],
      "execution_count": 12,
      "outputs": [
        {
          "output_type": "stream",
          "text": [
            "Go to this URL in a browser: https://accounts.google.com/o/oauth2/auth?client_id=947318989803-6bn6qk8qdgf4n4g3pfee6491hc0brc4i.apps.googleusercontent.com&redirect_uri=urn%3aietf%3awg%3aoauth%3a2.0%3aoob&response_type=code&scope=email%20https%3a%2f%2fwww.googleapis.com%2fauth%2fdocs.test%20https%3a%2f%2fwww.googleapis.com%2fauth%2fdrive%20https%3a%2f%2fwww.googleapis.com%2fauth%2fdrive.photos.readonly%20https%3a%2f%2fwww.googleapis.com%2fauth%2fpeopleapi.readonly\n",
            "\n",
            "Enter your authorization code:\n",
            "··········\n",
            "Mounted at /content/gdrive\n"
          ],
          "name": "stdout"
        }
      ]
    },
    {
      "cell_type": "code",
      "metadata": {
        "id": "ITqtCu-dJmHm",
        "colab_type": "code",
        "colab": {
          "base_uri": "https://localhost:8080/",
          "height": 34
        },
        "outputId": "0777f7de-7fac-4c63-db5a-9cce7ca21669"
      },
      "source": [
        "# Mounting colab with google drive\n",
        "# In my Drive I have data folder containing train.lang1 and train.lang2\n",
        "\n",
        "%cd /content/gdrive/My Drive/ift6759"
      ],
      "execution_count": 58,
      "outputs": [
        {
          "output_type": "stream",
          "text": [
            "/content/gdrive/My Drive/ift6759\n"
          ],
          "name": "stdout"
        }
      ]
    },
    {
      "cell_type": "markdown",
      "metadata": {
        "id": "I018Q9Z1ZxWp",
        "colab_type": "text"
      },
      "source": [
        "## Preprocessing"
      ]
    },
    {
      "cell_type": "code",
      "metadata": {
        "id": "JlMkBRf9Jxix",
        "colab_type": "code",
        "colab": {}
      },
      "source": [
        "# design decision included here, decided to keep é, è, ê, etc. for french \n",
        "# since otherwise it would divide a word like 'événementiel' into \"v\", \"nementiel\"\n",
        "\n",
        "def preprocess_sentence(w):\n",
        "  w = w.lower().strip()\n",
        "\n",
        "  # creating a space between a word and the punctuation following it\n",
        "  # eg: \"he is a boy.\" => \"he is a boy .\"\n",
        "  w = re.sub(r\"([?.!,¿])\", r\" \\1 \", w)\n",
        "  w = re.sub(r'[\" \"]+', \" \", w)\n",
        "\n",
        "  # replacing everything with space except (a-z, A-Z, \".\", \"?\", \"!\", \",\", \"é\", \"è\", \"ê\", \"ç\", \"î\", \"ï\", \"ô\")\n",
        "  w = re.sub(r\"[^a-zA-Z?.!,¿éèçêîôï]+\", \" \", w)\n",
        "\n",
        "  w = w.strip()\n",
        "\n",
        "  # adding a start and an end token to the sentence\n",
        "  # so that the model know when to start and stop predicting.\n",
        "  w = '<start> ' + w + ' <end>'\n",
        "  return w"
      ],
      "execution_count": 0,
      "outputs": []
    },
    {
      "cell_type": "code",
      "metadata": {
        "id": "VkNx9iMbLnQi",
        "colab_type": "code",
        "colab": {
          "base_uri": "https://localhost:8080/",
          "height": 51
        },
        "outputId": "11965fa8-4a8d-4ec1-a44b-66481677eebc"
      },
      "source": [
        "fr_sentence = f\"J'aime beaucoup le chocolat!\"\n",
        "en_sentence = f\"I really like chocolate!\"\n",
        "print(preprocess_sentence(fr_sentence))\n",
        "print(preprocess_sentence(en_sentence))"
      ],
      "execution_count": 16,
      "outputs": [
        {
          "output_type": "stream",
          "text": [
            "<start> j aime beaucoup le chocolat ! <end>\n",
            "<start> i really like chocolate ! <end>\n"
          ],
          "name": "stdout"
        }
      ]
    },
    {
      "cell_type": "code",
      "metadata": {
        "id": "oId1lJorQlFt",
        "colab_type": "code",
        "colab": {}
      },
      "source": [
        "# mapping english sentences to french sentences\n",
        "def combine_files(path_to_en_file, path_to_fr_file, output_path):\n",
        "  with open(path_to_en_file, 'r') as en:\n",
        "    with open(path_to_fr_file, 'r') as fr:\n",
        "      with open(output_path, 'w') as outfile:\n",
        "        en_lines = en.readlines()\n",
        "        fr_lines = fr.readlines()\n",
        "        for i in range(len(en_lines)):\n",
        "          line = en_lines[i].strip() + '\\t' + fr_lines[i]\n",
        "          outfile.write(line)"
      ],
      "execution_count": 0,
      "outputs": []
    },
    {
      "cell_type": "code",
      "metadata": {
        "id": "2r_-7XlPPQ5j",
        "colab_type": "code",
        "colab": {}
      },
      "source": [
        "def print_n(path_to_file, n):\n",
        "  n = range(n)\n",
        "  with open(path_to_file, 'r') as f:\n",
        "    for i, line in enumerate(f):\n",
        "      if i in n:\n",
        "        print(line)"
      ],
      "execution_count": 0,
      "outputs": []
    },
    {
      "cell_type": "code",
      "metadata": {
        "id": "dI-h5RCaaDLD",
        "colab_type": "code",
        "colab": {
          "base_uri": "https://localhost:8080/",
          "height": 207
        },
        "outputId": "b4ece529-b666-4300-8798-df8ea903d718"
      },
      "source": [
        "print('ENGLISH')\n",
        "print_n('data/train.lang1', 2)\n",
        "\n",
        "print('FRENCH')\n",
        "print_n('data/train.lang2', 2)"
      ],
      "execution_count": 19,
      "outputs": [
        {
          "output_type": "stream",
          "text": [
            "ENGLISH\n",
            "so too does the idea that accommodating religious differences is dangerous\n",
            "\n",
            "mr president ladies and gentlemen the financial perspective outlines the scope of the eu ’s activities over coming years as well as providing a framework for such activities and determining how effective they will be\n",
            "\n",
            "FRENCH\n",
            "L’ idée de concilier les différences religieuses semble donc dangereuse .\n",
            "\n",
            "Monsieur le Président , Mesdames et Messieurs , les perspectives financières esquissent la portée des activités de l’ UE pour les années à venir , fournissent un cadre pour ces activités et déterminent leur efficacité .\n",
            "\n"
          ],
          "name": "stdout"
        }
      ]
    },
    {
      "cell_type": "code",
      "metadata": {
        "id": "RCkbGI9QXJXM",
        "colab_type": "code",
        "colab": {}
      },
      "source": [
        "# only need to do it once, uncomment if not done\n",
        "#combine_files('data/train.lang1', 'data/train.lang2', 'data/en-fr.txt')"
      ],
      "execution_count": 0,
      "outputs": []
    },
    {
      "cell_type": "code",
      "metadata": {
        "id": "lL6kVkCPUlfT",
        "colab_type": "code",
        "colab": {
          "base_uri": "https://localhost:8080/",
          "height": 105
        },
        "outputId": "85842097-4ac6-47a2-c50c-09345b620552"
      },
      "source": [
        "# check if the combine_files function worked\n",
        "print_n('data/en-fr.txt', 2)"
      ],
      "execution_count": 21,
      "outputs": [
        {
          "output_type": "stream",
          "text": [
            "so too does the idea that accommodating religious differences is dangerous\tL’ idée de concilier les différences religieuses semble donc dangereuse .\n",
            "\n",
            "mr president ladies and gentlemen the financial perspective outlines the scope of the eu ’s activities over coming years as well as providing a framework for such activities and determining how effective they will be\tMonsieur le Président , Mesdames et Messieurs , les perspectives financières esquissent la portée des activités de l’ UE pour les années à venir , fournissent un cadre pour ces activités et déterminent leur efficacité .\n",
            "\n"
          ],
          "name": "stdout"
        }
      ]
    },
    {
      "cell_type": "code",
      "metadata": {
        "id": "EL3j-jwuMN4M",
        "colab_type": "code",
        "colab": {}
      },
      "source": [
        "# 1. Remove the accents\n",
        "# 2. Clean the sentences\n",
        "# 3. Return word pairs in the format: [ENGLISH, SPANISH]\n",
        "def create_dataset(path, num_examples):\n",
        "  lines = open(path, encoding='UTF-8').read().strip().split('\\n')\n",
        "\n",
        "  word_pairs = [[preprocess_sentence(w) for w in l.split('\\t')]  for l in lines[:num_examples]]\n",
        "\n",
        "  return zip(*word_pairs)"
      ],
      "execution_count": 0,
      "outputs": []
    },
    {
      "cell_type": "code",
      "metadata": {
        "id": "7PTIujuCairh",
        "colab_type": "code",
        "colab": {}
      },
      "source": [
        "en, fr = create_dataset('data/en-fr.txt', None)"
      ],
      "execution_count": 0,
      "outputs": []
    },
    {
      "cell_type": "code",
      "metadata": {
        "id": "0WTD0tTxap66",
        "colab_type": "code",
        "colab": {
          "base_uri": "https://localhost:8080/",
          "height": 51
        },
        "outputId": "77289e2d-79af-4289-fcfc-9b65ed19d804"
      },
      "source": [
        "# let's see what it outputs\n",
        "print(en[-1])\n",
        "print(fr[-1])"
      ],
      "execution_count": 24,
      "outputs": [
        {
          "output_type": "stream",
          "text": [
            "<start> i agree that we need an ambitious social agenda which will include combating poverty and social exclusion <end>\n",
            "<start> je conviens que nous avons besoin d un agenda social ambitieux qui englobera la lutte contre la pauvreté et l exclusion sociale . <end>\n"
          ],
          "name": "stdout"
        }
      ]
    },
    {
      "cell_type": "code",
      "metadata": {
        "id": "HiXM8nIPa36p",
        "colab_type": "code",
        "colab": {}
      },
      "source": [
        "def max_length(tensor):\n",
        "  return max(len(t) for t in tensor)"
      ],
      "execution_count": 0,
      "outputs": []
    },
    {
      "cell_type": "code",
      "metadata": {
        "id": "5Ojbd1H2c6aG",
        "colab_type": "code",
        "colab": {}
      },
      "source": [
        "def tokenize(lang):\n",
        "  lang_tokenizer = tf.keras.preprocessing.text.Tokenizer(filters='')\n",
        "  lang_tokenizer.fit_on_texts(lang)\n",
        "\n",
        "  tensor = lang_tokenizer.texts_to_sequences(lang)\n",
        "\n",
        "  tensor = tf.keras.preprocessing.sequence.pad_sequences(tensor, padding='post')\n",
        "\n",
        "  return tensor, lang_tokenizer"
      ],
      "execution_count": 0,
      "outputs": []
    },
    {
      "cell_type": "code",
      "metadata": {
        "id": "RgJftlqFdZKR",
        "colab_type": "code",
        "colab": {}
      },
      "source": [
        "def load_dataset(path, num_examples=None):\n",
        "  # creating cleaned input, output pairs\n",
        "  inp_lang, targ_lang = create_dataset(path, num_examples)\n",
        "\n",
        "  input_tensor, inp_lang_tokenizer = tokenize(inp_lang)\n",
        "  target_tensor, targ_lang_tokenizer = tokenize(targ_lang)\n",
        "\n",
        "  return input_tensor, target_tensor, inp_lang_tokenizer, targ_lang_tokenizer"
      ],
      "execution_count": 0,
      "outputs": []
    },
    {
      "cell_type": "code",
      "metadata": {
        "id": "G1Xub_8ad42W",
        "colab_type": "code",
        "colab": {}
      },
      "source": [
        "input_tensor, target_tensor, inp_lang, targ_lang = load_dataset(path='data/en-fr.txt')"
      ],
      "execution_count": 0,
      "outputs": []
    },
    {
      "cell_type": "code",
      "metadata": {
        "id": "cztNbHsYe3IJ",
        "colab_type": "code",
        "colab": {}
      },
      "source": [
        "# Calculate max_length of the target tensors\n",
        "max_length_targ, max_length_inp = max_length(target_tensor), max_length(input_tensor)"
      ],
      "execution_count": 0,
      "outputs": []
    },
    {
      "cell_type": "code",
      "metadata": {
        "id": "nMCLFkEafes8",
        "colab_type": "code",
        "colab": {}
      },
      "source": [
        "# Creating training and validation sets using an 90-10 split, could be modified of course\n",
        "input_tensor_train, input_tensor_val, target_tensor_train, target_tensor_val = train_test_split(input_tensor, target_tensor, test_size=0.1)"
      ],
      "execution_count": 0,
      "outputs": []
    },
    {
      "cell_type": "code",
      "metadata": {
        "id": "b_sise0Pfsqk",
        "colab_type": "code",
        "colab": {
          "base_uri": "https://localhost:8080/",
          "height": 34
        },
        "outputId": "e9a9b7e2-7599-4243-a447-ed92c87b746b"
      },
      "source": [
        "# Show length\n",
        "print(len(input_tensor_train), len(target_tensor_train), len(input_tensor_val), len(target_tensor_val))"
      ],
      "execution_count": 31,
      "outputs": [
        {
          "output_type": "stream",
          "text": [
            "9900 9900 1100 1100\n"
          ],
          "name": "stdout"
        }
      ]
    },
    {
      "cell_type": "code",
      "metadata": {
        "id": "nLVdUwxZfwyI",
        "colab_type": "code",
        "colab": {}
      },
      "source": [
        "def convert(lang, tensor):\n",
        "  for t in tensor:\n",
        "    if t!=0:\n",
        "      print (\"%d ----> %s\" % (t, lang.index_word[t]))"
      ],
      "execution_count": 0,
      "outputs": []
    },
    {
      "cell_type": "code",
      "metadata": {
        "id": "TIiKqYlGgQBU",
        "colab_type": "code",
        "colab": {
          "base_uri": "https://localhost:8080/",
          "height": 1000
        },
        "outputId": "4d4581ce-7dc8-434f-d067-c21b2998bc64"
      },
      "source": [
        "print (\"Input Language; index to word mapping\")\n",
        "convert(inp_lang, input_tensor_train[-1])\n",
        "print ()\n",
        "print (\"Target Language; index to word mapping\")\n",
        "convert(targ_lang, target_tensor_train[-1])"
      ],
      "execution_count": 33,
      "outputs": [
        {
          "output_type": "stream",
          "text": [
            "Input Language; index to word mapping\n",
            "2 ----> <start>\n",
            "122 ----> economic\n",
            "303 ----> growth\n",
            "9 ----> is\n",
            "1 ----> the\n",
            "6880 ----> cornerstone\n",
            "4 ----> of\n",
            "150 ----> development\n",
            "7 ----> in\n",
            "471 ----> developing\n",
            "81 ----> countries\n",
            "250 ----> whether\n",
            "13 ----> we\n",
            "18 ----> are\n",
            "1400 ----> dealing\n",
            "23 ----> with\n",
            "453 ----> climate\n",
            "240 ----> change\n",
            "55 ----> or\n",
            "7120 ----> guaranteeing\n",
            "127 ----> good\n",
            "452 ----> education\n",
            "3 ----> <end>\n",
            "\n",
            "Target Language; index to word mapping\n",
            "2 ----> <start>\n",
            "6 ----> la\n",
            "336 ----> croissance\n",
            "149 ----> économique\n",
            "15 ----> est\n",
            "6 ----> la\n",
            "4287 ----> pierre\n",
            "6022 ----> angulaire\n",
            "20 ----> du\n",
            "124 ----> développement\n",
            "11 ----> des\n",
            "57 ----> pays\n",
            "14 ----> en\n",
            "124 ----> développement\n",
            "5 ----> ,\n",
            "31 ----> qu\n",
            "19 ----> il\n",
            "122 ----> soit\n",
            "95 ----> question\n",
            "11 ----> des\n",
            "1048 ----> changements\n",
            "2570 ----> climatiques\n",
            "63 ----> ou\n",
            "4 ----> de\n",
            "7 ----> l\n",
            "2065 ----> assurance\n",
            "12 ----> d\n",
            "17 ----> une\n",
            "272 ----> bonne\n",
            "619 ----> éducation\n",
            "1 ----> .\n",
            "3 ----> <end>\n"
          ],
          "name": "stdout"
        }
      ]
    },
    {
      "cell_type": "markdown",
      "metadata": {
        "id": "PH0AI8tAmDc5",
        "colab_type": "text"
      },
      "source": [
        "## Model"
      ]
    },
    {
      "cell_type": "code",
      "metadata": {
        "id": "zCU8N5VYgvKE",
        "colab_type": "code",
        "colab": {}
      },
      "source": [
        "# create tf.dataset and decide architecture choices\n",
        "# needed to change batch size and #of units so it didn't throw out-of-memory error in colab\n",
        "BUFFER_SIZE = len(input_tensor_train)\n",
        "BATCH_SIZE = 24 \n",
        "steps_per_epoch = len(input_tensor_train) // BATCH_SIZE\n",
        "embedding_dim = 256\n",
        "units = 512\n",
        "vocab_inp_size = len(inp_lang.word_index)+1\n",
        "vocab_tar_size = len(targ_lang.word_index)+1\n",
        "\n",
        "dataset = tf.data.Dataset.from_tensor_slices((input_tensor_train, target_tensor_train)).shuffle(BUFFER_SIZE)\n",
        "dataset = dataset.batch(BATCH_SIZE, drop_remainder=True)"
      ],
      "execution_count": 0,
      "outputs": []
    },
    {
      "cell_type": "code",
      "metadata": {
        "id": "9MwZFT1LhSuH",
        "colab_type": "code",
        "colab": {
          "base_uri": "https://localhost:8080/",
          "height": 34
        },
        "outputId": "87319342-f435-4d2a-a702-7d07c2d3b264"
      },
      "source": [
        "example_input_batch, example_target_batch = next(iter(dataset))\n",
        "example_input_batch.shape, example_target_batch.shape"
      ],
      "execution_count": 35,
      "outputs": [
        {
          "output_type": "execute_result",
          "data": {
            "text/plain": [
              "(TensorShape([24, 94]), TensorShape([24, 113]))"
            ]
          },
          "metadata": {
            "tags": []
          },
          "execution_count": 35
        }
      ]
    },
    {
      "cell_type": "code",
      "metadata": {
        "id": "HTVkqnGrhtQo",
        "colab_type": "code",
        "colab": {}
      },
      "source": [
        "# Encoder with GRU gates\n",
        "class Encoder(tf.keras.Model):\n",
        "  def __init__(self, vocab_size, embedding_dim, enc_units, batch_sz):\n",
        "    super(Encoder, self).__init__()\n",
        "    self.batch_sz = batch_sz\n",
        "    self.enc_units = enc_units\n",
        "    # could modify the embeddings for pre-trained embeddings\n",
        "    self.embedding = tf.keras.layers.Embedding(vocab_size, embedding_dim)\n",
        "    self.gru = tf.keras.layers.GRU(self.enc_units,\n",
        "                                   return_sequences=True,\n",
        "                                   return_state=True,\n",
        "                                   recurrent_initializer='glorot_uniform')\n",
        "\n",
        "  def call(self, x, hidden):\n",
        "    x = self.embedding(x)\n",
        "    output, state = self.gru(x, initial_state = hidden)\n",
        "    return output, state\n",
        "\n",
        "  def initialize_hidden_state(self):\n",
        "    return tf.zeros((self.batch_sz, self.enc_units))"
      ],
      "execution_count": 0,
      "outputs": []
    },
    {
      "cell_type": "code",
      "metadata": {
        "id": "FrJ8OQzyk6tx",
        "colab_type": "code",
        "colab": {
          "base_uri": "https://localhost:8080/",
          "height": 51
        },
        "outputId": "0643494d-dbbb-4992-af68-220dfc3d5748"
      },
      "source": [
        "encoder = Encoder(vocab_inp_size, embedding_dim, units, BATCH_SIZE)\n",
        "\n",
        "# sample input\n",
        "sample_hidden = encoder.initialize_hidden_state()\n",
        "sample_output, sample_hidden = encoder(example_input_batch, sample_hidden)\n",
        "print ('Encoder output shape: (batch size, sequence length, units) {}'.format(sample_output.shape))\n",
        "print ('Encoder Hidden state shape: (batch size, units) {}'.format(sample_hidden.shape))"
      ],
      "execution_count": 37,
      "outputs": [
        {
          "output_type": "stream",
          "text": [
            "Encoder output shape: (batch size, sequence length, units) (24, 94, 512)\n",
            "Encoder Hidden state shape: (batch size, units) (24, 512)\n"
          ],
          "name": "stdout"
        }
      ]
    },
    {
      "cell_type": "code",
      "metadata": {
        "id": "HfQX-8i2lf0Q",
        "colab_type": "code",
        "colab": {}
      },
      "source": [
        "class BahdanauAttention(tf.keras.layers.Layer):\n",
        "  def __init__(self, units):\n",
        "    super(BahdanauAttention, self).__init__()\n",
        "    self.W1 = tf.keras.layers.Dense(units)\n",
        "    self.W2 = tf.keras.layers.Dense(units)\n",
        "    self.V = tf.keras.layers.Dense(1)\n",
        "\n",
        "  def call(self, query, values):\n",
        "    # query hidden state shape == (batch_size, hidden size)\n",
        "    # query_with_time_axis shape == (batch_size, 1, hidden size)\n",
        "    # values shape == (batch_size, max_len, hidden size)\n",
        "    # we are doing this to broadcast addition along the time axis to calculate the score\n",
        "    query_with_time_axis = tf.expand_dims(query, 1)\n",
        "\n",
        "    # score shape == (batch_size, max_length, 1)\n",
        "    # we get 1 at the last axis because we are applying score to self.V\n",
        "    # the shape of the tensor before applying self.V is (batch_size, max_length, units)\n",
        "    score = self.V(tf.nn.tanh(\n",
        "        self.W1(query_with_time_axis) + self.W2(values)))\n",
        "\n",
        "    # attention_weights shape == (batch_size, max_length, 1)\n",
        "    attention_weights = tf.nn.softmax(score, axis=1)\n",
        "\n",
        "    # context_vector shape after sum == (batch_size, hidden_size)\n",
        "    context_vector = attention_weights * values\n",
        "    context_vector = tf.reduce_sum(context_vector, axis=1)\n",
        "\n",
        "    return context_vector, attention_weights"
      ],
      "execution_count": 0,
      "outputs": []
    },
    {
      "cell_type": "code",
      "metadata": {
        "id": "KYkDe7z3l1jl",
        "colab_type": "code",
        "colab": {
          "base_uri": "https://localhost:8080/",
          "height": 51
        },
        "outputId": "945a531a-c439-4ebb-bee2-29dce64fd000"
      },
      "source": [
        "attention_layer = BahdanauAttention(10)\n",
        "attention_result, attention_weights = attention_layer(sample_hidden, sample_output)\n",
        "\n",
        "print(\"Attention result shape: (batch size, units) {}\".format(attention_result.shape))\n",
        "print(\"Attention weights shape: (batch_size, sequence_length, 1) {}\".format(attention_weights.shape))"
      ],
      "execution_count": 39,
      "outputs": [
        {
          "output_type": "stream",
          "text": [
            "Attention result shape: (batch size, units) (24, 512)\n",
            "Attention weights shape: (batch_size, sequence_length, 1) (24, 94, 1)\n"
          ],
          "name": "stdout"
        }
      ]
    },
    {
      "cell_type": "code",
      "metadata": {
        "id": "H9a7Io4xl4_c",
        "colab_type": "code",
        "colab": {}
      },
      "source": [
        "# GRU decoder\n",
        "class Decoder(tf.keras.Model):\n",
        "  def __init__(self, vocab_size, embedding_dim, dec_units, batch_sz):\n",
        "    super(Decoder, self).__init__()\n",
        "    self.batch_sz = batch_sz\n",
        "    self.dec_units = dec_units\n",
        "    self.embedding = tf.keras.layers.Embedding(vocab_size, embedding_dim)\n",
        "    self.gru = tf.keras.layers.GRU(self.dec_units,\n",
        "                                   return_sequences=True,\n",
        "                                   return_state=True,\n",
        "                                   recurrent_initializer='glorot_uniform')\n",
        "    self.fc = tf.keras.layers.Dense(vocab_size)\n",
        "\n",
        "    # used for attention\n",
        "    self.attention = BahdanauAttention(self.dec_units)\n",
        "\n",
        "  def call(self, x, hidden, enc_output):\n",
        "    # enc_output shape == (batch_size, max_length, hidden_size)\n",
        "    context_vector, attention_weights = self.attention(hidden, enc_output)\n",
        "\n",
        "    # x shape after passing through embedding == (batch_size, 1, embedding_dim)\n",
        "    x = self.embedding(x)\n",
        "\n",
        "    # x shape after concatenation == (batch_size, 1, embedding_dim + hidden_size)\n",
        "    x = tf.concat([tf.expand_dims(context_vector, 1), x], axis=-1)\n",
        "\n",
        "    # passing the concatenated vector to the GRU\n",
        "    output, state = self.gru(x)\n",
        "\n",
        "    # output shape == (batch_size * 1, hidden_size)\n",
        "    output = tf.reshape(output, (-1, output.shape[2]))\n",
        "\n",
        "    # output shape == (batch_size, vocab)\n",
        "    x = self.fc(output)\n",
        "\n",
        "    return x, state, attention_weights"
      ],
      "execution_count": 0,
      "outputs": []
    },
    {
      "cell_type": "code",
      "metadata": {
        "id": "QCSYqltGmJFN",
        "colab_type": "code",
        "colab": {
          "base_uri": "https://localhost:8080/",
          "height": 34
        },
        "outputId": "f20ab847-e646-454e-e1ab-90b20a14c81c"
      },
      "source": [
        "decoder = Decoder(vocab_tar_size, embedding_dim, units, BATCH_SIZE)\n",
        "\n",
        "sample_decoder_output, _, _ = decoder(tf.random.uniform((BATCH_SIZE, 1)),\n",
        "                                      sample_hidden, sample_output)\n",
        "\n",
        "print ('Decoder output shape: (batch_size, vocab size) {}'.format(sample_decoder_output.shape))"
      ],
      "execution_count": 41,
      "outputs": [
        {
          "output_type": "stream",
          "text": [
            "Decoder output shape: (batch_size, vocab size) (24, 16769)\n"
          ],
          "name": "stdout"
        }
      ]
    },
    {
      "cell_type": "code",
      "metadata": {
        "id": "lQ2LLlE_mXgL",
        "colab_type": "code",
        "colab": {}
      },
      "source": [
        "# Optimizer and loss function\n",
        "optimizer = tf.keras.optimizers.Adam()\n",
        "loss_object = tf.keras.losses.SparseCategoricalCrossentropy(\n",
        "    from_logits=True, reduction='none')\n",
        "\n",
        "def loss_function(real, pred):\n",
        "  mask = tf.math.logical_not(tf.math.equal(real, 0))\n",
        "  loss_ = loss_object(real, pred)\n",
        "\n",
        "  mask = tf.cast(mask, dtype=loss_.dtype)\n",
        "  loss_ *= mask\n",
        "\n",
        "  return tf.reduce_mean(loss_)"
      ],
      "execution_count": 0,
      "outputs": []
    },
    {
      "cell_type": "code",
      "metadata": {
        "id": "1T6Ilao2mxrA",
        "colab_type": "code",
        "colab": {}
      },
      "source": [
        "# checkpoints\n",
        "checkpoint_dir = './training_checkpoints'\n",
        "checkpoint_prefix = os.path.join(checkpoint_dir, \"ckpt\")\n",
        "checkpoint = tf.train.Checkpoint(optimizer=optimizer,\n",
        "                                 encoder=encoder,\n",
        "                                 decoder=decoder)"
      ],
      "execution_count": 0,
      "outputs": []
    },
    {
      "cell_type": "markdown",
      "metadata": {
        "id": "GlAJcH2Qns2r",
        "colab_type": "text"
      },
      "source": [
        "## Training"
      ]
    },
    {
      "cell_type": "code",
      "metadata": {
        "id": "11p8Pfd7nBCo",
        "colab_type": "code",
        "colab": {}
      },
      "source": [
        "# Training steps\n",
        "# 1. Pass the input through the encoder which return encoder output and the encoder hidden state.\n",
        "# 2. The encoder output, encoder hidden state and the decoder input (which is the start token) is passed to the decoder.\n",
        "# 3. The decoder returns the predictions and the decoder hidden state.\n",
        "# 4. The decoder hidden state is then passed back into the model and the predictions are used to calculate the loss.\n",
        "# 5. Use teacher forcing to decide the next input to the decoder.\n",
        "# 6. Teacher forcing is the technique where the target word is passed as the next input to the decoder.\n",
        "# 7. The final step is to calculate the gradients and apply it to the optimizer and backpropagate."
      ],
      "execution_count": 0,
      "outputs": []
    },
    {
      "cell_type": "code",
      "metadata": {
        "id": "GzRcZWwYnbdj",
        "colab_type": "code",
        "colab": {}
      },
      "source": [
        "@tf.function\n",
        "def train_step(inp, targ, enc_hidden):\n",
        "  loss = 0\n",
        "\n",
        "  with tf.GradientTape() as tape:\n",
        "    enc_output, enc_hidden = encoder(inp, enc_hidden)\n",
        "\n",
        "    dec_hidden = enc_hidden\n",
        "\n",
        "    dec_input = tf.expand_dims([targ_lang.word_index['<start>']] * BATCH_SIZE, 1)\n",
        "\n",
        "    # Teacher forcing - feeding the target as the next input\n",
        "    for t in range(1, targ.shape[1]):\n",
        "      # passing enc_output to the decoder\n",
        "      predictions, dec_hidden, _ = decoder(dec_input, dec_hidden, enc_output)\n",
        "\n",
        "      loss += loss_function(targ[:, t], predictions)\n",
        "\n",
        "      # using teacher forcing\n",
        "      dec_input = tf.expand_dims(targ[:, t], 1)\n",
        "\n",
        "  batch_loss = (loss / int(targ.shape[1]))\n",
        "\n",
        "  variables = encoder.trainable_variables + decoder.trainable_variables\n",
        "\n",
        "  gradients = tape.gradient(loss, variables)\n",
        "\n",
        "  optimizer.apply_gradients(zip(gradients, variables))\n",
        "\n",
        "  return batch_loss"
      ],
      "execution_count": 0,
      "outputs": []
    },
    {
      "cell_type": "code",
      "metadata": {
        "id": "FXBhE2r3niOs",
        "colab_type": "code",
        "colab": {
          "base_uri": "https://localhost:8080/",
          "height": 1000
        },
        "outputId": "4691c886-9cfb-4523-ab8a-83c8295f8a5f"
      },
      "source": [
        "EPOCHS = 10\n",
        "\n",
        "for epoch in range(EPOCHS):\n",
        "  start = time.time()\n",
        "\n",
        "  enc_hidden = encoder.initialize_hidden_state()\n",
        "  total_loss = 0\n",
        "\n",
        "  for (batch, (inp, targ)) in enumerate(dataset.take(steps_per_epoch)):\n",
        "    batch_loss = train_step(inp, targ, enc_hidden)\n",
        "    total_loss += batch_loss\n",
        "\n",
        "    if batch % 100 == 0:\n",
        "      print('Epoch {} Batch {} Loss {:.4f}'.format(epoch + 1,\n",
        "                                                   batch,\n",
        "                                                   batch_loss.numpy()))\n",
        "  # saving (checkpoint) the model every 2 epochs\n",
        "  if (epoch + 1) % 2 == 0:\n",
        "    checkpoint.save(file_prefix = checkpoint_prefix)\n",
        "\n",
        "  print('Epoch {} Loss {:.4f}'.format(epoch + 1,\n",
        "                                      total_loss / steps_per_epoch))\n",
        "  print('Time taken for 1 epoch {} sec\\n'.format(time.time() - start))"
      ],
      "execution_count": 46,
      "outputs": [
        {
          "output_type": "stream",
          "text": [
            "Epoch 1 Batch 0 Loss 1.9871\n",
            "Epoch 1 Batch 100 Loss 1.0940\n",
            "Epoch 1 Batch 200 Loss 1.2713\n",
            "Epoch 1 Batch 300 Loss 1.2914\n",
            "Epoch 1 Batch 400 Loss 1.2754\n",
            "Epoch 1 Loss 1.2987\n",
            "Time taken for 1 epoch 290.7189154624939 sec\n",
            "\n",
            "Epoch 2 Batch 0 Loss 1.3710\n",
            "Epoch 2 Batch 100 Loss 1.1205\n",
            "Epoch 2 Batch 200 Loss 1.4789\n",
            "Epoch 2 Batch 300 Loss 1.1316\n",
            "Epoch 2 Batch 400 Loss 1.1193\n",
            "Epoch 2 Loss 1.1437\n",
            "Time taken for 1 epoch 188.3145661354065 sec\n",
            "\n",
            "Epoch 3 Batch 0 Loss 1.0700\n",
            "Epoch 3 Batch 100 Loss 1.0068\n",
            "Epoch 3 Batch 200 Loss 1.0645\n",
            "Epoch 3 Batch 300 Loss 0.9732\n",
            "Epoch 3 Batch 400 Loss 0.8886\n",
            "Epoch 3 Loss 1.0471\n",
            "Time taken for 1 epoch 187.57694125175476 sec\n",
            "\n",
            "Epoch 4 Batch 0 Loss 0.8442\n",
            "Epoch 4 Batch 100 Loss 0.8695\n",
            "Epoch 4 Batch 200 Loss 1.1058\n",
            "Epoch 4 Batch 300 Loss 1.0727\n",
            "Epoch 4 Batch 400 Loss 0.8875\n",
            "Epoch 4 Loss 0.9770\n",
            "Time taken for 1 epoch 188.65625166893005 sec\n",
            "\n",
            "Epoch 5 Batch 0 Loss 1.0986\n",
            "Epoch 5 Batch 100 Loss 1.0171\n",
            "Epoch 5 Batch 200 Loss 0.9397\n",
            "Epoch 5 Batch 300 Loss 0.8780\n",
            "Epoch 5 Batch 400 Loss 1.0261\n",
            "Epoch 5 Loss 0.9157\n",
            "Time taken for 1 epoch 187.63800358772278 sec\n",
            "\n",
            "Epoch 6 Batch 0 Loss 0.7372\n",
            "Epoch 6 Batch 100 Loss 0.7474\n",
            "Epoch 6 Batch 200 Loss 0.9229\n",
            "Epoch 6 Batch 300 Loss 0.9479\n",
            "Epoch 6 Batch 400 Loss 0.9287\n",
            "Epoch 6 Loss 0.8595\n",
            "Time taken for 1 epoch 188.1691870689392 sec\n",
            "\n",
            "Epoch 7 Batch 0 Loss 0.8378\n",
            "Epoch 7 Batch 100 Loss 0.8295\n",
            "Epoch 7 Batch 200 Loss 0.7780\n",
            "Epoch 7 Batch 300 Loss 0.8426\n",
            "Epoch 7 Batch 400 Loss 0.7216\n",
            "Epoch 7 Loss 0.8031\n",
            "Time taken for 1 epoch 187.7299792766571 sec\n",
            "\n",
            "Epoch 8 Batch 0 Loss 0.6090\n",
            "Epoch 8 Batch 100 Loss 0.8713\n",
            "Epoch 8 Batch 200 Loss 0.7495\n",
            "Epoch 8 Batch 300 Loss 0.6559\n",
            "Epoch 8 Batch 400 Loss 0.7364\n",
            "Epoch 8 Loss 0.7462\n",
            "Time taken for 1 epoch 189.07960486412048 sec\n",
            "\n",
            "Epoch 9 Batch 0 Loss 0.6151\n",
            "Epoch 9 Batch 100 Loss 0.6058\n",
            "Epoch 9 Batch 200 Loss 0.6698\n",
            "Epoch 9 Batch 300 Loss 0.6056\n",
            "Epoch 9 Batch 400 Loss 0.5584\n",
            "Epoch 9 Loss 0.6883\n",
            "Time taken for 1 epoch 187.8634376525879 sec\n",
            "\n",
            "Epoch 10 Batch 0 Loss 0.7887\n",
            "Epoch 10 Batch 100 Loss 0.7965\n",
            "Epoch 10 Batch 200 Loss 0.5235\n",
            "Epoch 10 Batch 300 Loss 0.5905\n",
            "Epoch 10 Batch 400 Loss 0.6168\n",
            "Epoch 10 Loss 0.6302\n",
            "Time taken for 1 epoch 190.18841361999512 sec\n",
            "\n"
          ],
          "name": "stdout"
        }
      ]
    },
    {
      "cell_type": "code",
      "metadata": {
        "id": "eqCEMpma7s-X",
        "colab_type": "code",
        "colab": {}
      },
      "source": [
        "def evaluate(sentence):\n",
        "  attention_plot = np.zeros((max_length_targ, max_length_inp))\n",
        "\n",
        "  sentence = preprocess_sentence(sentence)\n",
        "\n",
        "  inputs = [inp_lang.word_index[i] for i in sentence.split(' ')]\n",
        "  inputs = tf.keras.preprocessing.sequence.pad_sequences([inputs],\n",
        "                                                         maxlen=max_length_inp,\n",
        "                                                         padding='post')\n",
        "  inputs = tf.convert_to_tensor(inputs)\n",
        "\n",
        "  result = ''\n",
        "\n",
        "  hidden = [tf.zeros((1, units))]\n",
        "  enc_out, enc_hidden = encoder(inputs, hidden)\n",
        "\n",
        "  dec_hidden = enc_hidden\n",
        "  dec_input = tf.expand_dims([targ_lang.word_index['<start>']], 0)\n",
        "\n",
        "  for t in range(max_length_targ):\n",
        "    predictions, dec_hidden, attention_weights = decoder(dec_input,\n",
        "                                                         dec_hidden,\n",
        "                                                         enc_out)\n",
        "\n",
        "    # storing the attention weights to plot later on\n",
        "    attention_weights = tf.reshape(attention_weights, (-1, ))\n",
        "    attention_plot[t] = attention_weights.numpy()\n",
        "\n",
        "    predicted_id = tf.argmax(predictions[0]).numpy()\n",
        "\n",
        "    result += targ_lang.index_word[predicted_id] + ' '\n",
        "\n",
        "    if targ_lang.index_word[predicted_id] == '<end>':\n",
        "      return result, sentence, attention_plot\n",
        "\n",
        "    # the predicted ID is fed back into the model\n",
        "    dec_input = tf.expand_dims([predicted_id], 0)\n",
        "\n",
        "  return result, sentence, attention_plot"
      ],
      "execution_count": 0,
      "outputs": []
    },
    {
      "cell_type": "code",
      "metadata": {
        "id": "sz6_ol99J-6T",
        "colab_type": "code",
        "colab": {}
      },
      "source": [
        "# function for plotting the attention weights\n",
        "def plot_attention(attention, sentence, predicted_sentence):\n",
        "  fig = plt.figure(figsize=(10,10))\n",
        "  ax = fig.add_subplot(1, 1, 1)\n",
        "  ax.matshow(attention, cmap='viridis')\n",
        "\n",
        "  fontdict = {'fontsize': 14}\n",
        "\n",
        "  ax.set_xticklabels([''] + sentence, fontdict=fontdict, rotation=90)\n",
        "  ax.set_yticklabels([''] + predicted_sentence, fontdict=fontdict)\n",
        "\n",
        "  ax.xaxis.set_major_locator(ticker.MultipleLocator(1))\n",
        "  ax.yaxis.set_major_locator(ticker.MultipleLocator(1))\n",
        "\n",
        "  plt.show()"
      ],
      "execution_count": 0,
      "outputs": []
    },
    {
      "cell_type": "code",
      "metadata": {
        "id": "560kroWtKCOn",
        "colab_type": "code",
        "colab": {}
      },
      "source": [
        "def translate(sentence):\n",
        "  result, sentence, attention_plot = evaluate(sentence)\n",
        "\n",
        "  print('Input: %s' % (sentence))\n",
        "  print('Predicted translation: {}'.format(result))\n",
        "\n",
        "  attention_plot = attention_plot[:len(result.split(' ')), :len(sentence.split(' '))]\n",
        "  plot_attention(attention_plot, sentence.split(' '), result.split(' '))"
      ],
      "execution_count": 0,
      "outputs": []
    },
    {
      "cell_type": "code",
      "metadata": {
        "id": "tECI2njjKEYN",
        "colab_type": "code",
        "colab": {
          "base_uri": "https://localhost:8080/",
          "height": 34
        },
        "outputId": "601a1746-b71b-4ebd-eeed-97a92b174e35"
      },
      "source": [
        "checkpoint.restore(tf.train.latest_checkpoint(checkpoint_dir))"
      ],
      "execution_count": 50,
      "outputs": [
        {
          "output_type": "execute_result",
          "data": {
            "text/plain": [
              "<tensorflow.python.training.tracking.util.CheckpointLoadStatus at 0x7f8ca00a0ac8>"
            ]
          },
          "metadata": {
            "tags": []
          },
          "execution_count": 50
        }
      ]
    },
    {
      "cell_type": "code",
      "metadata": {
        "id": "emW9iIawKJpp",
        "colab_type": "code",
        "colab": {
          "base_uri": "https://localhost:8080/",
          "height": 867
        },
        "outputId": "f5a844f0-46e7-410f-c075-7e2a0389370b"
      },
      "source": [
        "# last sentence of validation\n",
        "print (\"Input Language; index to word mapping\")\n",
        "convert(inp_lang, input_tensor_val[0])\n",
        "print ()\n",
        "print (\"Target Language; index to word mapping\")\n",
        "convert(targ_lang, target_tensor_val[0])"
      ],
      "execution_count": 55,
      "outputs": [
        {
          "output_type": "stream",
          "text": [
            "Input Language; index to word mapping\n",
            "2 ----> <start>\n",
            "36 ----> there\n",
            "9 ----> is\n",
            "45 ----> also\n",
            "8 ----> a\n",
            "4926 ----> concentration\n",
            "4 ----> of\n",
            "251 ----> power\n",
            "6 ----> and\n",
            "1 ----> the\n",
            "502 ----> big\n",
            "4281 ----> multinational\n",
            "497 ----> companies\n",
            "1433 ----> exercise\n",
            "2710 ----> incredible\n",
            "627 ----> pressure\n",
            "494 ----> especially\n",
            "776 ----> upon\n",
            "1 ----> the\n",
            "1395 ----> african\n",
            "81 ----> countries\n",
            "3 ----> <end>\n",
            "\n",
            "Target Language; index to word mapping\n",
            "2 ----> <start>\n",
            "19 ----> il\n",
            "306 ----> existe\n",
            "83 ----> également\n",
            "17 ----> une\n",
            "5627 ----> concentration\n",
            "20 ----> du\n",
            "199 ----> pouvoir\n",
            "9 ----> et\n",
            "10 ----> les\n",
            "625 ----> grandes\n",
            "280 ----> entreprises\n",
            "3316 ----> multinationales\n",
            "7916 ----> exercent\n",
            "11 ----> des\n",
            "2763 ----> pressions\n",
            "1604 ----> énormes\n",
            "5 ----> ,\n",
            "436 ----> surtout\n",
            "30 ----> sur\n",
            "10 ----> les\n",
            "57 ----> pays\n",
            "1519 ----> africains\n",
            "1 ----> .\n",
            "3 ----> <end>\n"
          ],
          "name": "stdout"
        }
      ]
    },
    {
      "cell_type": "code",
      "metadata": {
        "id": "T63OaST7KsS0",
        "colab_type": "code",
        "colab": {
          "base_uri": "https://localhost:8080/",
          "height": 426
        },
        "outputId": "eb253efd-83fc-4073-c98e-ac827c7e77ce"
      },
      "source": [
        "# trying to predict first sentence of validation set\n",
        "translate(f\"there is also a concentration of power and the big multinational companies exercise incredible pressure especially upon the african countries\")"
      ],
      "execution_count": 56,
      "outputs": [
        {
          "output_type": "stream",
          "text": [
            "Input: <start> there is also a concentration of power and the big multinational companies exercise incredible pressure especially upon the african countries <end>\n",
            "Predicted translation: il existe également une approche des pays . <end> \n"
          ],
          "name": "stdout"
        },
        {
          "output_type": "display_data",
          "data": {
            "image/png": "[encoded data removed]",
            "text/plain": [
              "<Figure size 720x720 with 1 Axes>"
            ]
          },
          "metadata": {
            "tags": []
          }
        }
      ]
    },
    {
      "cell_type": "code",
      "metadata": {
        "id": "72qlVD1fOR_0",
        "colab_type": "code",
        "colab": {
          "base_uri": "https://localhost:8080/",
          "height": 595
        },
        "outputId": "29bd1928-b3b6-47fc-dfd2-e70e0f443128"
      },
      "source": [
        "# predicting last sentence of validation set\n",
        "print (\"Input Language; index to word mapping\")\n",
        "convert(inp_lang, input_tensor_val[-1])\n",
        "print ()\n",
        "print (\"Target Language; index to word mapping\")\n",
        "convert(targ_lang, target_tensor_val[-1])"
      ],
      "execution_count": 59,
      "outputs": [
        {
          "output_type": "stream",
          "text": [
            "Input Language; index to word mapping\n",
            "2 ----> <start>\n",
            "260 ----> women\n",
            "47 ----> must\n",
            "20 ----> have\n",
            "1079 ----> equal\n",
            "475 ----> pay\n",
            "15 ----> for\n",
            "114 ----> work\n",
            "4 ----> of\n",
            "1079 ----> equal\n",
            "832 ----> value\n",
            "3 ----> <end>\n",
            "\n",
            "Target Language; index to word mapping\n",
            "2 ----> <start>\n",
            "10 ----> les\n",
            "279 ----> femmes\n",
            "138 ----> doivent\n",
            "5 ----> ,\n",
            "21 ----> pour\n",
            "16 ----> un\n",
            "116 ----> travail\n",
            "6427 ----> équivalent\n",
            "5 ----> ,\n",
            "597 ----> obtenir\n",
            "16 ----> un\n",
            "3861 ----> salaire\n",
            "7568 ----> égal\n",
            "295 ----> celui\n",
            "11 ----> des\n",
            "553 ----> hommes\n",
            "183 ----> !\n",
            "3 ----> <end>\n"
          ],
          "name": "stdout"
        }
      ]
    },
    {
      "cell_type": "code",
      "metadata": {
        "id": "-KcIheS9OXu6",
        "colab_type": "code",
        "colab": {
          "base_uri": "https://localhost:8080/",
          "height": 364
        },
        "outputId": "5019f70d-0651-43a3-e353-d88a1e46e400"
      },
      "source": [
        "translate(f\"women must have equal pay for work of equal value\")"
      ],
      "execution_count": 60,
      "outputs": [
        {
          "output_type": "stream",
          "text": [
            "Input: <start> women must have equal pay for work of equal value <end>\n",
            "Predicted translation: les femmes . <end> \n"
          ],
          "name": "stdout"
        },
        {
          "output_type": "display_data",
          "data": {
            "image/png": "[encoded data removed]",
            "text/plain": [
              "<Figure size 720x720 with 1 Axes>"
            ]
          },
          "metadata": {
            "tags": []
          }
        }
      ]
    }
  ]
}