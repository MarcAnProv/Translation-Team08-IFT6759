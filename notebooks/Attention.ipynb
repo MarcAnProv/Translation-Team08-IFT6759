{
  "nbformat": 4,
  "nbformat_minor": 0,
  "metadata": {
    "colab": {
      "name": "Attention.ipynb",
      "provenance": [],
      "collapsed_sections": [],
      "toc_visible": true
    },
    "kernelspec": {
      "name": "python3",
      "display_name": "Python 3"
    },
    "accelerator": "GPU"
  },
  "cells": [
    {
      "cell_type": "markdown",
      "metadata": {
        "id": "GJMhAX-Py9K2",
        "colab_type": "text"
      },
      "source": [
        "# Seq2seq"
      ]
    },
    {
      "cell_type": "markdown",
      "metadata": {
        "id": "qxX8qL1sgAeB",
        "colab_type": "text"
      },
      "source": [
        "Implementation of seq2seq model with attention from https://www.tensorflow.org/tutorials/text/nmt_with_attention\n",
        "\n",
        "To run this notebook, you only need to have the file train.lang1 and train.lang2 in a Google Drive directory"
      ]
    },
    {
      "cell_type": "code",
      "metadata": {
        "id": "hDqFxbKOG54e",
        "colab_type": "code",
        "outputId": "5751d203-8bc4-4fcf-e6e8-827f5b98eb2a",
        "colab": {
          "base_uri": "https://localhost:8080/",
          "height": 34
        }
      },
      "source": [
        "from __future__ import absolute_import, division, print_function, unicode_literals\n",
        "\n",
        "try:\n",
        "  # %tensorflow_version only exists in Colab.\n",
        "  %tensorflow_version 2.x\n",
        "except Exception:\n",
        "  pass\n",
        "  \n",
        "import tensorflow as tf\n",
        "\n",
        "import matplotlib.pyplot as plt\n",
        "import matplotlib.ticker as ticker\n",
        "from sklearn.model_selection import train_test_split\n",
        "\n",
        "#import unicodedata\n",
        "import re\n",
        "import numpy as np\n",
        "import os\n",
        "import time"
      ],
      "execution_count": 1,
      "outputs": [
        {
          "output_type": "stream",
          "text": [
            "TensorFlow 2.x selected.\n"
          ],
          "name": "stdout"
        }
      ]
    },
    {
      "cell_type": "code",
      "metadata": {
        "id": "vQbU6YNYxGQp",
        "colab_type": "code",
        "colab": {}
      },
      "source": [
        "tf.random.set_seed(0)\n",
        "np.random.seed(0)"
      ],
      "execution_count": 0,
      "outputs": []
    },
    {
      "cell_type": "code",
      "metadata": {
        "id": "eY5eWMSPJXNc",
        "colab_type": "code",
        "outputId": "e1d02fd9-0ffd-44a0-f5e8-13fd44e32b48",
        "colab": {
          "base_uri": "https://localhost:8080/",
          "height": 122
        }
      },
      "source": [
        "from google.colab import drive\n",
        "drive.mount('/content/gdrive')"
      ],
      "execution_count": 2,
      "outputs": [
        {
          "output_type": "stream",
          "text": [
            "Go to this URL in a browser: https://accounts.google.com/o/oauth2/auth?client_id=947318989803-6bn6qk8qdgf4n4g3pfee6491hc0brc4i.apps.googleusercontent.com&redirect_uri=urn%3aietf%3awg%3aoauth%3a2.0%3aoob&response_type=code&scope=email%20https%3a%2f%2fwww.googleapis.com%2fauth%2fdocs.test%20https%3a%2f%2fwww.googleapis.com%2fauth%2fdrive%20https%3a%2f%2fwww.googleapis.com%2fauth%2fdrive.photos.readonly%20https%3a%2f%2fwww.googleapis.com%2fauth%2fpeopleapi.readonly\n",
            "\n",
            "Enter your authorization code:\n",
            "··········\n",
            "Mounted at /content/gdrive\n"
          ],
          "name": "stdout"
        }
      ]
    },
    {
      "cell_type": "code",
      "metadata": {
        "id": "ITqtCu-dJmHm",
        "colab_type": "code",
        "outputId": "827833e9-eed5-415a-c8b7-a8cb24eca74a",
        "colab": {
          "base_uri": "https://localhost:8080/",
          "height": 34
        }
      },
      "source": [
        "# Mounting colab with google drive\n",
        "# In my Drive I have data folder containing train.lang1 and train.lang2\n",
        "\n",
        "%cd /content/gdrive/My Drive/ift6759"
      ],
      "execution_count": 3,
      "outputs": [
        {
          "output_type": "stream",
          "text": [
            "/content/gdrive/My Drive/ift6759\n"
          ],
          "name": "stdout"
        }
      ]
    },
    {
      "cell_type": "markdown",
      "metadata": {
        "id": "I018Q9Z1ZxWp",
        "colab_type": "text"
      },
      "source": [
        "## Preprocessing"
      ]
    },
    {
      "cell_type": "code",
      "metadata": {
        "id": "JlMkBRf9Jxix",
        "colab_type": "code",
        "colab": {}
      },
      "source": [
        "# design decision included here, decided to keep é, è, ê, etc. for french \n",
        "# since otherwise it would divide a word like 'événementiel' into \"v\", \"nementiel\"\n",
        "\n",
        "def preprocess_sentence(w):\n",
        "  w = w.lower().strip()\n",
        "\n",
        "  # creating a space between a word and the punctuation following it\n",
        "  # eg: \"he is a boy.\" => \"he is a boy .\"\n",
        "  w = re.sub(r\"([?.!,¿])\", r\" \\1 \", w)\n",
        "  w = re.sub(r'[\" \"]+', \" \", w)\n",
        "\n",
        "  # replacing everything with space except (a-z, A-Z, \".\", \"?\", \"!\", \",\", \"é\", \"è\", \"ê\", \"ç\", \"î\", \"ï\", \"ô\")\n",
        "  w = re.sub(r\"[^a-zA-Z?.!,¿éèçêîôï]+\", \" \", w)\n",
        "\n",
        "  w = w.strip()\n",
        "\n",
        "  # adding a start and an end token to the sentence\n",
        "  # so that the model know when to start and stop predicting.\n",
        "  w = '<start> ' + w + ' <end>'\n",
        "  return w"
      ],
      "execution_count": 0,
      "outputs": []
    },
    {
      "cell_type": "code",
      "metadata": {
        "id": "VkNx9iMbLnQi",
        "colab_type": "code",
        "outputId": "39e9914b-8980-4691-b3c3-4138dbc496c9",
        "colab": {
          "base_uri": "https://localhost:8080/",
          "height": 51
        }
      },
      "source": [
        "fr_sentence = f\"J'aime beaucoup le chocolat!\"\n",
        "en_sentence = f\"I really like chocolate!\"\n",
        "print(preprocess_sentence(fr_sentence))\n",
        "print(preprocess_sentence(en_sentence))"
      ],
      "execution_count": 5,
      "outputs": [
        {
          "output_type": "stream",
          "text": [
            "<start> j aime beaucoup le chocolat ! <end>\n",
            "<start> i really like chocolate ! <end>\n"
          ],
          "name": "stdout"
        }
      ]
    },
    {
      "cell_type": "code",
      "metadata": {
        "id": "oId1lJorQlFt",
        "colab_type": "code",
        "colab": {}
      },
      "source": [
        "# mapping english sentences to french sentences\n",
        "def combine_files(path_to_en_file, path_to_fr_file, output_path):\n",
        "  with open(path_to_en_file, 'r') as en:\n",
        "    with open(path_to_fr_file, 'r') as fr:\n",
        "      with open(output_path, 'w') as outfile:\n",
        "        en_lines = en.readlines()\n",
        "        fr_lines = fr.readlines()\n",
        "        for i in range(len(en_lines)):\n",
        "          line = en_lines[i].strip() + '\\t' + fr_lines[i]\n",
        "          outfile.write(line)"
      ],
      "execution_count": 0,
      "outputs": []
    },
    {
      "cell_type": "code",
      "metadata": {
        "id": "2r_-7XlPPQ5j",
        "colab_type": "code",
        "colab": {}
      },
      "source": [
        "def print_n(path_to_file, n):\n",
        "  n = range(n)\n",
        "  with open(path_to_file, 'r') as f:\n",
        "    for i, line in enumerate(f):\n",
        "      if i in n:\n",
        "        print(line)"
      ],
      "execution_count": 0,
      "outputs": []
    },
    {
      "cell_type": "code",
      "metadata": {
        "id": "dI-h5RCaaDLD",
        "colab_type": "code",
        "outputId": "3087bac9-d58e-4ddb-ff4f-288febe465db",
        "colab": {
          "base_uri": "https://localhost:8080/",
          "height": 207
        }
      },
      "source": [
        "print('ENGLISH')\n",
        "print_n('data/train.lang1', 2)\n",
        "\n",
        "print('FRENCH')\n",
        "print_n('data/train.lang2', 2)"
      ],
      "execution_count": 8,
      "outputs": [
        {
          "output_type": "stream",
          "text": [
            "ENGLISH\n",
            "so too does the idea that accommodating religious differences is dangerous\n",
            "\n",
            "mr president ladies and gentlemen the financial perspective outlines the scope of the eu ’s activities over coming years as well as providing a framework for such activities and determining how effective they will be\n",
            "\n",
            "FRENCH\n",
            "L’ idée de concilier les différences religieuses semble donc dangereuse .\n",
            "\n",
            "Monsieur le Président , Mesdames et Messieurs , les perspectives financières esquissent la portée des activités de l’ UE pour les années à venir , fournissent un cadre pour ces activités et déterminent leur efficacité .\n",
            "\n"
          ],
          "name": "stdout"
        }
      ]
    },
    {
      "cell_type": "code",
      "metadata": {
        "id": "RCkbGI9QXJXM",
        "colab_type": "code",
        "colab": {}
      },
      "source": [
        "# only need to do it once, uncomment if not done\n",
        "#combine_files('data/train.lang1', 'data/train.lang2', 'data/en-fr.txt')"
      ],
      "execution_count": 0,
      "outputs": []
    },
    {
      "cell_type": "code",
      "metadata": {
        "id": "lL6kVkCPUlfT",
        "colab_type": "code",
        "outputId": "f608b2df-3372-44fc-b93e-9c803c1e04a3",
        "colab": {
          "base_uri": "https://localhost:8080/",
          "height": 105
        }
      },
      "source": [
        "# check if the combine_files function worked\n",
        "print_n('data/en-fr.txt', 2)"
      ],
      "execution_count": 10,
      "outputs": [
        {
          "output_type": "stream",
          "text": [
            "so too does the idea that accommodating religious differences is dangerous\tL’ idée de concilier les différences religieuses semble donc dangereuse .\n",
            "\n",
            "mr president ladies and gentlemen the financial perspective outlines the scope of the eu ’s activities over coming years as well as providing a framework for such activities and determining how effective they will be\tMonsieur le Président , Mesdames et Messieurs , les perspectives financières esquissent la portée des activités de l’ UE pour les années à venir , fournissent un cadre pour ces activités et déterminent leur efficacité .\n",
            "\n"
          ],
          "name": "stdout"
        }
      ]
    },
    {
      "cell_type": "code",
      "metadata": {
        "id": "EL3j-jwuMN4M",
        "colab_type": "code",
        "colab": {}
      },
      "source": [
        "# 1. Remove the accents\n",
        "# 2. Clean the sentences\n",
        "# 3. Return word pairs in the format: [ENGLISH, SPANISH]\n",
        "def create_dataset(path, num_examples):\n",
        "  lines = open(path, encoding='UTF-8').read().strip().split('\\n')\n",
        "\n",
        "  word_pairs = [[preprocess_sentence(w) for w in l.split('\\t')]  for l in lines[:num_examples]]\n",
        "\n",
        "  return zip(*word_pairs)"
      ],
      "execution_count": 0,
      "outputs": []
    },
    {
      "cell_type": "code",
      "metadata": {
        "id": "7PTIujuCairh",
        "colab_type": "code",
        "colab": {}
      },
      "source": [
        "en, fr = create_dataset('data/en-fr.txt', None)"
      ],
      "execution_count": 0,
      "outputs": []
    },
    {
      "cell_type": "code",
      "metadata": {
        "id": "0WTD0tTxap66",
        "colab_type": "code",
        "outputId": "ba09c8b1-b668-48d7-9a1b-c1a7f6ab8af9",
        "colab": {
          "base_uri": "https://localhost:8080/",
          "height": 51
        }
      },
      "source": [
        "# let's see what it outputs\n",
        "print(en[-1])\n",
        "print(fr[-1])"
      ],
      "execution_count": 13,
      "outputs": [
        {
          "output_type": "stream",
          "text": [
            "<start> i agree that we need an ambitious social agenda which will include combating poverty and social exclusion <end>\n",
            "<start> je conviens que nous avons besoin d un agenda social ambitieux qui englobera la lutte contre la pauvreté et l exclusion sociale . <end>\n"
          ],
          "name": "stdout"
        }
      ]
    },
    {
      "cell_type": "code",
      "metadata": {
        "id": "HiXM8nIPa36p",
        "colab_type": "code",
        "colab": {}
      },
      "source": [
        "def max_length(tensor):\n",
        "  return max(len(t) for t in tensor)"
      ],
      "execution_count": 0,
      "outputs": []
    },
    {
      "cell_type": "code",
      "metadata": {
        "id": "5Ojbd1H2c6aG",
        "colab_type": "code",
        "colab": {}
      },
      "source": [
        "def tokenize(lang):\n",
        "  lang_tokenizer = tf.keras.preprocessing.text.Tokenizer(filters='')\n",
        "  lang_tokenizer.fit_on_texts(lang)\n",
        "\n",
        "  tensor = lang_tokenizer.texts_to_sequences(lang)\n",
        "\n",
        "  tensor = tf.keras.preprocessing.sequence.pad_sequences(tensor, padding='post')\n",
        "\n",
        "  return tensor, lang_tokenizer"
      ],
      "execution_count": 0,
      "outputs": []
    },
    {
      "cell_type": "code",
      "metadata": {
        "id": "RgJftlqFdZKR",
        "colab_type": "code",
        "colab": {}
      },
      "source": [
        "def load_dataset(path, num_examples=None):\n",
        "  # creating cleaned input, output pairs\n",
        "  inp_lang, targ_lang = create_dataset(path, num_examples)\n",
        "\n",
        "  input_tensor, inp_lang_tokenizer = tokenize(inp_lang)\n",
        "  target_tensor, targ_lang_tokenizer = tokenize(targ_lang)\n",
        "\n",
        "  return input_tensor, target_tensor, inp_lang_tokenizer, targ_lang_tokenizer"
      ],
      "execution_count": 0,
      "outputs": []
    },
    {
      "cell_type": "code",
      "metadata": {
        "id": "G1Xub_8ad42W",
        "colab_type": "code",
        "colab": {}
      },
      "source": [
        "input_tensor, target_tensor, inp_lang, targ_lang = load_dataset(path='data/en-fr.txt')"
      ],
      "execution_count": 0,
      "outputs": []
    },
    {
      "cell_type": "code",
      "metadata": {
        "id": "cztNbHsYe3IJ",
        "colab_type": "code",
        "colab": {}
      },
      "source": [
        "# Calculate max_length of the target tensors\n",
        "max_length_targ, max_length_inp = max_length(target_tensor), max_length(input_tensor)"
      ],
      "execution_count": 0,
      "outputs": []
    },
    {
      "cell_type": "code",
      "metadata": {
        "id": "nMCLFkEafes8",
        "colab_type": "code",
        "colab": {}
      },
      "source": [
        "# Creating training and validation sets using an 90-10 split, could be modified of course\n",
        "input_tensor_train, input_tensor_val, target_tensor_train, target_tensor_val = train_test_split(input_tensor, target_tensor, test_size=0.1)"
      ],
      "execution_count": 0,
      "outputs": []
    },
    {
      "cell_type": "code",
      "metadata": {
        "id": "b_sise0Pfsqk",
        "colab_type": "code",
        "outputId": "f03c8366-9f02-4250-94d1-5d63acffcf93",
        "colab": {
          "base_uri": "https://localhost:8080/",
          "height": 34
        }
      },
      "source": [
        "# Show length\n",
        "print(len(input_tensor_train), len(target_tensor_train), len(input_tensor_val), len(target_tensor_val))"
      ],
      "execution_count": 20,
      "outputs": [
        {
          "output_type": "stream",
          "text": [
            "9900 9900 1100 1100\n"
          ],
          "name": "stdout"
        }
      ]
    },
    {
      "cell_type": "code",
      "metadata": {
        "id": "nLVdUwxZfwyI",
        "colab_type": "code",
        "colab": {}
      },
      "source": [
        "def convert(lang, tensor):\n",
        "  for t in tensor:\n",
        "    if t!=0:\n",
        "      print (\"%d ----> %s\" % (t, lang.index_word[t]))"
      ],
      "execution_count": 0,
      "outputs": []
    },
    {
      "cell_type": "code",
      "metadata": {
        "id": "TIiKqYlGgQBU",
        "colab_type": "code",
        "outputId": "ecf68521-bc29-49a2-cc7e-91ef4fc85c5f",
        "colab": {
          "base_uri": "https://localhost:8080/",
          "height": 1000
        }
      },
      "source": [
        "print (\"Input Language; index to word mapping\")\n",
        "convert(inp_lang, input_tensor_train[-1])\n",
        "print ()\n",
        "print (\"Target Language; index to word mapping\")\n",
        "convert(targ_lang, target_tensor_train[-1])"
      ],
      "execution_count": 22,
      "outputs": [
        {
          "output_type": "stream",
          "text": [
            "Input Language; index to word mapping\n",
            "2 ----> <start>\n",
            "12 ----> it\n",
            "25 ----> will\n",
            "701 ----> soon\n",
            "17 ----> be\n",
            "1228 ----> december\n",
            "6 ----> and\n",
            "330 ----> rather\n",
            "88 ----> than\n",
            "1404 ----> discussing\n",
            "250 ----> whether\n",
            "55 ----> or\n",
            "19 ----> not\n",
            "5 ----> to\n",
            "833 ----> adopt\n",
            "1 ----> the\n",
            "743 ----> list\n",
            "13 ----> we\n",
            "18 ----> are\n",
            "202 ----> again\n",
            "158 ----> going\n",
            "132 ----> over\n",
            "1 ----> the\n",
            "855 ----> discussions\n",
            "13 ----> we\n",
            "109 ----> had\n",
            "7 ----> in\n",
            "1 ----> the\n",
            "728 ----> days\n",
            "162 ----> before\n",
            "1 ----> the\n",
            "241 ----> directive\n",
            "35 ----> was\n",
            "1632 ----> drawn\n",
            "79 ----> up\n",
            "3 ----> <end>\n",
            "\n",
            "Target Language; index to word mapping\n",
            "2 ----> <start>\n",
            "18 ----> nous\n",
            "118 ----> sommes\n",
            "2365 ----> pratiquement\n",
            "8 ----> le\n",
            "1373 ----> décembre\n",
            "9 ----> et\n",
            "18 ----> nous\n",
            "28 ----> ne\n",
            "3236 ----> débattons\n",
            "71 ----> même\n",
            "27 ----> pas\n",
            "4 ----> de\n",
            "7 ----> l\n",
            "853 ----> adoption\n",
            "4 ----> de\n",
            "6 ----> la\n",
            "812 ----> liste\n",
            "39 ----> mais\n",
            "7572 ----> réitérons\n",
            "10 ----> les\n",
            "1196 ----> discussions\n",
            "5683 ----> tenues\n",
            "157 ----> avant\n",
            "6 ----> la\n",
            "3834 ----> rédaction\n",
            "4 ----> de\n",
            "6 ----> la\n",
            "217 ----> directive\n",
            "1 ----> .\n",
            "3 ----> <end>\n"
          ],
          "name": "stdout"
        }
      ]
    },
    {
      "cell_type": "markdown",
      "metadata": {
        "id": "PH0AI8tAmDc5",
        "colab_type": "text"
      },
      "source": [
        "## Model"
      ]
    },
    {
      "cell_type": "code",
      "metadata": {
        "id": "zCU8N5VYgvKE",
        "colab_type": "code",
        "colab": {}
      },
      "source": [
        "# create tf.dataset and decide architecture choices\n",
        "# needed to change batch size and #of units so it didn't throw out-of-memory error in colab\n",
        "BUFFER_SIZE = len(input_tensor_train)\n",
        "BATCH_SIZE = 24 \n",
        "steps_per_epoch = len(input_tensor_train) // BATCH_SIZE\n",
        "embedding_dim = 256\n",
        "units = 512\n",
        "vocab_inp_size = len(inp_lang.word_index)+1\n",
        "vocab_tar_size = len(targ_lang.word_index)+1\n",
        "\n",
        "dataset = tf.data.Dataset.from_tensor_slices((input_tensor_train, target_tensor_train)).shuffle(BUFFER_SIZE)\n",
        "dataset = dataset.batch(BATCH_SIZE, drop_remainder=True)"
      ],
      "execution_count": 0,
      "outputs": []
    },
    {
      "cell_type": "code",
      "metadata": {
        "id": "9MwZFT1LhSuH",
        "colab_type": "code",
        "outputId": "30d66811-7b41-44a0-e158-0f90ff164d03",
        "colab": {
          "base_uri": "https://localhost:8080/",
          "height": 34
        }
      },
      "source": [
        "example_input_batch, example_target_batch = next(iter(dataset))\n",
        "example_input_batch.shape, example_target_batch.shape"
      ],
      "execution_count": 24,
      "outputs": [
        {
          "output_type": "execute_result",
          "data": {
            "text/plain": [
              "(TensorShape([24, 94]), TensorShape([24, 113]))"
            ]
          },
          "metadata": {
            "tags": []
          },
          "execution_count": 24
        }
      ]
    },
    {
      "cell_type": "code",
      "metadata": {
        "id": "HTVkqnGrhtQo",
        "colab_type": "code",
        "colab": {}
      },
      "source": [
        "# Encoder with GRU gates\n",
        "class Encoder(tf.keras.Model):\n",
        "  def __init__(self, vocab_size, embedding_dim, enc_units, batch_sz):\n",
        "    super(Encoder, self).__init__()\n",
        "    self.batch_sz = batch_sz\n",
        "    self.enc_units = enc_units\n",
        "    # could modify the embeddings for pre-trained embeddings\n",
        "    self.embedding = tf.keras.layers.Embedding(vocab_size, embedding_dim)\n",
        "    self.gru = tf.keras.layers.GRU(self.enc_units,\n",
        "                                   return_sequences=True,\n",
        "                                   return_state=True,\n",
        "                                   recurrent_initializer='glorot_uniform')\n",
        "\n",
        "  def call(self, x, hidden):\n",
        "    x = self.embedding(x)\n",
        "    output, state = self.gru(x, initial_state = hidden)\n",
        "    return output, state\n",
        "\n",
        "  def initialize_hidden_state(self):\n",
        "    return tf.zeros((self.batch_sz, self.enc_units))"
      ],
      "execution_count": 0,
      "outputs": []
    },
    {
      "cell_type": "code",
      "metadata": {
        "id": "FrJ8OQzyk6tx",
        "colab_type": "code",
        "outputId": "2a502d93-a692-43fd-bcc9-5b1c24321f47",
        "colab": {
          "base_uri": "https://localhost:8080/",
          "height": 51
        }
      },
      "source": [
        "encoder = Encoder(vocab_inp_size, embedding_dim, units, BATCH_SIZE)\n",
        "\n",
        "# sample input\n",
        "sample_hidden = encoder.initialize_hidden_state()\n",
        "sample_output, sample_hidden = encoder(example_input_batch, sample_hidden)\n",
        "print ('Encoder output shape: (batch size, sequence length, units) {}'.format(sample_output.shape))\n",
        "print ('Encoder Hidden state shape: (batch size, units) {}'.format(sample_hidden.shape))"
      ],
      "execution_count": 26,
      "outputs": [
        {
          "output_type": "stream",
          "text": [
            "Encoder output shape: (batch size, sequence length, units) (24, 94, 512)\n",
            "Encoder Hidden state shape: (batch size, units) (24, 512)\n"
          ],
          "name": "stdout"
        }
      ]
    },
    {
      "cell_type": "code",
      "metadata": {
        "id": "HfQX-8i2lf0Q",
        "colab_type": "code",
        "colab": {}
      },
      "source": [
        "class BahdanauAttention(tf.keras.layers.Layer):\n",
        "  def __init__(self, units):\n",
        "    super(BahdanauAttention, self).__init__()\n",
        "    self.W1 = tf.keras.layers.Dense(units)\n",
        "    self.W2 = tf.keras.layers.Dense(units)\n",
        "    self.V = tf.keras.layers.Dense(1)\n",
        "\n",
        "  def call(self, query, values):\n",
        "    # query hidden state shape == (batch_size, hidden size)\n",
        "    # query_with_time_axis shape == (batch_size, 1, hidden size)\n",
        "    # values shape == (batch_size, max_len, hidden size)\n",
        "    # we are doing this to broadcast addition along the time axis to calculate the score\n",
        "    query_with_time_axis = tf.expand_dims(query, 1)\n",
        "\n",
        "    # score shape == (batch_size, max_length, 1)\n",
        "    # we get 1 at the last axis because we are applying score to self.V\n",
        "    # the shape of the tensor before applying self.V is (batch_size, max_length, units)\n",
        "    score = self.V(tf.nn.tanh(\n",
        "        self.W1(query_with_time_axis) + self.W2(values)))\n",
        "\n",
        "    # attention_weights shape == (batch_size, max_length, 1)\n",
        "    attention_weights = tf.nn.softmax(score, axis=1)\n",
        "\n",
        "    # context_vector shape after sum == (batch_size, hidden_size)\n",
        "    context_vector = attention_weights * values\n",
        "    context_vector = tf.reduce_sum(context_vector, axis=1)\n",
        "\n",
        "    return context_vector, attention_weights"
      ],
      "execution_count": 0,
      "outputs": []
    },
    {
      "cell_type": "code",
      "metadata": {
        "id": "KYkDe7z3l1jl",
        "colab_type": "code",
        "outputId": "1bb62588-bcd6-4638-d1d7-ab4f36d6a71f",
        "colab": {
          "base_uri": "https://localhost:8080/",
          "height": 51
        }
      },
      "source": [
        "attention_layer = BahdanauAttention(10)\n",
        "attention_result, attention_weights = attention_layer(sample_hidden, sample_output)\n",
        "\n",
        "print(\"Attention result shape: (batch size, units) {}\".format(attention_result.shape))\n",
        "print(\"Attention weights shape: (batch_size, sequence_length, 1) {}\".format(attention_weights.shape))"
      ],
      "execution_count": 28,
      "outputs": [
        {
          "output_type": "stream",
          "text": [
            "Attention result shape: (batch size, units) (24, 512)\n",
            "Attention weights shape: (batch_size, sequence_length, 1) (24, 94, 1)\n"
          ],
          "name": "stdout"
        }
      ]
    },
    {
      "cell_type": "code",
      "metadata": {
        "id": "H9a7Io4xl4_c",
        "colab_type": "code",
        "colab": {}
      },
      "source": [
        "# GRU decoder\n",
        "class Decoder(tf.keras.Model):\n",
        "  def __init__(self, vocab_size, embedding_dim, dec_units, batch_sz):\n",
        "    super(Decoder, self).__init__()\n",
        "    self.batch_sz = batch_sz\n",
        "    self.dec_units = dec_units\n",
        "    self.embedding = tf.keras.layers.Embedding(vocab_size, embedding_dim)\n",
        "    self.gru = tf.keras.layers.GRU(self.dec_units,\n",
        "                                   return_sequences=True,\n",
        "                                   return_state=True,\n",
        "                                   recurrent_initializer='glorot_uniform')\n",
        "    self.fc = tf.keras.layers.Dense(vocab_size)\n",
        "\n",
        "    # used for attention\n",
        "    self.attention = BahdanauAttention(self.dec_units)\n",
        "\n",
        "  def call(self, x, hidden, enc_output):\n",
        "    # enc_output shape == (batch_size, max_length, hidden_size)\n",
        "    context_vector, attention_weights = self.attention(hidden, enc_output)\n",
        "\n",
        "    # x shape after passing through embedding == (batch_size, 1, embedding_dim)\n",
        "    x = self.embedding(x)\n",
        "\n",
        "    # x shape after concatenation == (batch_size, 1, embedding_dim + hidden_size)\n",
        "    x = tf.concat([tf.expand_dims(context_vector, 1), x], axis=-1)\n",
        "\n",
        "    # passing the concatenated vector to the GRU\n",
        "    output, state = self.gru(x)\n",
        "\n",
        "    # output shape == (batch_size * 1, hidden_size)\n",
        "    output = tf.reshape(output, (-1, output.shape[2]))\n",
        "\n",
        "    # output shape == (batch_size, vocab)\n",
        "    x = self.fc(output)\n",
        "\n",
        "    return x, state, attention_weights"
      ],
      "execution_count": 0,
      "outputs": []
    },
    {
      "cell_type": "code",
      "metadata": {
        "id": "QCSYqltGmJFN",
        "colab_type": "code",
        "outputId": "5c3f15f7-1ac8-4229-8630-11056a4b54e2",
        "colab": {
          "base_uri": "https://localhost:8080/",
          "height": 34
        }
      },
      "source": [
        "decoder = Decoder(vocab_tar_size, embedding_dim, units, BATCH_SIZE)\n",
        "\n",
        "sample_decoder_output, _, _ = decoder(tf.random.uniform((BATCH_SIZE, 1)),\n",
        "                                      sample_hidden, sample_output)\n",
        "\n",
        "print ('Decoder output shape: (batch_size, vocab size) {}'.format(sample_decoder_output.shape))"
      ],
      "execution_count": 30,
      "outputs": [
        {
          "output_type": "stream",
          "text": [
            "Decoder output shape: (batch_size, vocab size) (24, 16769)\n"
          ],
          "name": "stdout"
        }
      ]
    },
    {
      "cell_type": "code",
      "metadata": {
        "id": "lQ2LLlE_mXgL",
        "colab_type": "code",
        "colab": {}
      },
      "source": [
        "# Optimizer and loss function\n",
        "optimizer = tf.keras.optimizers.Adam()\n",
        "loss_object = tf.keras.losses.SparseCategoricalCrossentropy(\n",
        "    from_logits=True, reduction='none')\n",
        "\n",
        "def loss_function(real, pred):\n",
        "  mask = tf.math.logical_not(tf.math.equal(real, 0))\n",
        "  loss_ = loss_object(real, pred)\n",
        "\n",
        "  mask = tf.cast(mask, dtype=loss_.dtype)\n",
        "  loss_ *= mask\n",
        "\n",
        "  return tf.reduce_mean(loss_)"
      ],
      "execution_count": 0,
      "outputs": []
    },
    {
      "cell_type": "code",
      "metadata": {
        "id": "1T6Ilao2mxrA",
        "colab_type": "code",
        "colab": {}
      },
      "source": [
        "# checkpoints\n",
        "checkpoint_dir = './training_checkpoints'\n",
        "checkpoint_prefix = os.path.join(checkpoint_dir, \"ckpt\")\n",
        "checkpoint = tf.train.Checkpoint(optimizer=optimizer,\n",
        "                                 encoder=encoder,\n",
        "                                 decoder=decoder)"
      ],
      "execution_count": 0,
      "outputs": []
    },
    {
      "cell_type": "markdown",
      "metadata": {
        "id": "GlAJcH2Qns2r",
        "colab_type": "text"
      },
      "source": [
        "## Training"
      ]
    },
    {
      "cell_type": "code",
      "metadata": {
        "id": "11p8Pfd7nBCo",
        "colab_type": "code",
        "colab": {}
      },
      "source": [
        "# Training steps\n",
        "# 1. Pass the input through the encoder which return encoder output and the encoder hidden state.\n",
        "# 2. The encoder output, encoder hidden state and the decoder input (which is the start token) is passed to the decoder.\n",
        "# 3. The decoder returns the predictions and the decoder hidden state.\n",
        "# 4. The decoder hidden state is then passed back into the model and the predictions are used to calculate the loss.\n",
        "# 5. Use teacher forcing to decide the next input to the decoder.\n",
        "# 6. Teacher forcing is the technique where the target word is passed as the next input to the decoder.\n",
        "# 7. The final step is to calculate the gradients and apply it to the optimizer and backpropagate."
      ],
      "execution_count": 0,
      "outputs": []
    },
    {
      "cell_type": "code",
      "metadata": {
        "id": "GzRcZWwYnbdj",
        "colab_type": "code",
        "colab": {}
      },
      "source": [
        "@tf.function\n",
        "def train_step(inp, targ, enc_hidden):\n",
        "  loss = 0\n",
        "\n",
        "  with tf.GradientTape() as tape:\n",
        "    enc_output, enc_hidden = encoder(inp, enc_hidden)\n",
        "\n",
        "    dec_hidden = enc_hidden\n",
        "\n",
        "    dec_input = tf.expand_dims([targ_lang.word_index['<start>']] * BATCH_SIZE, 1)\n",
        "\n",
        "    # Teacher forcing - feeding the target as the next input\n",
        "    for t in range(1, targ.shape[1]):\n",
        "      # passing enc_output to the decoder\n",
        "      predictions, dec_hidden, _ = decoder(dec_input, dec_hidden, enc_output)\n",
        "\n",
        "      loss += loss_function(targ[:, t], predictions)\n",
        "\n",
        "      # using teacher forcing\n",
        "      dec_input = tf.expand_dims(targ[:, t], 1)\n",
        "\n",
        "  batch_loss = (loss / int(targ.shape[1]))\n",
        "\n",
        "  variables = encoder.trainable_variables + decoder.trainable_variables\n",
        "\n",
        "  gradients = tape.gradient(loss, variables)\n",
        "\n",
        "  optimizer.apply_gradients(zip(gradients, variables))\n",
        "\n",
        "  return batch_loss"
      ],
      "execution_count": 0,
      "outputs": []
    },
    {
      "cell_type": "code",
      "metadata": {
        "id": "FXBhE2r3niOs",
        "colab_type": "code",
        "outputId": "347b1369-e9f8-46e5-80ef-25e2c3dfc6b8",
        "colab": {
          "base_uri": "https://localhost:8080/",
          "height": 1000
        }
      },
      "source": [
        "EPOCHS = 10\n",
        "\n",
        "for epoch in range(EPOCHS):\n",
        "  start = time.time()\n",
        "\n",
        "  enc_hidden = encoder.initialize_hidden_state()\n",
        "  total_loss = 0\n",
        "\n",
        "  for (batch, (inp, targ)) in enumerate(dataset.take(steps_per_epoch)):\n",
        "    batch_loss = train_step(inp, targ, enc_hidden)\n",
        "    total_loss += batch_loss\n",
        "\n",
        "    if batch % 100 == 0:\n",
        "      print('Epoch {} Batch {} Loss {:.4f}'.format(epoch + 1,\n",
        "                                                   batch,\n",
        "                                                   batch_loss.numpy()))\n",
        "  # saving (checkpoint) the model every 2 epochs\n",
        "  if (epoch + 1) % 2 == 0:\n",
        "    checkpoint.save(file_prefix = checkpoint_prefix)\n",
        "\n",
        "  print('Epoch {} Loss {:.4f}'.format(epoch + 1,\n",
        "                                      total_loss / steps_per_epoch))\n",
        "  print('Time taken for 1 epoch {} sec\\n'.format(time.time() - start))"
      ],
      "execution_count": 35,
      "outputs": [
        {
          "output_type": "stream",
          "text": [
            "Epoch 1 Batch 0 Loss 2.2489\n",
            "Epoch 1 Batch 100 Loss 1.2465\n",
            "Epoch 1 Batch 200 Loss 1.2997\n",
            "Epoch 1 Batch 300 Loss 1.3763\n",
            "Epoch 1 Batch 400 Loss 1.1300\n",
            "Epoch 1 Loss 1.2884\n",
            "Time taken for 1 epoch 333.2616186141968 sec\n",
            "\n",
            "Epoch 2 Batch 0 Loss 1.2438\n",
            "Epoch 2 Batch 100 Loss 1.1211\n",
            "Epoch 2 Batch 200 Loss 1.2263\n",
            "Epoch 2 Batch 300 Loss 1.1308\n",
            "Epoch 2 Batch 400 Loss 1.1992\n",
            "Epoch 2 Loss 1.1228\n",
            "Time taken for 1 epoch 171.57421231269836 sec\n",
            "\n",
            "Epoch 3 Batch 0 Loss 1.0150\n",
            "Epoch 3 Batch 100 Loss 1.0712\n",
            "Epoch 3 Batch 200 Loss 0.7832\n",
            "Epoch 3 Batch 300 Loss 1.1167\n",
            "Epoch 3 Batch 400 Loss 1.0639\n",
            "Epoch 3 Loss 1.0210\n",
            "Time taken for 1 epoch 171.77707529067993 sec\n",
            "\n",
            "Epoch 4 Batch 0 Loss 0.9556\n",
            "Epoch 4 Batch 100 Loss 0.9091\n",
            "Epoch 4 Batch 200 Loss 0.9746\n",
            "Epoch 4 Batch 300 Loss 0.8043\n",
            "Epoch 4 Batch 400 Loss 1.0515\n",
            "Epoch 4 Loss 0.9413\n",
            "Time taken for 1 epoch 172.6170744895935 sec\n",
            "\n",
            "Epoch 5 Batch 0 Loss 0.9630\n",
            "Epoch 5 Batch 100 Loss 0.9574\n",
            "Epoch 5 Batch 200 Loss 0.7168\n",
            "Epoch 5 Batch 300 Loss 0.8591\n",
            "Epoch 5 Batch 400 Loss 1.0847\n",
            "Epoch 5 Loss 0.8716\n",
            "Time taken for 1 epoch 172.29175066947937 sec\n",
            "\n",
            "Epoch 6 Batch 0 Loss 0.8676\n",
            "Epoch 6 Batch 100 Loss 0.7664\n",
            "Epoch 6 Batch 200 Loss 0.7835\n",
            "Epoch 6 Batch 300 Loss 0.8390\n",
            "Epoch 6 Batch 400 Loss 0.8207\n",
            "Epoch 6 Loss 0.8057\n",
            "Time taken for 1 epoch 172.1959719657898 sec\n",
            "\n",
            "Epoch 7 Batch 0 Loss 0.6242\n",
            "Epoch 7 Batch 100 Loss 0.6748\n",
            "Epoch 7 Batch 200 Loss 0.7438\n",
            "Epoch 7 Batch 300 Loss 0.7904\n",
            "Epoch 7 Batch 400 Loss 0.6216\n",
            "Epoch 7 Loss 0.7416\n",
            "Time taken for 1 epoch 171.65339922904968 sec\n",
            "\n",
            "Epoch 8 Batch 0 Loss 0.6689\n",
            "Epoch 8 Batch 100 Loss 0.6419\n",
            "Epoch 8 Batch 200 Loss 0.6504\n",
            "Epoch 8 Batch 300 Loss 0.5693\n",
            "Epoch 8 Batch 400 Loss 0.6008\n",
            "Epoch 8 Loss 0.6783\n",
            "Time taken for 1 epoch 173.2712800502777 sec\n",
            "\n",
            "Epoch 9 Batch 0 Loss 0.5412\n",
            "Epoch 9 Batch 100 Loss 0.6118\n",
            "Epoch 9 Batch 200 Loss 0.6338\n",
            "Epoch 9 Batch 300 Loss 0.7075\n",
            "Epoch 9 Batch 400 Loss 0.6682\n",
            "Epoch 9 Loss 0.6135\n",
            "Time taken for 1 epoch 171.74629473686218 sec\n",
            "\n",
            "Epoch 10 Batch 0 Loss 0.6114\n",
            "Epoch 10 Batch 100 Loss 0.5181\n",
            "Epoch 10 Batch 200 Loss 0.6627\n",
            "Epoch 10 Batch 300 Loss 0.6490\n",
            "Epoch 10 Batch 400 Loss 0.5924\n",
            "Epoch 10 Loss 0.5520\n",
            "Time taken for 1 epoch 173.25458073616028 sec\n",
            "\n"
          ],
          "name": "stdout"
        }
      ]
    },
    {
      "cell_type": "code",
      "metadata": {
        "id": "eqCEMpma7s-X",
        "colab_type": "code",
        "colab": {}
      },
      "source": [
        "def evaluate(sentence):\n",
        "  attention_plot = np.zeros((max_length_targ, max_length_inp))\n",
        "\n",
        "  sentence = preprocess_sentence(sentence)\n",
        "\n",
        "  # if input word not in input vocab, output random input word\n",
        "  inputs = [inp_lang.word_index[i] if i in inp_lang.word_index else np.random.randint(low=0, high=len(inp_lang.word_index), size=1) for i in sentence.split(' ')]\n",
        "  inputs = tf.keras.preprocessing.sequence.pad_sequences([inputs],\n",
        "                                                         maxlen=max_length_inp,\n",
        "                                                         padding='post')\n",
        "  inputs = tf.convert_to_tensor(inputs)\n",
        "\n",
        "  result = ''\n",
        "\n",
        "  hidden = [tf.zeros((1, units))]\n",
        "  enc_out, enc_hidden = encoder(inputs, hidden)\n",
        "\n",
        "  dec_hidden = enc_hidden\n",
        "  dec_input = tf.expand_dims([targ_lang.word_index['<start>']], 0)\n",
        "\n",
        "  for t in range(max_length_targ):\n",
        "    predictions, dec_hidden, attention_weights = decoder(dec_input,\n",
        "                                                         dec_hidden,\n",
        "                                                         enc_out)\n",
        "\n",
        "    # storing the attention weights to plot later on\n",
        "    attention_weights = tf.reshape(attention_weights, (-1, ))\n",
        "    attention_plot[t] = attention_weights.numpy()\n",
        "\n",
        "    predicted_id = tf.argmax(predictions[0]).numpy()\n",
        "\n",
        "    result += targ_lang.index_word[predicted_id] + ' '\n",
        "\n",
        "    if targ_lang.index_word[predicted_id] == '<end>':\n",
        "      return result, sentence, attention_plot\n",
        "\n",
        "    # the predicted ID is fed back into the model\n",
        "    dec_input = tf.expand_dims([predicted_id], 0)\n",
        "\n",
        "  return result, sentence, attention_plot"
      ],
      "execution_count": 0,
      "outputs": []
    },
    {
      "cell_type": "code",
      "metadata": {
        "id": "sz6_ol99J-6T",
        "colab_type": "code",
        "colab": {}
      },
      "source": [
        "# function for plotting the attention weights\n",
        "def plot_attention(attention, sentence, predicted_sentence):\n",
        "  fig = plt.figure(figsize=(10,10))\n",
        "  ax = fig.add_subplot(1, 1, 1)\n",
        "  ax.matshow(attention, cmap='viridis')\n",
        "\n",
        "  fontdict = {'fontsize': 14}\n",
        "\n",
        "  ax.set_xticklabels([''] + sentence, fontdict=fontdict, rotation=90)\n",
        "  ax.set_yticklabels([''] + predicted_sentence, fontdict=fontdict)\n",
        "\n",
        "  ax.xaxis.set_major_locator(ticker.MultipleLocator(1))\n",
        "  ax.yaxis.set_major_locator(ticker.MultipleLocator(1))\n",
        "\n",
        "  plt.show()"
      ],
      "execution_count": 0,
      "outputs": []
    },
    {
      "cell_type": "code",
      "metadata": {
        "id": "560kroWtKCOn",
        "colab_type": "code",
        "colab": {}
      },
      "source": [
        "def translate(sentence):\n",
        "  result, sentence, attention_plot = evaluate(sentence)\n",
        "\n",
        "  print('Input: %s' % (sentence))\n",
        "  print('Predicted translation: {}'.format(result))\n",
        "\n",
        "  attention_plot = attention_plot[:len(result.split(' ')), :len(sentence.split(' '))]\n",
        "  plot_attention(attention_plot, sentence.split(' '), result.split(' '))"
      ],
      "execution_count": 0,
      "outputs": []
    },
    {
      "cell_type": "code",
      "metadata": {
        "id": "tECI2njjKEYN",
        "colab_type": "code",
        "outputId": "b6e7aa16-9620-4555-db29-776fdd0c6165",
        "colab": {
          "base_uri": "https://localhost:8080/",
          "height": 34
        }
      },
      "source": [
        "checkpoint.restore(tf.train.latest_checkpoint(checkpoint_dir))"
      ],
      "execution_count": 57,
      "outputs": [
        {
          "output_type": "execute_result",
          "data": {
            "text/plain": [
              "<tensorflow.python.training.tracking.util.CheckpointLoadStatus at 0x7f1f051a4128>"
            ]
          },
          "metadata": {
            "tags": []
          },
          "execution_count": 57
        }
      ]
    },
    {
      "cell_type": "code",
      "metadata": {
        "id": "emW9iIawKJpp",
        "colab_type": "code",
        "outputId": "9d028e27-7659-40c6-92e2-89a04b4e9558",
        "colab": {
          "base_uri": "https://localhost:8080/",
          "height": 578
        }
      },
      "source": [
        "# last sentence of validation\n",
        "print (\"Input Language; index to word mapping\")\n",
        "convert(inp_lang, input_tensor_val[-1])\n",
        "print ()\n",
        "print (\"Target Language; index to word mapping\")\n",
        "convert(targ_lang, target_tensor_val[-1])"
      ],
      "execution_count": 58,
      "outputs": [
        {
          "output_type": "stream",
          "text": [
            "Input Language; index to word mapping\n",
            "2 ----> <start>\n",
            "44 ----> so\n",
            "41 ----> what\n",
            "58 ----> more\n",
            "151 ----> did\n",
            "1 ----> the\n",
            "836 ----> german\n",
            "166 ----> government\n",
            "90 ----> need\n",
            "5 ----> to\n",
            "2044 ----> endorse\n",
            "1 ----> the\n",
            "1574 ----> intervention\n",
            "3 ----> <end>\n",
            "\n",
            "Target Language; index to word mapping\n",
            "2 ----> <start>\n",
            "13 ----> que\n",
            "2557 ----> fallait\n",
            "19 ----> il\n",
            "4 ----> de\n",
            "33 ----> plus\n",
            "7 ----> l\n",
            "662 ----> allemagne\n",
            "21 ----> pour\n",
            "31 ----> qu\n",
            "49 ----> elle\n",
            "2981 ----> approuve\n",
            "7 ----> l\n",
            "818 ----> intervention\n",
            "50 ----> ?\n",
            "3 ----> <end>\n"
          ],
          "name": "stdout"
        }
      ]
    },
    {
      "cell_type": "code",
      "metadata": {
        "id": "T63OaST7KsS0",
        "colab_type": "code",
        "outputId": "bcc7832b-24cd-4f58-ef48-d4c8e83a9e37",
        "colab": {
          "base_uri": "https://localhost:8080/",
          "height": 704
        }
      },
      "source": [
        "# trying to predict first sentence of validation set\n",
        "translate(f\"so what more did the german government need to endorse the intervention\")"
      ],
      "execution_count": 59,
      "outputs": [
        {
          "output_type": "stream",
          "text": [
            "Input: <start> so what more did the german government need to endorse the intervention <end>\n",
            "Predicted translation: donc ce qui se passe en compte t il l objet de l irak . <end> \n"
          ],
          "name": "stdout"
        },
        {
          "output_type": "display_data",
          "data": {
            "image/png": "[encoded data removed]",
            "text/plain": [
              "<Figure size 720x720 with 1 Axes>"
            ]
          },
          "metadata": {
            "tags": []
          }
        }
      ]
    },
    {
      "cell_type": "code",
      "metadata": {
        "id": "72qlVD1fOR_0",
        "colab_type": "code",
        "outputId": "5bad03a3-2405-4456-8c1c-9c0c3298f66e",
        "colab": {
          "base_uri": "https://localhost:8080/",
          "height": 476
        }
      },
      "source": [
        "# predicting another sentence of validation set\n",
        "print (\"Input Language; index to word mapping\")\n",
        "convert(inp_lang, input_tensor_val[3])\n",
        "print ()\n",
        "print (\"Target Language; index to word mapping\")\n",
        "convert(targ_lang, target_tensor_val[3])"
      ],
      "execution_count": 60,
      "outputs": [
        {
          "output_type": "stream",
          "text": [
            "Input Language; index to word mapping\n",
            "2 ----> <start>\n",
            "13 ----> we\n",
            "90 ----> need\n",
            "8 ----> a\n",
            "1720 ----> signal\n",
            "5 ----> to\n",
            "1 ----> the\n",
            "6838 ----> arabic\n",
            "6 ----> and\n",
            "1673 ----> islamic\n",
            "108 ----> world\n",
            "3 ----> <end>\n",
            "\n",
            "Target Language; index to word mapping\n",
            "2 ----> <start>\n",
            "18 ----> nous\n",
            "104 ----> devons\n",
            "1924 ----> envoyer\n",
            "16 ----> un\n",
            "2243 ----> signal\n",
            "29 ----> au\n",
            "108 ----> monde\n",
            "7676 ----> arabo\n",
            "4969 ----> musulman\n",
            "1 ----> .\n",
            "3 ----> <end>\n"
          ],
          "name": "stdout"
        }
      ]
    },
    {
      "cell_type": "code",
      "metadata": {
        "id": "-KcIheS9OXu6",
        "colab_type": "code",
        "outputId": "73f6aae4-d55f-4d23-91b0-9c82c316dd17",
        "colab": {
          "base_uri": "https://localhost:8080/",
          "height": 675
        }
      },
      "source": [
        "translate(f\"we need a signal to the arabic and islamic world\")"
      ],
      "execution_count": 61,
      "outputs": [
        {
          "output_type": "stream",
          "text": [
            "Input: <start> we need a signal to the arabic and islamic world <end>\n",
            "Predicted translation: nous devons nous faut exercer une réponse au cours des laveurs de rome . <end> \n"
          ],
          "name": "stdout"
        },
        {
          "output_type": "display_data",
          "data": {
            "image/png": "[encoded data removed]",
            "text/plain": [
              "<Figure size 720x720 with 1 Axes>"
            ]
          },
          "metadata": {
            "tags": []
          }
        }
      ]
    },
    {
      "cell_type": "code",
      "metadata": {
        "id": "RzI9rNvd2vgo",
        "colab_type": "code",
        "colab": {
          "base_uri": "https://localhost:8080/",
          "height": 675
        },
        "outputId": "8f837b79-e065-4a42-b51f-f872f0092b4c"
      },
      "source": [
        "translate(f\"kevin is dumb\")"
      ],
      "execution_count": 62,
      "outputs": [
        {
          "output_type": "stream",
          "text": [
            "Input: <start> kevin is dumb <end>\n",
            "Predicted translation: battez les ingénieurs . <end> \n"
          ],
          "name": "stdout"
        },
        {
          "output_type": "display_data",
          "data": {
            "image/png": "[encoded data removed]",
            "text/plain": [
              "<Figure size 720x720 with 1 Axes>"
            ]
          },
          "metadata": {
            "tags": []
          }
        }
      ]
    }
  ]
}