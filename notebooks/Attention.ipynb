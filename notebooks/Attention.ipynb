{
  "nbformat": 4,
  "nbformat_minor": 0,
  "metadata": {
    "colab": {
      "name": "Attention.ipynb",
      "provenance": [],
      "collapsed_sections": [],
      "toc_visible": true
    },
    "kernelspec": {
      "name": "python3",
      "display_name": "Python 3"
    },
    "accelerator": "GPU"
  },
  "cells": [
    {
      "cell_type": "markdown",
      "metadata": {
        "id": "GJMhAX-Py9K2",
        "colab_type": "text"
      },
      "source": [
        "# Seq2seq"
      ]
    },
    {
      "cell_type": "markdown",
      "metadata": {
        "id": "qxX8qL1sgAeB",
        "colab_type": "text"
      },
      "source": [
        "Implementation of seq2seq model with attention from https://www.tensorflow.org/tutorials/text/nmt_with_attention\n",
        "\n",
        "To run this notebook, you only need to have the file train.lang1 and train.lang2 in a Google Drive directory"
      ]
    },
    {
      "cell_type": "code",
      "metadata": {
        "id": "hDqFxbKOG54e",
        "colab_type": "code",
        "colab": {}
      },
      "source": [
        "from __future__ import absolute_import, division, print_function, unicode_literals\n",
        "\n",
        "try:\n",
        "  # %tensorflow_version only exists in Colab.\n",
        "  %tensorflow_version 2.x\n",
        "except Exception:\n",
        "  pass\n",
        "  \n",
        "import tensorflow as tf\n",
        "\n",
        "import matplotlib.pyplot as plt\n",
        "import matplotlib.ticker as ticker\n",
        "from sklearn.model_selection import train_test_split\n",
        "\n",
        "#import unicodedata\n",
        "import re\n",
        "import numpy as np\n",
        "import os\n",
        "import time"
      ],
      "execution_count": 0,
      "outputs": []
    },
    {
      "cell_type": "code",
      "metadata": {
        "id": "vQbU6YNYxGQp",
        "colab_type": "code",
        "colab": {}
      },
      "source": [
        "tf.random.set_seed(0)\n",
        "np.random.seed(0)"
      ],
      "execution_count": 0,
      "outputs": []
    },
    {
      "cell_type": "code",
      "metadata": {
        "id": "eY5eWMSPJXNc",
        "colab_type": "code",
        "outputId": "f4314f2f-36ac-41d0-f225-41aaab10cd91",
        "colab": {
          "base_uri": "https://localhost:8080/",
          "height": 122
        }
      },
      "source": [
        "from google.colab import drive\n",
        "drive.mount('/content/gdrive')"
      ],
      "execution_count": 3,
      "outputs": [
        {
          "output_type": "stream",
          "text": [
            "Go to this URL in a browser: https://accounts.google.com/o/oauth2/auth?client_id=947318989803-6bn6qk8qdgf4n4g3pfee6491hc0brc4i.apps.googleusercontent.com&redirect_uri=urn%3aietf%3awg%3aoauth%3a2.0%3aoob&response_type=code&scope=email%20https%3a%2f%2fwww.googleapis.com%2fauth%2fdocs.test%20https%3a%2f%2fwww.googleapis.com%2fauth%2fdrive%20https%3a%2f%2fwww.googleapis.com%2fauth%2fdrive.photos.readonly%20https%3a%2f%2fwww.googleapis.com%2fauth%2fpeopleapi.readonly\n",
            "\n",
            "Enter your authorization code:\n",
            "··········\n",
            "Mounted at /content/gdrive\n"
          ],
          "name": "stdout"
        }
      ]
    },
    {
      "cell_type": "code",
      "metadata": {
        "id": "ITqtCu-dJmHm",
        "colab_type": "code",
        "outputId": "382cf5e6-4b50-449a-f248-5d28e3f15880",
        "colab": {
          "base_uri": "https://localhost:8080/",
          "height": 34
        }
      },
      "source": [
        "# Mounting colab with google drive\n",
        "# In my Drive I have data folder containing train.lang1 and train.lang2\n",
        "\n",
        "%cd /content/gdrive/My Drive/ift6759"
      ],
      "execution_count": 3,
      "outputs": [
        {
          "output_type": "stream",
          "text": [
            "/content/gdrive/My Drive/ift6759\n"
          ],
          "name": "stdout"
        }
      ]
    },
    {
      "cell_type": "markdown",
      "metadata": {
        "id": "I018Q9Z1ZxWp",
        "colab_type": "text"
      },
      "source": [
        "## Preprocessing"
      ]
    },
    {
      "cell_type": "code",
      "metadata": {
        "id": "JlMkBRf9Jxix",
        "colab_type": "code",
        "colab": {}
      },
      "source": [
        "# design decision included here, decided to keep é, è, ê, etc. for french \n",
        "# since otherwise it would divide a word like 'événementiel' into \"v\", \"nementiel\"\n",
        "\n",
        "def preprocess_sentence(w):\n",
        "  w = w.lower().strip()\n",
        "\n",
        "  # creating a space between a word and the punctuation following it\n",
        "  # eg: \"he is a boy.\" => \"he is a boy .\"\n",
        "  w = re.sub(r\"([?.!,¿])\", r\" \\1 \", w)\n",
        "  w = re.sub(r'[\" \"]+', \" \", w)\n",
        "\n",
        "  # replacing everything with space except (a-z, A-Z, \".\", \"?\", \"!\", \",\", \"é\", \"è\", \"ê\", \"ç\", \"î\", \"ï\", \"ô\", \"à\", \"û\")\n",
        "  w = re.sub(r\"[^a-zA-Z?.!,¿éèçêîôïàû]+\", \" \", w)\n",
        "\n",
        "  w = w.strip()\n",
        "\n",
        "  # adding a start and an end token to the sentence\n",
        "  # so that the model know when to start and stop predicting.\n",
        "  w = '<start> ' + w + ' <end>'\n",
        "  return w"
      ],
      "execution_count": 0,
      "outputs": []
    },
    {
      "cell_type": "code",
      "metadata": {
        "id": "VkNx9iMbLnQi",
        "colab_type": "code",
        "outputId": "05c56c9a-7bca-4edc-f54b-ea5a3f0e6381",
        "colab": {
          "base_uri": "https://localhost:8080/",
          "height": 51
        }
      },
      "source": [
        "fr_sentence = f\"J'aime beaucoup le chocolat!\"\n",
        "en_sentence = f\"I really like chocolate!\"\n",
        "print(preprocess_sentence(fr_sentence))\n",
        "print(preprocess_sentence(en_sentence))"
      ],
      "execution_count": 5,
      "outputs": [
        {
          "output_type": "stream",
          "text": [
            "<start> j aime beaucoup le chocolat ! <end>\n",
            "<start> i really like chocolate ! <end>\n"
          ],
          "name": "stdout"
        }
      ]
    },
    {
      "cell_type": "code",
      "metadata": {
        "id": "oId1lJorQlFt",
        "colab_type": "code",
        "colab": {}
      },
      "source": [
        "# mapping english sentences to french sentences\n",
        "def combine_files(path_to_en_file, path_to_fr_file, output_path):\n",
        "  with open(path_to_en_file, 'r') as en:\n",
        "    with open(path_to_fr_file, 'r') as fr:\n",
        "      with open(output_path, 'w') as outfile:\n",
        "        en_lines = en.readlines()\n",
        "        fr_lines = fr.readlines()\n",
        "        for i in range(len(en_lines)):\n",
        "          line = en_lines[i].strip() + '\\t' + fr_lines[i]\n",
        "          outfile.write(line)"
      ],
      "execution_count": 0,
      "outputs": []
    },
    {
      "cell_type": "code",
      "metadata": {
        "id": "2r_-7XlPPQ5j",
        "colab_type": "code",
        "colab": {}
      },
      "source": [
        "def print_n(path_to_file, n):\n",
        "  n = range(n)\n",
        "  with open(path_to_file, 'r') as f:\n",
        "    for i, line in enumerate(f):\n",
        "      if i in n:\n",
        "        print(line)"
      ],
      "execution_count": 0,
      "outputs": []
    },
    {
      "cell_type": "code",
      "metadata": {
        "id": "dI-h5RCaaDLD",
        "colab_type": "code",
        "outputId": "f0cb343e-2aaf-4735-ea85-fccd47f15ad4",
        "colab": {
          "base_uri": "https://localhost:8080/",
          "height": 207
        }
      },
      "source": [
        "print('ENGLISH')\n",
        "print_n('data/train.lang1', 2)\n",
        "\n",
        "print('FRENCH')\n",
        "print_n('data/train.lang2', 2)"
      ],
      "execution_count": 8,
      "outputs": [
        {
          "output_type": "stream",
          "text": [
            "ENGLISH\n",
            "so too does the idea that accommodating religious differences is dangerous\n",
            "\n",
            "mr president ladies and gentlemen the financial perspective outlines the scope of the eu ’s activities over coming years as well as providing a framework for such activities and determining how effective they will be\n",
            "\n",
            "FRENCH\n",
            "L’ idée de concilier les différences religieuses semble donc dangereuse .\n",
            "\n",
            "Monsieur le Président , Mesdames et Messieurs , les perspectives financières esquissent la portée des activités de l’ UE pour les années à venir , fournissent un cadre pour ces activités et déterminent leur efficacité .\n",
            "\n"
          ],
          "name": "stdout"
        }
      ]
    },
    {
      "cell_type": "code",
      "metadata": {
        "id": "RCkbGI9QXJXM",
        "colab_type": "code",
        "colab": {}
      },
      "source": [
        "# only need to do it once, uncomment if not done\n",
        "#combine_files('data/train.lang1', 'data/train.lang2', 'data/en-fr.txt')"
      ],
      "execution_count": 0,
      "outputs": []
    },
    {
      "cell_type": "code",
      "metadata": {
        "id": "lL6kVkCPUlfT",
        "colab_type": "code",
        "outputId": "96be854b-c4d5-49ab-f66e-344ddfacc7f8",
        "colab": {
          "base_uri": "https://localhost:8080/",
          "height": 105
        }
      },
      "source": [
        "# check if the combine_files function worked\n",
        "print_n('data/en-fr.txt', 2)"
      ],
      "execution_count": 10,
      "outputs": [
        {
          "output_type": "stream",
          "text": [
            "so too does the idea that accommodating religious differences is dangerous\tL’ idée de concilier les différences religieuses semble donc dangereuse .\n",
            "\n",
            "mr president ladies and gentlemen the financial perspective outlines the scope of the eu ’s activities over coming years as well as providing a framework for such activities and determining how effective they will be\tMonsieur le Président , Mesdames et Messieurs , les perspectives financières esquissent la portée des activités de l’ UE pour les années à venir , fournissent un cadre pour ces activités et déterminent leur efficacité .\n",
            "\n"
          ],
          "name": "stdout"
        }
      ]
    },
    {
      "cell_type": "code",
      "metadata": {
        "id": "EL3j-jwuMN4M",
        "colab_type": "code",
        "colab": {}
      },
      "source": [
        "# 1. Remove the accents\n",
        "# 2. Clean the sentences\n",
        "# 3. Return word pairs in the format: [ENGLISH, SPANISH]\n",
        "def create_dataset(path, num_examples):\n",
        "  lines = open(path, encoding='UTF-8').read().strip().split('\\n')\n",
        "\n",
        "  word_pairs = [[preprocess_sentence(w) for w in l.split('\\t')]  for l in lines[:num_examples]]\n",
        "\n",
        "  return zip(*word_pairs)"
      ],
      "execution_count": 0,
      "outputs": []
    },
    {
      "cell_type": "code",
      "metadata": {
        "id": "7PTIujuCairh",
        "colab_type": "code",
        "colab": {}
      },
      "source": [
        "en, fr = create_dataset('data/en-fr.txt', None)"
      ],
      "execution_count": 0,
      "outputs": []
    },
    {
      "cell_type": "code",
      "metadata": {
        "id": "0WTD0tTxap66",
        "colab_type": "code",
        "outputId": "54406fc4-e63b-4614-fa64-4842f398abc0",
        "colab": {
          "base_uri": "https://localhost:8080/",
          "height": 51
        }
      },
      "source": [
        "# let's see what it outputs\n",
        "print(en[-1])\n",
        "print(fr[-1])"
      ],
      "execution_count": 13,
      "outputs": [
        {
          "output_type": "stream",
          "text": [
            "<start> i agree that we need an ambitious social agenda which will include combating poverty and social exclusion <end>\n",
            "<start> je conviens que nous avons besoin d un agenda social ambitieux qui englobera la lutte contre la pauvreté et l exclusion sociale . <end>\n"
          ],
          "name": "stdout"
        }
      ]
    },
    {
      "cell_type": "code",
      "metadata": {
        "id": "HiXM8nIPa36p",
        "colab_type": "code",
        "colab": {}
      },
      "source": [
        "def max_length(tensor):\n",
        "  return max(len(t) for t in tensor)"
      ],
      "execution_count": 0,
      "outputs": []
    },
    {
      "cell_type": "code",
      "metadata": {
        "id": "5Ojbd1H2c6aG",
        "colab_type": "code",
        "colab": {}
      },
      "source": [
        "def tokenize(lang):\n",
        "  lang_tokenizer = tf.keras.preprocessing.text.Tokenizer(filters='')\n",
        "  lang_tokenizer.fit_on_texts(lang)\n",
        "\n",
        "  tensor = lang_tokenizer.texts_to_sequences(lang)\n",
        "\n",
        "  tensor = tf.keras.preprocessing.sequence.pad_sequences(tensor, padding='post')\n",
        "\n",
        "  return tensor, lang_tokenizer"
      ],
      "execution_count": 0,
      "outputs": []
    },
    {
      "cell_type": "code",
      "metadata": {
        "id": "RgJftlqFdZKR",
        "colab_type": "code",
        "colab": {}
      },
      "source": [
        "def load_dataset(path, num_examples=None):\n",
        "  # creating cleaned input, output pairs\n",
        "  inp_lang, targ_lang = create_dataset(path, num_examples)\n",
        "\n",
        "  input_tensor, inp_lang_tokenizer = tokenize(inp_lang)\n",
        "  target_tensor, targ_lang_tokenizer = tokenize(targ_lang)\n",
        "\n",
        "  return input_tensor, target_tensor, inp_lang_tokenizer, targ_lang_tokenizer"
      ],
      "execution_count": 0,
      "outputs": []
    },
    {
      "cell_type": "code",
      "metadata": {
        "id": "G1Xub_8ad42W",
        "colab_type": "code",
        "colab": {}
      },
      "source": [
        "input_tensor, target_tensor, inp_lang, targ_lang = load_dataset(path='data/en-fr.txt')"
      ],
      "execution_count": 0,
      "outputs": []
    },
    {
      "cell_type": "code",
      "metadata": {
        "id": "fRa2fO7eNMF9",
        "colab_type": "code",
        "colab": {
          "base_uri": "https://localhost:8080/",
          "height": 51
        },
        "outputId": "32b16e86-4cd4-44ff-c6a7-baa46d250654"
      },
      "source": [
        "print(f\"Found {len(inp_lang.word_index)} unique tokens in English\")\n",
        "print(f\"Found {len(targ_lang.word_index)} unique tokens in French\")"
      ],
      "execution_count": 18,
      "outputs": [
        {
          "output_type": "stream",
          "text": [
            "Found 13239 unique tokens in English\n",
            "Found 16780 unique tokens in French\n"
          ],
          "name": "stdout"
        }
      ]
    },
    {
      "cell_type": "code",
      "metadata": {
        "id": "cztNbHsYe3IJ",
        "colab_type": "code",
        "colab": {
          "base_uri": "https://localhost:8080/",
          "height": 34
        },
        "outputId": "7b79d3d9-fb2d-48c1-af43-96b9b880043c"
      },
      "source": [
        "# Calculate max_length of the target tensors\n",
        "max_length_targ, max_length_inp = max_length(target_tensor), max_length(input_tensor)\n",
        "print(f\"The maximum lenght of input is {max_length_inp} and the maximum length of target is {max_length_targ}.\")"
      ],
      "execution_count": 64,
      "outputs": [
        {
          "output_type": "stream",
          "text": [
            "The maximum lenght of input is 94 and the maximum length of target is 113.\n"
          ],
          "name": "stdout"
        }
      ]
    },
    {
      "cell_type": "code",
      "metadata": {
        "id": "nMCLFkEafes8",
        "colab_type": "code",
        "colab": {}
      },
      "source": [
        "# Creating training and validation sets using an 90-10 split, could be modified of course\n",
        "input_tensor_train, input_tensor_val, target_tensor_train, target_tensor_val = train_test_split(input_tensor, target_tensor, test_size=0.1, random_state=6759)"
      ],
      "execution_count": 0,
      "outputs": []
    },
    {
      "cell_type": "code",
      "metadata": {
        "id": "b_sise0Pfsqk",
        "colab_type": "code",
        "outputId": "9cc915ae-6031-4098-fc5a-b2f6b837fbe1",
        "colab": {
          "base_uri": "https://localhost:8080/",
          "height": 34
        }
      },
      "source": [
        "# Show length\n",
        "print(len(input_tensor_train), len(target_tensor_train), len(input_tensor_val), len(target_tensor_val))"
      ],
      "execution_count": 21,
      "outputs": [
        {
          "output_type": "stream",
          "text": [
            "9900 9900 1100 1100\n"
          ],
          "name": "stdout"
        }
      ]
    },
    {
      "cell_type": "code",
      "metadata": {
        "id": "nLVdUwxZfwyI",
        "colab_type": "code",
        "colab": {}
      },
      "source": [
        "def convert(lang, tensor):\n",
        "  for t in tensor:\n",
        "    if t!=0:\n",
        "      print (\"%d ----> %s\" % (t, lang.index_word[t]))"
      ],
      "execution_count": 0,
      "outputs": []
    },
    {
      "cell_type": "code",
      "metadata": {
        "id": "TIiKqYlGgQBU",
        "colab_type": "code",
        "outputId": "7edd51fe-d3f7-44c2-d63e-7a12e451548e",
        "colab": {
          "base_uri": "https://localhost:8080/",
          "height": 714
        }
      },
      "source": [
        "print (\"Input Language; index to word mapping\")\n",
        "convert(inp_lang, input_tensor_train[-1])\n",
        "print ()\n",
        "print (\"Target Language; index to word mapping\")\n",
        "convert(targ_lang, target_tensor_train[-1])"
      ],
      "execution_count": 23,
      "outputs": [
        {
          "output_type": "stream",
          "text": [
            "Input Language; index to word mapping\n",
            "2 ----> <start>\n",
            "10 ----> that\n",
            "9 ----> is\n",
            "1043 ----> unacceptable\n",
            "5 ----> to\n",
            "61 ----> us\n",
            "16 ----> on\n",
            "165 ----> both\n",
            "1954 ----> moral\n",
            "6 ----> and\n",
            "242 ----> security\n",
            "97 ----> policy\n",
            "2783 ----> grounds\n",
            "3 ----> <end>\n",
            "\n",
            "Target Language; index to word mapping\n",
            "2 ----> <start>\n",
            "18 ----> une\n",
            "514 ----> telle\n",
            "1222 ----> attitude\n",
            "19 ----> nous\n",
            "342 ----> semble\n",
            "16018 ----> indéfendable\n",
            "5 ----> ,\n",
            "151 ----> tant\n",
            "31 ----> sur\n",
            "8 ----> le\n",
            "358 ----> plan\n",
            "4557 ----> moral\n",
            "13 ----> que\n",
            "31 ----> sur\n",
            "8 ----> le\n",
            "358 ----> plan\n",
            "4 ----> de\n",
            "6 ----> la\n",
            "80 ----> politique\n",
            "4 ----> de\n",
            "136 ----> sécurité\n",
            "1 ----> .\n",
            "3 ----> <end>\n"
          ],
          "name": "stdout"
        }
      ]
    },
    {
      "cell_type": "markdown",
      "metadata": {
        "id": "PH0AI8tAmDc5",
        "colab_type": "text"
      },
      "source": [
        "## Model"
      ]
    },
    {
      "cell_type": "code",
      "metadata": {
        "id": "zCU8N5VYgvKE",
        "colab_type": "code",
        "colab": {}
      },
      "source": [
        "# create tf.dataset and decide architecture choices\n",
        "# needed to change batch size and #of units so it didn't throw out-of-memory error in colab\n",
        "BUFFER_SIZE = len(input_tensor_train)\n",
        "BATCH_SIZE = 24 \n",
        "steps_per_epoch = len(input_tensor_train) // BATCH_SIZE\n",
        "embedding_dim = 256\n",
        "units = 512\n",
        "vocab_inp_size = len(inp_lang.word_index)+1\n",
        "vocab_tar_size = len(targ_lang.word_index)+1\n",
        "\n",
        "dataset = tf.data.Dataset.from_tensor_slices((input_tensor_train, target_tensor_train)).shuffle(BUFFER_SIZE)\n",
        "dataset = dataset.batch(BATCH_SIZE, drop_remainder=True)"
      ],
      "execution_count": 0,
      "outputs": []
    },
    {
      "cell_type": "code",
      "metadata": {
        "id": "9MwZFT1LhSuH",
        "colab_type": "code",
        "outputId": "d8537f5d-d24b-4b64-b10c-47a1ea4c97e7",
        "colab": {
          "base_uri": "https://localhost:8080/",
          "height": 34
        }
      },
      "source": [
        "example_input_batch, example_target_batch = next(iter(dataset))\n",
        "example_input_batch.shape, example_target_batch.shape"
      ],
      "execution_count": 25,
      "outputs": [
        {
          "output_type": "execute_result",
          "data": {
            "text/plain": [
              "(TensorShape([24, 94]), TensorShape([24, 113]))"
            ]
          },
          "metadata": {
            "tags": []
          },
          "execution_count": 25
        }
      ]
    },
    {
      "cell_type": "code",
      "metadata": {
        "id": "HTVkqnGrhtQo",
        "colab_type": "code",
        "colab": {}
      },
      "source": [
        "# Encoder with GRU gates\n",
        "class Encoder(tf.keras.Model):\n",
        "  def __init__(self, vocab_size, embedding_dim, enc_units, batch_sz):\n",
        "    super(Encoder, self).__init__()\n",
        "    self.batch_sz = batch_sz\n",
        "    self.enc_units = enc_units\n",
        "    # could modify the embeddings for pre-trained embeddings\n",
        "    self.embedding = tf.keras.layers.Embedding(vocab_size, embedding_dim)\n",
        "    self.gru = tf.keras.layers.GRU(self.enc_units,\n",
        "                                   return_sequences=True,\n",
        "                                   return_state=True,\n",
        "                                   recurrent_initializer='glorot_uniform')\n",
        "\n",
        "  def call(self, x, hidden):\n",
        "    x = self.embedding(x)\n",
        "    output, state = self.gru(x, initial_state = hidden)\n",
        "    return output, state\n",
        "\n",
        "  def initialize_hidden_state(self):\n",
        "    return tf.zeros((self.batch_sz, self.enc_units))"
      ],
      "execution_count": 0,
      "outputs": []
    },
    {
      "cell_type": "code",
      "metadata": {
        "id": "FrJ8OQzyk6tx",
        "colab_type": "code",
        "outputId": "980aac75-d50f-41e1-d954-a5c162ecb726",
        "colab": {
          "base_uri": "https://localhost:8080/",
          "height": 51
        }
      },
      "source": [
        "encoder = Encoder(vocab_inp_size, embedding_dim, units, BATCH_SIZE)\n",
        "\n",
        "# sample input\n",
        "sample_hidden = encoder.initialize_hidden_state()\n",
        "sample_output, sample_hidden = encoder(example_input_batch, sample_hidden)\n",
        "print ('Encoder output shape: (batch size, sequence length, units) {}'.format(sample_output.shape))\n",
        "print ('Encoder Hidden state shape: (batch size, units) {}'.format(sample_hidden.shape))"
      ],
      "execution_count": 27,
      "outputs": [
        {
          "output_type": "stream",
          "text": [
            "Encoder output shape: (batch size, sequence length, units) (24, 94, 512)\n",
            "Encoder Hidden state shape: (batch size, units) (24, 512)\n"
          ],
          "name": "stdout"
        }
      ]
    },
    {
      "cell_type": "code",
      "metadata": {
        "id": "HfQX-8i2lf0Q",
        "colab_type": "code",
        "colab": {}
      },
      "source": [
        "class BahdanauAttention(tf.keras.layers.Layer):\n",
        "  def __init__(self, units):\n",
        "    super(BahdanauAttention, self).__init__()\n",
        "    self.W1 = tf.keras.layers.Dense(units)\n",
        "    self.W2 = tf.keras.layers.Dense(units)\n",
        "    self.V = tf.keras.layers.Dense(1)\n",
        "\n",
        "  def call(self, query, values):\n",
        "    # query hidden state shape == (batch_size, hidden size)\n",
        "    # query_with_time_axis shape == (batch_size, 1, hidden size)\n",
        "    # values shape == (batch_size, max_len, hidden size)\n",
        "    # we are doing this to broadcast addition along the time axis to calculate the score\n",
        "    query_with_time_axis = tf.expand_dims(query, 1)\n",
        "\n",
        "    # score shape == (batch_size, max_length, 1)\n",
        "    # we get 1 at the last axis because we are applying score to self.V\n",
        "    # the shape of the tensor before applying self.V is (batch_size, max_length, units)\n",
        "    score = self.V(tf.nn.tanh(\n",
        "        self.W1(query_with_time_axis) + self.W2(values)))\n",
        "\n",
        "    # attention_weights shape == (batch_size, max_length, 1)\n",
        "    attention_weights = tf.nn.softmax(score, axis=1)\n",
        "\n",
        "    # context_vector shape after sum == (batch_size, hidden_size)\n",
        "    context_vector = attention_weights * values\n",
        "    context_vector = tf.reduce_sum(context_vector, axis=1)\n",
        "\n",
        "    return context_vector, attention_weights"
      ],
      "execution_count": 0,
      "outputs": []
    },
    {
      "cell_type": "code",
      "metadata": {
        "id": "KYkDe7z3l1jl",
        "colab_type": "code",
        "outputId": "57c08fa3-31e2-41cd-f229-16ee66e6f594",
        "colab": {
          "base_uri": "https://localhost:8080/",
          "height": 51
        }
      },
      "source": [
        "attention_layer = BahdanauAttention(10)\n",
        "attention_result, attention_weights = attention_layer(sample_hidden, sample_output)\n",
        "\n",
        "print(\"Attention result shape: (batch size, units) {}\".format(attention_result.shape))\n",
        "print(\"Attention weights shape: (batch_size, sequence_length, 1) {}\".format(attention_weights.shape))"
      ],
      "execution_count": 29,
      "outputs": [
        {
          "output_type": "stream",
          "text": [
            "Attention result shape: (batch size, units) (24, 512)\n",
            "Attention weights shape: (batch_size, sequence_length, 1) (24, 94, 1)\n"
          ],
          "name": "stdout"
        }
      ]
    },
    {
      "cell_type": "code",
      "metadata": {
        "id": "H9a7Io4xl4_c",
        "colab_type": "code",
        "colab": {}
      },
      "source": [
        "# GRU decoder\n",
        "class Decoder(tf.keras.Model):\n",
        "  def __init__(self, vocab_size, embedding_dim, dec_units, batch_sz):\n",
        "    super(Decoder, self).__init__()\n",
        "    self.batch_sz = batch_sz\n",
        "    self.dec_units = dec_units\n",
        "    self.embedding = tf.keras.layers.Embedding(vocab_size, embedding_dim)\n",
        "    self.gru = tf.keras.layers.GRU(self.dec_units,\n",
        "                                   return_sequences=True,\n",
        "                                   return_state=True,\n",
        "                                   recurrent_initializer='glorot_uniform')\n",
        "    self.fc = tf.keras.layers.Dense(vocab_size)\n",
        "\n",
        "    # used for attention\n",
        "    self.attention = BahdanauAttention(self.dec_units)\n",
        "\n",
        "  def call(self, x, hidden, enc_output):\n",
        "    # enc_output shape == (batch_size, max_length, hidden_size)\n",
        "    context_vector, attention_weights = self.attention(hidden, enc_output)\n",
        "\n",
        "    # x shape after passing through embedding == (batch_size, 1, embedding_dim)\n",
        "    x = self.embedding(x)\n",
        "\n",
        "    # x shape after concatenation == (batch_size, 1, embedding_dim + hidden_size)\n",
        "    x = tf.concat([tf.expand_dims(context_vector, 1), x], axis=-1)\n",
        "\n",
        "    # passing the concatenated vector to the GRU\n",
        "    output, state = self.gru(x)\n",
        "\n",
        "    # output shape == (batch_size * 1, hidden_size)\n",
        "    output = tf.reshape(output, (-1, output.shape[2]))\n",
        "\n",
        "    # output shape == (batch_size, vocab)\n",
        "    x = self.fc(output)\n",
        "\n",
        "    return x, state, attention_weights"
      ],
      "execution_count": 0,
      "outputs": []
    },
    {
      "cell_type": "code",
      "metadata": {
        "id": "QCSYqltGmJFN",
        "colab_type": "code",
        "outputId": "390b3ebf-075b-40b4-f7c5-214b3891dc41",
        "colab": {
          "base_uri": "https://localhost:8080/",
          "height": 34
        }
      },
      "source": [
        "decoder = Decoder(vocab_tar_size, embedding_dim, units, BATCH_SIZE)\n",
        "\n",
        "sample_decoder_output, _, _ = decoder(tf.random.uniform((BATCH_SIZE, 1)),\n",
        "                                      sample_hidden, sample_output)\n",
        "\n",
        "print ('Decoder output shape: (batch_size, vocab size) {}'.format(sample_decoder_output.shape))"
      ],
      "execution_count": 31,
      "outputs": [
        {
          "output_type": "stream",
          "text": [
            "Decoder output shape: (batch_size, vocab size) (24, 16781)\n"
          ],
          "name": "stdout"
        }
      ]
    },
    {
      "cell_type": "code",
      "metadata": {
        "id": "lQ2LLlE_mXgL",
        "colab_type": "code",
        "colab": {}
      },
      "source": [
        "# Optimizer and loss function\n",
        "optimizer = tf.keras.optimizers.Adam()\n",
        "loss_object = tf.keras.losses.SparseCategoricalCrossentropy(\n",
        "    from_logits=True, reduction='none')\n",
        "\n",
        "def loss_function(real, pred):\n",
        "  mask = tf.math.logical_not(tf.math.equal(real, 0))\n",
        "  loss_ = loss_object(real, pred)\n",
        "\n",
        "  mask = tf.cast(mask, dtype=loss_.dtype)\n",
        "  loss_ *= mask\n",
        "\n",
        "  return tf.reduce_mean(loss_)"
      ],
      "execution_count": 0,
      "outputs": []
    },
    {
      "cell_type": "code",
      "metadata": {
        "id": "1T6Ilao2mxrA",
        "colab_type": "code",
        "colab": {}
      },
      "source": [
        "# checkpoints\n",
        "checkpoint_dir = './training_checkpoints'\n",
        "checkpoint_prefix = os.path.join(checkpoint_dir, \"ckpt\")\n",
        "checkpoint = tf.train.Checkpoint(optimizer=optimizer,\n",
        "                                 encoder=encoder,\n",
        "                                 decoder=decoder)"
      ],
      "execution_count": 0,
      "outputs": []
    },
    {
      "cell_type": "markdown",
      "metadata": {
        "id": "GlAJcH2Qns2r",
        "colab_type": "text"
      },
      "source": [
        "## Training"
      ]
    },
    {
      "cell_type": "code",
      "metadata": {
        "id": "11p8Pfd7nBCo",
        "colab_type": "code",
        "colab": {}
      },
      "source": [
        "# Training steps\n",
        "# 1. Pass the input through the encoder which return encoder output and the encoder hidden state.\n",
        "# 2. The encoder output, encoder hidden state and the decoder input (which is the start token) is passed to the decoder.\n",
        "# 3. The decoder returns the predictions and the decoder hidden state.\n",
        "# 4. The decoder hidden state is then passed back into the model and the predictions are used to calculate the loss.\n",
        "# 5. Use teacher forcing to decide the next input to the decoder.\n",
        "# 6. Teacher forcing is the technique where the target word is passed as the next input to the decoder.\n",
        "# 7. The final step is to calculate the gradients and apply it to the optimizer and backpropagate."
      ],
      "execution_count": 0,
      "outputs": []
    },
    {
      "cell_type": "code",
      "metadata": {
        "id": "GzRcZWwYnbdj",
        "colab_type": "code",
        "colab": {}
      },
      "source": [
        "@tf.function\n",
        "def train_step(inp, targ, enc_hidden):\n",
        "  loss = 0\n",
        "\n",
        "  with tf.GradientTape() as tape:\n",
        "    enc_output, enc_hidden = encoder(inp, enc_hidden)\n",
        "\n",
        "    dec_hidden = enc_hidden\n",
        "\n",
        "    dec_input = tf.expand_dims([targ_lang.word_index['<start>']] * BATCH_SIZE, 1)\n",
        "\n",
        "    # Teacher forcing - feeding the target as the next input\n",
        "    for t in range(1, targ.shape[1]):\n",
        "      # passing enc_output to the decoder\n",
        "      predictions, dec_hidden, _ = decoder(dec_input, dec_hidden, enc_output)\n",
        "\n",
        "      loss += loss_function(targ[:, t], predictions)\n",
        "\n",
        "      # using teacher forcing\n",
        "      dec_input = tf.expand_dims(targ[:, t], 1)\n",
        "\n",
        "  batch_loss = (loss / int(targ.shape[1]))\n",
        "\n",
        "  variables = encoder.trainable_variables + decoder.trainable_variables\n",
        "\n",
        "  gradients = tape.gradient(loss, variables)\n",
        "\n",
        "  optimizer.apply_gradients(zip(gradients, variables))\n",
        "\n",
        "  return batch_loss"
      ],
      "execution_count": 0,
      "outputs": []
    },
    {
      "cell_type": "code",
      "metadata": {
        "id": "FXBhE2r3niOs",
        "colab_type": "code",
        "outputId": "b577a5b0-e333-4f36-a936-21d3dd0e6081",
        "colab": {
          "base_uri": "https://localhost:8080/",
          "height": 1000
        }
      },
      "source": [
        "EPOCHS = 10\n",
        "\n",
        "for epoch in range(EPOCHS):\n",
        "  start = time.time()\n",
        "\n",
        "  enc_hidden = encoder.initialize_hidden_state()\n",
        "  total_loss = 0\n",
        "\n",
        "  for (batch, (inp, targ)) in enumerate(dataset.take(steps_per_epoch)):\n",
        "    batch_loss = train_step(inp, targ, enc_hidden)\n",
        "    total_loss += batch_loss\n",
        "\n",
        "    if batch % 100 == 0:\n",
        "      print('Epoch {} Batch {} Loss {:.4f}'.format(epoch + 1,\n",
        "                                                   batch,\n",
        "                                                   batch_loss.numpy()))\n",
        "  # saving (checkpoint) the model every 2 epochs\n",
        "  if (epoch + 1) % 2 == 0:\n",
        "    checkpoint.save(file_prefix = checkpoint_prefix)\n",
        "\n",
        "  print('Epoch {} Loss {:.4f}'.format(epoch + 1,\n",
        "                                      total_loss / steps_per_epoch))\n",
        "  print('Time taken for 1 epoch {} sec\\n'.format(time.time() - start))"
      ],
      "execution_count": 114,
      "outputs": [
        {
          "output_type": "stream",
          "text": [
            "Epoch 1 Batch 0 Loss 2.1737\n",
            "Epoch 1 Batch 100 Loss 1.4118\n",
            "Epoch 1 Batch 200 Loss 1.2433\n",
            "Epoch 1 Batch 300 Loss 1.0743\n",
            "Epoch 1 Batch 400 Loss 1.2302\n",
            "Epoch 1 Loss 1.3073\n",
            "Time taken for 1 epoch 278.2491250038147 sec\n",
            "\n",
            "Epoch 2 Batch 0 Loss 1.1065\n",
            "Epoch 2 Batch 100 Loss 1.1736\n",
            "Epoch 2 Batch 200 Loss 1.4891\n",
            "Epoch 2 Batch 300 Loss 1.2028\n",
            "Epoch 2 Batch 400 Loss 0.9736\n",
            "Epoch 2 Loss 1.1133\n",
            "Time taken for 1 epoch 157.77699995040894 sec\n",
            "\n",
            "Epoch 3 Batch 0 Loss 1.1558\n",
            "Epoch 3 Batch 100 Loss 1.0555\n",
            "Epoch 3 Batch 200 Loss 0.9161\n",
            "Epoch 3 Batch 300 Loss 1.0650\n",
            "Epoch 3 Batch 400 Loss 0.9764\n",
            "Epoch 3 Loss 1.0154\n",
            "Time taken for 1 epoch 156.28116106987 sec\n",
            "\n",
            "Epoch 4 Batch 0 Loss 1.0975\n",
            "Epoch 4 Batch 100 Loss 0.9382\n",
            "Epoch 4 Batch 200 Loss 0.7956\n",
            "Epoch 4 Batch 300 Loss 1.0140\n",
            "Epoch 4 Batch 400 Loss 0.9949\n",
            "Epoch 4 Loss 0.9619\n",
            "Time taken for 1 epoch 156.99899339675903 sec\n",
            "\n",
            "Epoch 5 Batch 0 Loss 0.8135\n",
            "Epoch 5 Batch 100 Loss 0.8581\n",
            "Epoch 5 Batch 200 Loss 0.9308\n",
            "Epoch 5 Batch 300 Loss 0.8936\n",
            "Epoch 5 Batch 400 Loss 0.9873\n",
            "Epoch 5 Loss 0.9203\n",
            "Time taken for 1 epoch 155.71992874145508 sec\n",
            "\n",
            "Epoch 6 Batch 0 Loss 0.9420\n",
            "Epoch 6 Batch 100 Loss 0.8989\n",
            "Epoch 6 Batch 200 Loss 0.7293\n",
            "Epoch 6 Batch 300 Loss 0.8089\n",
            "Epoch 6 Batch 400 Loss 0.9111\n",
            "Epoch 6 Loss 0.8848\n",
            "Time taken for 1 epoch 157.06845474243164 sec\n",
            "\n",
            "Epoch 7 Batch 0 Loss 0.8300\n",
            "Epoch 7 Batch 100 Loss 0.8012\n",
            "Epoch 7 Batch 200 Loss 0.8844\n",
            "Epoch 7 Batch 300 Loss 0.8029\n",
            "Epoch 7 Batch 400 Loss 0.9143\n",
            "Epoch 7 Loss 0.8574\n",
            "Time taken for 1 epoch 156.99375939369202 sec\n",
            "\n",
            "Epoch 8 Batch 0 Loss 0.8175\n",
            "Epoch 8 Batch 100 Loss 0.8100\n",
            "Epoch 8 Batch 200 Loss 0.7458\n",
            "Epoch 8 Batch 300 Loss 0.8109\n",
            "Epoch 8 Batch 400 Loss 0.8851\n",
            "Epoch 8 Loss 0.8356\n",
            "Time taken for 1 epoch 159.17632055282593 sec\n",
            "\n",
            "Epoch 9 Batch 0 Loss 0.8453\n",
            "Epoch 9 Batch 100 Loss 0.8435\n",
            "Epoch 9 Batch 200 Loss 0.7454\n",
            "Epoch 9 Batch 300 Loss 0.9265\n",
            "Epoch 9 Batch 400 Loss 0.8038\n",
            "Epoch 9 Loss 0.8176\n",
            "Time taken for 1 epoch 157.93453001976013 sec\n",
            "\n",
            "Epoch 10 Batch 0 Loss 0.7767\n",
            "Epoch 10 Batch 100 Loss 0.7473\n",
            "Epoch 10 Batch 200 Loss 0.7602\n",
            "Epoch 10 Batch 300 Loss 0.8505\n",
            "Epoch 10 Batch 400 Loss 0.7664\n",
            "Epoch 10 Loss 0.8019\n",
            "Time taken for 1 epoch 159.19420766830444 sec\n",
            "\n"
          ],
          "name": "stdout"
        }
      ]
    },
    {
      "cell_type": "code",
      "metadata": {
        "id": "eqCEMpma7s-X",
        "colab_type": "code",
        "colab": {}
      },
      "source": [
        "def evaluate(sentence):\n",
        "  attention_plot = np.zeros((max_length_targ, max_length_inp))\n",
        "\n",
        "  sentence = preprocess_sentence(sentence)\n",
        "\n",
        "  # if input word not in input vocab, output random input word\n",
        "  inputs = [inp_lang.word_index[i] if i in inp_lang.word_index else np.random.randint(low=0, high=len(inp_lang.word_index), size=1) for i in sentence.split(' ')]\n",
        "  inputs = tf.keras.preprocessing.sequence.pad_sequences([inputs],\n",
        "                                                         maxlen=max_length_inp,\n",
        "                                                         padding='post')\n",
        "  inputs = tf.convert_to_tensor(inputs)\n",
        "\n",
        "  result = ''\n",
        "\n",
        "  hidden = [tf.zeros((1, units))]\n",
        "  enc_out, enc_hidden = encoder(inputs, hidden)\n",
        "\n",
        "  dec_hidden = enc_hidden\n",
        "  dec_input = tf.expand_dims([targ_lang.word_index['<start>']], 0)\n",
        "\n",
        "  for t in range(max_length_targ):\n",
        "    predictions, dec_hidden, attention_weights = decoder(dec_input,\n",
        "                                                         dec_hidden,\n",
        "                                                         enc_out)\n",
        "\n",
        "    # storing the attention weights to plot later on\n",
        "    attention_weights = tf.reshape(attention_weights, (-1, ))\n",
        "    attention_plot[t] = attention_weights.numpy()\n",
        "\n",
        "    predicted_id = tf.argmax(predictions[0]).numpy()\n",
        "\n",
        "    result += targ_lang.index_word[predicted_id] + ' '\n",
        "\n",
        "    if targ_lang.index_word[predicted_id] == '<end>':\n",
        "      return result, sentence, attention_plot\n",
        "\n",
        "    # the predicted ID is fed back into the model\n",
        "    dec_input = tf.expand_dims([predicted_id], 0)\n",
        "\n",
        "  return result, sentence, attention_plot"
      ],
      "execution_count": 0,
      "outputs": []
    },
    {
      "cell_type": "code",
      "metadata": {
        "id": "sz6_ol99J-6T",
        "colab_type": "code",
        "colab": {}
      },
      "source": [
        "# function for plotting the attention weights\n",
        "def plot_attention(attention, sentence, predicted_sentence):\n",
        "  fig = plt.figure(figsize=(10,10))\n",
        "  ax = fig.add_subplot(1, 1, 1)\n",
        "  ax.matshow(attention, cmap='viridis')\n",
        "\n",
        "  fontdict = {'fontsize': 14}\n",
        "\n",
        "  ax.set_xticklabels([''] + sentence, fontdict=fontdict, rotation=90)\n",
        "  ax.set_yticklabels([''] + predicted_sentence, fontdict=fontdict)\n",
        "\n",
        "  ax.xaxis.set_major_locator(ticker.MultipleLocator(1))\n",
        "  ax.yaxis.set_major_locator(ticker.MultipleLocator(1))\n",
        "\n",
        "  plt.show()"
      ],
      "execution_count": 0,
      "outputs": []
    },
    {
      "cell_type": "code",
      "metadata": {
        "id": "560kroWtKCOn",
        "colab_type": "code",
        "colab": {}
      },
      "source": [
        "def translate(sentence):\n",
        "  result, sentence, attention_plot = evaluate(sentence)\n",
        "\n",
        "  print('Input: %s' % (sentence))\n",
        "  print('Predicted translation: {}'.format(result))\n",
        "  print(f\"length of the predicted translation : {len(result.split(' '))}\")\n",
        "\n",
        "  attention_plot = attention_plot[:len(result.split(' ')), :len(sentence.split(' '))]\n",
        "  plot_attention(attention_plot, sentence.split(' '), result.split(' '))"
      ],
      "execution_count": 0,
      "outputs": []
    },
    {
      "cell_type": "code",
      "metadata": {
        "id": "tECI2njjKEYN",
        "colab_type": "code",
        "outputId": "0feb9b40-61a2-4a8a-8554-509d12ffd33c",
        "colab": {
          "base_uri": "https://localhost:8080/",
          "height": 34
        }
      },
      "source": [
        "checkpoint.restore(tf.train.latest_checkpoint(checkpoint_dir))"
      ],
      "execution_count": 39,
      "outputs": [
        {
          "output_type": "execute_result",
          "data": {
            "text/plain": [
              "<tensorflow.python.training.tracking.util.CheckpointLoadStatus at 0x7f4e16971278>"
            ]
          },
          "metadata": {
            "tags": []
          },
          "execution_count": 39
        }
      ]
    },
    {
      "cell_type": "code",
      "metadata": {
        "id": "emW9iIawKJpp",
        "colab_type": "code",
        "outputId": "a6b53202-4fa1-481b-ec35-99ec23e00f47",
        "colab": {
          "base_uri": "https://localhost:8080/",
          "height": 1000
        }
      },
      "source": [
        "# last sentence of validation\n",
        "print (\"Input Language; index to word mapping\")\n",
        "convert(inp_lang, input_tensor_val[-1])\n",
        "print ()\n",
        "print (\"Target Language; index to word mapping\")\n",
        "convert(targ_lang, target_tensor_val[-1])"
      ],
      "execution_count": 40,
      "outputs": [
        {
          "output_type": "stream",
          "text": [
            "Input Language; index to word mapping\n",
            "2 ----> <start>\n",
            "71 ----> europe\n",
            "9 ----> is\n",
            "30 ----> at\n",
            "8 ----> a\n",
            "6938 ----> crossroads\n",
            "100 ----> just\n",
            "24 ----> as\n",
            "12 ----> it\n",
            "35 ----> was\n",
            "168 ----> after\n",
            "1 ----> the\n",
            "307 ----> second\n",
            "108 ----> world\n",
            "351 ----> war\n",
            "28 ----> which\n",
            "2874 ----> resulted\n",
            "7 ----> in\n",
            "1 ----> the\n",
            "1629 ----> birth\n",
            "4 ----> of\n",
            "41 ----> what\n",
            "35 ----> was\n",
            "19 ----> not\n",
            "135 ----> then\n",
            "846 ----> known\n",
            "24 ----> as\n",
            "1 ----> the\n",
            "31 ----> european\n",
            "66 ----> union\n",
            "3 ----> <end>\n",
            "\n",
            "Target Language; index to word mapping\n",
            "2 ----> <start>\n",
            "7 ----> l\n",
            "83 ----> europe\n",
            "45 ----> se\n",
            "473 ----> trouve\n",
            "11 ----> à\n",
            "369 ----> moment\n",
            "3732 ----> décisif\n",
            "4 ----> de\n",
            "69 ----> son\n",
            "520 ----> histoire\n",
            "5 ----> ,\n",
            "57 ----> tout\n",
            "56 ----> comme\n",
            "50 ----> elle\n",
            "7 ----> l\n",
            "93 ----> était\n",
            "11 ----> à\n",
            "6 ----> la\n",
            "311 ----> fin\n",
            "4 ----> de\n",
            "6 ----> la\n",
            "1494 ----> seconde\n",
            "363 ----> guerre\n",
            "355 ----> mondiale\n",
            "5 ----> ,\n",
            "510 ----> lorsqu\n",
            "16 ----> est\n",
            "4527 ----> née\n",
            "7 ----> l\n",
            "2150 ----> association\n",
            "3436 ----> connue\n",
            "99 ----> aujourd\n",
            "100 ----> hui\n",
            "222 ----> sous\n",
            "8 ----> le\n",
            "305 ----> nom\n",
            "14 ----> d\n",
            "65 ----> union\n",
            "61 ----> européenne\n",
            "1 ----> .\n",
            "3 ----> <end>\n"
          ],
          "name": "stdout"
        }
      ]
    },
    {
      "cell_type": "code",
      "metadata": {
        "id": "T63OaST7KsS0",
        "colab_type": "code",
        "outputId": "38686756-bf46-4f07-dba3-018cab2ca897",
        "colab": {
          "base_uri": "https://localhost:8080/",
          "height": 268
        }
      },
      "source": [
        "# trying to predict last sentence of validation set\n",
        "translate(f\"europe is at a crossroad just as it was after the second world war which resulted in the birth of what was not then known as the european union\")"
      ],
      "execution_count": 54,
      "outputs": [
        {
          "output_type": "stream",
          "text": [
            "Input: <start> europe is at a crossroad just as it was after the second world war which resulted in the birth of what was not then known as the european union <end>\n",
            "Predicted translation: l union européenne . <end> \n",
            "length of the predicted translation : 6\n"
          ],
          "name": "stdout"
        },
        {
          "output_type": "display_data",
          "data": {
            "image/png": "[encoded data removed]",
            "text/plain": [
              "<Figure size 720x720 with 1 Axes>"
            ]
          },
          "metadata": {
            "tags": []
          }
        }
      ]
    },
    {
      "cell_type": "code",
      "metadata": {
        "id": "72qlVD1fOR_0",
        "colab_type": "code",
        "outputId": "6679ca06-746a-4dff-a36d-507aabb7bb71",
        "colab": {
          "base_uri": "https://localhost:8080/",
          "height": 629
        }
      },
      "source": [
        "# predicting another sentence of validation set\n",
        "print (\"Input Language; index to word mapping\")\n",
        "convert(inp_lang, input_tensor_val[3])\n",
        "print ()\n",
        "print (\"Target Language; index to word mapping\")\n",
        "convert(targ_lang, target_tensor_val[3])"
      ],
      "execution_count": 42,
      "outputs": [
        {
          "output_type": "stream",
          "text": [
            "Input Language; index to word mapping\n",
            "2 ----> <start>\n",
            "11 ----> i\n",
            "188 ----> m\n",
            "19 ----> not\n",
            "1 ----> the\n",
            "80 ----> only\n",
            "52 ----> one\n",
            "77 ----> who\n",
            "21 ----> s\n",
            "3789 ----> obsessed\n",
            "23 ----> with\n",
            "14 ----> this\n",
            "275 ----> whole\n",
            "159 ----> year\n",
            "306 ----> thing\n",
            "3 ----> <end>\n",
            "\n",
            "Target Language; index to word mapping\n",
            "2 ----> <start>\n",
            "23 ----> je\n",
            "29 ----> ne\n",
            "95 ----> suis\n",
            "28 ----> pas\n",
            "6 ----> la\n",
            "334 ----> seule\n",
            "11 ----> à\n",
            "42 ----> être\n",
            "15078 ----> obsédée\n",
            "33 ----> par\n",
            "37 ----> cette\n",
            "755 ----> affaire\n",
            "12 ----> des\n",
            "165 ----> ans\n",
            "1 ----> .\n",
            "3 ----> <end>\n"
          ],
          "name": "stdout"
        }
      ]
    },
    {
      "cell_type": "code",
      "metadata": {
        "id": "gl_7oMhUbxSp",
        "colab_type": "code",
        "colab": {
          "base_uri": "https://localhost:8080/",
          "height": 724
        },
        "outputId": "d6d920db-808f-4dbb-cd2d-78bbbf5dbcad"
      },
      "source": [
        "# Here we see some not so good behavior of the model, the lenght of the predicted translation is 114 because its max lenght is 113 and the model adds a space afterwards\n",
        "translate(f\"i'm not the only one who's obsessed with this whole year thing\")"
      ],
      "execution_count": 55,
      "outputs": [
        {
          "output_type": "stream",
          "text": [
            "Input: <start> i m not the only one who s obsessed with this whole year thing <end>\n",
            "Predicted translation: je voudrais dire que nous avons pas de la commission , mais je voudrais dire que nous avons pas de la commission , mais je voudrais dire que nous avons pas de la commission , mais je voudrais dire que nous avons pas de la commission , mais je voudrais dire que nous avons pas de la commission , mais je voudrais dire que nous avons pas de la commission , mais je voudrais dire que nous avons pas de la commission , mais je voudrais dire que nous avons pas de la commission , mais je voudrais dire que nous avons pas de la commission , mais je voudrais dire que nous \n",
            "length of the predicted translation : 114\n"
          ],
          "name": "stdout"
        },
        {
          "output_type": "display_data",
          "data": {
            "image/png": "[encoded data removed]",
            "text/plain": [
              "<Figure size 720x720 with 1 Axes>"
            ]
          },
          "metadata": {
            "tags": []
          }
        }
      ]
    },
    {
      "cell_type": "code",
      "metadata": {
        "id": "-KcIheS9OXu6",
        "colab_type": "code",
        "outputId": "174d4548-5439-4f32-f889-fb8545fa62da",
        "colab": {
          "base_uri": "https://localhost:8080/",
          "height": 221
        }
      },
      "source": [
        "print (\"Input Language; index to word mapping\")\n",
        "convert(inp_lang, input_tensor_val[1])"
      ],
      "execution_count": 44,
      "outputs": [
        {
          "output_type": "stream",
          "text": [
            "Input Language; index to word mapping\n",
            "2 ----> <start>\n",
            "25 ----> will\n",
            "63 ----> he\n",
            "1949 ----> pass\n",
            "1 ----> the\n",
            "3402 ----> examination\n",
            "11 ----> i\n",
            "102 ----> am\n",
            "1220 ----> afraid\n",
            "19 ----> not\n",
            "3 ----> <end>\n"
          ],
          "name": "stdout"
        }
      ]
    },
    {
      "cell_type": "code",
      "metadata": {
        "id": "RzI9rNvd2vgo",
        "colab_type": "code",
        "outputId": "224c8a53-fbfa-470d-f232-bf064f91efc6",
        "colab": {
          "base_uri": "https://localhost:8080/",
          "height": 723
        }
      },
      "source": [
        "translate(f\"will he pass the examination i am afraid not\")"
      ],
      "execution_count": 56,
      "outputs": [
        {
          "output_type": "stream",
          "text": [
            "Input: <start> will he pass the examination i am afraid not <end>\n",
            "Predicted translation: il est pas de la commission , et les états membres . <end> \n",
            "length of the predicted translation : 14\n"
          ],
          "name": "stdout"
        },
        {
          "output_type": "display_data",
          "data": {
            "image/png": "[encoded data removed]",
            "text/plain": [
              "<Figure size 720x720 with 1 Axes>"
            ]
          },
          "metadata": {
            "tags": []
          }
        }
      ]
    },
    {
      "cell_type": "markdown",
      "metadata": {
        "id": "QzNBPtbDY_Sq",
        "colab_type": "text"
      },
      "source": [
        "## Model 2 (with pre-trained word2vec embedings)"
      ]
    },
    {
      "cell_type": "markdown",
      "metadata": {
        "id": "INcNRt0vo8f0",
        "colab_type": "text"
      },
      "source": [
        "Please refer to the word_embeddings.ipynb for the code. Note that two word2vec models were trained. One where each sentence doesn't have a \\<start> and \\<end> tag and one where each sentence does. Qualitatively, we see that the word2vec model with the tags performs better than the one without."
      ]
    },
    {
      "cell_type": "code",
      "metadata": {
        "id": "uVX9i0lgLAEA",
        "colab_type": "code",
        "colab": {
          "base_uri": "https://localhost:8080/",
          "height": 71
        },
        "outputId": "23db7635-173b-4568-c2f8-156782f8e41e"
      },
      "source": [
        "# loading word2vec embeddings\n",
        "from gensim.models import KeyedVectors\n",
        "# model without tag\n",
        "w2v = KeyedVectors.load('data/wordvectors')\n",
        "# model with tag\n",
        "w2v_wtag = KeyedVectors.load('data/wordvectors_wtag')"
      ],
      "execution_count": 87,
      "outputs": [
        {
          "output_type": "stream",
          "text": [
            "/usr/local/lib/python3.6/dist-packages/smart_open/smart_open_lib.py:410: UserWarning: This function is deprecated, use smart_open.open instead. See the migration notes for details: https://github.com/RaRe-Technologies/smart_open/blob/master/README.rst#migrating-to-the-new-open-function\n",
            "  'See the migration notes for details: %s' % _MIGRATION_NOTES_URL\n"
          ],
          "name": "stderr"
        }
      ]
    },
    {
      "cell_type": "code",
      "metadata": {
        "id": "dAvSmJURLVgH",
        "colab_type": "code",
        "colab": {}
      },
      "source": [
        "# embedding matrix\n",
        "\n",
        "def create_embedding_matrix(inp_lang, embedding_dim, embedding_model):\n",
        "  print('Preparing embedding matrix')\n",
        "  oov = 0\n",
        "  oov_words = []\n",
        "  vocab_size = len(inp_lang.word_index) + 1\n",
        "  word_index = inp_lang.word_index\n",
        "  embedding_matrix = np.zeros((vocab_size, embedding_dim))\n",
        "  for word, i in word_index.items():\n",
        "    if word not in embedding_model:\n",
        "      # we can investigate the oov words\n",
        "      oov_words.append(word)\n",
        "      oov += 1\n",
        "      # words not found in embedding_model will all be set to 0\n",
        "      embedding_vector = np.zeros((100,))\n",
        "    else:\n",
        "      embedding_vector = embedding_model.get_vector(word)\n",
        "    embedding_matrix[i] = embedding_vector\n",
        "  print(f\"Found {oov} out-of-vocabulary words (not present in the embedding model)\")\n",
        "  return embedding_matrix"
      ],
      "execution_count": 0,
      "outputs": []
    },
    {
      "cell_type": "code",
      "metadata": {
        "id": "vFcSJoMRY6Qo",
        "colab_type": "code",
        "colab": {
          "base_uri": "https://localhost:8080/",
          "height": 51
        },
        "outputId": "66664088-93a9-40c9-bcd4-ff976af79fd9"
      },
      "source": [
        "embedding_matrix = create_embedding_matrix(inp_lang, embedding_dim=100, embedding_model=w2v_wtag)"
      ],
      "execution_count": 68,
      "outputs": [
        {
          "output_type": "stream",
          "text": [
            "Preparing embedding matrix\n",
            "Found 433 out-of-vocabulary words (not present in the embedding model)\n"
          ],
          "name": "stdout"
        }
      ]
    },
    {
      "cell_type": "code",
      "metadata": {
        "id": "je0xEPwRY9r1",
        "colab_type": "code",
        "colab": {
          "base_uri": "https://localhost:8080/",
          "height": 34
        },
        "outputId": "6e6a9f00-9271-4433-ab74-994bb38570ff"
      },
      "source": [
        "print(np.shape(embedding_matrix))"
      ],
      "execution_count": 69,
      "outputs": [
        {
          "output_type": "stream",
          "text": [
            "(13240, 100)\n"
          ],
          "name": "stdout"
        }
      ]
    },
    {
      "cell_type": "code",
      "metadata": {
        "id": "sFrZwxZZC65T",
        "colab_type": "code",
        "colab": {}
      },
      "source": [
        "# Encoder with GRU gates and pre-trained embedding with word2vec\n",
        "class Encoder(tf.keras.Model):\n",
        "  def __init__(self, vocab_size, embedding_dim, enc_units, batch_sz, embedding_matrix):\n",
        "    super(Encoder, self).__init__()\n",
        "    self.batch_sz = batch_sz\n",
        "    self.enc_units = enc_units\n",
        "    # could modify the embeddings for pre-trained embeddings\n",
        "    self.embedding = tf.keras.layers.Embedding(input_dim=vocab_size, output_dim=embedding_dim, weights=[embedding_matrix], trainable=False)\n",
        "    self.gru = tf.keras.layers.GRU(self.enc_units,\n",
        "                                   return_sequences=True,\n",
        "                                   return_state=True,\n",
        "                                   recurrent_initializer='glorot_uniform')\n",
        "\n",
        "  def call(self, x, hidden):\n",
        "    x = self.embedding(x)\n",
        "    output, state = self.gru(x, initial_state = hidden)\n",
        "    return output, state\n",
        "\n",
        "  def initialize_hidden_state(self):\n",
        "    return tf.zeros((self.batch_sz, self.enc_units))"
      ],
      "execution_count": 0,
      "outputs": []
    },
    {
      "cell_type": "code",
      "metadata": {
        "id": "kQoSMsvREWBE",
        "colab_type": "code",
        "colab": {
          "base_uri": "https://localhost:8080/",
          "height": 51
        },
        "outputId": "ee8b65ca-f610-48b2-a31a-454654664a4a"
      },
      "source": [
        "# specify the embedding dim to be equal to the embedding dim chosen for word embeddings\n",
        "embedding_dim = 100\n",
        "encoder = Encoder(vocab_inp_size, embedding_dim, units, BATCH_SIZE, embedding_matrix)\n",
        "\n",
        "# sample input\n",
        "sample_hidden = encoder.initialize_hidden_state()\n",
        "sample_output, sample_hidden = encoder(example_input_batch, sample_hidden)\n",
        "print ('Encoder output shape: (batch size, sequence length, units) {}'.format(sample_output.shape))\n",
        "print ('Encoder Hidden state shape: (batch size, units) {}'.format(sample_hidden.shape))"
      ],
      "execution_count": 71,
      "outputs": [
        {
          "output_type": "stream",
          "text": [
            "Encoder output shape: (batch size, sequence length, units) (24, 94, 512)\n",
            "Encoder Hidden state shape: (batch size, units) (24, 512)\n"
          ],
          "name": "stdout"
        }
      ]
    },
    {
      "cell_type": "code",
      "metadata": {
        "id": "Hotv5Zf2E-e4",
        "colab_type": "code",
        "colab": {
          "base_uri": "https://localhost:8080/",
          "height": 51
        },
        "outputId": "1e6050a0-36d9-4e26-e046-9ce158599e28"
      },
      "source": [
        "attention_layer = BahdanauAttention(10)\n",
        "attention_result, attention_weights = attention_layer(sample_hidden, sample_output)\n",
        "\n",
        "print(\"Attention result shape: (batch size, units) {}\".format(attention_result.shape))\n",
        "print(\"Attention weights shape: (batch_size, sequence_length, 1) {}\".format(attention_weights.shape))"
      ],
      "execution_count": 72,
      "outputs": [
        {
          "output_type": "stream",
          "text": [
            "Attention result shape: (batch size, units) (24, 512)\n",
            "Attention weights shape: (batch_size, sequence_length, 1) (24, 94, 1)\n"
          ],
          "name": "stdout"
        }
      ]
    },
    {
      "cell_type": "code",
      "metadata": {
        "id": "WDy5m9utHn7i",
        "colab_type": "code",
        "colab": {
          "base_uri": "https://localhost:8080/",
          "height": 34
        },
        "outputId": "37d2f9d9-ef27-45cd-fe3d-1c624fc563bc"
      },
      "source": [
        "decoder = Decoder(vocab_tar_size, embedding_dim, units, BATCH_SIZE)\n",
        "\n",
        "sample_decoder_output, _, _ = decoder(tf.random.uniform((BATCH_SIZE, 1)),\n",
        "                                      sample_hidden, sample_output)\n",
        "\n",
        "print ('Decoder output shape: (batch_size, vocab size) {}'.format(sample_decoder_output.shape))"
      ],
      "execution_count": 73,
      "outputs": [
        {
          "output_type": "stream",
          "text": [
            "Decoder output shape: (batch_size, vocab size) (24, 16781)\n"
          ],
          "name": "stdout"
        }
      ]
    },
    {
      "cell_type": "code",
      "metadata": {
        "id": "j8xzLjHNIPv6",
        "colab_type": "code",
        "colab": {}
      },
      "source": [
        "# Optimizer and loss function\n",
        "optimizer = tf.keras.optimizers.Adam()\n",
        "loss_object = tf.keras.losses.SparseCategoricalCrossentropy(\n",
        "    from_logits=True, reduction='none')"
      ],
      "execution_count": 0,
      "outputs": []
    },
    {
      "cell_type": "code",
      "metadata": {
        "id": "Ny-Nere0IWRc",
        "colab_type": "code",
        "colab": {}
      },
      "source": [
        "# checkpoints do not want to override previous model\n",
        "checkpoint_dir_w2v_wtg = './training_checkpoints_word2vec_wtg'\n",
        "checkpoint_prefix = os.path.join(checkpoint_dir_w2v_wtg, \"ckpt\")\n",
        "checkpoint = tf.train.Checkpoint(optimizer=optimizer,\n",
        "                                 encoder=encoder,\n",
        "                                 decoder=decoder)"
      ],
      "execution_count": 0,
      "outputs": []
    },
    {
      "cell_type": "code",
      "metadata": {
        "id": "f6wVw0dRIhMj",
        "colab_type": "code",
        "colab": {
          "base_uri": "https://localhost:8080/",
          "height": 1000
        },
        "outputId": "1438660a-4951-4b1b-b490-2e0c0406e564"
      },
      "source": [
        "EPOCHS = 10\n",
        "\n",
        "for epoch in range(EPOCHS):\n",
        "  start = time.time()\n",
        "\n",
        "  enc_hidden = encoder.initialize_hidden_state()\n",
        "  total_loss = 0\n",
        "\n",
        "  for (batch, (inp, targ)) in enumerate(dataset.take(steps_per_epoch)):\n",
        "    batch_loss = train_step(inp, targ, enc_hidden)\n",
        "    total_loss += batch_loss\n",
        "\n",
        "    if batch % 100 == 0:\n",
        "      print('Epoch {} Batch {} Loss {:.4f}'.format(epoch + 1,\n",
        "                                                   batch,\n",
        "                                                   batch_loss.numpy()))\n",
        "  # saving (checkpoint) the model every 2 epochs\n",
        "  if (epoch + 1) % 2 == 0:\n",
        "    checkpoint.save(file_prefix = checkpoint_prefix)\n",
        "\n",
        "  print('Epoch {} Loss {:.4f}'.format(epoch + 1,\n",
        "                                      total_loss / steps_per_epoch))\n",
        "  print('Time taken for 1 epoch {} sec\\n'.format(time.time() - start))"
      ],
      "execution_count": 77,
      "outputs": [
        {
          "output_type": "stream",
          "text": [
            "Epoch 1 Batch 0 Loss 2.1810\n",
            "Epoch 1 Batch 100 Loss 1.2537\n",
            "Epoch 1 Batch 200 Loss 1.3468\n",
            "Epoch 1 Batch 300 Loss 1.4124\n",
            "Epoch 1 Batch 400 Loss 1.4910\n",
            "Epoch 1 Loss 1.3270\n",
            "Time taken for 1 epoch 258.39566230773926 sec\n",
            "\n",
            "Epoch 2 Batch 0 Loss 1.1281\n",
            "Epoch 2 Batch 100 Loss 1.4790\n",
            "Epoch 2 Batch 200 Loss 1.1024\n",
            "Epoch 2 Batch 300 Loss 1.1577\n",
            "Epoch 2 Batch 400 Loss 1.3879\n",
            "Epoch 2 Loss 1.1795\n",
            "Time taken for 1 epoch 142.83874344825745 sec\n",
            "\n",
            "Epoch 3 Batch 0 Loss 1.2853\n",
            "Epoch 3 Batch 100 Loss 1.2729\n",
            "Epoch 3 Batch 200 Loss 1.0316\n",
            "Epoch 3 Batch 300 Loss 1.2767\n",
            "Epoch 3 Batch 400 Loss 1.0187\n",
            "Epoch 3 Loss 1.0952\n",
            "Time taken for 1 epoch 142.24177050590515 sec\n",
            "\n",
            "Epoch 4 Batch 0 Loss 0.9993\n",
            "Epoch 4 Batch 100 Loss 0.9069\n",
            "Epoch 4 Batch 200 Loss 1.3801\n",
            "Epoch 4 Batch 300 Loss 0.8809\n",
            "Epoch 4 Batch 400 Loss 1.1138\n",
            "Epoch 4 Loss 1.0203\n",
            "Time taken for 1 epoch 142.94934105873108 sec\n",
            "\n",
            "Epoch 5 Batch 0 Loss 1.0909\n",
            "Epoch 5 Batch 100 Loss 1.0787\n",
            "Epoch 5 Batch 200 Loss 0.9271\n",
            "Epoch 5 Batch 300 Loss 1.1905\n",
            "Epoch 5 Batch 400 Loss 1.1489\n",
            "Epoch 5 Loss 0.9541\n",
            "Time taken for 1 epoch 142.65844416618347 sec\n",
            "\n",
            "Epoch 6 Batch 0 Loss 0.9626\n",
            "Epoch 6 Batch 100 Loss 0.9693\n",
            "Epoch 6 Batch 200 Loss 0.7455\n",
            "Epoch 6 Batch 300 Loss 1.0444\n",
            "Epoch 6 Batch 400 Loss 0.8415\n",
            "Epoch 6 Loss 0.8989\n",
            "Time taken for 1 epoch 143.41662073135376 sec\n",
            "\n",
            "Epoch 7 Batch 0 Loss 0.8905\n",
            "Epoch 7 Batch 100 Loss 0.7732\n",
            "Epoch 7 Batch 200 Loss 0.9016\n",
            "Epoch 7 Batch 300 Loss 0.9261\n",
            "Epoch 7 Batch 400 Loss 0.8314\n",
            "Epoch 7 Loss 0.8412\n",
            "Time taken for 1 epoch 142.62339663505554 sec\n",
            "\n",
            "Epoch 8 Batch 0 Loss 0.6873\n",
            "Epoch 8 Batch 100 Loss 0.7389\n",
            "Epoch 8 Batch 200 Loss 0.9667\n",
            "Epoch 8 Batch 300 Loss 0.9370\n",
            "Epoch 8 Batch 400 Loss 0.7275\n",
            "Epoch 8 Loss 0.7904\n",
            "Time taken for 1 epoch 143.37556147575378 sec\n",
            "\n",
            "Epoch 9 Batch 0 Loss 0.7243\n",
            "Epoch 9 Batch 100 Loss 0.7746\n",
            "Epoch 9 Batch 200 Loss 0.5858\n",
            "Epoch 9 Batch 300 Loss 0.7615\n",
            "Epoch 9 Batch 400 Loss 0.7875\n",
            "Epoch 9 Loss 0.7415\n",
            "Time taken for 1 epoch 142.76509189605713 sec\n",
            "\n",
            "Epoch 10 Batch 0 Loss 0.6882\n",
            "Epoch 10 Batch 100 Loss 0.6400\n",
            "Epoch 10 Batch 200 Loss 0.5815\n",
            "Epoch 10 Batch 300 Loss 0.6354\n",
            "Epoch 10 Batch 400 Loss 0.6187\n",
            "Epoch 10 Loss 0.6946\n",
            "Time taken for 1 epoch 143.1616780757904 sec\n",
            "\n"
          ],
          "name": "stdout"
        }
      ]
    },
    {
      "cell_type": "markdown",
      "metadata": {
        "id": "achz2Tifp5Xi",
        "colab_type": "text"
      },
      "source": [
        "Here we load the trained GRU with attention with pre-trained embeddings with start and end tag."
      ]
    },
    {
      "cell_type": "code",
      "metadata": {
        "id": "ik59K6dCIyC_",
        "colab_type": "code",
        "colab": {
          "base_uri": "https://localhost:8080/",
          "height": 34
        },
        "outputId": "0653c2d3-36e6-44d2-bce5-d6e216c91a32"
      },
      "source": [
        "checkpoint.restore(tf.train.latest_checkpoint(checkpoint_dir_w2v_wtg))"
      ],
      "execution_count": 83,
      "outputs": [
        {
          "output_type": "execute_result",
          "data": {
            "text/plain": [
              "<tensorflow.python.training.tracking.util.CheckpointLoadStatus at 0x7f4ddad80d30>"
            ]
          },
          "metadata": {
            "tags": []
          },
          "execution_count": 83
        }
      ]
    },
    {
      "cell_type": "code",
      "metadata": {
        "id": "7OxySJsJPqoA",
        "colab_type": "code",
        "colab": {
          "base_uri": "https://localhost:8080/",
          "height": 376
        },
        "outputId": "fdf3f59e-b2ca-4c2c-fe51-8f5b94741f90"
      },
      "source": [
        "# trying to predict first sentence of validation set with word2vec_wtg model\n",
        "translate(f\"europe is at a crossroad just as it was after the second world war which resulted in the birth of what was not then known as the european union\")"
      ],
      "execution_count": 84,
      "outputs": [
        {
          "output_type": "stream",
          "text": [
            "Input: <start> europe is at a crossroad just as it was after the second world war which resulted in the birth of what was not then known as the european union <end>\n",
            "Predicted translation: l europe est en un peu de la région . <end> \n",
            "length of the predicted translation : 12\n"
          ],
          "name": "stdout"
        },
        {
          "output_type": "display_data",
          "data": {
            "image/png": "[encoded data removed]",
            "text/plain": [
              "<Figure size 720x720 with 1 Axes>"
            ]
          },
          "metadata": {
            "tags": []
          }
        }
      ]
    },
    {
      "cell_type": "markdown",
      "metadata": {
        "id": "5blz7VGqqyiI",
        "colab_type": "text"
      },
      "source": [
        "We can see that the model with pre-trained embeddings with tags if better than the model without pre-trained embeddings (refer to the plot with predicted length of 114)"
      ]
    },
    {
      "cell_type": "code",
      "metadata": {
        "id": "gSVaZ18unwaV",
        "colab_type": "code",
        "colab": {
          "base_uri": "https://localhost:8080/",
          "height": 702
        },
        "outputId": "55390278-6685-4a03-ecc2-12c94c22d26c"
      },
      "source": [
        "translate(f\"i'm not the only one who's obsessed with this whole year thing\")"
      ],
      "execution_count": 85,
      "outputs": [
        {
          "output_type": "stream",
          "text": [
            "Input: <start> i m not the only one who s obsessed with this whole year thing <end>\n",
            "Predicted translation: je n ai pas le monde , qui a été de cette année . <end> \n",
            "length of the predicted translation : 16\n"
          ],
          "name": "stdout"
        },
        {
          "output_type": "display_data",
          "data": {
            "image/png": "[encoded data removed]",
            "text/plain": [
              "<Figure size 720x720 with 1 Axes>"
            ]
          },
          "metadata": {
            "tags": []
          }
        }
      ]
    },
    {
      "cell_type": "code",
      "metadata": {
        "id": "vjJXYxYjoayr",
        "colab_type": "code",
        "colab": {
          "base_uri": "https://localhost:8080/",
          "height": 723
        },
        "outputId": "de82ac8d-6e2f-4238-b95f-1203e4dac6f8"
      },
      "source": [
        "translate(f\"will he pass the examination i am afraid not\")"
      ],
      "execution_count": 86,
      "outputs": [
        {
          "output_type": "stream",
          "text": [
            "Input: <start> will he pass the examination i am afraid not <end>\n",
            "Predicted translation: doit elle t il va dire à la table des potins , je ne suis pas . <end> \n",
            "length of the predicted translation : 19\n"
          ],
          "name": "stdout"
        },
        {
          "output_type": "display_data",
          "data": {
            "image/png": "[encoded data removed]",
            "text/plain": [
              "<Figure size 720x720 with 1 Axes>"
            ]
          },
          "metadata": {
            "tags": []
          }
        }
      ]
    },
    {
      "cell_type": "markdown",
      "metadata": {
        "id": "p9A1aDLmqZjM",
        "colab_type": "text"
      },
      "source": [
        "Here we load the previously trained GRU with attention with pre-trained embeddings without start and end tag."
      ]
    },
    {
      "cell_type": "code",
      "metadata": {
        "id": "CLRBsWgMmWpq",
        "colab_type": "code",
        "colab": {
          "base_uri": "https://localhost:8080/",
          "height": 34
        },
        "outputId": "5eb7167b-086a-4483-9645-173bd7fcef50"
      },
      "source": [
        "# compared to predicting first sentence of validation set with word2vec model (without <start> and <end> for each sentence)\n",
        "\n",
        "# checkpoints\n",
        "checkpoint_dir_w2v = './training_checkpoints_word2vec'\n",
        "checkpoint_prefix = os.path.join(checkpoint_dir, \"ckpt\")\n",
        "checkpoint = tf.train.Checkpoint(optimizer=optimizer,\n",
        "                                 encoder=encoder,\n",
        "                                 decoder=decoder)\n",
        "\n",
        "checkpoint.restore(tf.train.latest_checkpoint(checkpoint_dir_w2v))"
      ],
      "execution_count": 89,
      "outputs": [
        {
          "output_type": "execute_result",
          "data": {
            "text/plain": [
              "<tensorflow.python.training.tracking.util.CheckpointLoadStatus at 0x7f4ddac52128>"
            ]
          },
          "metadata": {
            "tags": []
          },
          "execution_count": 89
        }
      ]
    },
    {
      "cell_type": "code",
      "metadata": {
        "id": "4MQ8PYttmhME",
        "colab_type": "code",
        "colab": {
          "base_uri": "https://localhost:8080/",
          "height": 726
        },
        "outputId": "e0edd11c-ae9d-4119-f33a-97e19a2716fb"
      },
      "source": [
        "translate(f\"europe is at a crossroad just as it was after the second world war which resulted in the birth of what was not then known as the european union\")"
      ],
      "execution_count": 90,
      "outputs": [
        {
          "output_type": "stream",
          "text": [
            "Input: <start> europe is at a crossroad just as it was after the second world war which resulted in the birth of what was not then known as the european union <end>\n",
            "Predicted translation: urss consultatif attaque urss consultatif attaque urss consultatif attaque urss consultatif attaque urss consultatif attaque urss consultatif attaque urss consultatif attaque urss consultatif attaque urss consultatif attaque urss consultatif attaque urss consultatif attaque urss consultatif attaque urss consultatif attaque urss consultatif attaque urss consultatif attaque urss consultatif attaque urss consultatif attaque urss consultatif attaque urss consultatif attaque urss consultatif attaque urss consultatif attaque urss consultatif attaque urss consultatif attaque urss consultatif attaque urss consultatif attaque urss consultatif attaque urss consultatif attaque urss consultatif attaque urss consultatif attaque urss consultatif attaque urss consultatif attaque urss consultatif attaque urss consultatif attaque urss consultatif attaque urss consultatif attaque urss consultatif attaque urss consultatif attaque urss consultatif \n",
            "length of the predicted translation : 114\n"
          ],
          "name": "stdout"
        },
        {
          "output_type": "display_data",
          "data": {
            "image/png": "[encoded data removed]",
            "text/plain": [
              "<Figure size 720x720 with 1 Axes>"
            ]
          },
          "metadata": {
            "tags": []
          }
        }
      ]
    },
    {
      "cell_type": "markdown",
      "metadata": {
        "id": "rXQGvtmVrVZ7",
        "colab_type": "text"
      },
      "source": [
        "We can cleary see that there is some problem when we don't add the \\<start> and \\<end> tag. We can deduce that it comes from our evaluate function since it stops predicting words when the model predicts the end token. However, with this model it doesn't seem to predict it so the lenght of the predicted sentence is set to its maximum."
      ]
    },
    {
      "cell_type": "code",
      "metadata": {
        "id": "DAHilYCGrD01",
        "colab_type": "code",
        "colab": {
          "base_uri": "https://localhost:8080/",
          "height": 724
        },
        "outputId": "a5f4d5cc-8272-44ae-be87-8b51a3a96257"
      },
      "source": [
        "translate(f\"i'm not the only one who's obsessed with this whole year thing\")"
      ],
      "execution_count": 91,
      "outputs": [
        {
          "output_type": "stream",
          "text": [
            "Input: <start> i m not the only one who s obsessed with this whole year thing <end>\n",
            "Predicted translation: stag conception biens stag conception biens stag conception biens stag conception biens stag conception biens stag conception biens stag conception biens stag conception biens stag conception biens stag conception biens stag conception biens stag conception biens stag conception biens stag conception biens stag conception biens stag conception biens stag conception biens stag conception biens stag conception biens stag conception biens stag conception biens stag conception biens stag conception biens stag conception biens stag conception biens stag conception biens stag conception biens stag conception biens stag conception biens stag conception biens stag conception biens stag conception biens stag conception biens stag conception biens stag conception biens stag conception biens stag conception biens stag conception \n",
            "length of the predicted translation : 114\n"
          ],
          "name": "stdout"
        },
        {
          "output_type": "display_data",
          "data": {
            "image/png": "[encoded data removed]",
            "text/plain": [
              "<Figure size 720x720 with 1 Axes>"
            ]
          },
          "metadata": {
            "tags": []
          }
        }
      ]
    },
    {
      "cell_type": "code",
      "metadata": {
        "id": "sPUj_RdKrMHf",
        "colab_type": "code",
        "colab": {
          "base_uri": "https://localhost:8080/",
          "height": 746
        },
        "outputId": "ed8b93a1-95e7-4b54-c60e-8142c940989a"
      },
      "source": [
        "translate(f\"will he pass the examination i am afraid not\")"
      ],
      "execution_count": 92,
      "outputs": [
        {
          "output_type": "stream",
          "text": [
            "Input: <start> will he pass the examination i am afraid not <end>\n",
            "Predicted translation: gestionnaires détachés interagissons respectez allure demandez sortant parties existerais higgs publiée détachés interagissons respectez allure demandez sortant parties existerais higgs publiée détachés interagissons respectez allure demandez sortant parties existerais higgs publiée détachés interagissons respectez allure demandez sortant parties existerais higgs publiée détachés interagissons respectez allure demandez sortant parties existerais higgs publiée détachés interagissons respectez allure demandez sortant parties existerais higgs publiée détachés interagissons respectez allure demandez sortant parties existerais higgs publiée détachés interagissons respectez allure demandez sortant parties existerais higgs publiée détachés interagissons respectez allure demandez sortant parties existerais higgs publiée détachés interagissons respectez allure demandez sortant parties existerais higgs publiée détachés interagissons respectez allure demandez sortant parties existerais higgs publiée détachés interagissons \n",
            "length of the predicted translation : 114\n"
          ],
          "name": "stdout"
        },
        {
          "output_type": "display_data",
          "data": {
            "image/png": "[encoded data removed]",
            "text/plain": [
              "<Figure size 720x720 with 1 Axes>"
            ]
          },
          "metadata": {
            "tags": []
          }
        }
      ]
    },
    {
      "cell_type": "markdown",
      "metadata": {
        "id": "lBTBuqGksMds",
        "colab_type": "text"
      },
      "source": [
        "Overall the best model so far is the GRU with attention with the pre-trained word embeddings from the unaligned corpus with the added start and end token for each sentence. "
      ]
    }
  ]
}