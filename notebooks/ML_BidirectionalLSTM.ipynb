{
 "cells": [
  {
   "cell_type": "code",
   "execution_count": null,
   "metadata": {},
   "outputs": [],
   "source": [
    "!pip install --no-index --upgrade pip"
   ]
  },
  {
   "cell_type": "code",
   "execution_count": null,
   "metadata": {},
   "outputs": [],
   "source": [
    "!pip install --no-index tensorflow-gpu"
   ]
  },
  {
   "cell_type": "code",
   "execution_count": null,
   "metadata": {},
   "outputs": [],
   "source": [
    "!pip install --no-index matplotlib"
   ]
  },
  {
   "cell_type": "code",
   "execution_count": 1,
   "metadata": {
    "colab": {},
    "colab_type": "code",
    "id": "gvVhUeaRO_nA"
   },
   "outputs": [],
   "source": [
    "import tensorflow as tf\n",
    "#import tensorflow_addons as tfa\n",
    "#import tensorflow_datasets as tfds\n",
    "import os\n",
    "import matplotlib.pyplot as plt\n",
    "import io\n",
    "import unicodedata\n",
    "import re\n",
    "import gc\n",
    "from collections import Counter"
   ]
  },
  {
   "cell_type": "code",
   "execution_count": 2,
   "metadata": {
    "colab": {},
    "colab_type": "code",
    "id": "ys0Y7XsBO_nY"
   },
   "outputs": [],
   "source": [
    "physical_devices = tf.config.list_physical_devices('GPU')\n",
    "tf.config.experimental.set_memory_growth(physical_devices[0], enable=True)\n",
    "os.environ['TF_FORCE_GPU_ALLOW_GROWTH'] = 'true'"
   ]
  },
  {
   "cell_type": "code",
   "execution_count": 3,
   "metadata": {},
   "outputs": [],
   "source": [
    "from tensorflow.keras.models import Model\n",
    "from tensorflow.keras import layers\n",
    "import numpy as np\n",
    "from tensorflow.keras.preprocessing.sequence import pad_sequences"
   ]
  },
  {
   "cell_type": "markdown",
   "metadata": {
    "colab_type": "text",
    "id": "UYVG_U1HO_ne"
   },
   "source": [
    "## Preprocessing: Tokenize, clean-up, load, padding"
   ]
  },
  {
   "cell_type": "markdown",
   "metadata": {
    "colab_type": "text",
    "id": "5C4OBlaeO_nf"
   },
   "source": [
    "### Tokenize and clean up data"
   ]
  },
  {
   "cell_type": "code",
   "execution_count": 4,
   "metadata": {
    "colab": {},
    "colab_type": "code",
    "id": "gEI1uWtjO_nh"
   },
   "outputs": [],
   "source": [
    "# Lower case for the translation\n",
    "# Load original english text as is\n",
    "# install requirement.txt\n",
    "# python -m spacy download fr_core_news_sm\n",
    "# correction of tokenizer.py: add encoding='utf-8' to open method\n",
    "# same thing for punctuation_remover.py\n",
    "# python tokenizer.py --input train.lang2 --output tokenized --lang fr --keep-empty-lines\n",
    "# python punctuation_remover.py --input train.lang2.tok --output tokenized\n"
   ]
  },
  {
   "cell_type": "code",
   "execution_count": 5,
   "metadata": {},
   "outputs": [
    {
     "name": "stdout",
     "output_type": "stream",
     "text": [
      "2.1.0\n"
     ]
    }
   ],
   "source": [
    "print(tf.__version__)"
   ]
  },
  {
   "cell_type": "markdown",
   "metadata": {
    "colab_type": "text",
    "id": "CpNtsXsjO_nn"
   },
   "source": [
    "### Loading data "
   ]
  },
  {
   "cell_type": "code",
   "execution_count": 8,
   "metadata": {
    "colab": {},
    "colab_type": "code",
    "id": "y5nxMfzAO_no"
   },
   "outputs": [],
   "source": [
    "# Load data\n",
    "DIRECTORY_URL = \"data/train/\"\n",
    "FILE_NAMES = [\"train.lang1\",\"train.lang2\"]\n",
    "\n",
    "#en_data = tf.data.TextLineDataset(os.path.join(DIRECTORY_URL, FILE_NAMES[0]))\n",
    "#fr_data = tf.data.TextLineDataset(os.path.join(DIRECTORY_URL, FILE_NAMES[1]))"
   ]
  },
  {
   "cell_type": "code",
   "execution_count": 9,
   "metadata": {},
   "outputs": [],
   "source": [
    "decoder_input_text = []\n",
    "decoder_target_text = []\n",
    "\n",
    "with open(os.path.join(DIRECTORY_URL, FILE_NAMES[1]), 'r', encoding=\"UTF-8\") as fr_file:\n",
    "    for line in fr_file.readlines():\n",
    "        line = line.rstrip().split('\\n')\n",
    "\n",
    "        target_line = line[0]+\" <eos>\"\n",
    "        input_line = \"<bos> \"+line[0]\n",
    "\n",
    "        decoder_input_text.append(input_line)\n",
    "        decoder_target_text.append(target_line)\n",
    "    fr_file.close()"
   ]
  },
  {
   "cell_type": "code",
   "execution_count": 10,
   "metadata": {},
   "outputs": [
    {
     "data": {
      "text/plain": [
       "['<bos> L’ idée de concilier les différences religieuses semble donc dangereuse .',\n",
       " '<bos> Monsieur le Président , Mesdames et Messieurs , les perspectives financières esquissent la portée des activités de l’ UE pour les années à venir , fournissent un cadre pour ces activités et déterminent leur efficacité .',\n",
       " '<bos> La réticence doit laisser place à une politique stimulante .']"
      ]
     },
     "execution_count": 10,
     "metadata": {},
     "output_type": "execute_result"
    }
   ],
   "source": [
    "decoder_input_text[0:3]"
   ]
  },
  {
   "cell_type": "code",
   "execution_count": 11,
   "metadata": {},
   "outputs": [
    {
     "data": {
      "text/plain": [
       "['L’ idée de concilier les différences religieuses semble donc dangereuse . <eos>',\n",
       " 'Monsieur le Président , Mesdames et Messieurs , les perspectives financières esquissent la portée des activités de l’ UE pour les années à venir , fournissent un cadre pour ces activités et déterminent leur efficacité . <eos>',\n",
       " 'La réticence doit laisser place à une politique stimulante . <eos>']"
      ]
     },
     "execution_count": 11,
     "metadata": {},
     "output_type": "execute_result"
    }
   ],
   "source": [
    "decoder_target_text[0:3]"
   ]
  },
  {
   "cell_type": "code",
   "execution_count": 12,
   "metadata": {},
   "outputs": [],
   "source": [
    "encoder_input_text = []\n",
    "with open(os.path.join(DIRECTORY_URL, FILE_NAMES[0]), 'r', encoding=\"UTF-8\") as en_file:\n",
    "    for line in en_file.readlines():\n",
    "        line = line.rstrip().split('\\n')\n",
    "        encoder_input_text.append(line[0]+\" .\")\n",
    "    en_file.close()"
   ]
  },
  {
   "cell_type": "code",
   "execution_count": 13,
   "metadata": {},
   "outputs": [
    {
     "data": {
      "text/plain": [
       "['so too does the idea that accommodating religious differences is dangerous .',\n",
       " 'mr president ladies and gentlemen the financial perspective outlines the scope of the eu ’s activities over coming years as well as providing a framework for such activities and determining how effective they will be .',\n",
       " 'reserve should turn into thought - provoking policy .']"
      ]
     },
     "execution_count": 13,
     "metadata": {},
     "output_type": "execute_result"
    }
   ],
   "source": [
    "encoder_input_text[0:3]"
   ]
  },
  {
   "cell_type": "code",
   "execution_count": 14,
   "metadata": {},
   "outputs": [
    {
     "data": {
      "text/plain": [
       "(11000, 11000, 11000)"
      ]
     },
     "execution_count": 14,
     "metadata": {},
     "output_type": "execute_result"
    }
   ],
   "source": [
    "len(encoder_input_text), len(decoder_input_text), len(decoder_target_text)"
   ]
  },
  {
   "cell_type": "markdown",
   "metadata": {
    "colab_type": "text",
    "id": "8I2mb7eJO_oj"
   },
   "source": [
    "### Encoding"
   ]
  },
  {
   "cell_type": "code",
   "execution_count": 15,
   "metadata": {},
   "outputs": [
    {
     "name": "stdout",
     "output_type": "stream",
     "text": [
      "Total unique words in the input: 13538\n",
      "Length of longest sentence in input: 91\n"
     ]
    }
   ],
   "source": [
    "input_tokenizer = tf.keras.preprocessing.text.Tokenizer()\n",
    "input_tokenizer.fit_on_texts(encoder_input_text)\n",
    "input_integer_seq = input_tokenizer.texts_to_sequences(encoder_input_text)\n",
    "\n",
    "word2idx_inputs = input_tokenizer.word_index\n",
    "num_words_input = len(word2idx_inputs) + 1\n",
    "print('Total unique words in the input: %s' % num_words_input)\n",
    "\n",
    "\n",
    "max_input_len = max(len(sen) for sen in input_integer_seq)\n",
    "print(\"Length of longest sentence in input: %g\" % max_input_len)"
   ]
  },
  {
   "cell_type": "code",
   "execution_count": 16,
   "metadata": {},
   "outputs": [
    {
     "data": {
      "text/plain": [
       "[42, 155, 118, 1, 338, 8, 7411, 966, 1366, 7, 823]"
      ]
     },
     "execution_count": 16,
     "metadata": {},
     "output_type": "execute_result"
    }
   ],
   "source": [
    "input_integer_seq[0]"
   ]
  },
  {
   "cell_type": "code",
   "execution_count": 17,
   "metadata": {},
   "outputs": [
    {
     "data": {
      "text/plain": [
       "[11, 35, 7, 14, 24]"
      ]
     },
     "execution_count": 17,
     "metadata": {},
     "output_type": "execute_result"
    }
   ],
   "source": [
    "en_sen_len = [len(tok) for tok in input_integer_seq]\n",
    "en_sen_len[0:5]"
   ]
  },
  {
   "cell_type": "code",
   "execution_count": 18,
   "metadata": {},
   "outputs": [],
   "source": [
    "def cut_sentences(text, max_len):\n",
    "    short_sentences = []\n",
    "    i=0\n",
    "    for t in text:\n",
    "        print(t)\n",
    "        print(t[:max_len])\n",
    "        short_sentences.append(t[:max_len])\n",
    "        i+=1\n",
    "        if i==10: break\n",
    "            \n",
    "    return short_sentences      \n",
    "    "
   ]
  },
  {
   "cell_type": "code",
   "execution_count": 19,
   "metadata": {},
   "outputs": [
    {
     "name": "stdout",
     "output_type": "stream",
     "text": [
      "[42, 155, 118, 1, 338, 8, 7411, 966, 1366, 7, 823]\n",
      "[42, 155, 118, 1, 338, 8, 7411, 966, 1366, 7]\n",
      "[40, 48, 272, 4, 280, 1, 172, 967, 4377, 1, 1245, 2, 1, 84, 75, 617, 131, 561, 102, 21, 122, 21, 2001, 6, 257, 13, 94, 617, 4, 3231, 108, 562, 31, 22, 15]\n",
      "[40, 48, 272, 4, 280, 1, 172, 967, 4377, 1]\n",
      "[2352, 46, 640, 88, 582, 7412, 95]\n",
      "[2352, 46, 640, 88, 582, 7412, 95]\n",
      "[10, 7, 52, 2353, 2588, 8, 11, 30, 79, 2166, 190, 186, 4, 2354]\n",
      "[10, 7, 52, 2353, 2588, 8, 11, 30, 79, 2166]\n",
      "[1, 29, 64, 25, 3740, 2355, 406, 85, 60, 1000, 1528, 20, 318, 1719, 2356, 4, 3232, 2, 60, 1367, 16, 5447, 24, 691]\n",
      "[1, 29, 64, 25, 3740, 2355, 406, 85, 60, 1000]\n",
      "[7413, 61, 23, 1302, 68]\n",
      "[7413, 61, 23, 1302, 68]\n",
      "[27, 28, 1, 583, 1, 887, 180, 59, 99, 12, 57, 202, 7, 39, 11, 18, 14, 1, 1132, 1, 1303, 80, 4, 96, 80, 5, 446, 1846, 4, 7414, 26, 46, 2357, 5, 888]\n",
      "[27, 28, 1, 583, 1, 887, 180, 59, 99, 12]\n",
      "[119, 800, 2, 1, 1447, 2, 63, 3, 1036, 3, 410, 102]\n",
      "[119, 800, 2, 1, 1447, 2, 63, 3, 1036, 3]\n",
      "[6, 7415, 388, 3, 1, 1001, 3741, 24, 2589, 255, 7, 57, 90, 4, 46, 15, 4378, 20, 1, 159, 4379, 21, 2854, 255]\n",
      "[6, 7415, 388, 3, 1, 1001, 3741, 24, 2589, 255]\n",
      "[11, 46, 134, 18, 1, 2167, 3, 420, 327, 74, 848, 4, 594, 376, 20, 1, 603, 1847, 1, 1848, 214]\n",
      "[11, 46, 134, 18, 1, 2167, 3, 420, 327, 74]\n"
     ]
    }
   ],
   "source": [
    "short = cut_sentences(input_integer_seq, 10)"
   ]
  },
  {
   "cell_type": "code",
   "execution_count": 20,
   "metadata": {},
   "outputs": [
    {
     "name": "stdout",
     "output_type": "stream",
     "text": [
      "Total unique words in the output: 17364\n",
      "Length of longest sentence in the output: 113\n"
     ]
    }
   ],
   "source": [
    "output_tokenizer = tf.keras.preprocessing.text.Tokenizer(filters='')\n",
    "output_tokenizer.fit_on_texts(decoder_input_text + decoder_target_text)\n",
    "\n",
    "\n",
    "output_integer_seq       = output_tokenizer.texts_to_sequences(decoder_target_text)\n",
    "output_input_integer_seq = output_tokenizer.texts_to_sequences(decoder_input_text)\n",
    "\n",
    "word2idx_outputs = output_tokenizer.word_index\n",
    "num_words_output = len(word2idx_outputs) + 2\n",
    "print('Total unique words in the output: %s' % num_words_output)\n",
    "\n",
    "\n",
    "max_out_len = max(len(sen) for sen in output_integer_seq)\n",
    "print(\"Length of longest sentence in the output: %g\" % max_out_len)"
   ]
  },
  {
   "cell_type": "code",
   "execution_count": 21,
   "metadata": {},
   "outputs": [],
   "source": [
    "fr_sen_len = [len(tok) for tok in output_integer_seq]"
   ]
  },
  {
   "cell_type": "code",
   "execution_count": 22,
   "metadata": {},
   "outputs": [
    {
     "data": {
      "text/plain": [
       "array([[  1,   2,   3,   4,   5,   6,   7,   8,   9,  10,  11,  12,  13,\n",
       "         14,  15,  16,  17,  18,  19,  20,  21,  22,  23,  24,  25,  26,\n",
       "         27,  28,  29,  30,  31,  32,  33,  34,  35,  36,  37,  38,  39,\n",
       "         40,  41,  42,  43,  44,  45,  46,  47,  48,  49,  50,  51,  52,\n",
       "         54,  55,  56,  57,  58,  59,  60,  61,  62,  63,  67,  70,  71,\n",
       "         75,  77,  80,  86,  89,  91],\n",
       "       [  1,   1,   1,   1,   1,   1,   1,   1,   1,   1,   1,   1,   2,\n",
       "          2,   2,   2,   2,   2,   2,   2,   2,   2,   2,   3,   3,   3,\n",
       "          4,   4,   5,   7,   8,  11,  22,  61,  71,  80,  93, 101, 123,\n",
       "        143, 151, 177, 187, 204, 214, 221, 249, 273, 276, 297, 300, 305,\n",
       "        347, 349, 353, 361, 365, 375, 379, 380, 380, 385, 387, 391, 396,\n",
       "        398, 412, 422, 424, 425, 441]], dtype=int64)"
      ]
     },
     "execution_count": 22,
     "metadata": {},
     "output_type": "execute_result"
    }
   ],
   "source": [
    "np.sort(np.unique(np.array(en_sen_len), return_counts=True),axis=1)"
   ]
  },
  {
   "cell_type": "code",
   "execution_count": 23,
   "metadata": {},
   "outputs": [
    {
     "data": {
      "text/plain": [
       "array([[  3,   4,   5,   6,   7,   8,   9,  10,  11,  12,  13,  14,  15,\n",
       "         16,  17,  18,  19,  20,  21,  22,  23,  24,  25,  26,  27,  28,\n",
       "         29,  30,  31,  32,  33,  34,  35,  36,  37,  38,  39,  40,  41,\n",
       "         42,  43,  44,  45,  46,  47,  48,  49,  50,  51,  52,  53,  54,\n",
       "         55,  56,  57,  58,  59,  60,  61,  62,  64,  67,  68,  69,  71,\n",
       "         73,  75,  77,  79,  80,  81,  82,  83,  85,  86,  87,  95,  99,\n",
       "        103, 105, 112, 113],\n",
       "       [  1,   1,   1,   1,   1,   1,   1,   1,   1,   1,   1,   1,   1,\n",
       "          1,   1,   1,   1,   2,   2,   2,   2,   2,   2,   2,   3,   3,\n",
       "          4,   4,   4,   5,   5,   8,   8,   9,  14,  15,  21,  35,  54,\n",
       "         60,  60,  85, 107, 120, 131, 137, 140, 165, 168, 176, 183, 207,\n",
       "        216, 219, 247, 250, 259, 260, 267, 267, 269, 276, 290, 290, 293,\n",
       "        297, 302, 304, 307, 320, 323, 328, 332, 335, 335, 336, 343, 345,\n",
       "        346, 347, 358, 377]], dtype=int64)"
      ]
     },
     "execution_count": 23,
     "metadata": {},
     "output_type": "execute_result"
    }
   ],
   "source": [
    "np.sort(np.unique(np.array(fr_sen_len), return_counts=True),axis=1)"
   ]
  },
  {
   "cell_type": "markdown",
   "metadata": {},
   "source": [
    "### Padding"
   ]
  },
  {
   "cell_type": "code",
   "execution_count": 24,
   "metadata": {},
   "outputs": [
    {
     "name": "stdout",
     "output_type": "stream",
     "text": [
      "encoder_input_sequences.shape: (11000, 91)\n",
      "encoder_input_sequences[0]: [   0    0    0    0    0    0    0    0    0    0    0    0    0    0\n",
      "    0    0    0    0    0    0    0    0    0    0    0    0    0    0\n",
      "    0    0    0    0    0    0    0    0    0    0    0    0    0    0\n",
      "    0    0    0    0    0    0    0    0    0    0    0    0    0    0\n",
      "    0    0    0    0    0    0    0    0    0    0    0    0    0    0\n",
      "    0    0    0    0    0    0    0    0    0    0   42  155  118    1\n",
      "  338    8 7411  966 1366    7  823]\n"
     ]
    }
   ],
   "source": [
    "encoder_input_sequences = pad_sequences(input_integer_seq, maxlen=max_input_len)\n",
    "print(\"encoder_input_sequences.shape:\", encoder_input_sequences.shape)\n",
    "print(\"encoder_input_sequences[0]:\", encoder_input_sequences[0])"
   ]
  },
  {
   "cell_type": "code",
   "execution_count": 25,
   "metadata": {},
   "outputs": [
    {
     "name": "stdout",
     "output_type": "stream",
     "text": [
      "decoder_input_sequences.shape: (11000, 113)\n",
      "decoder_input_sequences[0]: [   5   33  283    2 3485    9 1408 3053  358   85 4097    1    0    0\n",
      "    0    0    0    0    0    0    0    0    0    0    0    0    0    0\n",
      "    0    0    0    0    0    0    0    0    0    0    0    0    0    0\n",
      "    0    0    0    0    0    0    0    0    0    0    0    0    0    0\n",
      "    0    0    0    0    0    0    0    0    0    0    0    0    0    0\n",
      "    0    0    0    0    0    0    0    0    0    0    0    0    0    0\n",
      "    0    0    0    0    0    0    0    0    0    0    0    0    0    0\n",
      "    0    0    0    0    0    0    0    0    0    0    0    0    0    0\n",
      "    0]\n"
     ]
    }
   ],
   "source": [
    "decoder_input_sequences = pad_sequences(output_input_integer_seq, maxlen=max_out_len, padding='post')\n",
    "print(\"decoder_input_sequences.shape:\", decoder_input_sequences.shape)\n",
    "print(\"decoder_input_sequences[0]:\", decoder_input_sequences[0])"
   ]
  },
  {
   "cell_type": "code",
   "execution_count": 26,
   "metadata": {},
   "outputs": [
    {
     "name": "stdout",
     "output_type": "stream",
     "text": [
      "decoder_output_sequences.shape: (11000, 113)\n",
      "decoder_output_sequences[0]: [  33  283    2 3485    9 1408 3053  358   85 4097    1    6    0    0\n",
      "    0    0    0    0    0    0    0    0    0    0    0    0    0    0\n",
      "    0    0    0    0    0    0    0    0    0    0    0    0    0    0\n",
      "    0    0    0    0    0    0    0    0    0    0    0    0    0    0\n",
      "    0    0    0    0    0    0    0    0    0    0    0    0    0    0\n",
      "    0    0    0    0    0    0    0    0    0    0    0    0    0    0\n",
      "    0    0    0    0    0    0    0    0    0    0    0    0    0    0\n",
      "    0    0    0    0    0    0    0    0    0    0    0    0    0    0\n",
      "    0]\n"
     ]
    }
   ],
   "source": [
    "decoder_output_sequences = pad_sequences(output_integer_seq, maxlen=max_out_len, padding='post')\n",
    "print(\"decoder_output_sequences.shape:\", decoder_output_sequences.shape)\n",
    "print(\"decoder_output_sequences[0]:\", decoder_output_sequences[0])"
   ]
  },
  {
   "cell_type": "code",
   "execution_count": 27,
   "metadata": {},
   "outputs": [],
   "source": [
    "def preprocess_input_text(text):\n",
    "    \n",
    "    #Encoding\n",
    "    input_tokenizer = tf.keras.preprocessing.text.Tokenizer()\n",
    "    input_tokenizer.fit_on_texts(text)\n",
    "    input_encoded = input_tokenizer.texts_to_sequences(text)\n",
    "    # Padding\n",
    "    input_padded = pad_sequences(input_encoded, maxlen=max_input_len)\n",
    "    \n",
    "    return input_padded"
   ]
  },
  {
   "cell_type": "code",
   "execution_count": 28,
   "metadata": {},
   "outputs": [],
   "source": [
    "def preprocess_output_text(text, max_len):\n",
    "    \n",
    "    #Encoding\n",
    "    input_tokenizer = tf.keras.preprocessing.text.Tokenizer()\n",
    "    input_tokenizer.fit_on_texts(text)\n",
    "    input_encoded = input_tokenizer.texts_to_sequences(text)\n",
    "    # Padding\n",
    "    input_padded = pad_sequences(input_encoded, maxlen=max_input_len)\n",
    "    \n",
    "    return input_padded"
   ]
  },
  {
   "cell_type": "markdown",
   "metadata": {},
   "source": [
    "### Define the seq2seq model"
   ]
  },
  {
   "cell_type": "code",
   "execution_count": 29,
   "metadata": {
    "colab": {},
    "colab_type": "code",
    "id": "n2YdfpK3O_pY"
   },
   "outputs": [],
   "source": [
    "# configure problem\n",
    "embedings_dim = 64\n",
    "hidden_units = 512\n",
    "LR = 0.001\n",
    "dropout = 0.5"
   ]
  },
  {
   "cell_type": "code",
   "execution_count": 30,
   "metadata": {
    "colab": {
     "base_uri": "https://localhost:8080/",
     "height": 34
    },
    "colab_type": "code",
    "id": "Z4-m7zcw2hqV",
    "outputId": "79978b94-9eca-418b-c4a7-1c1d20d1f710"
   },
   "outputs": [],
   "source": [
    "#en_vocab_size, en_max_len, fr_vocab_size, fr_max_len, hidden_units, embedings_dim, LR"
   ]
  },
  {
   "cell_type": "code",
   "execution_count": 38,
   "metadata": {
    "colab": {},
    "colab_type": "code",
    "id": "nUQk9hA3bfZE"
   },
   "outputs": [],
   "source": [
    "# Encoder\n",
    "def seq2seq_model(num_en_tokens, embedings_dim, hidden_units, num_fr_tokens, max_input_len, max_out_len, LR, dropout):      \n",
    "    \n",
    "    encoder_inputs = layers.Input(shape=(None,))\n",
    "    encoder_embeddings = layers.Embedding(num_en_tokens, embedings_dim, mask_zero=True)\n",
    "    encoder_embedded = encoder_embeddings(encoder_inputs)\n",
    "    encoder_bilstm = layers.Bidirectional(layers.LSTM(hidden_units, return_state=True, dropout=dropout))\n",
    "    # Return states in addition to output\n",
    "    output, forward_h, forward_c, backward_h, backward_c = encoder_bilstm(encoder_embedded)\n",
    "    \n",
    "    state_h = layers.Concatenate()([forward_h, backward_h])\n",
    "    state_c = layers.Concatenate()([forward_c, backward_c])\n",
    "    encoder_states = [state_h, state_c]\n",
    "    \n",
    "    #encoder_states = [forward_h, forward_c, backward_h, backward_c]\n",
    "\n",
    "    # Decoder\n",
    "    decoder_inputs = layers.Input(shape=(None, ))\n",
    "    decoder_embeddings = layers.Embedding(num_fr_tokens, embedings_dim, mask_zero=True)\n",
    "    decoder_embedded = decoder_embeddings(decoder_inputs)\n",
    "\n",
    "    # Pass the 2 states to a new LSTM layer, as initial state\n",
    "    decoder_lstm = layers.LSTM(hidden_units*2, return_sequences=True, return_state=True, dropout=dropout)\n",
    "    decoder_outputs, _, _, = decoder_lstm(decoder_embedded, initial_state=encoder_states)\n",
    "\n",
    "    decoder_dense = layers.Dense(num_fr_tokens, activation='linear')\n",
    "    decoder_outputs = decoder_dense(decoder_outputs)\n",
    "\n",
    "    model = Model([encoder_inputs, decoder_inputs], decoder_outputs)\n",
    "    model.compile(loss=tf.keras.losses.SparseCategoricalCrossentropy(from_logits=True),\n",
    "                  optimizer=tf.keras.optimizers.SGD(learning_rate=0.2, decay=1e-4, momentum=0.9, nesterov=True), #Adam(learning_rate=LR),\n",
    "                  metrics=['accuracy'])\n",
    "    model.summary()\n",
    "    #sgd = SGD(lr=0.1, decay=1e-5, momentum=0.9, nesterov=True)\n",
    "    \n",
    "    # Evaluation model:\n",
    "    encoder_model = Model(encoder_inputs, encoder_states)\n",
    "    \n",
    "    decoder_state_h = layers.Input(shape=(hidden_units*2,))\n",
    "    decoder_state_c = layers.Input(shape=(hidden_units*2,))\n",
    "    #decoder_state_b_h = layers.Input(shape=(hidden_units,))\n",
    "    #decoder_state_b_c = layers.Input(shape=(hidden_units,))\n",
    "    \n",
    "    #e_state_h = layers.Concatenate()([decoder_state_f_h, decoder_state_b_h])\n",
    "    #e_state_c = layers.Concatenate()([decoder_state_f_c, decoder_state_b_c])\n",
    "    \n",
    "    decoder_states_inputs = [decoder_state_h, decoder_state_c]#, decoder_state_b_h, decoder_state_b_c]\n",
    "    \n",
    "    decoder_inputs_single = layers.Input(shape=(1,))\n",
    "    decoder_inputs_single_x = decoder_embeddings(decoder_inputs_single)\n",
    "    decoder_outputs, h, c = decoder_lstm(decoder_inputs_single_x, initial_state=decoder_states_inputs)\n",
    "    decoder_states = [h, c]\n",
    "    decoder_outputs = decoder_dense(decoder_outputs)\n",
    "    decoder_model = Model(\n",
    "        [decoder_inputs_single] + decoder_states_inputs,\n",
    "        [decoder_outputs] + decoder_states\n",
    "    )\n",
    "     \n",
    "    \n",
    "    return model, encoder_model, decoder_model"
   ]
  },
  {
   "cell_type": "code",
   "execution_count": 39,
   "metadata": {},
   "outputs": [
    {
     "name": "stdout",
     "output_type": "stream",
     "text": [
      "Model: \"model_3\"\n",
      "__________________________________________________________________________________________________\n",
      "Layer (type)                    Output Shape         Param #     Connected to                     \n",
      "==================================================================================================\n",
      "input_6 (InputLayer)            [(None, None)]       0                                            \n",
      "__________________________________________________________________________________________________\n",
      "embedding_2 (Embedding)         (None, None, 64)     866432      input_6[0][0]                    \n",
      "__________________________________________________________________________________________________\n",
      "input_7 (InputLayer)            [(None, None)]       0                                            \n",
      "__________________________________________________________________________________________________\n",
      "bidirectional_1 (Bidirectional) [(None, 1024), (None 2363392     embedding_2[0][0]                \n",
      "__________________________________________________________________________________________________\n",
      "embedding_3 (Embedding)         (None, None, 64)     1111296     input_7[0][0]                    \n",
      "__________________________________________________________________________________________________\n",
      "concatenate_2 (Concatenate)     (None, 1024)         0           bidirectional_1[0][1]            \n",
      "                                                                 bidirectional_1[0][3]            \n",
      "__________________________________________________________________________________________________\n",
      "concatenate_3 (Concatenate)     (None, 1024)         0           bidirectional_1[0][2]            \n",
      "                                                                 bidirectional_1[0][4]            \n",
      "__________________________________________________________________________________________________\n",
      "lstm_3 (LSTM)                   [(None, None, 1024), 4460544     embedding_3[0][0]                \n",
      "                                                                 concatenate_2[0][0]              \n",
      "                                                                 concatenate_3[0][0]              \n",
      "__________________________________________________________________________________________________\n",
      "dense_1 (Dense)                 (None, None, 17364)  17798100    lstm_3[0][0]                     \n",
      "==================================================================================================\n",
      "Total params: 26,599,764\n",
      "Trainable params: 26,599,764\n",
      "Non-trainable params: 0\n",
      "__________________________________________________________________________________________________\n"
     ]
    }
   ],
   "source": [
    "model,_,_ = seq2seq_model(num_words_input, embedings_dim, hidden_units, num_words_output, max_input_len, max_out_len, LR, dropout)"
   ]
  },
  {
   "cell_type": "markdown",
   "metadata": {},
   "source": [
    "### Train the model"
   ]
  },
  {
   "cell_type": "code",
   "execution_count": 40,
   "metadata": {},
   "outputs": [],
   "source": [
    "batch_size = 20\n",
    "epochs=100"
   ]
  },
  {
   "cell_type": "code",
   "execution_count": 41,
   "metadata": {},
   "outputs": [
    {
     "data": {
      "text/plain": [
       "(11000, 91)"
      ]
     },
     "execution_count": 41,
     "metadata": {},
     "output_type": "execute_result"
    }
   ],
   "source": [
    "encoder_input_sequences.shape"
   ]
  },
  {
   "cell_type": "code",
   "execution_count": 42,
   "metadata": {},
   "outputs": [
    {
     "data": {
      "text/plain": [
       "(11000, 113)"
      ]
     },
     "execution_count": 42,
     "metadata": {},
     "output_type": "execute_result"
    }
   ],
   "source": [
    "decoder_input_sequences.shape"
   ]
  },
  {
   "cell_type": "code",
   "execution_count": 43,
   "metadata": {},
   "outputs": [
    {
     "data": {
      "text/plain": [
       "(11000, 113)"
      ]
     },
     "execution_count": 43,
     "metadata": {},
     "output_type": "execute_result"
    }
   ],
   "source": [
    "decoder_output_sequences.shape"
   ]
  },
  {
   "cell_type": "code",
   "execution_count": 44,
   "metadata": {
    "colab": {},
    "colab_type": "code",
    "id": "DJVGoHjsO_pi"
   },
   "outputs": [
    {
     "name": "stdout",
     "output_type": "stream",
     "text": [
      "Train on 8800 samples, validate on 2200 samples\n",
      "Epoch 1/100\n",
      "8780/8800 [============================>.] - ETA: 0s - loss: 1.4878 - accuracy: 0.0641\n",
      "Epoch 00001: val_loss improved from inf to 1.37904, saving model to baseline2.7.hdf5\n",
      "8800/8800 [==============================] - 159s 18ms/sample - loss: 1.4879 - accuracy: 0.0642 - val_loss: 1.3790 - val_accuracy: 0.0835\n",
      "Epoch 2/100\n",
      "8780/8800 [============================>.] - ETA: 0s - loss: 1.3462 - accuracy: 0.0871\n",
      "Epoch 00002: val_loss improved from 1.37904 to 1.36537, saving model to baseline2.7.hdf5\n",
      "8800/8800 [==============================] - 152s 17ms/sample - loss: 1.3463 - accuracy: 0.0871 - val_loss: 1.3654 - val_accuracy: 0.1096\n",
      "Epoch 3/100\n",
      "8780/8800 [============================>.] - ETA: 0s - loss: 1.3218 - accuracy: 0.1134\n",
      "Epoch 00003: val_loss improved from 1.36537 to 1.34717, saving model to baseline2.7.hdf5\n",
      "8800/8800 [==============================] - 150s 17ms/sample - loss: 1.3214 - accuracy: 0.1134 - val_loss: 1.3472 - val_accuracy: 0.1167\n",
      "Epoch 4/100\n",
      "8780/8800 [============================>.] - ETA: 0s - loss: 1.3101 - accuracy: 0.1204\n",
      "Epoch 00004: val_loss improved from 1.34717 to 1.33432, saving model to baseline2.7.hdf5\n",
      "8800/8800 [==============================] - 153s 17ms/sample - loss: 1.3101 - accuracy: 0.1204 - val_loss: 1.3343 - val_accuracy: 0.1271\n",
      "Epoch 5/100\n",
      "8780/8800 [============================>.] - ETA: 0s - loss: 1.2891 - accuracy: 0.1296\n",
      "Epoch 00005: val_loss improved from 1.33432 to 1.31082, saving model to baseline2.7.hdf5\n",
      "8800/8800 [==============================] - 153s 17ms/sample - loss: 1.2892 - accuracy: 0.1296 - val_loss: 1.3108 - val_accuracy: 0.1330\n",
      "Epoch 6/100\n",
      "8780/8800 [============================>.] - ETA: 0s - loss: 1.2652 - accuracy: 0.1331\n",
      "Epoch 00006: val_loss improved from 1.31082 to 1.28899, saving model to baseline2.7.hdf5\n",
      "8800/8800 [==============================] - 153s 17ms/sample - loss: 1.2655 - accuracy: 0.1331 - val_loss: 1.2890 - val_accuracy: 0.1377\n",
      "Epoch 7/100\n",
      "8780/8800 [============================>.] - ETA: 0s - loss: 1.2435 - accuracy: 0.1376\n",
      "Epoch 00007: val_loss improved from 1.28899 to 1.26967, saving model to baseline2.7.hdf5\n",
      "8800/8800 [==============================] - 152s 17ms/sample - loss: 1.2432 - accuracy: 0.1376 - val_loss: 1.2697 - val_accuracy: 0.1369\n",
      "Epoch 8/100\n",
      "8780/8800 [============================>.] - ETA: 0s - loss: 1.2248 - accuracy: 0.1412\n",
      "Epoch 00008: val_loss improved from 1.26967 to 1.25449, saving model to baseline2.7.hdf5\n",
      "8800/8800 [==============================] - 152s 17ms/sample - loss: 1.2248 - accuracy: 0.1412 - val_loss: 1.2545 - val_accuracy: 0.1438\n",
      "Epoch 9/100\n",
      "8780/8800 [============================>.] - ETA: 0s - loss: 1.2091 - accuracy: 0.1461\n",
      "Epoch 00009: val_loss improved from 1.25449 to 1.24347, saving model to baseline2.7.hdf5\n",
      "8800/8800 [==============================] - 151s 17ms/sample - loss: 1.2093 - accuracy: 0.1461 - val_loss: 1.2435 - val_accuracy: 0.1459\n",
      "Epoch 10/100\n",
      "8780/8800 [============================>.] - ETA: 0s - loss: 1.1953 - accuracy: 0.1502\n",
      "Epoch 00010: val_loss improved from 1.24347 to 1.23198, saving model to baseline2.7.hdf5\n",
      "8800/8800 [==============================] - 151s 17ms/sample - loss: 1.1959 - accuracy: 0.1502 - val_loss: 1.2320 - val_accuracy: 0.1516\n",
      "Epoch 11/100\n",
      "8780/8800 [============================>.] - ETA: 0s - loss: 1.1836 - accuracy: 0.1553\n",
      "Epoch 00011: val_loss improved from 1.23198 to 1.22232, saving model to baseline2.7.hdf5\n",
      "8800/8800 [==============================] - 151s 17ms/sample - loss: 1.1836 - accuracy: 0.1553 - val_loss: 1.2223 - val_accuracy: 0.1579\n",
      "Epoch 12/100\n",
      "8780/8800 [============================>.] - ETA: 0s - loss: 1.1718 - accuracy: 0.1607\n",
      "Epoch 00012: val_loss improved from 1.22232 to 1.21523, saving model to baseline2.7.hdf5\n",
      "8800/8800 [==============================] - 152s 17ms/sample - loss: 1.1723 - accuracy: 0.1607 - val_loss: 1.2152 - val_accuracy: 0.1599\n",
      "Epoch 13/100\n",
      "8780/8800 [============================>.] - ETA: 0s - loss: 1.1623 - accuracy: 0.1641\n",
      "Epoch 00013: val_loss improved from 1.21523 to 1.20855, saving model to baseline2.7.hdf5\n",
      "8800/8800 [==============================] - 152s 17ms/sample - loss: 1.1621 - accuracy: 0.1642 - val_loss: 1.2086 - val_accuracy: 0.1617\n",
      "Epoch 14/100\n",
      "8780/8800 [============================>.] - ETA: 0s - loss: 1.1537 - accuracy: 0.1656\n",
      "Epoch 00014: val_loss improved from 1.20855 to 1.20134, saving model to baseline2.7.hdf5\n",
      "8800/8800 [==============================] - 150s 17ms/sample - loss: 1.1530 - accuracy: 0.1656 - val_loss: 1.2013 - val_accuracy: 0.1677\n",
      "Epoch 15/100\n",
      "8780/8800 [============================>.] - ETA: 0s - loss: 1.1439 - accuracy: 0.1689\n",
      "Epoch 00015: val_loss improved from 1.20134 to 1.19521, saving model to baseline2.7.hdf5\n",
      "8800/8800 [==============================] - 152s 17ms/sample - loss: 1.1443 - accuracy: 0.1689 - val_loss: 1.1952 - val_accuracy: 0.1675\n",
      "Epoch 16/100\n",
      "8780/8800 [============================>.] - ETA: 0s - loss: 1.1360 - accuracy: 0.1705\n",
      "Epoch 00016: val_loss improved from 1.19521 to 1.19091, saving model to baseline2.7.hdf5\n",
      "8800/8800 [==============================] - 152s 17ms/sample - loss: 1.1361 - accuracy: 0.1705 - val_loss: 1.1909 - val_accuracy: 0.1693\n",
      "Epoch 17/100\n",
      "8780/8800 [============================>.] - ETA: 0s - loss: 1.1285 - accuracy: 0.1723\n",
      "Epoch 00017: val_loss improved from 1.19091 to 1.18565, saving model to baseline2.7.hdf5\n",
      "8800/8800 [==============================] - 152s 17ms/sample - loss: 1.1284 - accuracy: 0.1723 - val_loss: 1.1857 - val_accuracy: 0.1722\n",
      "Epoch 18/100\n",
      "8780/8800 [============================>.] - ETA: 0s - loss: 1.1207 - accuracy: 0.1748\n",
      "Epoch 00018: val_loss improved from 1.18565 to 1.18116, saving model to baseline2.7.hdf5\n",
      "8800/8800 [==============================] - 150s 17ms/sample - loss: 1.1209 - accuracy: 0.1747 - val_loss: 1.1812 - val_accuracy: 0.1736\n",
      "Epoch 19/100\n",
      "8780/8800 [============================>.] - ETA: 0s - loss: 1.1137 - accuracy: 0.1762\n",
      "Epoch 00019: val_loss improved from 1.18116 to 1.17802, saving model to baseline2.7.hdf5\n",
      "8800/8800 [==============================] - 203s 23ms/sample - loss: 1.1139 - accuracy: 0.1762 - val_loss: 1.1780 - val_accuracy: 0.1750\n",
      "Epoch 20/100\n",
      "8780/8800 [============================>.] - ETA: 0s - loss: 1.1066 - accuracy: 0.1786\n",
      "Epoch 00020: val_loss improved from 1.17802 to 1.17474, saving model to baseline2.7.hdf5\n",
      "8800/8800 [==============================] - 149s 17ms/sample - loss: 1.1071 - accuracy: 0.1785 - val_loss: 1.1747 - val_accuracy: 0.1778\n",
      "Epoch 21/100\n",
      "8780/8800 [============================>.] - ETA: 0s - loss: 1.1010 - accuracy: 0.1804\n",
      "Epoch 00021: val_loss improved from 1.17474 to 1.17160, saving model to baseline2.7.hdf5\n",
      "8800/8800 [==============================] - 152s 17ms/sample - loss: 1.1009 - accuracy: 0.1804 - val_loss: 1.1716 - val_accuracy: 0.1760\n",
      "Epoch 22/100\n",
      "8780/8800 [============================>.] - ETA: 0s - loss: 1.0948 - accuracy: 0.1829\n",
      "Epoch 00022: val_loss improved from 1.17160 to 1.16815, saving model to baseline2.7.hdf5\n",
      "8800/8800 [==============================] - 153s 17ms/sample - loss: 1.0946 - accuracy: 0.1828 - val_loss: 1.1682 - val_accuracy: 0.1785\n",
      "Epoch 23/100\n",
      "8780/8800 [============================>.] - ETA: 0s - loss: 1.0885 - accuracy: 0.1833\n",
      "Epoch 00023: val_loss improved from 1.16815 to 1.16616, saving model to baseline2.7.hdf5\n",
      "8800/8800 [==============================] - 152s 17ms/sample - loss: 1.0887 - accuracy: 0.1833 - val_loss: 1.1662 - val_accuracy: 0.1800\n",
      "Epoch 24/100\n",
      "8780/8800 [============================>.] - ETA: 0s - loss: 1.0829 - accuracy: 0.1858\n",
      "Epoch 00024: val_loss improved from 1.16616 to 1.16250, saving model to baseline2.7.hdf5\n",
      "8800/8800 [==============================] - 149s 17ms/sample - loss: 1.0827 - accuracy: 0.1858 - val_loss: 1.1625 - val_accuracy: 0.1788\n",
      "Epoch 25/100\n",
      "8780/8800 [============================>.] - ETA: 0s - loss: 1.0766 - accuracy: 0.1875\n",
      "Epoch 00025: val_loss improved from 1.16250 to 1.15980, saving model to baseline2.7.hdf5\n",
      "8800/8800 [==============================] - 151s 17ms/sample - loss: 1.0770 - accuracy: 0.1875 - val_loss: 1.1598 - val_accuracy: 0.1814\n"
     ]
    },
    {
     "name": "stdout",
     "output_type": "stream",
     "text": [
      "Epoch 26/100\n",
      "8780/8800 [============================>.] - ETA: 0s - loss: 1.0715 - accuracy: 0.1889\n",
      "Epoch 00026: val_loss improved from 1.15980 to 1.15791, saving model to baseline2.7.hdf5\n",
      "8800/8800 [==============================] - 151s 17ms/sample - loss: 1.0716 - accuracy: 0.1888 - val_loss: 1.1579 - val_accuracy: 0.1826\n",
      "Epoch 27/100\n",
      "8780/8800 [============================>.] - ETA: 0s - loss: 1.0662 - accuracy: 0.1905\n",
      "Epoch 00027: val_loss improved from 1.15791 to 1.15629, saving model to baseline2.7.hdf5\n",
      "8800/8800 [==============================] - 150s 17ms/sample - loss: 1.0661 - accuracy: 0.1905 - val_loss: 1.1563 - val_accuracy: 0.1832\n",
      "Epoch 28/100\n",
      "8780/8800 [============================>.] - ETA: 0s - loss: 1.0609 - accuracy: 0.1923\n",
      "Epoch 00028: val_loss improved from 1.15629 to 1.15428, saving model to baseline2.7.hdf5\n",
      "8800/8800 [==============================] - 150s 17ms/sample - loss: 1.0610 - accuracy: 0.1923 - val_loss: 1.1543 - val_accuracy: 0.1849\n",
      "Epoch 29/100\n",
      "8780/8800 [============================>.] - ETA: 0s - loss: 1.0563 - accuracy: 0.1939\n",
      "Epoch 00029: val_loss improved from 1.15428 to 1.15281, saving model to baseline2.7.hdf5\n",
      "8800/8800 [==============================] - 150s 17ms/sample - loss: 1.0559 - accuracy: 0.1940 - val_loss: 1.1528 - val_accuracy: 0.1861\n",
      "Epoch 30/100\n",
      "8780/8800 [============================>.] - ETA: 0s - loss: 1.0504 - accuracy: 0.1951\n",
      "Epoch 00030: val_loss improved from 1.15281 to 1.15181, saving model to baseline2.7.hdf5\n",
      "8800/8800 [==============================] - 150s 17ms/sample - loss: 1.0508 - accuracy: 0.1951 - val_loss: 1.1518 - val_accuracy: 0.1840\n",
      "Epoch 31/100\n",
      "8780/8800 [============================>.] - ETA: 0s - loss: 1.0456 - accuracy: 0.1971\n",
      "Epoch 00031: val_loss improved from 1.15181 to 1.14875, saving model to baseline2.7.hdf5\n",
      "8800/8800 [==============================] - 150s 17ms/sample - loss: 1.0459 - accuracy: 0.1971 - val_loss: 1.1488 - val_accuracy: 0.1873\n",
      "Epoch 32/100\n",
      "8780/8800 [============================>.] - ETA: 0s - loss: 1.0412 - accuracy: 0.1987\n",
      "Epoch 00032: val_loss did not improve from 1.14875\n",
      "8800/8800 [==============================] - 148s 17ms/sample - loss: 1.0414 - accuracy: 0.1987 - val_loss: 1.1489 - val_accuracy: 0.1863\n",
      "Epoch 33/100\n",
      "8780/8800 [============================>.] - ETA: 0s - loss: 1.0366 - accuracy: 0.1999\n",
      "Epoch 00033: val_loss improved from 1.14875 to 1.14772, saving model to baseline2.7.hdf5\n",
      "8800/8800 [==============================] - 151s 17ms/sample - loss: 1.0364 - accuracy: 0.1998 - val_loss: 1.1477 - val_accuracy: 0.1884\n",
      "Epoch 34/100\n",
      "8780/8800 [============================>.] - ETA: 0s - loss: 1.0319 - accuracy: 0.2014\n",
      "Epoch 00034: val_loss improved from 1.14772 to 1.14547, saving model to baseline2.7.hdf5\n",
      "8800/8800 [==============================] - 151s 17ms/sample - loss: 1.0315 - accuracy: 0.2014 - val_loss: 1.1455 - val_accuracy: 0.1872\n",
      "Epoch 35/100\n",
      "8780/8800 [============================>.] - ETA: 0s - loss: 1.0272 - accuracy: 0.2029\n",
      "Epoch 00035: val_loss improved from 1.14547 to 1.14394, saving model to baseline2.7.hdf5\n",
      "8800/8800 [==============================] - 153s 17ms/sample - loss: 1.0271 - accuracy: 0.2029 - val_loss: 1.1439 - val_accuracy: 0.1907\n",
      "Epoch 36/100\n",
      "8780/8800 [============================>.] - ETA: 0s - loss: 1.0226 - accuracy: 0.2041\n",
      "Epoch 00036: val_loss improved from 1.14394 to 1.14211, saving model to baseline2.7.hdf5\n",
      "8800/8800 [==============================] - 152s 17ms/sample - loss: 1.0229 - accuracy: 0.2041 - val_loss: 1.1421 - val_accuracy: 0.1891\n",
      "Epoch 37/100\n",
      "8780/8800 [============================>.] - ETA: 0s - loss: 1.0181 - accuracy: 0.2053\n",
      "Epoch 00037: val_loss did not improve from 1.14211\n",
      "8800/8800 [==============================] - 149s 17ms/sample - loss: 1.0182 - accuracy: 0.2053 - val_loss: 1.1422 - val_accuracy: 0.1898\n",
      "Epoch 38/100\n",
      "8780/8800 [============================>.] - ETA: 0s - loss: 1.0136 - accuracy: 0.2073\n",
      "Epoch 00038: val_loss improved from 1.14211 to 1.14099, saving model to baseline2.7.hdf5\n",
      "8800/8800 [==============================] - 153s 17ms/sample - loss: 1.0138 - accuracy: 0.2073 - val_loss: 1.1410 - val_accuracy: 0.1912\n",
      "Epoch 39/100\n",
      "8780/8800 [============================>.] - ETA: 0s - loss: 1.0097 - accuracy: 0.2088\n",
      "Epoch 00039: val_loss improved from 1.14099 to 1.14024, saving model to baseline2.7.hdf5\n",
      "8800/8800 [==============================] - 153s 17ms/sample - loss: 1.0096 - accuracy: 0.2088 - val_loss: 1.1402 - val_accuracy: 0.1914\n",
      "Epoch 40/100\n",
      "8780/8800 [============================>.] - ETA: 0s - loss: 1.0051 - accuracy: 0.2097\n",
      "Epoch 00040: val_loss improved from 1.14024 to 1.13867, saving model to baseline2.7.hdf5\n",
      "8800/8800 [==============================] - 151s 17ms/sample - loss: 1.0051 - accuracy: 0.2097 - val_loss: 1.1387 - val_accuracy: 0.1934\n",
      "Epoch 41/100\n",
      "8780/8800 [============================>.] - ETA: 0s - loss: 1.0011 - accuracy: 0.2111\n",
      "Epoch 00041: val_loss improved from 1.13867 to 1.13840, saving model to baseline2.7.hdf5\n",
      "8800/8800 [==============================] - 151s 17ms/sample - loss: 1.0009 - accuracy: 0.2111 - val_loss: 1.1384 - val_accuracy: 0.1925\n",
      "Epoch 42/100\n",
      "8780/8800 [============================>.] - ETA: 0s - loss: 0.9969 - accuracy: 0.2132\n",
      "Epoch 00042: val_loss improved from 1.13840 to 1.13651, saving model to baseline2.7.hdf5\n",
      "8800/8800 [==============================] - 153s 17ms/sample - loss: 0.9967 - accuracy: 0.2131 - val_loss: 1.1365 - val_accuracy: 0.1948\n",
      "Epoch 43/100\n",
      "8780/8800 [============================>.] - ETA: 0s - loss: 0.9918 - accuracy: 0.2151\n",
      "Epoch 00043: val_loss improved from 1.13651 to 1.13590, saving model to baseline2.7.hdf5\n",
      "8800/8800 [==============================] - 151s 17ms/sample - loss: 0.9923 - accuracy: 0.2151 - val_loss: 1.1359 - val_accuracy: 0.1940\n",
      "Epoch 44/100\n",
      "8780/8800 [============================>.] - ETA: 0s - loss: 0.9876 - accuracy: 0.2164\n",
      "Epoch 00044: val_loss improved from 1.13590 to 1.13585, saving model to baseline2.7.hdf5\n",
      "8800/8800 [==============================] - 150s 17ms/sample - loss: 0.9880 - accuracy: 0.2163 - val_loss: 1.1359 - val_accuracy: 0.1968\n",
      "Epoch 45/100\n",
      "8780/8800 [============================>.] - ETA: 0s - loss: 0.9840 - accuracy: 0.2179\n",
      "Epoch 00045: val_loss improved from 1.13585 to 1.13520, saving model to baseline2.7.hdf5\n",
      "8800/8800 [==============================] - 151s 17ms/sample - loss: 0.9839 - accuracy: 0.2179 - val_loss: 1.1352 - val_accuracy: 0.1944\n",
      "Epoch 46/100\n",
      "8780/8800 [============================>.] - ETA: 0s - loss: 0.9801 - accuracy: 0.2194\n",
      "Epoch 00046: val_loss improved from 1.13520 to 1.13419, saving model to baseline2.7.hdf5\n",
      "8800/8800 [==============================] - 151s 17ms/sample - loss: 0.9797 - accuracy: 0.2195 - val_loss: 1.1342 - val_accuracy: 0.1967\n",
      "Epoch 47/100\n",
      "8780/8800 [============================>.] - ETA: 0s - loss: 0.9751 - accuracy: 0.2213\n",
      "Epoch 00047: val_loss improved from 1.13419 to 1.13241, saving model to baseline2.7.hdf5\n",
      "8800/8800 [==============================] - 150s 17ms/sample - loss: 0.9751 - accuracy: 0.2213 - val_loss: 1.1324 - val_accuracy: 0.1964\n",
      "Epoch 48/100\n",
      "8780/8800 [============================>.] - ETA: 0s - loss: 0.9709 - accuracy: 0.2226\n",
      "Epoch 00048: val_loss did not improve from 1.13241\n",
      "8800/8800 [==============================] - 148s 17ms/sample - loss: 0.9709 - accuracy: 0.2226 - val_loss: 1.1325 - val_accuracy: 0.1972\n",
      "Epoch 49/100\n",
      "8780/8800 [============================>.] - ETA: 0s - loss: 0.9669 - accuracy: 0.2247\n",
      "Epoch 00049: val_loss improved from 1.13241 to 1.13117, saving model to baseline2.7.hdf5\n",
      "8800/8800 [==============================] - 151s 17ms/sample - loss: 0.9670 - accuracy: 0.2247 - val_loss: 1.1312 - val_accuracy: 0.1998\n",
      "Epoch 50/100\n",
      "8780/8800 [============================>.] - ETA: 0s - loss: 0.9630 - accuracy: 0.2270\n",
      "Epoch 00050: val_loss did not improve from 1.13117\n",
      "8800/8800 [==============================] - 148s 17ms/sample - loss: 0.9627 - accuracy: 0.2271 - val_loss: 1.1324 - val_accuracy: 0.1993\n",
      "Epoch 51/100\n",
      "8780/8800 [============================>.] - ETA: 0s - loss: 0.9589 - accuracy: 0.2280\n",
      "Epoch 00051: val_loss did not improve from 1.13117\n",
      "8800/8800 [==============================] - 148s 17ms/sample - loss: 0.9589 - accuracy: 0.2279 - val_loss: 1.1316 - val_accuracy: 0.1991\n"
     ]
    },
    {
     "name": "stdout",
     "output_type": "stream",
     "text": [
      "Epoch 52/100\n",
      "8780/8800 [============================>.] - ETA: 0s - loss: 0.9548 - accuracy: 0.2298\n",
      "Epoch 00052: val_loss improved from 1.13117 to 1.13034, saving model to baseline2.7.hdf5\n",
      "8800/8800 [==============================] - 150s 17ms/sample - loss: 0.9547 - accuracy: 0.2298 - val_loss: 1.1303 - val_accuracy: 0.2017\n",
      "Epoch 53/100\n",
      "8780/8800 [============================>.] - ETA: 0s - loss: 0.9509 - accuracy: 0.2311\n",
      "Epoch 00053: val_loss improved from 1.13034 to 1.12948, saving model to baseline2.7.hdf5\n",
      "8800/8800 [==============================] - 151s 17ms/sample - loss: 0.9508 - accuracy: 0.2311 - val_loss: 1.1295 - val_accuracy: 0.2003\n",
      "Epoch 54/100\n",
      "8780/8800 [============================>.] - ETA: 0s - loss: 0.9473 - accuracy: 0.2323\n",
      "Epoch 00054: val_loss improved from 1.12948 to 1.12881, saving model to baseline2.7.hdf5\n",
      "8800/8800 [==============================] - 167s 19ms/sample - loss: 0.9471 - accuracy: 0.2323 - val_loss: 1.1288 - val_accuracy: 0.1991\n",
      "Epoch 55/100\n",
      "8780/8800 [============================>.] - ETA: 0s - loss: 0.9440 - accuracy: 0.2342\n",
      "Epoch 00055: val_loss did not improve from 1.12881\n",
      "8800/8800 [==============================] - 148s 17ms/sample - loss: 0.9436 - accuracy: 0.2342 - val_loss: 1.1293 - val_accuracy: 0.2002\n",
      "Epoch 56/100\n",
      "8780/8800 [============================>.] - ETA: 0s - loss: 0.9400 - accuracy: 0.2348\n",
      "Epoch 00056: val_loss improved from 1.12881 to 1.12830, saving model to baseline2.7.hdf5\n",
      "8800/8800 [==============================] - 151s 17ms/sample - loss: 0.9401 - accuracy: 0.2348 - val_loss: 1.1283 - val_accuracy: 0.1998\n",
      "Epoch 57/100\n",
      "8780/8800 [============================>.] - ETA: 0s - loss: 0.9365 - accuracy: 0.2362\n",
      "Epoch 00057: val_loss did not improve from 1.12830\n",
      "8800/8800 [==============================] - 227s 26ms/sample - loss: 0.9365 - accuracy: 0.2362 - val_loss: 1.1287 - val_accuracy: 0.2021\n",
      "Epoch 58/100\n",
      "8780/8800 [============================>.] - ETA: 0s - loss: 0.9318 - accuracy: 0.2382\n",
      "Epoch 00058: val_loss improved from 1.12830 to 1.12788, saving model to baseline2.7.hdf5\n",
      "8800/8800 [==============================] - 150s 17ms/sample - loss: 0.9324 - accuracy: 0.2381 - val_loss: 1.1279 - val_accuracy: 0.2021\n",
      "Epoch 59/100\n",
      "8780/8800 [============================>.] - ETA: 0s - loss: 0.9293 - accuracy: 0.2401\n",
      "Epoch 00059: val_loss did not improve from 1.12788\n",
      "8800/8800 [==============================] - 147s 17ms/sample - loss: 0.9291 - accuracy: 0.2401 - val_loss: 1.1285 - val_accuracy: 0.2014\n",
      "Epoch 60/100\n",
      "8780/8800 [============================>.] - ETA: 0s - loss: 0.9256 - accuracy: 0.2411\n",
      "Epoch 00060: val_loss did not improve from 1.12788\n",
      "8800/8800 [==============================] - 147s 17ms/sample - loss: 0.9253 - accuracy: 0.2412 - val_loss: 1.1290 - val_accuracy: 0.2021\n",
      "Epoch 61/100\n",
      "8780/8800 [============================>.] - ETA: 0s - loss: 0.9218 - accuracy: 0.2425\n",
      "Epoch 00061: val_loss improved from 1.12788 to 1.12765, saving model to baseline2.7.hdf5\n",
      "8800/8800 [==============================] - 149s 17ms/sample - loss: 0.9215 - accuracy: 0.2425 - val_loss: 1.1277 - val_accuracy: 0.2020\n",
      "Epoch 62/100\n",
      "8780/8800 [============================>.] - ETA: 0s - loss: 0.9179 - accuracy: 0.2438\n",
      "Epoch 00062: val_loss did not improve from 1.12765\n",
      "8800/8800 [==============================] - 148s 17ms/sample - loss: 0.9181 - accuracy: 0.2437 - val_loss: 1.1286 - val_accuracy: 0.1996\n",
      "Epoch 63/100\n",
      "8780/8800 [============================>.] - ETA: 0s - loss: 0.9145 - accuracy: 0.2455\n",
      "Epoch 00063: val_loss improved from 1.12765 to 1.12765, saving model to baseline2.7.hdf5\n",
      "8800/8800 [==============================] - 149s 17ms/sample - loss: 0.9145 - accuracy: 0.2454 - val_loss: 1.1276 - val_accuracy: 0.2012\n",
      "Epoch 64/100\n",
      "8780/8800 [============================>.] - ETA: 0s - loss: 0.9113 - accuracy: 0.2459\n",
      "Epoch 00064: val_loss did not improve from 1.12765\n",
      "8800/8800 [==============================] - 147s 17ms/sample - loss: 0.9114 - accuracy: 0.2460 - val_loss: 1.1279 - val_accuracy: 0.2009\n",
      "Epoch 65/100\n",
      "8780/8800 [============================>.] - ETA: 0s - loss: 0.9078 - accuracy: 0.2475\n",
      "Epoch 00065: val_loss improved from 1.12765 to 1.12701, saving model to baseline2.7.hdf5\n",
      "8800/8800 [==============================] - 148s 17ms/sample - loss: 0.9080 - accuracy: 0.2475 - val_loss: 1.1270 - val_accuracy: 0.2025\n",
      "Epoch 66/100\n",
      "8780/8800 [============================>.] - ETA: 0s - loss: 0.9042 - accuracy: 0.2489\n",
      "Epoch 00066: val_loss did not improve from 1.12701\n",
      "8800/8800 [==============================] - 147s 17ms/sample - loss: 0.9046 - accuracy: 0.2490 - val_loss: 1.1285 - val_accuracy: 0.2005\n",
      "Epoch 67/100\n",
      "8780/8800 [============================>.] - ETA: 0s - loss: 0.9011 - accuracy: 0.2514\n",
      "Epoch 00067: val_loss did not improve from 1.12701\n",
      "8800/8800 [==============================] - 147s 17ms/sample - loss: 0.9010 - accuracy: 0.2514 - val_loss: 1.1274 - val_accuracy: 0.2015\n",
      "Epoch 68/100\n",
      "8780/8800 [============================>.] - ETA: 0s - loss: 0.8973 - accuracy: 0.2531\n",
      "Epoch 00068: val_loss did not improve from 1.12701\n",
      "8800/8800 [==============================] - 147s 17ms/sample - loss: 0.8974 - accuracy: 0.2531 - val_loss: 1.1272 - val_accuracy: 0.2024\n",
      "Epoch 69/100\n",
      "8780/8800 [============================>.] - ETA: 0s - loss: 0.8939 - accuracy: 0.2544\n",
      "Epoch 00069: val_loss did not improve from 1.12701\n",
      "8800/8800 [==============================] - 147s 17ms/sample - loss: 0.8943 - accuracy: 0.2544 - val_loss: 1.1272 - val_accuracy: 0.2021\n",
      "Epoch 70/100\n",
      "8780/8800 [============================>.] - ETA: 0s - loss: 0.8907 - accuracy: 0.2555\n",
      "Epoch 00070: val_loss did not improve from 1.12701\n",
      "8800/8800 [==============================] - 147s 17ms/sample - loss: 0.8910 - accuracy: 0.2554 - val_loss: 1.1282 - val_accuracy: 0.2005\n",
      "Epoch 71/100\n",
      "8780/8800 [============================>.] - ETA: 0s - loss: 0.8879 - accuracy: 0.2568\n",
      "Epoch 00071: val_loss did not improve from 1.12701\n",
      "8800/8800 [==============================] - 147s 17ms/sample - loss: 0.8878 - accuracy: 0.2568 - val_loss: 1.1280 - val_accuracy: 0.2009\n",
      "Epoch 72/100\n",
      "8780/8800 [============================>.] - ETA: 0s - loss: 0.8848 - accuracy: 0.2574\n",
      "Epoch 00072: val_loss did not improve from 1.12701\n",
      "8800/8800 [==============================] - 147s 17ms/sample - loss: 0.8848 - accuracy: 0.2575 - val_loss: 1.1283 - val_accuracy: 0.2025\n",
      "Epoch 73/100\n",
      "8780/8800 [============================>.] - ETA: 0s - loss: 0.8814 - accuracy: 0.2595\n",
      "Epoch 00073: val_loss did not improve from 1.12701\n",
      "8800/8800 [==============================] - 147s 17ms/sample - loss: 0.8814 - accuracy: 0.2595 - val_loss: 1.1300 - val_accuracy: 0.2007\n",
      "Epoch 74/100\n",
      "8780/8800 [============================>.] - ETA: 0s - loss: 0.8777 - accuracy: 0.2605\n",
      "Epoch 00074: val_loss did not improve from 1.12701\n",
      "8800/8800 [==============================] - 147s 17ms/sample - loss: 0.8782 - accuracy: 0.2604 - val_loss: 1.1295 - val_accuracy: 0.2007\n",
      "Epoch 75/100\n",
      "8780/8800 [============================>.] - ETA: 0s - loss: 0.8747 - accuracy: 0.2629\n",
      "Epoch 00075: val_loss did not improve from 1.12701\n",
      "8800/8800 [==============================] - 147s 17ms/sample - loss: 0.8749 - accuracy: 0.2628 - val_loss: 1.1281 - val_accuracy: 0.2035\n",
      "Epoch 76/100\n",
      "8780/8800 [============================>.] - ETA: 0s - loss: 0.8717 - accuracy: 0.2641\n",
      "Epoch 00076: val_loss did not improve from 1.12701\n",
      "8800/8800 [==============================] - 147s 17ms/sample - loss: 0.8717 - accuracy: 0.2640 - val_loss: 1.1290 - val_accuracy: 0.2013\n",
      "Epoch 77/100\n",
      "8780/8800 [============================>.] - ETA: 0s - loss: 0.8692 - accuracy: 0.2645\n",
      "Epoch 00077: val_loss did not improve from 1.12701\n",
      "8800/8800 [==============================] - 147s 17ms/sample - loss: 0.8691 - accuracy: 0.2644 - val_loss: 1.1297 - val_accuracy: 0.2017\n",
      "Epoch 78/100\n",
      "8780/8800 [============================>.] - ETA: 0s - loss: 0.8658 - accuracy: 0.2664\n",
      "Epoch 00078: val_loss did not improve from 1.12701\n",
      "8800/8800 [==============================] - 147s 17ms/sample - loss: 0.8660 - accuracy: 0.2664 - val_loss: 1.1302 - val_accuracy: 0.1998\n",
      "Epoch 79/100\n"
     ]
    },
    {
     "name": "stdout",
     "output_type": "stream",
     "text": [
      "8780/8800 [============================>.] - ETA: 0s - loss: 0.8626 - accuracy: 0.2687\n",
      "Epoch 00079: val_loss did not improve from 1.12701\n",
      "8800/8800 [==============================] - 146s 17ms/sample - loss: 0.8625 - accuracy: 0.2687 - val_loss: 1.1300 - val_accuracy: 0.2029\n",
      "Epoch 80/100\n",
      "8780/8800 [============================>.] - ETA: 0s - loss: 0.8598 - accuracy: 0.2691\n",
      "Epoch 00080: val_loss did not improve from 1.12701\n",
      "8800/8800 [==============================] - 146s 17ms/sample - loss: 0.8598 - accuracy: 0.2691 - val_loss: 1.1302 - val_accuracy: 0.2007\n",
      "Epoch 81/100\n",
      "8780/8800 [============================>.] - ETA: 0s - loss: 0.8567 - accuracy: 0.2707\n",
      "Epoch 00081: val_loss did not improve from 1.12701\n",
      "8800/8800 [==============================] - 146s 17ms/sample - loss: 0.8568 - accuracy: 0.2708 - val_loss: 1.1308 - val_accuracy: 0.2017\n",
      "Epoch 82/100\n",
      "8780/8800 [============================>.] - ETA: 0s - loss: 0.8534 - accuracy: 0.2717\n",
      "Epoch 00082: val_loss did not improve from 1.12701\n",
      "8800/8800 [==============================] - 146s 17ms/sample - loss: 0.8539 - accuracy: 0.2717 - val_loss: 1.1316 - val_accuracy: 0.1996\n",
      "Epoch 83/100\n",
      "8780/8800 [============================>.] - ETA: 0s - loss: 0.8507 - accuracy: 0.2737\n",
      "Epoch 00083: val_loss did not improve from 1.12701\n",
      "8800/8800 [==============================] - 146s 17ms/sample - loss: 0.8511 - accuracy: 0.2736 - val_loss: 1.1317 - val_accuracy: 0.2010\n",
      "Epoch 84/100\n",
      "8780/8800 [============================>.] - ETA: 0s - loss: 0.8482 - accuracy: 0.2748\n",
      "Epoch 00084: val_loss did not improve from 1.12701\n",
      "8800/8800 [==============================] - 146s 17ms/sample - loss: 0.8478 - accuracy: 0.2749 - val_loss: 1.1315 - val_accuracy: 0.2016\n",
      "Epoch 85/100\n",
      "8780/8800 [============================>.] - ETA: 0s - loss: 0.8454 - accuracy: 0.2766\n",
      "Epoch 00085: val_loss did not improve from 1.12701\n",
      "8800/8800 [==============================] - 147s 17ms/sample - loss: 0.8453 - accuracy: 0.2766 - val_loss: 1.1323 - val_accuracy: 0.2013\n",
      "Epoch 86/100\n",
      "8780/8800 [============================>.] - ETA: 0s - loss: 0.8421 - accuracy: 0.2781\n",
      "Epoch 00086: val_loss did not improve from 1.12701\n",
      "8800/8800 [==============================] - 147s 17ms/sample - loss: 0.8422 - accuracy: 0.2780 - val_loss: 1.1335 - val_accuracy: 0.2006\n",
      "Epoch 87/100\n",
      "8780/8800 [============================>.] - ETA: 0s - loss: 0.8396 - accuracy: 0.2793\n",
      "Epoch 00087: val_loss did not improve from 1.12701\n",
      "8800/8800 [==============================] - 146s 17ms/sample - loss: 0.8394 - accuracy: 0.2794 - val_loss: 1.1338 - val_accuracy: 0.2014\n",
      "Epoch 88/100\n",
      "8780/8800 [============================>.] - ETA: 0s - loss: 0.8369 - accuracy: 0.2799\n",
      "Epoch 00088: val_loss did not improve from 1.12701\n",
      "8800/8800 [==============================] - 146s 17ms/sample - loss: 0.8370 - accuracy: 0.2799 - val_loss: 1.1337 - val_accuracy: 0.1999\n",
      "Epoch 89/100\n",
      "8780/8800 [============================>.] - ETA: 0s - loss: 0.8338 - accuracy: 0.2818\n",
      "Epoch 00089: val_loss did not improve from 1.12701\n",
      "8800/8800 [==============================] - 146s 17ms/sample - loss: 0.8340 - accuracy: 0.2819 - val_loss: 1.1347 - val_accuracy: 0.2001\n",
      "Epoch 90/100\n",
      "8780/8800 [============================>.] - ETA: 0s - loss: 0.8306 - accuracy: 0.2834\n",
      "Epoch 00090: val_loss did not improve from 1.12701\n",
      "8800/8800 [==============================] - 147s 17ms/sample - loss: 0.8311 - accuracy: 0.2834 - val_loss: 1.1346 - val_accuracy: 0.1996\n",
      "Epoch 91/100\n",
      "8780/8800 [============================>.] - ETA: 0s - loss: 0.8284 - accuracy: 0.2847\n",
      "Epoch 00091: val_loss did not improve from 1.12701\n",
      "8800/8800 [==============================] - 146s 17ms/sample - loss: 0.8281 - accuracy: 0.2847 - val_loss: 1.1367 - val_accuracy: 0.2018\n",
      "Epoch 92/100\n",
      "8780/8800 [============================>.] - ETA: 0s - loss: 0.8259 - accuracy: 0.2866\n",
      "Epoch 00092: val_loss did not improve from 1.12701\n",
      "8800/8800 [==============================] - 146s 17ms/sample - loss: 0.8257 - accuracy: 0.2866 - val_loss: 1.1356 - val_accuracy: 0.2003\n",
      "Epoch 93/100\n",
      "8780/8800 [============================>.] - ETA: 0s - loss: 0.8232 - accuracy: 0.2878\n",
      "Epoch 00093: val_loss did not improve from 1.12701\n",
      "8800/8800 [==============================] - 146s 17ms/sample - loss: 0.8229 - accuracy: 0.2879 - val_loss: 1.1364 - val_accuracy: 0.2003\n",
      "Epoch 94/100\n",
      "8780/8800 [============================>.] - ETA: 0s - loss: 0.8204 - accuracy: 0.2890\n",
      "Epoch 00094: val_loss did not improve from 1.12701\n",
      "8800/8800 [==============================] - 146s 17ms/sample - loss: 0.8201 - accuracy: 0.2891 - val_loss: 1.1366 - val_accuracy: 0.1995\n",
      "Epoch 95/100\n",
      "8780/8800 [============================>.] - ETA: 0s - loss: 0.8171 - accuracy: 0.2905\n",
      "Epoch 00095: val_loss did not improve from 1.12701\n",
      "8800/8800 [==============================] - 146s 17ms/sample - loss: 0.8173 - accuracy: 0.2905 - val_loss: 1.1376 - val_accuracy: 0.2015\n",
      "Epoch 96/100\n",
      "8780/8800 [============================>.] - ETA: 0s - loss: 0.8149 - accuracy: 0.2913\n",
      "Epoch 00096: val_loss did not improve from 1.12701\n",
      "8800/8800 [==============================] - 146s 17ms/sample - loss: 0.8149 - accuracy: 0.2913 - val_loss: 1.1374 - val_accuracy: 0.2017\n",
      "Epoch 97/100\n",
      "8780/8800 [============================>.] - ETA: 0s - loss: 0.8122 - accuracy: 0.2936\n",
      "Epoch 00097: val_loss did not improve from 1.12701\n",
      "8800/8800 [==============================] - 146s 17ms/sample - loss: 0.8123 - accuracy: 0.2935 - val_loss: 1.1387 - val_accuracy: 0.1985\n",
      "Epoch 98/100\n",
      "8780/8800 [============================>.] - ETA: 0s - loss: 0.8096 - accuracy: 0.2951\n",
      "Epoch 00098: val_loss did not improve from 1.12701\n",
      "8800/8800 [==============================] - 146s 17ms/sample - loss: 0.8094 - accuracy: 0.2952 - val_loss: 1.1398 - val_accuracy: 0.1990\n",
      "Epoch 99/100\n",
      "8780/8800 [============================>.] - ETA: 0s - loss: 0.8073 - accuracy: 0.2946\n",
      "Epoch 00099: val_loss did not improve from 1.12701\n",
      "8800/8800 [==============================] - 146s 17ms/sample - loss: 0.8074 - accuracy: 0.2946 - val_loss: 1.1397 - val_accuracy: 0.2003\n",
      "Epoch 100/100\n",
      "8780/8800 [============================>.] - ETA: 0s - loss: 0.8048 - accuracy: 0.2975\n",
      "Epoch 00100: val_loss did not improve from 1.12701\n",
      "8800/8800 [==============================] - 147s 17ms/sample - loss: 0.8047 - accuracy: 0.2976 - val_loss: 1.1408 - val_accuracy: 0.1978\n"
     ]
    }
   ],
   "source": [
    "checkpointer = tf.keras.callbacks.ModelCheckpoint(filepath='baseline2.7.hdf5', verbose=2, save_best_only=True)\n",
    "\n",
    "history = model.fit([encoder_input_sequences, decoder_input_sequences],\n",
    "                            decoder_output_sequences,\n",
    "                            batch_size=batch_size,\n",
    "                            epochs=epochs, \n",
    "                            validation_split=0.2,\n",
    "                            callbacks=[checkpointer])"
   ]
  },
  {
   "cell_type": "code",
   "execution_count": 45,
   "metadata": {},
   "outputs": [
    {
     "data": {
      "image/png": "[encoded data removed]",
      "text/plain": [
       "<Figure size 432x288 with 1 Axes>"
      ]
     },
     "metadata": {
      "needs_background": "light"
     },
     "output_type": "display_data"
    },
    {
     "data": {
      "image/png": "[encoded data removed]",
      "text/plain": [
       "<Figure size 432x288 with 1 Axes>"
      ]
     },
     "metadata": {
      "needs_background": "light"
     },
     "output_type": "display_data"
    }
   ],
   "source": [
    "# summarize history for accuracy\n",
    "plt.plot(history.history['accuracy'])\n",
    "plt.plot(history.history['val_accuracy'])\n",
    "plt.title('model accuracy')\n",
    "plt.ylabel('accuracy')\n",
    "plt.xlabel('epoch')\n",
    "plt.legend(['train', 'test'], loc='upper left')\n",
    "plt.show()\n",
    "# summarize history for loss\n",
    "plt.plot(history.history['loss'])\n",
    "plt.plot(history.history['val_loss'])\n",
    "plt.title('model loss')\n",
    "plt.ylabel('loss')\n",
    "plt.xlabel('epoch')\n",
    "plt.legend(['train', 'test'], loc='upper left')\n",
    "plt.show()"
   ]
  },
  {
   "cell_type": "code",
   "execution_count": null,
   "metadata": {},
   "outputs": [],
   "source": [
    "from tensorflow.keras.utils import plot_model\n",
    "#plot_model(model, to_file = \"seq2seq_translation.png\", show_shapes = True)"
   ]
  },
  {
   "cell_type": "markdown",
   "metadata": {},
   "source": [
    "## Evaluation"
   ]
  },
  {
   "cell_type": "code",
   "execution_count": 46,
   "metadata": {},
   "outputs": [
    {
     "name": "stdout",
     "output_type": "stream",
     "text": [
      "Model: \"model_6\"\n",
      "__________________________________________________________________________________________________\n",
      "Layer (type)                    Output Shape         Param #     Connected to                     \n",
      "==================================================================================================\n",
      "input_11 (InputLayer)           [(None, None)]       0                                            \n",
      "__________________________________________________________________________________________________\n",
      "embedding_4 (Embedding)         (None, None, 64)     866432      input_11[0][0]                   \n",
      "__________________________________________________________________________________________________\n",
      "input_12 (InputLayer)           [(None, None)]       0                                            \n",
      "__________________________________________________________________________________________________\n",
      "bidirectional_2 (Bidirectional) [(None, 1024), (None 2363392     embedding_4[0][0]                \n",
      "__________________________________________________________________________________________________\n",
      "embedding_5 (Embedding)         (None, None, 64)     1111296     input_12[0][0]                   \n",
      "__________________________________________________________________________________________________\n",
      "concatenate_4 (Concatenate)     (None, 1024)         0           bidirectional_2[0][1]            \n",
      "                                                                 bidirectional_2[0][3]            \n",
      "__________________________________________________________________________________________________\n",
      "concatenate_5 (Concatenate)     (None, 1024)         0           bidirectional_2[0][2]            \n",
      "                                                                 bidirectional_2[0][4]            \n",
      "__________________________________________________________________________________________________\n",
      "lstm_5 (LSTM)                   [(None, None, 1024), 4460544     embedding_5[0][0]                \n",
      "                                                                 concatenate_4[0][0]              \n",
      "                                                                 concatenate_5[0][0]              \n",
      "__________________________________________________________________________________________________\n",
      "dense_2 (Dense)                 (None, None, 17364)  17798100    lstm_5[0][0]                     \n",
      "==================================================================================================\n",
      "Total params: 26,599,764\n",
      "Trainable params: 26,599,764\n",
      "Non-trainable params: 0\n",
      "__________________________________________________________________________________________________\n"
     ]
    }
   ],
   "source": [
    "_, encoder_model, decoder_model = seq2seq_model(num_words_input, embedings_dim, hidden_units, num_words_output, max_input_len, max_out_len, LR, dropout)"
   ]
  },
  {
   "cell_type": "code",
   "execution_count": 47,
   "metadata": {},
   "outputs": [],
   "source": [
    "idx2word_input = {v:k for k, v in word2idx_inputs.items()}\n",
    "idx2word_target = {v:k for k, v in word2idx_outputs.items()}"
   ]
  },
  {
   "cell_type": "code",
   "execution_count": 50,
   "metadata": {},
   "outputs": [],
   "source": [
    "def translate_sentence(input_seq):\n",
    "    \n",
    "    #print(input_seq.shape)\n",
    "    input_seq = input_seq.reshape(-1,max_input_len)\n",
    "    states_value = encoder_model.predict(input_seq)\n",
    "    \n",
    "    target_seq = np.zeros((1, 1))\n",
    "    target_seq[0, 0] = word2idx_outputs['<bos>']\n",
    "    eos = word2idx_outputs['<eos>']\n",
    "    output_sentence = []\n",
    "    \n",
    "    #print(\"Translating sequence: \", input_seq)\n",
    "    for _ in range(max_out_len):\n",
    "        \n",
    "        output_tokens, h, c = decoder_model.predict([target_seq] + states_value)\n",
    "        idx = np.argmax(output_tokens[0, 0, :])\n",
    "\n",
    "        if eos == idx:\n",
    "            break\n",
    "\n",
    "        word = ''\n",
    "\n",
    "        if idx > 0:\n",
    "            word = idx2word_target[idx]\n",
    "            output_sentence.append(word)\n",
    "            #print(\"Predicting word \"+word+\"for index \"+str(idx))\n",
    "\n",
    "        target_seq[0, 0] = idx\n",
    "        states_value = [h, c]\n",
    "        \n",
    "        \n",
    "\n",
    "    return ' '.join(output_sentence)"
   ]
  },
  {
   "cell_type": "code",
   "execution_count": 51,
   "metadata": {},
   "outputs": [
    {
     "name": "stdout",
     "output_type": "stream",
     "text": [
      "Input: mr president ladies and gentlemen the financial perspective outlines the scope of the eu ’s activities over coming years as well as providing a framework for such activities and determining how effective they will be .\n",
      "==============================\n",
      "Response: blâme inquiétantes cinquantième permettent caractérisée collaboré nexi purifier pirates ironique louable support support optique deviez shah ankara placez placez mortalité épargnerait épargnerait épargnerait épargnerait épargnerait purifier naturelles réparer tremblent turc dispersées héritées optimisme habillement participent masses millions veillons radicalement radicalement sandiniste créerait résistent traducteur remise constat symphony objecteront objecteront cachet préservions place collectives n' créances fécule réel attrapées 1977 émancipatrices émancipatrices inciterais familiales capables — espèce défendre clairvoyance financés recueillir extraire janvier janvier cohérents difficulté individuelles préféré renforcées préféré renforcées baisse téléphoné républicain confirmant 1994 fléaux moqueuse affrontèrent affrontèrent admire détenu écho détenu ajustées tv6 détenu pegu contrainte office office hardy précaution hardy linked vergogne part part imposent gouvernante pratiquant gagne ivresse contraignants\n"
     ]
    }
   ],
   "source": [
    "i = 1\n",
    "input_seq = encoder_input_sequences[i]\n",
    "translation = translate_sentence(input_seq)\n",
    "\n",
    "print('Input:', encoder_input_text[i])\n",
    "print('==============================')\n",
    "print('Response:', translation)"
   ]
  },
  {
   "cell_type": "code",
   "execution_count": 60,
   "metadata": {},
   "outputs": [
    {
     "name": "stdout",
     "output_type": "stream",
     "text": [
      "['so too does the idea that accommodating religious differences is dangerous\\n', 'mr president ladies and gentlemen the financial perspective outlines the scope of the eu ’s activities over coming years as well as providing a framework for such activities and determining how effective they will be\\n', 'reserve should turn into thought - provoking policy\\n', 'it is my profound belief that we can only advance through cooperation and negotiation\\n', 'the european union has territorial waters greater than its entire territory with 1 200 ports and 90 % of its exports are transported by sea\\n']\n"
     ]
    }
   ],
   "source": [
    "text_inputs = []\n",
    "with open(os.path.join(DIRECTORY_URL, FILE_NAMES[0]), 'r', encoding='utf-8') as en_file:\n",
    "    input_text = en_file.readlines()\n",
    "    en_file.close() \n",
    "print(input_text[0:5])\n",
    "input_text = input_text[0:5]"
   ]
  },
  {
   "cell_type": "code",
   "execution_count": 61,
   "metadata": {},
   "outputs": [],
   "source": [
    "with open(\"text_inputs.txt\", \"w\", encoding='utf-8') as in_file:\n",
    "    in_file.writelines(input_text)\n",
    "    in_file.close()"
   ]
  },
  {
   "cell_type": "code",
   "execution_count": 62,
   "metadata": {},
   "outputs": [
    {
     "name": "stdout",
     "output_type": "stream",
     "text": [
      "['L’ idée de concilier les différences religieuses semble donc dangereuse .\\n', 'Monsieur le Président , Mesdames et Messieurs , les perspectives financières esquissent la portée des activités de l’ UE pour les années à venir , fournissent un cadre pour ces activités et déterminent leur efficacité .\\n', 'La réticence doit laisser place à une politique stimulante .\\n', 'Je suis intimement convaincu que nous ne pourrons progresser que si nous coopérons et négocions .\\n', \"Le territoire marin de l' Union européenne est plus vaste que son territoire terrestre . On y dénombre 1 200 ports et 90 % de ses exportations sont acheminées par mer .\\n\"]\n"
     ]
    }
   ],
   "source": [
    "targets = []\n",
    "with open(os.path.join(DIRECTORY_URL, FILE_NAMES[1]), 'r', encoding='utf-8') as fr_file:\n",
    "    targets = fr_file.readlines()\n",
    "    fr_file.close() \n",
    "print(targets[0:5])\n",
    "targets = targets[0:5]"
   ]
  },
  {
   "cell_type": "code",
   "execution_count": 63,
   "metadata": {},
   "outputs": [],
   "source": [
    "with open(\"targets.txt\", \"w\", encoding='utf-8') as target_file:\n",
    "    target_file.writelines(targets)\n",
    "    target_file.close()"
   ]
  },
  {
   "cell_type": "code",
   "execution_count": 64,
   "metadata": {},
   "outputs": [],
   "source": [
    "from pathlib import Path\n",
    "def open_file(file_to_open):\n",
    "    input_text = []\n",
    "    with open(Path(file_to_open), 'r', encoding=\"UTF-8\") as f:\n",
    "        for line in f.readlines():\n",
    "            line = line.rstrip().split('\\n')\n",
    "            input_text.append(line[0])\n",
    "        f.close()\n",
    "    return input_text"
   ]
  },
  {
   "cell_type": "code",
   "execution_count": 65,
   "metadata": {},
   "outputs": [],
   "source": [
    "def prep_input_text(input_text):\n",
    "    input_text = input_tokenizer.texts_to_sequences(input_text)\n",
    "    input_text = pad_sequences(input_text, maxlen=max_input_len)\n",
    "    return input_text"
   ]
  },
  {
   "cell_type": "code",
   "execution_count": 66,
   "metadata": {},
   "outputs": [],
   "source": [
    "from pathlib import Path\n",
    "\n",
    "# Load model parameters\n",
    "#model.load_weights(\"baseline2.h5\")\n",
    "args_input_file_path = \"text_inputs.txt\"\n",
    "#pred_file_path = \"predictions.txt\"\n",
    "\n",
    "# Load text input\n",
    "eval_input_text = open_file(args_input_file_path)\n",
    "\n",
    "# Preprocess input\n",
    "input_prep = prep_input_text(eval_input_text)\n",
    "\n",
    "# Run prediction\n",
    "translations = []\n",
    "for text in input_prep:\n",
    "    translations.append(translate_sentence(text)+\"\\n\")\n",
    "\n",
    "# Save to file\n",
    "with open(\"predictions.txt\", \"w\", encoding='utf-8') as target_file:\n",
    "    target_file.writelines(translations)\n",
    "    target_file.close()"
   ]
  },
  {
   "cell_type": "markdown",
   "metadata": {
    "colab": {},
    "colab_type": "code",
    "id": "eq0ggv-VO_py"
   },
   "source": [
    "## SacreBLEU Evaluation \n",
    "['0.3', '0.2', '0.3', '0.2', '0.3', '']\n",
    "\n",
    "final avg bleu score: 0.26"
   ]
  },
  {
   "cell_type": "code",
   "execution_count": null,
   "metadata": {},
   "outputs": [],
   "source": []
  }
 ],
 "metadata": {
  "colab": {
   "name": "Project2_baseline.ipynb",
   "provenance": []
  },
  "kernelspec": {
   "display_name": "Python 3.7.6 64-bit ('env1': venv)",
   "language": "python",
   "name": "python37664bitenv1venv65b3d667bd5b4de888060908243be41e"
  },
  "language_info": {
   "codemirror_mode": {
    "name": "ipython",
    "version": 3
   },
   "file_extension": ".py",
   "mimetype": "text/x-python",
   "name": "python",
   "nbconvert_exporter": "python",
   "pygments_lexer": "ipython3",
   "version": "3.7.6"
  }
 },
 "nbformat": 4,
 "nbformat_minor": 4
}
