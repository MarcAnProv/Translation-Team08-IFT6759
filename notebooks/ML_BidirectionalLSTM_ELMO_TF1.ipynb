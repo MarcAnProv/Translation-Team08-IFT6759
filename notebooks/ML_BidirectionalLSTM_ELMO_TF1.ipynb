{
 "cells": [
  {
   "cell_type": "code",
   "execution_count": 1,
   "metadata": {},
   "outputs": [],
   "source": [
    "#!pip install --no-index --upgrade pip"
   ]
  },
  {
   "cell_type": "code",
   "execution_count": 2,
   "metadata": {},
   "outputs": [],
   "source": [
    "#!pip install --no-index numpy"
   ]
  },
  {
   "cell_type": "code",
   "execution_count": 3,
   "metadata": {},
   "outputs": [],
   "source": [
    "#!pip install --no-index tensorflow-gpu"
   ]
  },
  {
   "cell_type": "code",
   "execution_count": 4,
   "metadata": {},
   "outputs": [],
   "source": [
    "#!pip install --no-index matplotlib"
   ]
  },
  {
   "cell_type": "code",
   "execution_count": 5,
   "metadata": {
    "colab": {},
    "colab_type": "code",
    "id": "gvVhUeaRO_nA"
   },
   "outputs": [],
   "source": [
    "import tensorflow as tf\n",
    "#import tensorflow_addons as tfa\n",
    "#import tensorflow_datasets as tfds\n",
    "import os\n",
    "import matplotlib.pyplot as plt\n",
    "import io\n",
    "import unicodedata\n",
    "import re\n",
    "import gc\n",
    "from collections import Counter\n",
    "#import keras as k"
   ]
  },
  {
   "cell_type": "code",
   "execution_count": 6,
   "metadata": {
    "colab": {},
    "colab_type": "code",
    "id": "ys0Y7XsBO_nY"
   },
   "outputs": [],
   "source": [
    "#physical_devices = tf.config.list_physical_devices('GPU')\n",
    "#physical_devices"
   ]
  },
  {
   "cell_type": "code",
   "execution_count": 7,
   "metadata": {},
   "outputs": [],
   "source": [
    "#tf.config.experimental.set_memory_growth(physical_devices[0], enable=True)\n",
    "#os.environ['TF_FORCE_GPU_ALLOW_GROWTH'] = 'true'"
   ]
  },
  {
   "cell_type": "code",
   "execution_count": 8,
   "metadata": {},
   "outputs": [
    {
     "data": {
      "text/plain": [
       "'1.15.0'"
      ]
     },
     "execution_count": 8,
     "metadata": {},
     "output_type": "execute_result"
    }
   ],
   "source": [
    "tf.__version__"
   ]
  },
  {
   "cell_type": "code",
   "execution_count": 9,
   "metadata": {},
   "outputs": [
    {
     "name": "stderr",
     "output_type": "stream",
     "text": [
      "Using TensorFlow backend.\n"
     ]
    }
   ],
   "source": [
    "from tensorflow.keras.models import Model\n",
    "from tensorflow.keras import layers\n",
    "from tensorflow.keras.layers import concatenate\n",
    "import numpy as np\n",
    "from keras.preprocessing.sequence import pad_sequences\n",
    "import h5py\n",
    "import os\n",
    "import bilm\n",
    "from bilm import Batcher, BidirectionalLanguageModel, weight_layers\n",
    "import datetime as dt"
   ]
  },
  {
   "cell_type": "markdown",
   "metadata": {
    "colab_type": "text",
    "id": "UYVG_U1HO_ne"
   },
   "source": [
    "## Preprocessing: Tokenize, clean-up, load, padding"
   ]
  },
  {
   "cell_type": "markdown",
   "metadata": {
    "colab_type": "text",
    "id": "5C4OBlaeO_nf"
   },
   "source": [
    "### Tokenize and clean up data"
   ]
  },
  {
   "cell_type": "code",
   "execution_count": 10,
   "metadata": {
    "colab": {},
    "colab_type": "code",
    "id": "gEI1uWtjO_nh"
   },
   "outputs": [],
   "source": [
    "# Lower case for the translation\n",
    "# Load original english text as is\n",
    "# install requirement.txt\n",
    "# python -m spacy download fr_core_news_sm\n",
    "# correction of tokenizer.py: add encoding='utf-8' to open method\n",
    "# same thing for punctuation_remover.py\n",
    "# python tokenizer.py --input train.lang2 --output tokenized --lang fr --keep-empty-lines\n",
    "# python punctuation_remover.py --input train.lang2.tok --output tokenized\n"
   ]
  },
  {
   "cell_type": "markdown",
   "metadata": {
    "colab_type": "text",
    "id": "CpNtsXsjO_nn"
   },
   "source": [
    "### Loading weights"
   ]
  },
  {
   "cell_type": "code",
   "execution_count": 11,
   "metadata": {
    "colab": {},
    "colab_type": "code",
    "id": "y5nxMfzAO_no"
   },
   "outputs": [],
   "source": [
    "# Load data\n",
    "textdir = \"data/train/\"\n",
    "fr_text_file = os.path.join(textdir, 'train.lang2')\n",
    "en_text_file = os.path.join(textdir, 'train.lang1')\n",
    "\n",
    "#FILE_NAMES = [\"train.lang1\",\"train.lang2\"]\n",
    "#ELMo_Embeddings = [\"new_ELMo_input_en_embeddings.hdf5\",\"ELMo_emb_fr.hdf5\"]\n",
    "\n",
    "datadir = \"ELMo/\"\n",
    "Elmo_emb_dec_input_file = os.path.join(datadir, 'swb_fr/', 'ELMo_decoder_input_embeddings.hdf5')\n",
    "Elmo_emb_dec_targets_file = os.path.join(datadir, 'swb_fr/', 'ELMo_decoder_output_embeddings.hdf5')\n",
    "\n",
    "fr_vocab_file = os.path.join(datadir, 'swb_fr/', 'vocab.txt')\n",
    "fr_options_file = os.path.join(datadir, 'swb_fr/', 'options_eval_fr.json')\n",
    "fr_weight_file = os.path.join(datadir, 'swb_fr/', 'swb_weights_fr.hdf5')\n",
    "\n",
    "Elmo_emb_enc_file = os.path.join(datadir, 'swb_en/', 'ELMo_encoder_embeddings_post.hdf5')\n",
    "en_vocab_file = os.path.join(datadir, 'swb_en/', 'vocab.txt')\n",
    "en_options_file = os.path.join(datadir, 'swb_en/', 'options_eval.json')\n",
    "en_weight_file = os.path.join(datadir, 'swb_en/', 'swb_weights_en.hdf5')\n",
    "\n",
    "\n",
    "SOS_ELMo_emb_file = os.path.join(datadir, '../', 'SOS_ELMo_emb.hdf5')\n"
   ]
  },
  {
   "cell_type": "code",
   "execution_count": 12,
   "metadata": {},
   "outputs": [],
   "source": [
    "en_elmo_emb = h5py.File(Elmo_emb_enc_file, 'r')\n",
    "fr_elmo_emb = h5py.File(Elmo_emb_dec_input_file, 'r')\n",
    "#fr_elmo_emb_targets = h5py.File(Elmo_emb_dec_targets_file, 'r')"
   ]
  },
  {
   "cell_type": "markdown",
   "metadata": {},
   "source": [
    "### Load vocabulary"
   ]
  },
  {
   "cell_type": "code",
   "execution_count": 13,
   "metadata": {},
   "outputs": [
    {
     "data": {
      "text/plain": [
       "['<PAD>', '<S>', '</S>', '<UNK>', 'the', 'to', 'of', 'and', 'in', 'a']"
      ]
     },
     "execution_count": 13,
     "metadata": {},
     "output_type": "execute_result"
    }
   ],
   "source": [
    "en_vocab = []\n",
    "with open(en_vocab_file, 'r', encoding='utf-8') as f:\n",
    "    for line in f.readlines():\n",
    "        line = line.rstrip().split('\\n')\n",
    "        en_vocab.append(line[0])\n",
    "    f.close()\n",
    "\n",
    "en_vocab = ['<PAD>'] + en_vocab\n",
    "en_vocab[:10]"
   ]
  },
  {
   "cell_type": "code",
   "execution_count": 14,
   "metadata": {},
   "outputs": [
    {
     "name": "stdout",
     "output_type": "stream",
     "text": [
      "Number of input lang tokens:  165670\n"
     ]
    }
   ],
   "source": [
    "en_word2idx = {v:k for k, v in enumerate(en_vocab)}\n",
    "#print(en_word2idx)\n",
    "num_words_input = len(en_word2idx)\n",
    "print(\"Number of input lang tokens: \",num_words_input)"
   ]
  },
  {
   "cell_type": "code",
   "execution_count": 15,
   "metadata": {},
   "outputs": [
    {
     "data": {
      "text/plain": [
       "['<PAD>', '<S>', '</S>', '<UNK>', 'de', '.', ',', 'la', 'et', 'le']"
      ]
     },
     "execution_count": 15,
     "metadata": {},
     "output_type": "execute_result"
    }
   ],
   "source": [
    "fr_vocab = []\n",
    "with open(fr_vocab_file, 'r', encoding='utf-8') as f:\n",
    "    for line in f.readlines():\n",
    "        line = line.rstrip().split('\\n')\n",
    "        fr_vocab.append(line[0])\n",
    "    f.close()\n",
    "\n",
    "fr_vocab = ['<PAD>'] + fr_vocab\n",
    "fr_vocab[:10]"
   ]
  },
  {
   "cell_type": "code",
   "execution_count": 16,
   "metadata": {},
   "outputs": [
    {
     "name": "stdout",
     "output_type": "stream",
     "text": [
      "Number of output lang tokens:  83332\n"
     ]
    }
   ],
   "source": [
    "fr_word2idx = {v:k for k, v in enumerate(fr_vocab)}\n",
    "fr_idx2word = {k:v for k, v in enumerate(fr_vocab)}\n",
    "#print(fr_word2idx)\n",
    "num_words_output = len(fr_word2idx)\n",
    "print(\"Number of output lang tokens: \",num_words_output)"
   ]
  },
  {
   "cell_type": "markdown",
   "metadata": {},
   "source": [
    "### Load ELMo embeddings"
   ]
  },
  {
   "cell_type": "code",
   "execution_count": 17,
   "metadata": {},
   "outputs": [],
   "source": [
    "# Encoder embeddings\n",
    "dset = list(en_elmo_emb.keys())[0]\n",
    "encoder_input_sequences = en_elmo_emb[dset][()]\n",
    "en_elmo_emb.close()"
   ]
  },
  {
   "cell_type": "code",
   "execution_count": 18,
   "metadata": {},
   "outputs": [
    {
     "data": {
      "text/plain": [
       "(11000, 96, 256)"
      ]
     },
     "execution_count": 18,
     "metadata": {},
     "output_type": "execute_result"
    }
   ],
   "source": [
    "encoder_input_sequences.shape"
   ]
  },
  {
   "cell_type": "code",
   "execution_count": 19,
   "metadata": {},
   "outputs": [
    {
     "data": {
      "text/plain": [
       "96"
      ]
     },
     "execution_count": 19,
     "metadata": {},
     "output_type": "execute_result"
    }
   ],
   "source": [
    "# max input sentence length\n",
    "max_input_len = encoder_input_sequences.shape[1]\n",
    "max_input_len"
   ]
  },
  {
   "cell_type": "code",
   "execution_count": 20,
   "metadata": {},
   "outputs": [
    {
     "data": {
      "text/plain": [
       "array([[ 0.9377234 ,  0.11211856, -1.815702  , ..., -1.0165986 ,\n",
       "         0.2566865 , -1.4266841 ],\n",
       "       [ 0.76397216, -0.72957176, -1.2059255 , ..., -0.53055835,\n",
       "        -0.28045744, -1.6430402 ],\n",
       "       [-0.09817386, -2.4250271 ,  1.2986397 , ...,  0.80349994,\n",
       "         0.70233214, -3.0202804 ],\n",
       "       ...,\n",
       "       [ 0.        ,  0.        ,  0.        , ...,  0.        ,\n",
       "         0.        ,  0.        ],\n",
       "       [ 0.        ,  0.        ,  0.        , ...,  0.        ,\n",
       "         0.        ,  0.        ],\n",
       "       [ 0.        ,  0.        ,  0.        , ...,  0.        ,\n",
       "         0.        ,  0.        ]], dtype=float32)"
      ]
     },
     "execution_count": 20,
     "metadata": {},
     "output_type": "execute_result"
    }
   ],
   "source": [
    "encoder_input_sequences[0]"
   ]
  },
  {
   "cell_type": "markdown",
   "metadata": {},
   "source": [
    "### Decoder input embeddings"
   ]
  },
  {
   "cell_type": "code",
   "execution_count": 21,
   "metadata": {},
   "outputs": [],
   "source": [
    "# Decoder input embeddings\n",
    "dset = list(fr_elmo_emb.keys())[0]\n",
    "decoder_input_sequences = fr_elmo_emb[dset][()]\n",
    "fr_elmo_emb.close()"
   ]
  },
  {
   "cell_type": "code",
   "execution_count": 22,
   "metadata": {},
   "outputs": [
    {
     "data": {
      "text/plain": [
       "(11000, 113, 256)"
      ]
     },
     "execution_count": 22,
     "metadata": {},
     "output_type": "execute_result"
    }
   ],
   "source": [
    "decoder_input_sequences.shape"
   ]
  },
  {
   "cell_type": "code",
   "execution_count": 23,
   "metadata": {},
   "outputs": [
    {
     "data": {
      "text/plain": [
       "113"
      ]
     },
     "execution_count": 23,
     "metadata": {},
     "output_type": "execute_result"
    }
   ],
   "source": [
    "# max input sentence length\n",
    "max_out_len = decoder_input_sequences.shape[1]\n",
    "max_out_len"
   ]
  },
  {
   "cell_type": "code",
   "execution_count": 24,
   "metadata": {},
   "outputs": [
    {
     "data": {
      "text/plain": [
       "array([[-1.3515264 , -0.4155752 , -1.1044897 , ..., -0.6278715 ,\n",
       "         1.9337945 , -1.7928498 ],\n",
       "       [ 1.0957094 ,  0.7679421 ,  1.6110834 , ...,  0.3838907 ,\n",
       "        -0.34145802,  1.4356495 ],\n",
       "       [ 0.7996905 ,  0.6359963 ,  0.70580614, ..., -0.95944005,\n",
       "         1.1262033 , -1.3790954 ],\n",
       "       ...,\n",
       "       [ 0.        ,  0.        ,  0.        , ...,  0.        ,\n",
       "         0.        ,  0.        ],\n",
       "       [ 0.        ,  0.        ,  0.        , ...,  0.        ,\n",
       "         0.        ,  0.        ],\n",
       "       [ 0.        ,  0.        ,  0.        , ...,  0.        ,\n",
       "         0.        ,  0.        ]], dtype=float32)"
      ]
     },
     "execution_count": 24,
     "metadata": {},
     "output_type": "execute_result"
    }
   ],
   "source": [
    "decoder_input_sequences[0]"
   ]
  },
  {
   "cell_type": "markdown",
   "metadata": {},
   "source": [
    "### Decoder targets"
   ]
  },
  {
   "cell_type": "code",
   "execution_count": 25,
   "metadata": {},
   "outputs": [],
   "source": [
    "# Load french train text\n",
    "decoder_target_text = []\n",
    "\n",
    "with open(fr_text_file, 'r', encoding=\"UTF-8\") as fr_file:\n",
    "    for line in fr_file.readlines():\n",
    "        line = line.rstrip().split('\\n')\n",
    "\n",
    "        target_line = line[0]+\" </S>\"\n",
    "        #input_line = \"<S> \"+line[0]+\"\\n\"\n",
    "\n",
    "        #decoder_input_text.append(input_line)\n",
    "        decoder_target_text.append(target_line)\n",
    "    fr_file.close()"
   ]
  },
  {
   "cell_type": "code",
   "execution_count": 26,
   "metadata": {},
   "outputs": [
    {
     "data": {
      "text/plain": [
       "['L’ idée de concilier les différences religieuses semble donc dangereuse . </S>',\n",
       " 'Monsieur le Président , Mesdames et Messieurs , les perspectives financières esquissent la portée des activités de l’ UE pour les années à venir , fournissent un cadre pour ces activités et déterminent leur efficacité . </S>',\n",
       " 'La réticence doit laisser place à une politique stimulante . </S>']"
      ]
     },
     "execution_count": 26,
     "metadata": {},
     "output_type": "execute_result"
    }
   ],
   "source": [
    "decoder_target_text[:3]"
   ]
  },
  {
   "cell_type": "code",
   "execution_count": 27,
   "metadata": {},
   "outputs": [],
   "source": [
    "# Tokenize text\n",
    "tokenized_context = [sentence.split() for sentence in decoder_target_text]"
   ]
  },
  {
   "cell_type": "code",
   "execution_count": 28,
   "metadata": {},
   "outputs": [],
   "source": [
    "#tokenized_context[1]"
   ]
  },
  {
   "cell_type": "code",
   "execution_count": 29,
   "metadata": {},
   "outputs": [],
   "source": [
    "def get_idx_from_word(word, encode_dict):\n",
    "    #print(encode_dict.get(word))\n",
    "    if encode_dict.get(word)==None:\n",
    "        if encode_dict.get(word.lower())==None:\n",
    "            return encode_dict.get('<UNK>')\n",
    "        else:\n",
    "            return encode_dict.get(word.lower())\n",
    "    else:\n",
    "        return encode_dict.get(word)\n",
    "    \n",
    "def encode_sequence(seq, encode_dict):\n",
    "    #print([j.lower() for j in seq])\n",
    "    return [get_idx_from_word(j, encode_dict) for j in seq]"
   ]
  },
  {
   "cell_type": "code",
   "execution_count": 30,
   "metadata": {},
   "outputs": [],
   "source": [
    "def get_word_from_idx(idx, decode_dict):\n",
    "    if decode_dict.get(idx)==None:\n",
    "        return '<UNK>'\n",
    "    else:\n",
    "        return decode_dict.get(idx)\n",
    "\n",
    "def decode_sequence(seq, decode_dict):\n",
    "    return [get_word_from_idx(j, decode_dict) for j in seq]"
   ]
  },
  {
   "cell_type": "code",
   "execution_count": 31,
   "metadata": {},
   "outputs": [],
   "source": [
    "#idx = encode_sequence(tokenized_context[1],fr_word2idx)\n",
    "#idx"
   ]
  },
  {
   "cell_type": "code",
   "execution_count": 32,
   "metadata": {},
   "outputs": [
    {
     "data": {
      "text/plain": [
       "['<PAD>']"
      ]
     },
     "execution_count": 32,
     "metadata": {},
     "output_type": "execute_result"
    }
   ],
   "source": [
    "idx = decode_sequence([0],fr_idx2word)\n",
    "idx"
   ]
  },
  {
   "cell_type": "code",
   "execution_count": 33,
   "metadata": {},
   "outputs": [
    {
     "data": {
      "text/plain": [
       "(11000, 113)"
      ]
     },
     "execution_count": 33,
     "metadata": {},
     "output_type": "execute_result"
    }
   ],
   "source": [
    "# Build decoder targets\n",
    "for i, seq in enumerate(tokenized_context):\n",
    "    new_seq = pad_sequences([encode_sequence(seq, fr_word2idx)], padding='post', maxlen=max_out_len)\n",
    "    if i==0:\n",
    "        decoder_output_sequences = new_seq\n",
    "    else:\n",
    "        decoder_output_sequences = np.vstack((decoder_output_sequences, new_seq))\n",
    "        \n",
    "#decoder_output_sequences = numpy.array([numpy.array(xi) for xi in x])\n",
    "\n",
    "decoder_output_sequences.shape\n",
    "\n"
   ]
  },
  {
   "cell_type": "code",
   "execution_count": 34,
   "metadata": {},
   "outputs": [
    {
     "data": {
      "text/plain": [
       "array([   73,     9,    69,     6,   444,     8,   421,     6,    10,\n",
       "        1116,   769,     3,     7,  1786,    13,   685,     4,    34,\n",
       "         132,    22,    10,   179,    11,   662,     6,  4906,    19,\n",
       "         195,    22,    50,   685,     8, 10181,    83,   705,     5,\n",
       "           2,     0,     0,     0,     0,     0,     0,     0,     0,\n",
       "           0,     0,     0,     0,     0,     0,     0,     0,     0,\n",
       "           0,     0,     0,     0,     0,     0,     0,     0,     0,\n",
       "           0,     0,     0,     0,     0,     0,     0,     0,     0,\n",
       "           0,     0,     0,     0,     0,     0,     0,     0,     0,\n",
       "           0,     0,     0,     0,     0,     0,     0,     0,     0,\n",
       "           0,     0,     0,     0,     0,     0,     0,     0,     0,\n",
       "           0,     0,     0,     0,     0,     0,     0,     0,     0,\n",
       "           0,     0,     0,     0,     0], dtype=int32)"
      ]
     },
     "execution_count": 34,
     "metadata": {},
     "output_type": "execute_result"
    }
   ],
   "source": [
    "decoder_output_sequences[1]"
   ]
  },
  {
   "cell_type": "code",
   "execution_count": 35,
   "metadata": {},
   "outputs": [],
   "source": [
    "#decode_sequence(decoder_output_sequences[1],fr_idx2word)"
   ]
  },
  {
   "cell_type": "markdown",
   "metadata": {},
   "source": [
    "### Define the seq2seq model"
   ]
  },
  {
   "cell_type": "code",
   "execution_count": 36,
   "metadata": {
    "colab": {},
    "colab_type": "code",
    "id": "n2YdfpK3O_pY"
   },
   "outputs": [],
   "source": [
    "# configure problem\n",
    "embedings_dim = encoder_input_sequences.shape[2]\n",
    "hidden_units = 512\n",
    "LR = 0.001\n",
    "dropout = 0.4"
   ]
  },
  {
   "cell_type": "code",
   "execution_count": 37,
   "metadata": {
    "colab": {
     "base_uri": "https://localhost:8080/",
     "height": 34
    },
    "colab_type": "code",
    "id": "Z4-m7zcw2hqV",
    "outputId": "79978b94-9eca-418b-c4a7-1c1d20d1f710"
   },
   "outputs": [
    {
     "data": {
      "text/plain": [
       "(256, 512, 83332, 96, 113, 0.001, 0.4)"
      ]
     },
     "execution_count": 37,
     "metadata": {},
     "output_type": "execute_result"
    }
   ],
   "source": [
    "embedings_dim, hidden_units, num_words_output, max_input_len, max_out_len, LR, dropout"
   ]
  },
  {
   "cell_type": "code",
   "execution_count": 38,
   "metadata": {
    "colab": {},
    "colab_type": "code",
    "id": "nUQk9hA3bfZE"
   },
   "outputs": [],
   "source": [
    "# Encoder\n",
    "def seq2seq_model(embedings_dim, hidden_units, num_fr_tokens, max_input_len, max_out_len, LR, dropout):      \n",
    "    \n",
    "    encoder_inputs = layers.Input(shape=(max_input_len, embedings_dim,), name='encoder_input')\n",
    "    #encoder_embeddings = layers.Embedding(num_en_tokens, embedings_dim, mask_zero=True)\n",
    "    #encoder_embedded = encoder_embeddings(encoder_inputs)\n",
    "    encoder_bilstm = layers.Bidirectional(layers.LSTM(hidden_units, return_state=True, dropout=dropout), name='encoder_BiLSTM')\n",
    "    # Return states in addition to output\n",
    "    output, forward_h, forward_c, backward_h, backward_c = encoder_bilstm(encoder_inputs) # replace embeddings by the encoder input\n",
    "    \n",
    "    state_h = concatenate([forward_h, backward_h])\n",
    "    state_c = concatenate([forward_c, backward_c])\n",
    "    encoder_states = [state_h, state_c]\n",
    "    \n",
    "    #encoder_states = [forward_h, forward_c, backward_h, backward_c]\n",
    "\n",
    "    # Decoder\n",
    "    decoder_inputs = layers.Input(shape=(max_out_len, embedings_dim,), name='decoder_input')\n",
    "    #decoder_embeddings = layers.Embedding(num_fr_tokens, embedings_dim, mask_zero=True)\n",
    "    #decoder_embedded = decoder_embeddings(decoder_inputs)\n",
    "\n",
    "    # Pass the 2 states to a new LSTM layer, as initial state\n",
    "    decoder_lstm = layers.LSTM(hidden_units*2, return_sequences=True, return_state=True, dropout=dropout, name='decoder_LSTM')\n",
    "    decoder_outputs, _, _, = decoder_lstm(decoder_inputs, initial_state=encoder_states) #replace embeddings by decoder inputs\n",
    "\n",
    "    decoder_dense = layers.Dense(num_fr_tokens, activation='linear', name='decoder_output')                     \n",
    "    decoder_outputs = decoder_dense(decoder_outputs)\n",
    "    \n",
    "    # Set Optimizer\n",
    "    #opt = tf.keras.optimizers.SGD(lr=0.1, decay=1e-5, momentum=0.9, nesterov=True) #Adam(learning_rate=LR)\n",
    "    # k.losses.SparseCategoricalCrossentropy(from_logits=False, reduction='none'),\n",
    "\n",
    "    model = Model([encoder_inputs, decoder_inputs], decoder_outputs)\n",
    "    model.compile(loss=tf.keras.losses.SparseCategoricalCrossentropy(from_logits=True),\n",
    "                  optimizer=tf.keras.optimizers.Adam(learning_rate=0.001, decay=1e-3), #momentum=0.9, nesterov=True),\n",
    "                  metrics=['sparse_categorical_accuracy'],             \n",
    "                 )\n",
    "    model.summary()\n",
    "    \n",
    "    # Evaluation model:\n",
    "    encoder_model = Model(encoder_inputs, encoder_states)\n",
    "    \n",
    "    decoder_state_h = layers.Input(shape=(hidden_units*2,))\n",
    "    decoder_state_c = layers.Input(shape=(hidden_units*2,))\n",
    "    #decoder_state_b_h = layers.Input(shape=(hidden_units,))\n",
    "    #decoder_state_b_c = layers.Input(shape=(hidden_units,))\n",
    "    \n",
    "    #e_state_h = layers.Concatenate()([decoder_state_f_h, decoder_state_b_h])\n",
    "    #e_state_c = layers.Concatenate()([decoder_state_f_c, decoder_state_b_c])\n",
    "    \n",
    "    decoder_states_inputs = [decoder_state_h, decoder_state_c]#, decoder_state_b_h, decoder_state_b_c]\n",
    "    \n",
    "    decoder_inputs_single = layers.Input(shape=(max_out_len, embedings_dim,)) #layers.Input(shape=(1,))\n",
    "    #decoder_inputs_single_x = decoder_embeddings(decoder_inputs_single)\n",
    "    decoder_outputs, h, c = decoder_lstm(decoder_inputs_single, initial_state=decoder_states_inputs)\n",
    "    decoder_states = [h, c]\n",
    "    decoder_outputs = decoder_dense(decoder_outputs)\n",
    "    decoder_model = Model(\n",
    "        [decoder_inputs_single] + decoder_states_inputs,\n",
    "        [decoder_outputs] + decoder_states\n",
    "    )\n",
    "     \n",
    "    \n",
    "    return model, encoder_model, decoder_model"
   ]
  },
  {
   "cell_type": "code",
   "execution_count": 39,
   "metadata": {},
   "outputs": [
    {
     "name": "stderr",
     "output_type": "stream",
     "text": [
      "WARNING: Logging before flag parsing goes to stderr.\n",
      "W0418 03:49:47.576259 47785625650176 deprecation.py:506] From /home/guest142/env2/lib/python3.7/site-packages/tensorflow_core/python/ops/init_ops.py:97: calling GlorotUniform.__init__ (from tensorflow.python.ops.init_ops) with dtype is deprecated and will be removed in a future version.\n",
      "Instructions for updating:\n",
      "Call initializer instance with the dtype argument instead of passing it to the constructor\n",
      "W0418 03:49:47.577774 47785625650176 deprecation.py:506] From /home/guest142/env2/lib/python3.7/site-packages/tensorflow_core/python/ops/init_ops.py:97: calling Orthogonal.__init__ (from tensorflow.python.ops.init_ops) with dtype is deprecated and will be removed in a future version.\n",
      "Instructions for updating:\n",
      "Call initializer instance with the dtype argument instead of passing it to the constructor\n",
      "W0418 03:49:47.580521 47785625650176 deprecation.py:506] From /home/guest142/env2/lib/python3.7/site-packages/tensorflow_core/python/ops/init_ops.py:97: calling Zeros.__init__ (from tensorflow.python.ops.init_ops) with dtype is deprecated and will be removed in a future version.\n",
      "Instructions for updating:\n",
      "Call initializer instance with the dtype argument instead of passing it to the constructor\n",
      "W0418 03:49:47.603542 47785625650176 deprecation.py:506] From /home/guest142/env2/lib/python3.7/site-packages/tensorflow_core/python/ops/resource_variable_ops.py:1630: calling BaseResourceVariable.__init__ (from tensorflow.python.ops.resource_variable_ops) with constraint is deprecated and will be removed in a future version.\n",
      "Instructions for updating:\n",
      "If using Keras pass *_constraint arguments to layers.\n"
     ]
    },
    {
     "name": "stdout",
     "output_type": "stream",
     "text": [
      "Model: \"model\"\n",
      "__________________________________________________________________________________________________\n",
      "Layer (type)                    Output Shape         Param #     Connected to                     \n",
      "==================================================================================================\n",
      "encoder_input (InputLayer)      [(None, 96, 256)]    0                                            \n",
      "__________________________________________________________________________________________________\n",
      "encoder_BiLSTM (Bidirectional)  [(None, 1024), (None 3149824     encoder_input[0][0]              \n",
      "__________________________________________________________________________________________________\n",
      "decoder_input (InputLayer)      [(None, 113, 256)]   0                                            \n",
      "__________________________________________________________________________________________________\n",
      "concatenate (Concatenate)       (None, 1024)         0           encoder_BiLSTM[0][1]             \n",
      "                                                                 encoder_BiLSTM[0][3]             \n",
      "__________________________________________________________________________________________________\n",
      "concatenate_1 (Concatenate)     (None, 1024)         0           encoder_BiLSTM[0][2]             \n",
      "                                                                 encoder_BiLSTM[0][4]             \n",
      "__________________________________________________________________________________________________\n",
      "decoder_LSTM (LSTM)             [(None, 113, 1024),  5246976     decoder_input[0][0]              \n",
      "                                                                 concatenate[0][0]                \n",
      "                                                                 concatenate_1[0][0]              \n",
      "__________________________________________________________________________________________________\n",
      "decoder_output (Dense)          (None, 113, 83332)   85415300    decoder_LSTM[0][0]               \n",
      "==================================================================================================\n",
      "Total params: 93,812,100\n",
      "Trainable params: 93,812,100\n",
      "Non-trainable params: 0\n",
      "__________________________________________________________________________________________________\n"
     ]
    }
   ],
   "source": [
    "model, encoder_model, decoder_model = seq2seq_model(embedings_dim, hidden_units, num_words_output, max_input_len, max_out_len, LR, dropout)\n",
    "graph = tf.get_default_graph()"
   ]
  },
  {
   "cell_type": "markdown",
   "metadata": {},
   "source": [
    "### Train the model"
   ]
  },
  {
   "cell_type": "code",
   "execution_count": 40,
   "metadata": {},
   "outputs": [],
   "source": [
    "batch_size = 20\n",
    "epochs=50"
   ]
  },
  {
   "cell_type": "code",
   "execution_count": 41,
   "metadata": {},
   "outputs": [
    {
     "data": {
      "text/plain": [
       "('ELMO_weights_TF120200418-034949_.hdf5', 'ELMO_history_TF120200418-034949')"
      ]
     },
     "execution_count": 41,
     "metadata": {},
     "output_type": "execute_result"
    }
   ],
   "source": [
    "weights_file = \"ELMO_weights_TF1\"+ dt.datetime.now().strftime(\"%Y%m%d-%H%M%S\")+\"_.hdf5\"\n",
    "history_file = \"ELMO_history_TF1\"+ dt.datetime.now().strftime(\"%Y%m%d-%H%M%S\")\n",
    "weights_file, history_file"
   ]
  },
  {
   "cell_type": "code",
   "execution_count": 42,
   "metadata": {},
   "outputs": [
    {
     "data": {
      "text/plain": [
       "((11000, 113), (11000, 96, 256), (11000, 113, 256))"
      ]
     },
     "execution_count": 42,
     "metadata": {},
     "output_type": "execute_result"
    }
   ],
   "source": [
    "decoder_output_sequences.shape, encoder_input_sequences.shape, decoder_input_sequences.shape"
   ]
  },
  {
   "cell_type": "code",
   "execution_count": 43,
   "metadata": {},
   "outputs": [
    {
     "data": {
      "text/plain": [
       "(11000, 113, 1)"
      ]
     },
     "execution_count": 43,
     "metadata": {},
     "output_type": "execute_result"
    }
   ],
   "source": [
    "decoder_output_sequences = np.expand_dims(decoder_output_sequences, -1)\n",
    "decoder_output_sequences.shape"
   ]
  },
  {
   "cell_type": "code",
   "execution_count": 44,
   "metadata": {},
   "outputs": [
    {
     "data": {
      "text/plain": [
       "440.0"
      ]
     },
     "execution_count": 44,
     "metadata": {},
     "output_type": "execute_result"
    }
   ],
   "source": [
    "len(encoder_input_sequences)*.8/20"
   ]
  },
  {
   "cell_type": "code",
   "execution_count": 45,
   "metadata": {
    "colab": {},
    "colab_type": "code",
    "id": "DJVGoHjsO_pi"
   },
   "outputs": [
    {
     "name": "stderr",
     "output_type": "stream",
     "text": [
      "W0418 03:49:52.410098 47785625650176 deprecation.py:323] From /home/guest142/env2/lib/python3.7/site-packages/tensorflow_core/python/ops/math_grad.py:1424: where (from tensorflow.python.ops.array_ops) is deprecated and will be removed in a future version.\n",
      "Instructions for updating:\n",
      "Use tf.where in 2.0, which has the same broadcast rule as np.where\n"
     ]
    },
    {
     "name": "stdout",
     "output_type": "stream",
     "text": [
      "Train on 8800 samples, validate on 2200 samples\n",
      "Epoch 1/50\n",
      "8800/8800 [==============================] - 772s 88ms/sample - loss: 1.4058 - sparse_categorical_accuracy: 0.8228 - val_loss: 1.0248 - val_sparse_categorical_accuracy: 0.8416\n",
      "Epoch 2/50\n",
      "8800/8800 [==============================] - 771s 88ms/sample - loss: 0.9011 - sparse_categorical_accuracy: 0.8506 - val_loss: 0.8703 - val_sparse_categorical_accuracy: 0.8563\n",
      "Epoch 3/50\n",
      "8800/8800 [==============================] - 765s 87ms/sample - loss: 0.7546 - sparse_categorical_accuracy: 0.8623 - val_loss: 0.7938 - val_sparse_categorical_accuracy: 0.8664\n",
      "Epoch 4/50\n",
      "8800/8800 [==============================] - 771s 88ms/sample - loss: 0.6572 - sparse_categorical_accuracy: 0.8709 - val_loss: 0.7507 - val_sparse_categorical_accuracy: 0.8723\n",
      "Epoch 5/50\n",
      "8800/8800 [==============================] - 770s 87ms/sample - loss: 0.5857 - sparse_categorical_accuracy: 0.8779 - val_loss: 0.7227 - val_sparse_categorical_accuracy: 0.8772\n",
      "Epoch 6/50\n",
      "8800/8800 [==============================] - 772s 88ms/sample - loss: 0.5308 - sparse_categorical_accuracy: 0.8848 - val_loss: 0.7044 - val_sparse_categorical_accuracy: 0.8806\n",
      "Epoch 7/50\n",
      "8800/8800 [==============================] - 772s 88ms/sample - loss: 0.4874 - sparse_categorical_accuracy: 0.8916 - val_loss: 0.6924 - val_sparse_categorical_accuracy: 0.8825\n",
      "Epoch 8/50\n",
      "8800/8800 [==============================] - 773s 88ms/sample - loss: 0.4528 - sparse_categorical_accuracy: 0.8977 - val_loss: 0.6831 - val_sparse_categorical_accuracy: 0.8844\n",
      "Epoch 9/50\n",
      "8800/8800 [==============================] - 772s 88ms/sample - loss: 0.4242 - sparse_categorical_accuracy: 0.9034 - val_loss: 0.6752 - val_sparse_categorical_accuracy: 0.8863\n",
      "Epoch 10/50\n",
      "8800/8800 [==============================] - 773s 88ms/sample - loss: 0.4008 - sparse_categorical_accuracy: 0.9081 - val_loss: 0.6699 - val_sparse_categorical_accuracy: 0.8875\n",
      "Epoch 11/50\n",
      "8800/8800 [==============================] - 773s 88ms/sample - loss: 0.3817 - sparse_categorical_accuracy: 0.9118 - val_loss: 0.6642 - val_sparse_categorical_accuracy: 0.8885\n",
      "Epoch 12/50\n",
      "8800/8800 [==============================] - 773s 88ms/sample - loss: 0.3636 - sparse_categorical_accuracy: 0.9158 - val_loss: 0.6618 - val_sparse_categorical_accuracy: 0.8894\n",
      "Epoch 13/50\n",
      "8800/8800 [==============================] - 773s 88ms/sample - loss: 0.3499 - sparse_categorical_accuracy: 0.9185 - val_loss: 0.6590 - val_sparse_categorical_accuracy: 0.8897\n",
      "Epoch 14/50\n",
      "8800/8800 [==============================] - 773s 88ms/sample - loss: 0.3375 - sparse_categorical_accuracy: 0.9212 - val_loss: 0.6549 - val_sparse_categorical_accuracy: 0.8912\n",
      "Epoch 15/50\n",
      "8800/8800 [==============================] - 773s 88ms/sample - loss: 0.3255 - sparse_categorical_accuracy: 0.9237 - val_loss: 0.6529 - val_sparse_categorical_accuracy: 0.8914\n",
      "Epoch 16/50\n",
      "8800/8800 [==============================] - 774s 88ms/sample - loss: 0.3157 - sparse_categorical_accuracy: 0.9258 - val_loss: 0.6518 - val_sparse_categorical_accuracy: 0.8922\n",
      "Epoch 17/50\n",
      "8800/8800 [==============================] - 774s 88ms/sample - loss: 0.3070 - sparse_categorical_accuracy: 0.9277 - val_loss: 0.6489 - val_sparse_categorical_accuracy: 0.8926\n",
      "Epoch 18/50\n",
      "8800/8800 [==============================] - 773s 88ms/sample - loss: 0.2988 - sparse_categorical_accuracy: 0.9293 - val_loss: 0.6482 - val_sparse_categorical_accuracy: 0.8926\n",
      "Epoch 19/50\n",
      "8800/8800 [==============================] - 774s 88ms/sample - loss: 0.2911 - sparse_categorical_accuracy: 0.9312 - val_loss: 0.6468 - val_sparse_categorical_accuracy: 0.8933\n",
      "Epoch 20/50\n",
      "8800/8800 [==============================] - 773s 88ms/sample - loss: 0.2845 - sparse_categorical_accuracy: 0.9325 - val_loss: 0.6458 - val_sparse_categorical_accuracy: 0.8934\n",
      "Epoch 21/50\n",
      "8800/8800 [==============================] - 773s 88ms/sample - loss: 0.2780 - sparse_categorical_accuracy: 0.9338 - val_loss: 0.6451 - val_sparse_categorical_accuracy: 0.8940\n",
      "Epoch 22/50\n",
      "8800/8800 [==============================] - 774s 88ms/sample - loss: 0.2731 - sparse_categorical_accuracy: 0.9347 - val_loss: 0.6437 - val_sparse_categorical_accuracy: 0.8944\n",
      "Epoch 23/50\n",
      "8800/8800 [==============================] - 772s 88ms/sample - loss: 0.2667 - sparse_categorical_accuracy: 0.9362 - val_loss: 0.6426 - val_sparse_categorical_accuracy: 0.8949\n",
      "Epoch 24/50\n",
      "8800/8800 [==============================] - 773s 88ms/sample - loss: 0.2610 - sparse_categorical_accuracy: 0.9373 - val_loss: 0.6422 - val_sparse_categorical_accuracy: 0.8952\n",
      "Epoch 25/50\n",
      "8800/8800 [==============================] - 773s 88ms/sample - loss: 0.2568 - sparse_categorical_accuracy: 0.9383 - val_loss: 0.6423 - val_sparse_categorical_accuracy: 0.8954\n",
      "Epoch 26/50\n",
      "8800/8800 [==============================] - 774s 88ms/sample - loss: 0.2522 - sparse_categorical_accuracy: 0.9393 - val_loss: 0.6416 - val_sparse_categorical_accuracy: 0.8952\n",
      "Epoch 27/50\n",
      "8800/8800 [==============================] - 777s 88ms/sample - loss: 0.2484 - sparse_categorical_accuracy: 0.9402 - val_loss: 0.6415 - val_sparse_categorical_accuracy: 0.8955\n",
      "Epoch 28/50\n",
      "8800/8800 [==============================] - 779s 88ms/sample - loss: 0.2439 - sparse_categorical_accuracy: 0.9412 - val_loss: 0.6425 - val_sparse_categorical_accuracy: 0.8958\n",
      "Epoch 29/50\n",
      "8800/8800 [==============================] - 779s 89ms/sample - loss: 0.2400 - sparse_categorical_accuracy: 0.9419 - val_loss: 0.6413 - val_sparse_categorical_accuracy: 0.8958\n",
      "Epoch 30/50\n",
      "8800/8800 [==============================] - 779s 89ms/sample - loss: 0.2365 - sparse_categorical_accuracy: 0.9426 - val_loss: 0.6406 - val_sparse_categorical_accuracy: 0.8961\n",
      "Epoch 31/50\n",
      "8800/8800 [==============================] - 779s 89ms/sample - loss: 0.2329 - sparse_categorical_accuracy: 0.9433 - val_loss: 0.6405 - val_sparse_categorical_accuracy: 0.8962\n",
      "Epoch 32/50\n",
      "8800/8800 [==============================] - 779s 88ms/sample - loss: 0.2302 - sparse_categorical_accuracy: 0.9439 - val_loss: 0.6412 - val_sparse_categorical_accuracy: 0.8964\n",
      "Epoch 33/50\n",
      "8800/8800 [==============================] - 779s 89ms/sample - loss: 0.2267 - sparse_categorical_accuracy: 0.9449 - val_loss: 0.6405 - val_sparse_categorical_accuracy: 0.8965\n",
      "Epoch 34/50\n",
      "8800/8800 [==============================] - 779s 89ms/sample - loss: 0.2239 - sparse_categorical_accuracy: 0.9458 - val_loss: 0.6399 - val_sparse_categorical_accuracy: 0.8966\n",
      "Epoch 35/50\n",
      "8800/8800 [==============================] - 779s 88ms/sample - loss: 0.2211 - sparse_categorical_accuracy: 0.9461 - val_loss: 0.6400 - val_sparse_categorical_accuracy: 0.8970\n",
      "Epoch 36/50\n",
      "8800/8800 [==============================] - 779s 88ms/sample - loss: 0.2177 - sparse_categorical_accuracy: 0.9468 - val_loss: 0.6406 - val_sparse_categorical_accuracy: 0.8970\n",
      "Epoch 37/50\n",
      "8800/8800 [==============================] - 778s 88ms/sample - loss: 0.2152 - sparse_categorical_accuracy: 0.9472 - val_loss: 0.6401 - val_sparse_categorical_accuracy: 0.8973\n",
      "Epoch 38/50\n",
      "8800/8800 [==============================] - 779s 89ms/sample - loss: 0.2130 - sparse_categorical_accuracy: 0.9479 - val_loss: 0.6408 - val_sparse_categorical_accuracy: 0.8972\n",
      "Epoch 39/50\n",
      "8800/8800 [==============================] - 779s 89ms/sample - loss: 0.2106 - sparse_categorical_accuracy: 0.9484 - val_loss: 0.6407 - val_sparse_categorical_accuracy: 0.8969\n",
      "Epoch 40/50\n",
      "8800/8800 [==============================] - 779s 89ms/sample - loss: 0.2081 - sparse_categorical_accuracy: 0.9490 - val_loss: 0.6411 - val_sparse_categorical_accuracy: 0.8971\n",
      "Epoch 41/50\n",
      "8800/8800 [==============================] - 779s 89ms/sample - loss: 0.2056 - sparse_categorical_accuracy: 0.9497 - val_loss: 0.6412 - val_sparse_categorical_accuracy: 0.8973\n",
      "Epoch 42/50\n",
      "8800/8800 [==============================] - 779s 89ms/sample - loss: 0.2034 - sparse_categorical_accuracy: 0.9501 - val_loss: 0.6414 - val_sparse_categorical_accuracy: 0.8972\n",
      "Epoch 43/50\n",
      "8800/8800 [==============================] - 779s 89ms/sample - loss: 0.2010 - sparse_categorical_accuracy: 0.9503 - val_loss: 0.6408 - val_sparse_categorical_accuracy: 0.8974\n",
      "Epoch 44/50\n",
      "8800/8800 [==============================] - 779s 89ms/sample - loss: 0.1997 - sparse_categorical_accuracy: 0.9507 - val_loss: 0.6418 - val_sparse_categorical_accuracy: 0.8974\n",
      "Epoch 45/50\n",
      "8800/8800 [==============================] - 779s 89ms/sample - loss: 0.1970 - sparse_categorical_accuracy: 0.9516 - val_loss: 0.6414 - val_sparse_categorical_accuracy: 0.8977\n",
      "Epoch 46/50\n",
      "8800/8800 [==============================] - 778s 88ms/sample - loss: 0.1952 - sparse_categorical_accuracy: 0.9517 - val_loss: 0.6423 - val_sparse_categorical_accuracy: 0.8976\n",
      "Epoch 47/50\n",
      "8800/8800 [==============================] - 774s 88ms/sample - loss: 0.1935 - sparse_categorical_accuracy: 0.9523 - val_loss: 0.6424 - val_sparse_categorical_accuracy: 0.8978\n",
      "Epoch 48/50\n",
      "8800/8800 [==============================] - 770s 88ms/sample - loss: 0.1911 - sparse_categorical_accuracy: 0.9528 - val_loss: 0.6429 - val_sparse_categorical_accuracy: 0.8977\n",
      "Epoch 49/50\n",
      "8800/8800 [==============================] - 770s 88ms/sample - loss: 0.1901 - sparse_categorical_accuracy: 0.9532 - val_loss: 0.6427 - val_sparse_categorical_accuracy: 0.8976\n",
      "Epoch 50/50\n",
      "8800/8800 [==============================] - 770s 88ms/sample - loss: 0.1883 - sparse_categorical_accuracy: 0.9536 - val_loss: 0.6422 - val_sparse_categorical_accuracy: 0.8979\n"
     ]
    }
   ],
   "source": [
    "#checkpointer = tf.compat.v2.keras.callbacks.ModelCheckpoint(filepath = weights_file, verbose=1, save_best_only=True)\n",
    "\n",
    "history = model.fit([encoder_input_sequences, decoder_input_sequences],\n",
    "                    decoder_output_sequences,\n",
    "                    batch_size=batch_size,\n",
    "                    epochs=epochs, \n",
    "                    #validation_steps=batch_size,\n",
    "                    validation_split=0.2,\n",
    "                    #callbacks=[checkpointer]\n",
    "                   )\n",
    "\n"
   ]
  },
  {
   "cell_type": "code",
   "execution_count": 46,
   "metadata": {},
   "outputs": [],
   "source": [
    "import pickle\n",
    "with open(history_file, 'wb') as file_pi:\n",
    "        pickle.dump(history.history, file_pi)"
   ]
  },
  {
   "cell_type": "code",
   "execution_count": 47,
   "metadata": {},
   "outputs": [],
   "source": [
    "history2 = pickle.load(open(history_file, \"rb\"))"
   ]
  },
  {
   "cell_type": "code",
   "execution_count": 48,
   "metadata": {},
   "outputs": [
    {
     "data": {
      "image/png": "[encoded data removed]",
      "text/plain": [
       "<Figure size 432x288 with 1 Axes>"
      ]
     },
     "metadata": {
      "needs_background": "light"
     },
     "output_type": "display_data"
    },
    {
     "data": {
      "image/png": "[encoded data removed]",
      "text/plain": [
       "<Figure size 432x288 with 1 Axes>"
      ]
     },
     "metadata": {
      "needs_background": "light"
     },
     "output_type": "display_data"
    }
   ],
   "source": [
    "# summarize history for accuracy\n",
    "plt.plot(history2['sparse_categorical_accuracy'])\n",
    "plt.plot(history2['val_sparse_categorical_accuracy'])\n",
    "plt.title('model/ accuracy')\n",
    "plt.ylabel('accuracy')\n",
    "plt.xlabel('epoch')\n",
    "plt.legend(['train', 'test'], loc='upper left')\n",
    "plt.show()\n",
    "# summarize history for loss\n",
    "plt.plot(history2['loss'])\n",
    "plt.plot(history2['val_loss'])\n",
    "plt.title('model loss')\n",
    "plt.ylabel('loss')\n",
    "plt.xlabel('epoch')\n",
    "plt.legend(['train', 'test'], loc='upper left')\n",
    "plt.show()"
   ]
  },
  {
   "cell_type": "code",
   "execution_count": 49,
   "metadata": {},
   "outputs": [],
   "source": [
    "# Loads the weights\n",
    "#model.load_weights('ELMO_weights_20200416-042652_.hdf5')"
   ]
  },
  {
   "cell_type": "code",
   "execution_count": 50,
   "metadata": {},
   "outputs": [],
   "source": [
    "#from tensorflow.keras.utils import plot_model\n",
    "#plot_model(model, to_file = \"seq2seq_translation.png\", show_shapes = True)"
   ]
  },
  {
   "cell_type": "markdown",
   "metadata": {},
   "source": [
    "## Evaluation"
   ]
  },
  {
   "cell_type": "code",
   "execution_count": 51,
   "metadata": {},
   "outputs": [],
   "source": [
    "def get_elmo_emb2(idx):\n",
    "    return encoder_input_sequences[idx].reshape(-1,96,256)"
   ]
  },
  {
   "cell_type": "code",
   "execution_count": 52,
   "metadata": {},
   "outputs": [
    {
     "data": {
      "text/plain": [
       "array([[[ 0.9377234 ,  0.11211856, -1.815702  , ..., -1.0165986 ,\n",
       "          0.2566865 , -1.4266841 ],\n",
       "        [ 0.76397216, -0.72957176, -1.2059255 , ..., -0.53055835,\n",
       "         -0.28045744, -1.6430402 ],\n",
       "        [-0.09817386, -2.4250271 ,  1.2986397 , ...,  0.80349994,\n",
       "          0.70233214, -3.0202804 ],\n",
       "        ...,\n",
       "        [ 0.        ,  0.        ,  0.        , ...,  0.        ,\n",
       "          0.        ,  0.        ],\n",
       "        [ 0.        ,  0.        ,  0.        , ...,  0.        ,\n",
       "          0.        ,  0.        ],\n",
       "        [ 0.        ,  0.        ,  0.        , ...,  0.        ,\n",
       "          0.        ,  0.        ]]], dtype=float32)"
      ]
     },
     "execution_count": 52,
     "metadata": {},
     "output_type": "execute_result"
    }
   ],
   "source": [
    "get_elmo_emb2(0)"
   ]
  },
  {
   "cell_type": "code",
   "execution_count": 53,
   "metadata": {},
   "outputs": [],
   "source": [
    "def get_elmo_emb(input_seq, max_length, options_file, weight_file, vocab_file):\n",
    "    tf.compat.v1.disable_eager_execution()\n",
    "    tf.reset_default_graph()\n",
    "    \n",
    "    # Create a Batcher to map text to character ids.\n",
    "    batcher = Batcher(vocab_file, 50)\n",
    " \n",
    "    # Input placeholders to the biLM.\n",
    "    context_character_ids = tf.compat.v1.placeholder('int32', shape=(None, None, 50))\n",
    " \n",
    "    # Build the biLM graph.\n",
    "    bilm = BidirectionalLanguageModel(options_file, weight_file)\n",
    " \n",
    "    # Get ops to compute the LM embeddings.\n",
    "    context_embeddings_op = bilm(context_character_ids)\n",
    "     \n",
    "    # Get an op to compute ELMo (weighted average of the internal biLM layers)\n",
    "    elmo_context_input = weight_layers('input', context_embeddings_op, l2_coef=0.0)\n",
    "    \n",
    "    # Now we can compute embeddings.\n",
    "    #print(\"get elmo: input_seq=\",input_seq)\n",
    "    tokenized_context = [input_seq.split()] # for sentence in input_seq]\n",
    "    #print(tokenized_context)\n",
    "    \n",
    "    with tf.Session() as sess:\n",
    "        # It is necessary to initialize variables once before running inference.\n",
    "        sess.run(tf.global_variables_initializer())\n",
    " \n",
    "        # Create batches of data.\n",
    "        context_ids = batcher.batch_sentences(tokenized_context)\n",
    "        #print(\"Shape of context ids = \", context_ids.shape)\n",
    " \n",
    "        # Compute ELMo representations (here for the input only, for simplicity).\n",
    "        elmo_context_input_ = sess.run(\n",
    "            elmo_context_input['weighted_op'],\n",
    "            feed_dict={context_character_ids: context_ids}\n",
    "        )\n",
    "    # Pad the output to max sequence length of the model\n",
    "    elmo_emb = pad_sequences(elmo_context_input_, maxlen=max_length, padding='post', dtype='float32')\n",
    "    #print(\"Shape of generated embeddings = \",elmo_emb.shape)\n",
    "    return elmo_emb"
   ]
  },
  {
   "cell_type": "code",
   "execution_count": 54,
   "metadata": {},
   "outputs": [],
   "source": [
    "def translate_sentence(idx, sentence):\n",
    "    tf.compat.v1.disable_eager_execution()\n",
    "    #tf.reset_default_graph()\n",
    "    global graph\n",
    "    graph = tf.get_default_graph()\n",
    "    \n",
    "    \n",
    "    # Get ELMo embeddings\n",
    "    print(\"Get ELMo context for the input sentence: \", sentence)\n",
    "    input_seq = get_elmo_emb(sentence, max_input_len, en_options_file, en_weight_file, en_vocab_file)  # get ELMO embeddings calculated beforehand on input text\n",
    "    #print(input_seq)\n",
    "    \n",
    "    # Get encoder states value\n",
    "    print(\"Feed input context encoder model ...\")\n",
    "    with graph.as_default():\n",
    "        states_value = encoder_model.predict(input_seq)\n",
    "    #print(\"states_value=\",states_value[0].shape)\n",
    "    \n",
    "    # Feed the decoder a token at the time, starting with <S> token\n",
    "    print(\"Feed the decoder with start token ...\")\n",
    "    target_seq = get_elmo_emb('<S>', max_out_len, fr_options_file, fr_weight_file, fr_vocab_file) #['<S>']\n",
    "    \n",
    "    eos1 = fr_word2idx['</S>']\n",
    "    eos2 = fr_word2idx['.']\n",
    "    eos3 = fr_word2idx['<PAD>']\n",
    "    output_sentence = []\n",
    "    \n",
    "    print(\"Translating the input ...\")\n",
    "    for _ in range(max_out_len):\n",
    "        #print(\"Next target_seq=\",target_seq.shape)\n",
    "        with graph.as_default():\n",
    "            output_tokens, h, c = decoder_model.predict([target_seq] + states_value)\n",
    "        idx = np.argmax(output_tokens[0, 0, :])\n",
    "        #print(\"new idx=\",idx)\n",
    "        \n",
    "        if ((eos1 == idx) or (eos2 == idx) or (idx==0)):\n",
    "            break\n",
    "        else:\n",
    "            word = decode_sequence([idx],fr_idx2word) #fr_idx2word(idx)\n",
    "            output_sentence.append(word[0]+\" \")\n",
    "            #print(\"Predicting word \"+str(word)+\"for index \"+str(idx))\n",
    "\n",
    "        target_seq = get_elmo_emb(word[0],max_out_len, fr_options_file, fr_weight_file, fr_vocab_file)\n",
    "        states_value = [h, c]\n",
    "        \n",
    "        \n",
    "\n",
    "    return ' '.join(str(v) for v in output_sentence)"
   ]
  },
  {
   "cell_type": "code",
   "execution_count": 55,
   "metadata": {},
   "outputs": [],
   "source": [
    "### Load test data\n",
    "input_text = []\n",
    "with open(en_text_file, 'r', encoding=\"UTF-8\") as en_file:\n",
    "    for line in en_file.readlines():\n",
    "        line = line.rstrip().split('\\n')\n",
    "        input_text.append(line[0])\n",
    "    en_file.close()"
   ]
  },
  {
   "cell_type": "code",
   "execution_count": 56,
   "metadata": {},
   "outputs": [],
   "source": [
    "target_text = []\n",
    "with open(fr_text_file, 'r', encoding=\"UTF-8\") as fr_file:\n",
    "    for line in fr_file.readlines():\n",
    "        line = line.rstrip().split('\\n')\n",
    "        target_text.append(line[0])\n",
    "    fr_file.close()"
   ]
  },
  {
   "cell_type": "code",
   "execution_count": 57,
   "metadata": {},
   "outputs": [],
   "source": [
    "ids = np.random.randint(0,100,10)"
   ]
  },
  {
   "cell_type": "code",
   "execution_count": 58,
   "metadata": {},
   "outputs": [
    {
     "data": {
      "text/plain": [
       "('i am aware of the problems the trouble and the annoyance caused to communities living next to major road transport arteries and this is why we are looking at how we can improve the quality of this traffic',\n",
       " \"Je connais les problèmes , les inconvénients et les gênes dont souffrent les populations riveraines des grands axes de trafic routier et , à cet égard , nous étudions la façon d' améliorer la qualité de ce trafic .\")"
      ]
     },
     "execution_count": 58,
     "metadata": {},
     "output_type": "execute_result"
    }
   ],
   "source": [
    "input_text[ids[0]], target_text[ids[0]]"
   ]
  },
  {
   "cell_type": "code",
   "execution_count": null,
   "metadata": {},
   "outputs": [
    {
     "name": "stdout",
     "output_type": "stream",
     "text": [
      "Model: \"model_3\"\n",
      "__________________________________________________________________________________________________\n",
      "Layer (type)                    Output Shape         Param #     Connected to                     \n",
      "==================================================================================================\n",
      "encoder_input (InputLayer)      [(None, 96, 256)]    0                                            \n",
      "__________________________________________________________________________________________________\n",
      "encoder_BiLSTM (Bidirectional)  [(None, 1024), (None 3149824     encoder_input[0][0]              \n",
      "__________________________________________________________________________________________________\n",
      "decoder_input (InputLayer)      [(None, 113, 256)]   0                                            \n",
      "__________________________________________________________________________________________________\n",
      "concatenate_2 (Concatenate)     (None, 1024)         0           encoder_BiLSTM[0][1]             \n",
      "                                                                 encoder_BiLSTM[0][3]             \n",
      "__________________________________________________________________________________________________\n",
      "concatenate_3 (Concatenate)     (None, 1024)         0           encoder_BiLSTM[0][2]             \n",
      "                                                                 encoder_BiLSTM[0][4]             \n",
      "__________________________________________________________________________________________________\n",
      "decoder_LSTM (LSTM)             [(None, 113, 1024),  5246976     decoder_input[0][0]              \n",
      "                                                                 concatenate_2[0][0]              \n",
      "                                                                 concatenate_3[0][0]              \n",
      "__________________________________________________________________________________________________\n",
      "decoder_output (Dense)          (None, 113, 83332)   85415300    decoder_LSTM[0][0]               \n",
      "==================================================================================================\n",
      "Total params: 93,812,100\n",
      "Trainable params: 93,812,100\n",
      "Non-trainable params: 0\n",
      "__________________________________________________________________________________________________\n",
      "==============================\n",
      "Get ELMo context for the input sentence:  i am aware of the problems the trouble and the annoyance caused to communities living next to major road transport arteries and this is why we are looking at how we can improve the quality of this traffic\n"
     ]
    },
    {
     "name": "stderr",
     "output_type": "stream",
     "text": [
      "W0418 14:35:53.862457 47785625650176 module_wrapper.py:139] From /home/guest142/Project2/Notebooks/bilm/model.py:276: The name tf.variable_scope is deprecated. Please use tf.compat.v1.variable_scope instead.\n",
      "\n",
      "W0418 14:35:53.863878 47785625650176 module_wrapper.py:139] From /home/guest142/Project2/Notebooks/bilm/model.py:333: The name tf.get_variable is deprecated. Please use tf.compat.v1.get_variable instead.\n",
      "\n",
      "W0418 14:35:53.989645 47785625650176 module_wrapper.py:139] From /home/guest142/Project2/Notebooks/bilm/model.py:378: The name tf.nn.max_pool is deprecated. Please use tf.nn.max_pool2d instead.\n",
      "\n",
      "W0418 14:35:53.996208 47785625650176 deprecation.py:506] From /home/guest142/env2/lib/python3.7/site-packages/tensorflow_core/python/util/dispatch.py:180: calling squeeze (from tensorflow.python.ops.array_ops) with squeeze_dims is deprecated and will be removed in a future version.\n",
      "Instructions for updating:\n",
      "Use the `axis` argument instead\n",
      "W0418 14:35:54.546835 47785625650176 deprecation.py:323] From /home/guest142/Project2/Notebooks/bilm/model.py:524: LSTMCell.__init__ (from tensorflow.python.ops.rnn_cell_impl) is deprecated and will be removed in a future version.\n",
      "Instructions for updating:\n",
      "This class is equivalent as tf.keras.layers.LSTMCell, and will be replaced by that in Tensorflow 2.0.\n",
      "W0418 14:35:54.572346 47785625650176 module_wrapper.py:139] From /home/guest142/Project2/Notebooks/bilm/model.py:568: The name tf.nn.rnn_cell.LSTMStateTuple is deprecated. Please use tf.compat.v1.nn.rnn_cell.LSTMStateTuple instead.\n",
      "\n",
      "W0418 14:35:54.573017 47785625650176 deprecation.py:323] From /home/guest142/Project2/Notebooks/bilm/model.py:569: dynamic_rnn (from tensorflow.python.ops.rnn) is deprecated and will be removed in a future version.\n",
      "Instructions for updating:\n",
      "Please use `keras.layers.RNN(cell)`, which is equivalent to this API\n",
      "W0418 14:35:54.676841 47785625650176 deprecation.py:323] From /home/guest142/env2/lib/python3.7/site-packages/tensorflow_core/python/ops/rnn_cell_impl.py:958: Layer.add_variable (from tensorflow.python.keras.engine.base_layer) is deprecated and will be removed in a future version.\n",
      "Instructions for updating:\n",
      "Please use `layer.add_weight` method instead.\n"
     ]
    },
    {
     "name": "stdout",
     "output_type": "stream",
     "text": [
      "USING SKIP CONNECTIONS\n"
     ]
    },
    {
     "name": "stderr",
     "output_type": "stream",
     "text": [
      "W0418 14:35:54.858140 47785625650176 module_wrapper.py:139] From /home/guest142/Project2/Notebooks/bilm/model.py:593: The name tf.assign is deprecated. Please use tf.compat.v1.assign instead.\n",
      "\n",
      "W0418 14:35:54.875532 47785625650176 module_wrapper.py:139] From /home/guest142/Project2/Notebooks/bilm/model.py:538: The name tf.nn.rnn_cell.ResidualWrapper is deprecated. Please use tf.compat.v1.nn.rnn_cell.ResidualWrapper instead.\n",
      "\n",
      "W0418 14:35:55.974122 47785625650176 module_wrapper.py:139] From /home/guest142/Project2/Notebooks/bilm/elmo.py:94: The name tf.get_collection is deprecated. Please use tf.compat.v1.get_collection instead.\n",
      "\n",
      "W0418 14:35:55.975075 47785625650176 module_wrapper.py:139] From /home/guest142/Project2/Notebooks/bilm/elmo.py:95: The name tf.GraphKeys is deprecated. Please use tf.compat.v1.GraphKeys instead.\n",
      "\n"
     ]
    },
    {
     "name": "stdout",
     "output_type": "stream",
     "text": [
      "Feed input context encoder model ...\n",
      "Feed the decoder with start token ...\n",
      "USING SKIP CONNECTIONS\n",
      "Translating the input ...\n",
      "USING SKIP CONNECTIONS\n",
      "USING SKIP CONNECTIONS\n",
      "USING SKIP CONNECTIONS\n",
      "USING SKIP CONNECTIONS\n",
      "USING SKIP CONNECTIONS\n",
      "USING SKIP CONNECTIONS\n",
      "USING SKIP CONNECTIONS\n",
      "USING SKIP CONNECTIONS\n",
      "USING SKIP CONNECTIONS\n",
      "USING SKIP CONNECTIONS\n",
      "USING SKIP CONNECTIONS\n",
      "USING SKIP CONNECTIONS\n",
      "USING SKIP CONNECTIONS\n",
      "USING SKIP CONNECTIONS\n",
      "USING SKIP CONNECTIONS\n",
      "USING SKIP CONNECTIONS\n",
      "USING SKIP CONNECTIONS\n",
      "USING SKIP CONNECTIONS\n",
      "USING SKIP CONNECTIONS\n",
      "USING SKIP CONNECTIONS\n",
      "USING SKIP CONNECTIONS\n",
      "USING SKIP CONNECTIONS\n",
      "USING SKIP CONNECTIONS\n",
      "USING SKIP CONNECTIONS\n",
      "USING SKIP CONNECTIONS\n",
      "USING SKIP CONNECTIONS\n",
      "USING SKIP CONNECTIONS\n",
      "USING SKIP CONNECTIONS\n",
      "USING SKIP CONNECTIONS\n",
      "USING SKIP CONNECTIONS\n",
      "USING SKIP CONNECTIONS\n",
      "USING SKIP CONNECTIONS\n",
      "USING SKIP CONNECTIONS\n",
      "USING SKIP CONNECTIONS\n",
      "USING SKIP CONNECTIONS\n",
      "USING SKIP CONNECTIONS\n",
      "USING SKIP CONNECTIONS\n",
      "USING SKIP CONNECTIONS\n",
      "USING SKIP CONNECTIONS\n",
      "USING SKIP CONNECTIONS\n",
      "USING SKIP CONNECTIONS\n",
      "USING SKIP CONNECTIONS\n",
      "USING SKIP CONNECTIONS\n",
      "USING SKIP CONNECTIONS\n",
      "USING SKIP CONNECTIONS\n",
      "USING SKIP CONNECTIONS\n",
      "USING SKIP CONNECTIONS\n",
      "USING SKIP CONNECTIONS\n",
      "USING SKIP CONNECTIONS\n",
      "USING SKIP CONNECTIONS\n",
      "USING SKIP CONNECTIONS\n",
      "USING SKIP CONNECTIONS\n",
      "USING SKIP CONNECTIONS\n",
      "USING SKIP CONNECTIONS\n",
      "USING SKIP CONNECTIONS\n",
      "USING SKIP CONNECTIONS\n",
      "USING SKIP CONNECTIONS\n",
      "USING SKIP CONNECTIONS\n",
      "USING SKIP CONNECTIONS\n",
      "USING SKIP CONNECTIONS\n",
      "USING SKIP CONNECTIONS\n",
      "USING SKIP CONNECTIONS\n",
      "USING SKIP CONNECTIONS\n",
      "USING SKIP CONNECTIONS\n",
      "USING SKIP CONNECTIONS\n",
      "USING SKIP CONNECTIONS\n",
      "USING SKIP CONNECTIONS\n",
      "USING SKIP CONNECTIONS\n",
      "USING SKIP CONNECTIONS\n",
      "USING SKIP CONNECTIONS\n",
      "USING SKIP CONNECTIONS\n",
      "USING SKIP CONNECTIONS\n",
      "USING SKIP CONNECTIONS\n",
      "USING SKIP CONNECTIONS\n",
      "USING SKIP CONNECTIONS\n",
      "USING SKIP CONNECTIONS\n",
      "USING SKIP CONNECTIONS\n",
      "USING SKIP CONNECTIONS\n",
      "USING SKIP CONNECTIONS\n",
      "USING SKIP CONNECTIONS\n",
      "USING SKIP CONNECTIONS\n",
      "USING SKIP CONNECTIONS\n",
      "USING SKIP CONNECTIONS\n",
      "USING SKIP CONNECTIONS\n",
      "USING SKIP CONNECTIONS\n",
      "USING SKIP CONNECTIONS\n",
      "USING SKIP CONNECTIONS\n",
      "USING SKIP CONNECTIONS\n",
      "USING SKIP CONNECTIONS\n",
      "USING SKIP CONNECTIONS\n",
      "USING SKIP CONNECTIONS\n",
      "USING SKIP CONNECTIONS\n",
      "USING SKIP CONNECTIONS\n",
      "USING SKIP CONNECTIONS\n",
      "USING SKIP CONNECTIONS\n",
      "USING SKIP CONNECTIONS\n",
      "USING SKIP CONNECTIONS\n",
      "USING SKIP CONNECTIONS\n",
      "USING SKIP CONNECTIONS\n",
      "USING SKIP CONNECTIONS\n",
      "USING SKIP CONNECTIONS\n",
      "USING SKIP CONNECTIONS\n",
      "USING SKIP CONNECTIONS\n",
      "USING SKIP CONNECTIONS\n",
      "USING SKIP CONNECTIONS\n",
      "USING SKIP CONNECTIONS\n",
      "USING SKIP CONNECTIONS\n",
      "USING SKIP CONNECTIONS\n",
      "USING SKIP CONNECTIONS\n",
      "USING SKIP CONNECTIONS\n",
      "USING SKIP CONNECTIONS\n",
      "USING SKIP CONNECTIONS\n",
      "USING SKIP CONNECTIONS\n",
      "Response:\n",
      "Model: \"model\"\n",
      "__________________________________________________________________________________________________\n",
      "Layer (type)                    Output Shape         Param #     Connected to                     \n",
      "==================================================================================================\n",
      "encoder_input (InputLayer)      [(None, 96, 256)]    0                                            \n",
      "__________________________________________________________________________________________________\n",
      "encoder_BiLSTM (Bidirectional)  [(None, 1024), (None 3149824     encoder_input[0][0]              \n",
      "__________________________________________________________________________________________________\n",
      "decoder_input (InputLayer)      [(None, 113, 256)]   0                                            \n",
      "__________________________________________________________________________________________________\n",
      "concatenate (Concatenate)       (None, 1024)         0           encoder_BiLSTM[0][1]             \n",
      "                                                                 encoder_BiLSTM[0][3]             \n",
      "__________________________________________________________________________________________________\n",
      "concatenate_1 (Concatenate)     (None, 1024)         0           encoder_BiLSTM[0][2]             \n",
      "                                                                 encoder_BiLSTM[0][4]             \n",
      "__________________________________________________________________________________________________\n",
      "decoder_LSTM (LSTM)             [(None, 113, 1024),  5246976     decoder_input[0][0]              \n",
      "                                                                 concatenate[0][0]                \n",
      "                                                                 concatenate_1[0][0]              \n",
      "__________________________________________________________________________________________________\n",
      "decoder_output (Dense)          (None, 113, 83332)   85415300    decoder_LSTM[0][0]               \n",
      "==================================================================================================\n",
      "Total params: 93,812,100\n",
      "Trainable params: 93,812,100\n",
      "Non-trainable params: 0\n",
      "__________________________________________________________________________________________________\n",
      "==============================\n",
      "Get ELMo context for the input sentence:  and so the spongy soil not only resists erosion but sets up a microbial universe that gives rise to a plurality of other organisms\n",
      "USING SKIP CONNECTIONS\n",
      "Feed input context encoder model ...\n",
      "Feed the decoder with start token ...\n",
      "USING SKIP CONNECTIONS\n",
      "Translating the input ...\n",
      "USING SKIP CONNECTIONS\n",
      "USING SKIP CONNECTIONS\n",
      "USING SKIP CONNECTIONS\n",
      "USING SKIP CONNECTIONS\n",
      "USING SKIP CONNECTIONS\n",
      "USING SKIP CONNECTIONS\n",
      "USING SKIP CONNECTIONS\n",
      "USING SKIP CONNECTIONS\n",
      "USING SKIP CONNECTIONS\n",
      "USING SKIP CONNECTIONS\n",
      "USING SKIP CONNECTIONS\n",
      "USING SKIP CONNECTIONS\n",
      "USING SKIP CONNECTIONS\n",
      "USING SKIP CONNECTIONS\n",
      "USING SKIP CONNECTIONS\n",
      "USING SKIP CONNECTIONS\n",
      "USING SKIP CONNECTIONS\n",
      "USING SKIP CONNECTIONS\n",
      "USING SKIP CONNECTIONS\n",
      "USING SKIP CONNECTIONS\n",
      "USING SKIP CONNECTIONS\n",
      "USING SKIP CONNECTIONS\n",
      "USING SKIP CONNECTIONS\n",
      "USING SKIP CONNECTIONS\n",
      "USING SKIP CONNECTIONS\n",
      "USING SKIP CONNECTIONS\n",
      "USING SKIP CONNECTIONS\n",
      "USING SKIP CONNECTIONS\n",
      "USING SKIP CONNECTIONS\n",
      "USING SKIP CONNECTIONS\n",
      "USING SKIP CONNECTIONS\n",
      "USING SKIP CONNECTIONS\n",
      "USING SKIP CONNECTIONS\n",
      "USING SKIP CONNECTIONS\n",
      "USING SKIP CONNECTIONS\n",
      "USING SKIP CONNECTIONS\n",
      "USING SKIP CONNECTIONS\n",
      "USING SKIP CONNECTIONS\n",
      "USING SKIP CONNECTIONS\n",
      "USING SKIP CONNECTIONS\n",
      "USING SKIP CONNECTIONS\n",
      "USING SKIP CONNECTIONS\n",
      "USING SKIP CONNECTIONS\n",
      "USING SKIP CONNECTIONS\n",
      "USING SKIP CONNECTIONS\n",
      "USING SKIP CONNECTIONS\n",
      "USING SKIP CONNECTIONS\n",
      "USING SKIP CONNECTIONS\n",
      "USING SKIP CONNECTIONS\n",
      "USING SKIP CONNECTIONS\n",
      "USING SKIP CONNECTIONS\n",
      "USING SKIP CONNECTIONS\n",
      "USING SKIP CONNECTIONS\n",
      "USING SKIP CONNECTIONS\n",
      "USING SKIP CONNECTIONS\n",
      "USING SKIP CONNECTIONS\n",
      "USING SKIP CONNECTIONS\n",
      "USING SKIP CONNECTIONS\n",
      "USING SKIP CONNECTIONS\n",
      "USING SKIP CONNECTIONS\n",
      "USING SKIP CONNECTIONS\n",
      "USING SKIP CONNECTIONS\n",
      "USING SKIP CONNECTIONS\n",
      "USING SKIP CONNECTIONS\n",
      "USING SKIP CONNECTIONS\n",
      "USING SKIP CONNECTIONS\n",
      "USING SKIP CONNECTIONS\n",
      "USING SKIP CONNECTIONS\n",
      "USING SKIP CONNECTIONS\n",
      "USING SKIP CONNECTIONS\n",
      "USING SKIP CONNECTIONS\n",
      "USING SKIP CONNECTIONS\n",
      "USING SKIP CONNECTIONS\n",
      "USING SKIP CONNECTIONS\n",
      "USING SKIP CONNECTIONS\n",
      "USING SKIP CONNECTIONS\n",
      "USING SKIP CONNECTIONS\n",
      "USING SKIP CONNECTIONS\n",
      "USING SKIP CONNECTIONS\n",
      "USING SKIP CONNECTIONS\n",
      "USING SKIP CONNECTIONS\n",
      "USING SKIP CONNECTIONS\n",
      "USING SKIP CONNECTIONS\n",
      "USING SKIP CONNECTIONS\n",
      "USING SKIP CONNECTIONS\n",
      "USING SKIP CONNECTIONS\n",
      "USING SKIP CONNECTIONS\n",
      "USING SKIP CONNECTIONS\n",
      "USING SKIP CONNECTIONS\n",
      "USING SKIP CONNECTIONS\n",
      "USING SKIP CONNECTIONS\n",
      "USING SKIP CONNECTIONS\n",
      "USING SKIP CONNECTIONS\n",
      "USING SKIP CONNECTIONS\n",
      "USING SKIP CONNECTIONS\n",
      "USING SKIP CONNECTIONS\n",
      "USING SKIP CONNECTIONS\n",
      "USING SKIP CONNECTIONS\n",
      "USING SKIP CONNECTIONS\n",
      "USING SKIP CONNECTIONS\n",
      "USING SKIP CONNECTIONS\n",
      "USING SKIP CONNECTIONS\n",
      "USING SKIP CONNECTIONS\n",
      "USING SKIP CONNECTIONS\n",
      "USING SKIP CONNECTIONS\n",
      "USING SKIP CONNECTIONS\n",
      "USING SKIP CONNECTIONS\n",
      "USING SKIP CONNECTIONS\n",
      "USING SKIP CONNECTIONS\n",
      "USING SKIP CONNECTIONS\n",
      "USING SKIP CONNECTIONS\n",
      "USING SKIP CONNECTIONS\n",
      "USING SKIP CONNECTIONS\n",
      "Response:\n",
      "Model: \"model\"\n",
      "__________________________________________________________________________________________________\n",
      "Layer (type)                    Output Shape         Param #     Connected to                     \n",
      "==================================================================================================\n",
      "encoder_input (InputLayer)      [(None, 96, 256)]    0                                            \n",
      "__________________________________________________________________________________________________\n",
      "encoder_BiLSTM (Bidirectional)  [(None, 1024), (None 3149824     encoder_input[0][0]              \n",
      "__________________________________________________________________________________________________\n",
      "decoder_input (InputLayer)      [(None, 113, 256)]   0                                            \n",
      "__________________________________________________________________________________________________\n",
      "concatenate (Concatenate)       (None, 1024)         0           encoder_BiLSTM[0][1]             \n",
      "                                                                 encoder_BiLSTM[0][3]             \n",
      "__________________________________________________________________________________________________\n",
      "concatenate_1 (Concatenate)     (None, 1024)         0           encoder_BiLSTM[0][2]             \n",
      "                                                                 encoder_BiLSTM[0][4]             \n",
      "__________________________________________________________________________________________________\n",
      "decoder_LSTM (LSTM)             [(None, 113, 1024),  5246976     decoder_input[0][0]              \n",
      "                                                                 concatenate[0][0]                \n",
      "                                                                 concatenate_1[0][0]              \n",
      "__________________________________________________________________________________________________\n",
      "decoder_output (Dense)          (None, 113, 83332)   85415300    decoder_LSTM[0][0]               \n",
      "==================================================================================================\n",
      "Total params: 93,812,100\n",
      "Trainable params: 93,812,100\n",
      "Non-trainable params: 0\n",
      "__________________________________________________________________________________________________\n",
      "==============================\n",
      "Get ELMo context for the input sentence:  a concerted approach to the challenges posed by mental health is very important and should be tackled with the same seriousness as physical health\n",
      "USING SKIP CONNECTIONS\n",
      "Feed input context encoder model ...\n",
      "Feed the decoder with start token ...\n",
      "USING SKIP CONNECTIONS\n",
      "Translating the input ...\n",
      "USING SKIP CONNECTIONS\n",
      "USING SKIP CONNECTIONS\n",
      "USING SKIP CONNECTIONS\n",
      "USING SKIP CONNECTIONS\n",
      "USING SKIP CONNECTIONS\n",
      "USING SKIP CONNECTIONS\n",
      "USING SKIP CONNECTIONS\n",
      "USING SKIP CONNECTIONS\n",
      "USING SKIP CONNECTIONS\n",
      "USING SKIP CONNECTIONS\n",
      "USING SKIP CONNECTIONS\n",
      "USING SKIP CONNECTIONS\n",
      "USING SKIP CONNECTIONS\n",
      "USING SKIP CONNECTIONS\n",
      "USING SKIP CONNECTIONS\n",
      "USING SKIP CONNECTIONS\n",
      "USING SKIP CONNECTIONS\n",
      "USING SKIP CONNECTIONS\n",
      "USING SKIP CONNECTIONS\n",
      "USING SKIP CONNECTIONS\n",
      "USING SKIP CONNECTIONS\n",
      "USING SKIP CONNECTIONS\n",
      "USING SKIP CONNECTIONS\n",
      "USING SKIP CONNECTIONS\n",
      "USING SKIP CONNECTIONS\n",
      "USING SKIP CONNECTIONS\n",
      "USING SKIP CONNECTIONS\n",
      "USING SKIP CONNECTIONS\n",
      "USING SKIP CONNECTIONS\n",
      "USING SKIP CONNECTIONS\n",
      "USING SKIP CONNECTIONS\n",
      "USING SKIP CONNECTIONS\n",
      "USING SKIP CONNECTIONS\n",
      "USING SKIP CONNECTIONS\n",
      "USING SKIP CONNECTIONS\n",
      "USING SKIP CONNECTIONS\n",
      "USING SKIP CONNECTIONS\n",
      "USING SKIP CONNECTIONS\n",
      "USING SKIP CONNECTIONS\n",
      "USING SKIP CONNECTIONS\n",
      "USING SKIP CONNECTIONS\n",
      "USING SKIP CONNECTIONS\n",
      "USING SKIP CONNECTIONS\n",
      "USING SKIP CONNECTIONS\n",
      "USING SKIP CONNECTIONS\n",
      "USING SKIP CONNECTIONS\n",
      "USING SKIP CONNECTIONS\n",
      "USING SKIP CONNECTIONS\n",
      "USING SKIP CONNECTIONS\n",
      "USING SKIP CONNECTIONS\n",
      "USING SKIP CONNECTIONS\n",
      "USING SKIP CONNECTIONS\n",
      "USING SKIP CONNECTIONS\n",
      "USING SKIP CONNECTIONS\n",
      "USING SKIP CONNECTIONS\n",
      "USING SKIP CONNECTIONS\n",
      "USING SKIP CONNECTIONS\n",
      "USING SKIP CONNECTIONS\n",
      "USING SKIP CONNECTIONS\n",
      "USING SKIP CONNECTIONS\n",
      "USING SKIP CONNECTIONS\n",
      "USING SKIP CONNECTIONS\n",
      "USING SKIP CONNECTIONS\n",
      "USING SKIP CONNECTIONS\n",
      "USING SKIP CONNECTIONS\n",
      "USING SKIP CONNECTIONS\n",
      "USING SKIP CONNECTIONS\n",
      "USING SKIP CONNECTIONS\n",
      "USING SKIP CONNECTIONS\n",
      "USING SKIP CONNECTIONS\n",
      "USING SKIP CONNECTIONS\n",
      "USING SKIP CONNECTIONS\n",
      "USING SKIP CONNECTIONS\n",
      "USING SKIP CONNECTIONS\n",
      "USING SKIP CONNECTIONS\n",
      "USING SKIP CONNECTIONS\n",
      "USING SKIP CONNECTIONS\n",
      "USING SKIP CONNECTIONS\n",
      "USING SKIP CONNECTIONS\n",
      "USING SKIP CONNECTIONS\n",
      "USING SKIP CONNECTIONS\n",
      "USING SKIP CONNECTIONS\n",
      "USING SKIP CONNECTIONS\n",
      "USING SKIP CONNECTIONS\n",
      "USING SKIP CONNECTIONS\n",
      "USING SKIP CONNECTIONS\n",
      "USING SKIP CONNECTIONS\n",
      "USING SKIP CONNECTIONS\n",
      "USING SKIP CONNECTIONS\n",
      "USING SKIP CONNECTIONS\n",
      "USING SKIP CONNECTIONS\n",
      "USING SKIP CONNECTIONS\n",
      "USING SKIP CONNECTIONS\n",
      "USING SKIP CONNECTIONS\n",
      "USING SKIP CONNECTIONS\n",
      "USING SKIP CONNECTIONS\n",
      "USING SKIP CONNECTIONS\n",
      "USING SKIP CONNECTIONS\n",
      "USING SKIP CONNECTIONS\n",
      "USING SKIP CONNECTIONS\n",
      "USING SKIP CONNECTIONS\n",
      "USING SKIP CONNECTIONS\n",
      "USING SKIP CONNECTIONS\n",
      "USING SKIP CONNECTIONS\n",
      "USING SKIP CONNECTIONS\n",
      "USING SKIP CONNECTIONS\n",
      "USING SKIP CONNECTIONS\n",
      "USING SKIP CONNECTIONS\n",
      "USING SKIP CONNECTIONS\n",
      "USING SKIP CONNECTIONS\n",
      "USING SKIP CONNECTIONS\n",
      "USING SKIP CONNECTIONS\n",
      "USING SKIP CONNECTIONS\n",
      "Response:\n",
      "Model: \"model\"\n",
      "__________________________________________________________________________________________________\n",
      "Layer (type)                    Output Shape         Param #     Connected to                     \n",
      "==================================================================================================\n",
      "encoder_input (InputLayer)      [(None, 96, 256)]    0                                            \n",
      "__________________________________________________________________________________________________\n",
      "encoder_BiLSTM (Bidirectional)  [(None, 1024), (None 3149824     encoder_input[0][0]              \n",
      "__________________________________________________________________________________________________\n",
      "decoder_input (InputLayer)      [(None, 113, 256)]   0                                            \n",
      "__________________________________________________________________________________________________\n",
      "concatenate (Concatenate)       (None, 1024)         0           encoder_BiLSTM[0][1]             \n",
      "                                                                 encoder_BiLSTM[0][3]             \n",
      "__________________________________________________________________________________________________\n",
      "concatenate_1 (Concatenate)     (None, 1024)         0           encoder_BiLSTM[0][2]             \n",
      "                                                                 encoder_BiLSTM[0][4]             \n",
      "__________________________________________________________________________________________________\n",
      "decoder_LSTM (LSTM)             [(None, 113, 1024),  5246976     decoder_input[0][0]              \n",
      "                                                                 concatenate[0][0]                \n",
      "                                                                 concatenate_1[0][0]              \n",
      "__________________________________________________________________________________________________\n",
      "decoder_output (Dense)          (None, 113, 83332)   85415300    decoder_LSTM[0][0]               \n",
      "==================================================================================================\n",
      "Total params: 93,812,100\n",
      "Trainable params: 93,812,100\n",
      "Non-trainable params: 0\n",
      "__________________________________________________________________________________________________\n",
      "==============================\n",
      "Get ELMo context for the input sentence:  yet his agenda is stalled and the country ’s ideological divisions grow deeper\n",
      "USING SKIP CONNECTIONS\n",
      "Feed input context encoder model ...\n",
      "Feed the decoder with start token ...\n",
      "USING SKIP CONNECTIONS\n",
      "Translating the input ...\n",
      "USING SKIP CONNECTIONS\n",
      "USING SKIP CONNECTIONS\n",
      "USING SKIP CONNECTIONS\n",
      "USING SKIP CONNECTIONS\n",
      "USING SKIP CONNECTIONS\n",
      "USING SKIP CONNECTIONS\n",
      "USING SKIP CONNECTIONS\n",
      "USING SKIP CONNECTIONS\n",
      "USING SKIP CONNECTIONS\n",
      "USING SKIP CONNECTIONS\n",
      "USING SKIP CONNECTIONS\n",
      "USING SKIP CONNECTIONS\n",
      "USING SKIP CONNECTIONS\n",
      "USING SKIP CONNECTIONS\n",
      "USING SKIP CONNECTIONS\n",
      "USING SKIP CONNECTIONS\n",
      "USING SKIP CONNECTIONS\n",
      "USING SKIP CONNECTIONS\n",
      "USING SKIP CONNECTIONS\n",
      "USING SKIP CONNECTIONS\n",
      "USING SKIP CONNECTIONS\n",
      "USING SKIP CONNECTIONS\n",
      "USING SKIP CONNECTIONS\n",
      "USING SKIP CONNECTIONS\n",
      "USING SKIP CONNECTIONS\n",
      "USING SKIP CONNECTIONS\n",
      "USING SKIP CONNECTIONS\n",
      "USING SKIP CONNECTIONS\n",
      "USING SKIP CONNECTIONS\n",
      "USING SKIP CONNECTIONS\n",
      "USING SKIP CONNECTIONS\n",
      "USING SKIP CONNECTIONS\n",
      "USING SKIP CONNECTIONS\n",
      "USING SKIP CONNECTIONS\n",
      "USING SKIP CONNECTIONS\n",
      "USING SKIP CONNECTIONS\n",
      "USING SKIP CONNECTIONS\n",
      "USING SKIP CONNECTIONS\n",
      "USING SKIP CONNECTIONS\n",
      "USING SKIP CONNECTIONS\n",
      "USING SKIP CONNECTIONS\n",
      "USING SKIP CONNECTIONS\n",
      "USING SKIP CONNECTIONS\n",
      "USING SKIP CONNECTIONS\n",
      "USING SKIP CONNECTIONS\n",
      "USING SKIP CONNECTIONS\n",
      "USING SKIP CONNECTIONS\n",
      "USING SKIP CONNECTIONS\n",
      "USING SKIP CONNECTIONS\n",
      "USING SKIP CONNECTIONS\n",
      "USING SKIP CONNECTIONS\n",
      "USING SKIP CONNECTIONS\n",
      "USING SKIP CONNECTIONS\n",
      "USING SKIP CONNECTIONS\n",
      "USING SKIP CONNECTIONS\n",
      "USING SKIP CONNECTIONS\n",
      "USING SKIP CONNECTIONS\n",
      "USING SKIP CONNECTIONS\n",
      "USING SKIP CONNECTIONS\n",
      "USING SKIP CONNECTIONS\n",
      "USING SKIP CONNECTIONS\n",
      "USING SKIP CONNECTIONS\n",
      "USING SKIP CONNECTIONS\n",
      "USING SKIP CONNECTIONS\n",
      "USING SKIP CONNECTIONS\n",
      "USING SKIP CONNECTIONS\n",
      "USING SKIP CONNECTIONS\n",
      "USING SKIP CONNECTIONS\n",
      "USING SKIP CONNECTIONS\n",
      "USING SKIP CONNECTIONS\n",
      "USING SKIP CONNECTIONS\n",
      "USING SKIP CONNECTIONS\n",
      "USING SKIP CONNECTIONS\n",
      "USING SKIP CONNECTIONS\n",
      "USING SKIP CONNECTIONS\n",
      "USING SKIP CONNECTIONS\n",
      "USING SKIP CONNECTIONS\n",
      "USING SKIP CONNECTIONS\n",
      "USING SKIP CONNECTIONS\n",
      "USING SKIP CONNECTIONS\n",
      "USING SKIP CONNECTIONS\n",
      "USING SKIP CONNECTIONS\n",
      "USING SKIP CONNECTIONS\n",
      "USING SKIP CONNECTIONS\n",
      "USING SKIP CONNECTIONS\n",
      "USING SKIP CONNECTIONS\n",
      "USING SKIP CONNECTIONS\n",
      "USING SKIP CONNECTIONS\n",
      "USING SKIP CONNECTIONS\n",
      "USING SKIP CONNECTIONS\n",
      "USING SKIP CONNECTIONS\n",
      "USING SKIP CONNECTIONS\n",
      "USING SKIP CONNECTIONS\n",
      "USING SKIP CONNECTIONS\n",
      "USING SKIP CONNECTIONS\n",
      "USING SKIP CONNECTIONS\n",
      "USING SKIP CONNECTIONS\n",
      "USING SKIP CONNECTIONS\n",
      "USING SKIP CONNECTIONS\n",
      "USING SKIP CONNECTIONS\n",
      "USING SKIP CONNECTIONS\n",
      "USING SKIP CONNECTIONS\n",
      "USING SKIP CONNECTIONS\n",
      "USING SKIP CONNECTIONS\n",
      "USING SKIP CONNECTIONS\n",
      "USING SKIP CONNECTIONS\n",
      "USING SKIP CONNECTIONS\n",
      "USING SKIP CONNECTIONS\n",
      "USING SKIP CONNECTIONS\n",
      "USING SKIP CONNECTIONS\n",
      "USING SKIP CONNECTIONS\n",
      "USING SKIP CONNECTIONS\n",
      "USING SKIP CONNECTIONS\n",
      "Response:\n",
      "Model: \"model\"\n",
      "__________________________________________________________________________________________________\n",
      "Layer (type)                    Output Shape         Param #     Connected to                     \n",
      "==================================================================================================\n",
      "encoder_input (InputLayer)      [(None, 96, 256)]    0                                            \n",
      "__________________________________________________________________________________________________\n",
      "encoder_BiLSTM (Bidirectional)  [(None, 1024), (None 3149824     encoder_input[0][0]              \n",
      "__________________________________________________________________________________________________\n",
      "decoder_input (InputLayer)      [(None, 113, 256)]   0                                            \n",
      "__________________________________________________________________________________________________\n",
      "concatenate (Concatenate)       (None, 1024)         0           encoder_BiLSTM[0][1]             \n",
      "                                                                 encoder_BiLSTM[0][3]             \n",
      "__________________________________________________________________________________________________\n",
      "concatenate_1 (Concatenate)     (None, 1024)         0           encoder_BiLSTM[0][2]             \n",
      "                                                                 encoder_BiLSTM[0][4]             \n",
      "__________________________________________________________________________________________________\n",
      "decoder_LSTM (LSTM)             [(None, 113, 1024),  5246976     decoder_input[0][0]              \n",
      "                                                                 concatenate[0][0]                \n",
      "                                                                 concatenate_1[0][0]              \n",
      "__________________________________________________________________________________________________\n",
      "decoder_output (Dense)          (None, 113, 83332)   85415300    decoder_LSTM[0][0]               \n",
      "==================================================================================================\n",
      "Total params: 93,812,100\n",
      "Trainable params: 93,812,100\n",
      "Non-trainable params: 0\n",
      "__________________________________________________________________________________________________\n",
      "==============================\n",
      "Get ELMo context for the input sentence:  aceh province in indonesia was previously largely closed to outsiders it was ruled by the indonesian army which fought a brutal civil war against the separatist free aceh movement\n",
      "USING SKIP CONNECTIONS\n",
      "Feed input context encoder model ...\n",
      "Feed the decoder with start token ...\n",
      "USING SKIP CONNECTIONS\n",
      "Translating the input ...\n",
      "USING SKIP CONNECTIONS\n",
      "USING SKIP CONNECTIONS\n",
      "USING SKIP CONNECTIONS\n",
      "USING SKIP CONNECTIONS\n",
      "USING SKIP CONNECTIONS\n",
      "USING SKIP CONNECTIONS\n",
      "USING SKIP CONNECTIONS\n",
      "USING SKIP CONNECTIONS\n",
      "USING SKIP CONNECTIONS\n",
      "USING SKIP CONNECTIONS\n",
      "USING SKIP CONNECTIONS\n",
      "USING SKIP CONNECTIONS\n",
      "USING SKIP CONNECTIONS\n",
      "USING SKIP CONNECTIONS\n",
      "USING SKIP CONNECTIONS\n",
      "USING SKIP CONNECTIONS\n",
      "USING SKIP CONNECTIONS\n",
      "USING SKIP CONNECTIONS\n",
      "USING SKIP CONNECTIONS\n",
      "USING SKIP CONNECTIONS\n",
      "USING SKIP CONNECTIONS\n",
      "USING SKIP CONNECTIONS\n",
      "USING SKIP CONNECTIONS\n",
      "USING SKIP CONNECTIONS\n",
      "USING SKIP CONNECTIONS\n",
      "USING SKIP CONNECTIONS\n",
      "USING SKIP CONNECTIONS\n",
      "USING SKIP CONNECTIONS\n",
      "USING SKIP CONNECTIONS\n",
      "USING SKIP CONNECTIONS\n",
      "USING SKIP CONNECTIONS\n",
      "USING SKIP CONNECTIONS\n",
      "USING SKIP CONNECTIONS\n",
      "USING SKIP CONNECTIONS\n",
      "USING SKIP CONNECTIONS\n",
      "USING SKIP CONNECTIONS\n",
      "USING SKIP CONNECTIONS\n",
      "USING SKIP CONNECTIONS\n",
      "USING SKIP CONNECTIONS\n",
      "USING SKIP CONNECTIONS\n",
      "USING SKIP CONNECTIONS\n",
      "USING SKIP CONNECTIONS\n",
      "USING SKIP CONNECTIONS\n",
      "USING SKIP CONNECTIONS\n",
      "USING SKIP CONNECTIONS\n",
      "USING SKIP CONNECTIONS\n",
      "USING SKIP CONNECTIONS\n",
      "USING SKIP CONNECTIONS\n",
      "USING SKIP CONNECTIONS\n",
      "USING SKIP CONNECTIONS\n",
      "USING SKIP CONNECTIONS\n",
      "USING SKIP CONNECTIONS\n",
      "USING SKIP CONNECTIONS\n",
      "USING SKIP CONNECTIONS\n",
      "USING SKIP CONNECTIONS\n",
      "USING SKIP CONNECTIONS\n",
      "USING SKIP CONNECTIONS\n",
      "USING SKIP CONNECTIONS\n",
      "USING SKIP CONNECTIONS\n",
      "USING SKIP CONNECTIONS\n",
      "USING SKIP CONNECTIONS\n",
      "USING SKIP CONNECTIONS\n",
      "USING SKIP CONNECTIONS\n",
      "USING SKIP CONNECTIONS\n",
      "USING SKIP CONNECTIONS\n",
      "USING SKIP CONNECTIONS\n",
      "USING SKIP CONNECTIONS\n",
      "USING SKIP CONNECTIONS\n",
      "USING SKIP CONNECTIONS\n",
      "USING SKIP CONNECTIONS\n",
      "USING SKIP CONNECTIONS\n",
      "USING SKIP CONNECTIONS\n",
      "USING SKIP CONNECTIONS\n",
      "USING SKIP CONNECTIONS\n",
      "USING SKIP CONNECTIONS\n",
      "USING SKIP CONNECTIONS\n",
      "USING SKIP CONNECTIONS\n",
      "USING SKIP CONNECTIONS\n",
      "USING SKIP CONNECTIONS\n",
      "USING SKIP CONNECTIONS\n",
      "USING SKIP CONNECTIONS\n",
      "USING SKIP CONNECTIONS\n",
      "USING SKIP CONNECTIONS\n",
      "USING SKIP CONNECTIONS\n",
      "USING SKIP CONNECTIONS\n",
      "USING SKIP CONNECTIONS\n",
      "USING SKIP CONNECTIONS\n",
      "USING SKIP CONNECTIONS\n",
      "USING SKIP CONNECTIONS\n",
      "USING SKIP CONNECTIONS\n",
      "USING SKIP CONNECTIONS\n",
      "USING SKIP CONNECTIONS\n",
      "USING SKIP CONNECTIONS\n",
      "USING SKIP CONNECTIONS\n",
      "USING SKIP CONNECTIONS\n",
      "USING SKIP CONNECTIONS\n",
      "USING SKIP CONNECTIONS\n",
      "USING SKIP CONNECTIONS\n",
      "USING SKIP CONNECTIONS\n",
      "USING SKIP CONNECTIONS\n",
      "USING SKIP CONNECTIONS\n",
      "USING SKIP CONNECTIONS\n",
      "USING SKIP CONNECTIONS\n",
      "USING SKIP CONNECTIONS\n",
      "USING SKIP CONNECTIONS\n",
      "USING SKIP CONNECTIONS\n",
      "USING SKIP CONNECTIONS\n",
      "USING SKIP CONNECTIONS\n",
      "USING SKIP CONNECTIONS\n",
      "USING SKIP CONNECTIONS\n",
      "USING SKIP CONNECTIONS\n",
      "USING SKIP CONNECTIONS\n",
      "USING SKIP CONNECTIONS\n",
      "Response:\n",
      "Model: \"model\"\n",
      "__________________________________________________________________________________________________\n",
      "Layer (type)                    Output Shape         Param #     Connected to                     \n",
      "==================================================================================================\n",
      "encoder_input (InputLayer)      [(None, 96, 256)]    0                                            \n",
      "__________________________________________________________________________________________________\n",
      "encoder_BiLSTM (Bidirectional)  [(None, 1024), (None 3149824     encoder_input[0][0]              \n",
      "__________________________________________________________________________________________________\n",
      "decoder_input (InputLayer)      [(None, 113, 256)]   0                                            \n",
      "__________________________________________________________________________________________________\n",
      "concatenate (Concatenate)       (None, 1024)         0           encoder_BiLSTM[0][1]             \n",
      "                                                                 encoder_BiLSTM[0][3]             \n",
      "__________________________________________________________________________________________________\n",
      "concatenate_1 (Concatenate)     (None, 1024)         0           encoder_BiLSTM[0][2]             \n",
      "                                                                 encoder_BiLSTM[0][4]             \n",
      "__________________________________________________________________________________________________\n",
      "decoder_LSTM (LSTM)             [(None, 113, 1024),  5246976     decoder_input[0][0]              \n",
      "                                                                 concatenate[0][0]                \n",
      "                                                                 concatenate_1[0][0]              \n",
      "__________________________________________________________________________________________________\n",
      "decoder_output (Dense)          (None, 113, 83332)   85415300    decoder_LSTM[0][0]               \n",
      "==================================================================================================\n",
      "Total params: 93,812,100\n",
      "Trainable params: 93,812,100\n",
      "Non-trainable params: 0\n",
      "__________________________________________________________________________________________________\n",
      "==============================\n",
      "Get ELMo context for the input sentence:  at the same time i support an agricultural policy which is orientated as much as possible to ensuring access for eu agricultural products to third country markets\n",
      "USING SKIP CONNECTIONS\n",
      "Feed input context encoder model ...\n",
      "Feed the decoder with start token ...\n",
      "USING SKIP CONNECTIONS\n",
      "Translating the input ...\n",
      "USING SKIP CONNECTIONS\n",
      "USING SKIP CONNECTIONS\n",
      "USING SKIP CONNECTIONS\n",
      "USING SKIP CONNECTIONS\n",
      "USING SKIP CONNECTIONS\n",
      "USING SKIP CONNECTIONS\n",
      "USING SKIP CONNECTIONS\n",
      "USING SKIP CONNECTIONS\n",
      "USING SKIP CONNECTIONS\n",
      "USING SKIP CONNECTIONS\n",
      "USING SKIP CONNECTIONS\n",
      "USING SKIP CONNECTIONS\n",
      "USING SKIP CONNECTIONS\n",
      "USING SKIP CONNECTIONS\n",
      "USING SKIP CONNECTIONS\n",
      "USING SKIP CONNECTIONS\n",
      "USING SKIP CONNECTIONS\n",
      "USING SKIP CONNECTIONS\n",
      "USING SKIP CONNECTIONS\n",
      "USING SKIP CONNECTIONS\n",
      "USING SKIP CONNECTIONS\n",
      "USING SKIP CONNECTIONS\n",
      "USING SKIP CONNECTIONS\n",
      "USING SKIP CONNECTIONS\n",
      "USING SKIP CONNECTIONS\n",
      "USING SKIP CONNECTIONS\n",
      "USING SKIP CONNECTIONS\n",
      "USING SKIP CONNECTIONS\n",
      "USING SKIP CONNECTIONS\n",
      "USING SKIP CONNECTIONS\n",
      "USING SKIP CONNECTIONS\n",
      "USING SKIP CONNECTIONS\n",
      "USING SKIP CONNECTIONS\n",
      "USING SKIP CONNECTIONS\n",
      "USING SKIP CONNECTIONS\n",
      "USING SKIP CONNECTIONS\n",
      "USING SKIP CONNECTIONS\n",
      "USING SKIP CONNECTIONS\n",
      "USING SKIP CONNECTIONS\n",
      "USING SKIP CONNECTIONS\n",
      "USING SKIP CONNECTIONS\n",
      "USING SKIP CONNECTIONS\n",
      "USING SKIP CONNECTIONS\n",
      "USING SKIP CONNECTIONS\n",
      "USING SKIP CONNECTIONS\n",
      "USING SKIP CONNECTIONS\n",
      "USING SKIP CONNECTIONS\n",
      "USING SKIP CONNECTIONS\n",
      "USING SKIP CONNECTIONS\n",
      "USING SKIP CONNECTIONS\n",
      "USING SKIP CONNECTIONS\n",
      "USING SKIP CONNECTIONS\n",
      "USING SKIP CONNECTIONS\n",
      "USING SKIP CONNECTIONS\n",
      "USING SKIP CONNECTIONS\n",
      "USING SKIP CONNECTIONS\n",
      "USING SKIP CONNECTIONS\n",
      "USING SKIP CONNECTIONS\n",
      "USING SKIP CONNECTIONS\n",
      "USING SKIP CONNECTIONS\n",
      "USING SKIP CONNECTIONS\n",
      "USING SKIP CONNECTIONS\n",
      "USING SKIP CONNECTIONS\n",
      "USING SKIP CONNECTIONS\n",
      "USING SKIP CONNECTIONS\n",
      "USING SKIP CONNECTIONS\n",
      "USING SKIP CONNECTIONS\n",
      "USING SKIP CONNECTIONS\n",
      "USING SKIP CONNECTIONS\n",
      "USING SKIP CONNECTIONS\n",
      "USING SKIP CONNECTIONS\n",
      "USING SKIP CONNECTIONS\n",
      "USING SKIP CONNECTIONS\n",
      "USING SKIP CONNECTIONS\n",
      "USING SKIP CONNECTIONS\n",
      "USING SKIP CONNECTIONS\n",
      "USING SKIP CONNECTIONS\n",
      "USING SKIP CONNECTIONS\n",
      "USING SKIP CONNECTIONS\n",
      "USING SKIP CONNECTIONS\n",
      "USING SKIP CONNECTIONS\n",
      "USING SKIP CONNECTIONS\n",
      "USING SKIP CONNECTIONS\n",
      "USING SKIP CONNECTIONS\n",
      "USING SKIP CONNECTIONS\n",
      "USING SKIP CONNECTIONS\n",
      "USING SKIP CONNECTIONS\n",
      "USING SKIP CONNECTIONS\n",
      "USING SKIP CONNECTIONS\n",
      "USING SKIP CONNECTIONS\n",
      "USING SKIP CONNECTIONS\n",
      "USING SKIP CONNECTIONS\n",
      "USING SKIP CONNECTIONS\n",
      "USING SKIP CONNECTIONS\n",
      "USING SKIP CONNECTIONS\n",
      "USING SKIP CONNECTIONS\n",
      "USING SKIP CONNECTIONS\n",
      "USING SKIP CONNECTIONS\n",
      "USING SKIP CONNECTIONS\n",
      "USING SKIP CONNECTIONS\n",
      "USING SKIP CONNECTIONS\n",
      "USING SKIP CONNECTIONS\n",
      "USING SKIP CONNECTIONS\n",
      "USING SKIP CONNECTIONS\n",
      "USING SKIP CONNECTIONS\n",
      "USING SKIP CONNECTIONS\n",
      "USING SKIP CONNECTIONS\n",
      "USING SKIP CONNECTIONS\n",
      "USING SKIP CONNECTIONS\n",
      "USING SKIP CONNECTIONS\n",
      "USING SKIP CONNECTIONS\n",
      "USING SKIP CONNECTIONS\n",
      "USING SKIP CONNECTIONS\n",
      "Response:\n",
      "Model: \"model\"\n",
      "__________________________________________________________________________________________________\n",
      "Layer (type)                    Output Shape         Param #     Connected to                     \n",
      "==================================================================================================\n",
      "encoder_input (InputLayer)      [(None, 96, 256)]    0                                            \n",
      "__________________________________________________________________________________________________\n",
      "encoder_BiLSTM (Bidirectional)  [(None, 1024), (None 3149824     encoder_input[0][0]              \n",
      "__________________________________________________________________________________________________\n",
      "decoder_input (InputLayer)      [(None, 113, 256)]   0                                            \n",
      "__________________________________________________________________________________________________\n",
      "concatenate (Concatenate)       (None, 1024)         0           encoder_BiLSTM[0][1]             \n",
      "                                                                 encoder_BiLSTM[0][3]             \n",
      "__________________________________________________________________________________________________\n",
      "concatenate_1 (Concatenate)     (None, 1024)         0           encoder_BiLSTM[0][2]             \n",
      "                                                                 encoder_BiLSTM[0][4]             \n",
      "__________________________________________________________________________________________________\n",
      "decoder_LSTM (LSTM)             [(None, 113, 1024),  5246976     decoder_input[0][0]              \n",
      "                                                                 concatenate[0][0]                \n",
      "                                                                 concatenate_1[0][0]              \n",
      "__________________________________________________________________________________________________\n",
      "decoder_output (Dense)          (None, 113, 83332)   85415300    decoder_LSTM[0][0]               \n",
      "==================================================================================================\n",
      "Total params: 93,812,100\n",
      "Trainable params: 93,812,100\n",
      "Non-trainable params: 0\n",
      "__________________________________________________________________________________________________\n",
      "==============================\n",
      "Get ELMo context for the input sentence:  the change to organic farming must be a free decision on the part of farmers and to be successful it must take place gradually\n",
      "USING SKIP CONNECTIONS\n",
      "Feed input context encoder model ...\n",
      "Feed the decoder with start token ...\n",
      "USING SKIP CONNECTIONS\n",
      "Translating the input ...\n",
      "USING SKIP CONNECTIONS\n",
      "USING SKIP CONNECTIONS\n",
      "USING SKIP CONNECTIONS\n",
      "USING SKIP CONNECTIONS\n",
      "USING SKIP CONNECTIONS\n",
      "USING SKIP CONNECTIONS\n",
      "USING SKIP CONNECTIONS\n",
      "USING SKIP CONNECTIONS\n",
      "USING SKIP CONNECTIONS\n",
      "USING SKIP CONNECTIONS\n",
      "USING SKIP CONNECTIONS\n",
      "USING SKIP CONNECTIONS\n",
      "USING SKIP CONNECTIONS\n",
      "USING SKIP CONNECTIONS\n",
      "USING SKIP CONNECTIONS\n",
      "USING SKIP CONNECTIONS\n",
      "USING SKIP CONNECTIONS\n",
      "USING SKIP CONNECTIONS\n",
      "USING SKIP CONNECTIONS\n",
      "USING SKIP CONNECTIONS\n",
      "USING SKIP CONNECTIONS\n",
      "USING SKIP CONNECTIONS\n",
      "USING SKIP CONNECTIONS\n",
      "USING SKIP CONNECTIONS\n",
      "USING SKIP CONNECTIONS\n",
      "USING SKIP CONNECTIONS\n",
      "USING SKIP CONNECTIONS\n",
      "USING SKIP CONNECTIONS\n",
      "USING SKIP CONNECTIONS\n",
      "USING SKIP CONNECTIONS\n",
      "USING SKIP CONNECTIONS\n",
      "USING SKIP CONNECTIONS\n",
      "USING SKIP CONNECTIONS\n",
      "USING SKIP CONNECTIONS\n",
      "USING SKIP CONNECTIONS\n",
      "USING SKIP CONNECTIONS\n",
      "USING SKIP CONNECTIONS\n",
      "USING SKIP CONNECTIONS\n",
      "USING SKIP CONNECTIONS\n",
      "USING SKIP CONNECTIONS\n",
      "USING SKIP CONNECTIONS\n",
      "USING SKIP CONNECTIONS\n",
      "USING SKIP CONNECTIONS\n",
      "USING SKIP CONNECTIONS\n",
      "USING SKIP CONNECTIONS\n",
      "USING SKIP CONNECTIONS\n",
      "USING SKIP CONNECTIONS\n",
      "USING SKIP CONNECTIONS\n",
      "USING SKIP CONNECTIONS\n",
      "USING SKIP CONNECTIONS\n",
      "USING SKIP CONNECTIONS\n",
      "USING SKIP CONNECTIONS\n",
      "USING SKIP CONNECTIONS\n",
      "USING SKIP CONNECTIONS\n",
      "USING SKIP CONNECTIONS\n",
      "USING SKIP CONNECTIONS\n",
      "USING SKIP CONNECTIONS\n",
      "USING SKIP CONNECTIONS\n",
      "USING SKIP CONNECTIONS\n",
      "USING SKIP CONNECTIONS\n",
      "USING SKIP CONNECTIONS\n",
      "USING SKIP CONNECTIONS\n",
      "USING SKIP CONNECTIONS\n",
      "USING SKIP CONNECTIONS\n",
      "USING SKIP CONNECTIONS\n",
      "USING SKIP CONNECTIONS\n",
      "USING SKIP CONNECTIONS\n",
      "USING SKIP CONNECTIONS\n",
      "USING SKIP CONNECTIONS\n",
      "USING SKIP CONNECTIONS\n",
      "USING SKIP CONNECTIONS\n",
      "USING SKIP CONNECTIONS\n",
      "USING SKIP CONNECTIONS\n",
      "USING SKIP CONNECTIONS\n",
      "USING SKIP CONNECTIONS\n",
      "USING SKIP CONNECTIONS\n",
      "USING SKIP CONNECTIONS\n",
      "USING SKIP CONNECTIONS\n",
      "USING SKIP CONNECTIONS\n",
      "USING SKIP CONNECTIONS\n",
      "USING SKIP CONNECTIONS\n",
      "USING SKIP CONNECTIONS\n",
      "USING SKIP CONNECTIONS\n",
      "USING SKIP CONNECTIONS\n",
      "USING SKIP CONNECTIONS\n",
      "USING SKIP CONNECTIONS\n",
      "USING SKIP CONNECTIONS\n",
      "USING SKIP CONNECTIONS\n",
      "USING SKIP CONNECTIONS\n",
      "USING SKIP CONNECTIONS\n",
      "USING SKIP CONNECTIONS\n",
      "USING SKIP CONNECTIONS\n",
      "USING SKIP CONNECTIONS\n",
      "USING SKIP CONNECTIONS\n",
      "USING SKIP CONNECTIONS\n",
      "USING SKIP CONNECTIONS\n",
      "USING SKIP CONNECTIONS\n",
      "USING SKIP CONNECTIONS\n",
      "USING SKIP CONNECTIONS\n",
      "USING SKIP CONNECTIONS\n",
      "USING SKIP CONNECTIONS\n",
      "USING SKIP CONNECTIONS\n",
      "USING SKIP CONNECTIONS\n",
      "USING SKIP CONNECTIONS\n",
      "USING SKIP CONNECTIONS\n",
      "USING SKIP CONNECTIONS\n",
      "USING SKIP CONNECTIONS\n",
      "USING SKIP CONNECTIONS\n",
      "USING SKIP CONNECTIONS\n",
      "USING SKIP CONNECTIONS\n",
      "USING SKIP CONNECTIONS\n",
      "USING SKIP CONNECTIONS\n",
      "USING SKIP CONNECTIONS\n",
      "Response:\n",
      "Model: \"model\"\n",
      "__________________________________________________________________________________________________\n",
      "Layer (type)                    Output Shape         Param #     Connected to                     \n",
      "==================================================================================================\n",
      "encoder_input (InputLayer)      [(None, 96, 256)]    0                                            \n",
      "__________________________________________________________________________________________________\n",
      "encoder_BiLSTM (Bidirectional)  [(None, 1024), (None 3149824     encoder_input[0][0]              \n",
      "__________________________________________________________________________________________________\n",
      "decoder_input (InputLayer)      [(None, 113, 256)]   0                                            \n",
      "__________________________________________________________________________________________________\n",
      "concatenate (Concatenate)       (None, 1024)         0           encoder_BiLSTM[0][1]             \n",
      "                                                                 encoder_BiLSTM[0][3]             \n",
      "__________________________________________________________________________________________________\n",
      "concatenate_1 (Concatenate)     (None, 1024)         0           encoder_BiLSTM[0][2]             \n",
      "                                                                 encoder_BiLSTM[0][4]             \n",
      "__________________________________________________________________________________________________\n",
      "decoder_LSTM (LSTM)             [(None, 113, 1024),  5246976     decoder_input[0][0]              \n",
      "                                                                 concatenate[0][0]                \n",
      "                                                                 concatenate_1[0][0]              \n",
      "__________________________________________________________________________________________________\n",
      "decoder_output (Dense)          (None, 113, 83332)   85415300    decoder_LSTM[0][0]               \n",
      "==================================================================================================\n",
      "Total params: 93,812,100\n",
      "Trainable params: 93,812,100\n",
      "Non-trainable params: 0\n",
      "__________________________________________________________________________________________________\n",
      "==============================\n",
      "Get ELMo context for the input sentence:  the uk proposal does not even take account of the geographical diversity of the member states and cuts those structural funds that are vital to southern and eastern europe\n",
      "USING SKIP CONNECTIONS\n",
      "Feed input context encoder model ...\n",
      "Feed the decoder with start token ...\n",
      "USING SKIP CONNECTIONS\n",
      "Translating the input ...\n",
      "USING SKIP CONNECTIONS\n",
      "USING SKIP CONNECTIONS\n",
      "USING SKIP CONNECTIONS\n",
      "USING SKIP CONNECTIONS\n",
      "USING SKIP CONNECTIONS\n",
      "USING SKIP CONNECTIONS\n",
      "USING SKIP CONNECTIONS\n",
      "USING SKIP CONNECTIONS\n",
      "USING SKIP CONNECTIONS\n",
      "USING SKIP CONNECTIONS\n",
      "USING SKIP CONNECTIONS\n",
      "USING SKIP CONNECTIONS\n",
      "USING SKIP CONNECTIONS\n",
      "USING SKIP CONNECTIONS\n",
      "USING SKIP CONNECTIONS\n",
      "USING SKIP CONNECTIONS\n",
      "USING SKIP CONNECTIONS\n",
      "USING SKIP CONNECTIONS\n",
      "USING SKIP CONNECTIONS\n",
      "USING SKIP CONNECTIONS\n",
      "USING SKIP CONNECTIONS\n",
      "USING SKIP CONNECTIONS\n",
      "USING SKIP CONNECTIONS\n",
      "USING SKIP CONNECTIONS\n",
      "USING SKIP CONNECTIONS\n",
      "USING SKIP CONNECTIONS\n",
      "USING SKIP CONNECTIONS\n",
      "USING SKIP CONNECTIONS\n",
      "USING SKIP CONNECTIONS\n",
      "USING SKIP CONNECTIONS\n",
      "USING SKIP CONNECTIONS\n",
      "USING SKIP CONNECTIONS\n",
      "USING SKIP CONNECTIONS\n",
      "USING SKIP CONNECTIONS\n",
      "USING SKIP CONNECTIONS\n",
      "USING SKIP CONNECTIONS\n",
      "USING SKIP CONNECTIONS\n",
      "USING SKIP CONNECTIONS\n",
      "USING SKIP CONNECTIONS\n",
      "USING SKIP CONNECTIONS\n",
      "USING SKIP CONNECTIONS\n",
      "USING SKIP CONNECTIONS\n",
      "USING SKIP CONNECTIONS\n",
      "USING SKIP CONNECTIONS\n",
      "USING SKIP CONNECTIONS\n",
      "USING SKIP CONNECTIONS\n",
      "USING SKIP CONNECTIONS\n",
      "USING SKIP CONNECTIONS\n",
      "USING SKIP CONNECTIONS\n",
      "USING SKIP CONNECTIONS\n",
      "USING SKIP CONNECTIONS\n",
      "USING SKIP CONNECTIONS\n",
      "USING SKIP CONNECTIONS\n",
      "USING SKIP CONNECTIONS\n",
      "USING SKIP CONNECTIONS\n",
      "USING SKIP CONNECTIONS\n",
      "USING SKIP CONNECTIONS\n",
      "USING SKIP CONNECTIONS\n",
      "USING SKIP CONNECTIONS\n",
      "USING SKIP CONNECTIONS\n",
      "USING SKIP CONNECTIONS\n",
      "USING SKIP CONNECTIONS\n",
      "USING SKIP CONNECTIONS\n",
      "USING SKIP CONNECTIONS\n",
      "USING SKIP CONNECTIONS\n",
      "USING SKIP CONNECTIONS\n",
      "USING SKIP CONNECTIONS\n",
      "USING SKIP CONNECTIONS\n",
      "USING SKIP CONNECTIONS\n",
      "USING SKIP CONNECTIONS\n",
      "USING SKIP CONNECTIONS\n",
      "USING SKIP CONNECTIONS\n",
      "USING SKIP CONNECTIONS\n",
      "USING SKIP CONNECTIONS\n",
      "USING SKIP CONNECTIONS\n",
      "USING SKIP CONNECTIONS\n",
      "USING SKIP CONNECTIONS\n",
      "USING SKIP CONNECTIONS\n",
      "USING SKIP CONNECTIONS\n",
      "USING SKIP CONNECTIONS\n",
      "USING SKIP CONNECTIONS\n",
      "USING SKIP CONNECTIONS\n",
      "USING SKIP CONNECTIONS\n",
      "USING SKIP CONNECTIONS\n",
      "USING SKIP CONNECTIONS\n",
      "USING SKIP CONNECTIONS\n",
      "USING SKIP CONNECTIONS\n",
      "USING SKIP CONNECTIONS\n",
      "USING SKIP CONNECTIONS\n",
      "USING SKIP CONNECTIONS\n",
      "USING SKIP CONNECTIONS\n",
      "USING SKIP CONNECTIONS\n",
      "USING SKIP CONNECTIONS\n",
      "USING SKIP CONNECTIONS\n",
      "USING SKIP CONNECTIONS\n",
      "USING SKIP CONNECTIONS\n",
      "USING SKIP CONNECTIONS\n",
      "USING SKIP CONNECTIONS\n",
      "USING SKIP CONNECTIONS\n",
      "USING SKIP CONNECTIONS\n",
      "USING SKIP CONNECTIONS\n",
      "USING SKIP CONNECTIONS\n",
      "USING SKIP CONNECTIONS\n",
      "USING SKIP CONNECTIONS\n",
      "USING SKIP CONNECTIONS\n",
      "USING SKIP CONNECTIONS\n",
      "USING SKIP CONNECTIONS\n",
      "USING SKIP CONNECTIONS\n",
      "USING SKIP CONNECTIONS\n",
      "USING SKIP CONNECTIONS\n",
      "USING SKIP CONNECTIONS\n",
      "USING SKIP CONNECTIONS\n",
      "USING SKIP CONNECTIONS\n",
      "Response:\n",
      "Model: \"model\"\n",
      "__________________________________________________________________________________________________\n",
      "Layer (type)                    Output Shape         Param #     Connected to                     \n",
      "==================================================================================================\n",
      "encoder_input (InputLayer)      [(None, 96, 256)]    0                                            \n",
      "__________________________________________________________________________________________________\n",
      "encoder_BiLSTM (Bidirectional)  [(None, 1024), (None 3149824     encoder_input[0][0]              \n",
      "__________________________________________________________________________________________________\n",
      "decoder_input (InputLayer)      [(None, 113, 256)]   0                                            \n",
      "__________________________________________________________________________________________________\n",
      "concatenate (Concatenate)       (None, 1024)         0           encoder_BiLSTM[0][1]             \n",
      "                                                                 encoder_BiLSTM[0][3]             \n",
      "__________________________________________________________________________________________________\n",
      "concatenate_1 (Concatenate)     (None, 1024)         0           encoder_BiLSTM[0][2]             \n",
      "                                                                 encoder_BiLSTM[0][4]             \n",
      "__________________________________________________________________________________________________\n",
      "decoder_LSTM (LSTM)             [(None, 113, 1024),  5246976     decoder_input[0][0]              \n",
      "                                                                 concatenate[0][0]                \n",
      "                                                                 concatenate_1[0][0]              \n",
      "__________________________________________________________________________________________________\n",
      "decoder_output (Dense)          (None, 113, 83332)   85415300    decoder_LSTM[0][0]               \n",
      "==================================================================================================\n",
      "Total params: 93,812,100\n",
      "Trainable params: 93,812,100\n",
      "Non-trainable params: 0\n",
      "__________________________________________________________________________________________________\n",
      "==============================\n",
      "Get ELMo context for the input sentence:  he is the most valuable player in our team\n",
      "USING SKIP CONNECTIONS\n",
      "Feed input context encoder model ...\n",
      "Feed the decoder with start token ...\n",
      "USING SKIP CONNECTIONS\n",
      "Translating the input ...\n",
      "USING SKIP CONNECTIONS\n",
      "USING SKIP CONNECTIONS\n",
      "USING SKIP CONNECTIONS\n",
      "USING SKIP CONNECTIONS\n",
      "USING SKIP CONNECTIONS\n",
      "USING SKIP CONNECTIONS\n",
      "USING SKIP CONNECTIONS\n",
      "USING SKIP CONNECTIONS\n",
      "USING SKIP CONNECTIONS\n",
      "USING SKIP CONNECTIONS\n",
      "USING SKIP CONNECTIONS\n",
      "USING SKIP CONNECTIONS\n",
      "USING SKIP CONNECTIONS\n",
      "USING SKIP CONNECTIONS\n",
      "USING SKIP CONNECTIONS\n",
      "USING SKIP CONNECTIONS\n",
      "USING SKIP CONNECTIONS\n",
      "USING SKIP CONNECTIONS\n",
      "USING SKIP CONNECTIONS\n",
      "USING SKIP CONNECTIONS\n",
      "USING SKIP CONNECTIONS\n",
      "USING SKIP CONNECTIONS\n",
      "USING SKIP CONNECTIONS\n"
     ]
    }
   ],
   "source": [
    "# Run prediction on 10 samples\n",
    "predictions = []\n",
    "for i in ids:\n",
    "    _, encoder_model, decoder_model = seq2seq_model(embedings_dim, hidden_units, num_words_output, max_input_len, max_out_len, LR, dropout)\n",
    "    graph = tf.get_default_graph()\n",
    "    print('==============================')\n",
    "    #print('Input:', input_text[i])\n",
    "    translation = translate_sentence(i, input_text[i])\n",
    "    print('Response:', )\n",
    "    predictions.append(translation[0]+'\\n')\n",
    "    "
   ]
  },
  {
   "cell_type": "code",
   "execution_count": null,
   "metadata": {},
   "outputs": [],
   "source": [
    "with open(\"targets.txt\", \"w\", encoding='utf-8') as target_file:\n",
    "    target_file.writelines(targets)\n",
    "    target_file.close()"
   ]
  },
  {
   "cell_type": "code",
   "execution_count": null,
   "metadata": {},
   "outputs": [],
   "source": [
    "with open(\"predictions.txt\", \"w\", encoding='utf-8') as target_file:\n",
    "    target_file.writelines(predictions)\n",
    "    target_file.close()"
   ]
  },
  {
   "cell_type": "markdown",
   "metadata": {
    "colab": {},
    "colab_type": "code",
    "id": "eq0ggv-VO_py"
   },
   "source": [
    "## SacreBLEU Evaluation "
   ]
  },
  {
   "cell_type": "raw",
   "metadata": {},
   "source": [
    "!python evaluator.py --input-file-path predictions.txt --target-file-path targets.txt --do-not-run-model"
   ]
  },
  {
   "cell_type": "code",
   "execution_count": null,
   "metadata": {},
   "outputs": [],
   "source": []
  }
 ],
 "metadata": {
  "colab": {
   "name": "Project2_baseline.ipynb",
   "provenance": []
  },
  "kernelspec": {
   "display_name": "env2",
   "language": "python",
   "name": "env2"
  },
  "language_info": {
   "codemirror_mode": {
    "name": "ipython",
    "version": 3
   },
   "file_extension": ".py",
   "mimetype": "text/x-python",
   "name": "python",
   "nbconvert_exporter": "python",
   "pygments_lexer": "ipython3",
   "version": "3.7.4"
  }
 },
 "nbformat": 4,
 "nbformat_minor": 4
}
