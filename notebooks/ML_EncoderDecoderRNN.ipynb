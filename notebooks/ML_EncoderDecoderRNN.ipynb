{
 "cells": [
  {
   "cell_type": "code",
   "execution_count": 1,
   "metadata": {
    "colab": {},
    "colab_type": "code",
    "id": "gvVhUeaRO_nA"
   },
   "outputs": [],
   "source": [
    "from __future__ import absolute_import, division, print_function, unicode_literals\n",
    "\n",
    "import tensorflow as tf\n",
    "import tensorflow_addons as tfa\n",
    "import tensorflow_datasets as tfds\n",
    "import os\n",
    "import matplotlib.pyplot as plt"
   ]
  },
  {
   "cell_type": "code",
   "execution_count": 2,
   "metadata": {
    "colab": {},
    "colab_type": "code",
    "id": "XyuH48T4O_nS"
   },
   "outputs": [],
   "source": [
    "#tf.debugging.set_log_device_placement(True)"
   ]
  },
  {
   "cell_type": "code",
   "execution_count": 3,
   "metadata": {
    "colab": {},
    "colab_type": "code",
    "id": "ys0Y7XsBO_nY"
   },
   "outputs": [],
   "source": [
    "physical_devices = tf.config.list_physical_devices('GPU')\n",
    "tf.config.experimental.set_memory_growth(physical_devices[0], enable=True)\n",
    "os.environ['TF_FORCE_GPU_ALLOW_GROWTH'] = 'true'"
   ]
  },
  {
   "cell_type": "code",
   "execution_count": 4,
   "metadata": {},
   "outputs": [],
   "source": [
    "from tensorflow.keras.models import Model\n",
    "from tensorflow.keras import layers\n",
    "import numpy as np\n",
    "from tensorflow.keras.preprocessing.sequence import pad_sequences"
   ]
  },
  {
   "cell_type": "markdown",
   "metadata": {
    "colab_type": "text",
    "id": "UYVG_U1HO_ne"
   },
   "source": [
    "## Preprocessing: Tokenize, clean-up, load, padding"
   ]
  },
  {
   "cell_type": "markdown",
   "metadata": {
    "colab_type": "text",
    "id": "5C4OBlaeO_nf"
   },
   "source": [
    "### Tokenize and clean up data"
   ]
  },
  {
   "cell_type": "code",
   "execution_count": 5,
   "metadata": {
    "colab": {},
    "colab_type": "code",
    "id": "gEI1uWtjO_nh"
   },
   "outputs": [],
   "source": [
    "# Lower case for the translation\n",
    "# Load original english text as is\n",
    "# install requirement.txt\n",
    "# python -m spacy download fr_core_news_sm\n",
    "# correction of tokenizer.py: add encoding='utf-8' to open method\n",
    "# same thing for punctuation_remover.py\n",
    "# python tokenizer.py --input train.lang2 --output tokenized --lang fr --keep-empty-lines\n",
    "# python punctuation_remover.py --input train.lang2.tok --output tokenized\n"
   ]
  },
  {
   "cell_type": "markdown",
   "metadata": {
    "colab_type": "text",
    "id": "CpNtsXsjO_nn"
   },
   "source": [
    "### Loading data "
   ]
  },
  {
   "cell_type": "code",
   "execution_count": 107,
   "metadata": {
    "colab": {},
    "colab_type": "code",
    "id": "y5nxMfzAO_no"
   },
   "outputs": [],
   "source": [
    "# Load data\n",
    "DIRECTORY_URL = \"D:\\\\IFT6759\\\\Project2\\\\data\\\\train\\\\\"\n",
    "FILE_NAMES = [\"train.lang1\",\"train.lang2.tok\"]\n",
    "\n",
    "en_data = tf.data.TextLineDataset(os.path.join(DIRECTORY_URL, FILE_NAMES[0]))\n",
    "fr_data = tf.data.TextLineDataset(os.path.join(DIRECTORY_URL, FILE_NAMES[1]))"
   ]
  },
  {
   "cell_type": "code",
   "execution_count": 7,
   "metadata": {
    "colab": {
     "base_uri": "https://localhost:8080/",
     "height": 121
    },
    "colab_type": "code",
    "id": "4M2qgAmVO_nw",
    "outputId": "740e0255-0484-4ec8-a430-34b08edbb5b8"
   },
   "outputs": [
    {
     "name": "stdout",
     "output_type": "stream",
     "text": [
      "tf.Tensor(b'so too does the idea that accommodating religious differences is dangerous', shape=(), dtype=string)\n",
      "tf.Tensor(b'mr president ladies and gentlemen the financial perspective outlines the scope of the eu \\xe2\\x80\\x99s activities over coming years as well as providing a framework for such activities and determining how effective they will be', shape=(), dtype=string)\n",
      "tf.Tensor(b'reserve should turn into thought - provoking policy', shape=(), dtype=string)\n",
      "tf.Tensor(b'it is my profound belief that we can only advance through cooperation and negotiation', shape=(), dtype=string)\n",
      "tf.Tensor(b'the european union has territorial waters greater than its entire territory with 1 200 ports and 90 % of its exports are transported by sea', shape=(), dtype=string)\n"
     ]
    }
   ],
   "source": [
    "for ex in en_data.take(5):\n",
    "    print(ex)"
   ]
  },
  {
   "cell_type": "code",
   "execution_count": 8,
   "metadata": {
    "colab": {
     "base_uri": "https://localhost:8080/",
     "height": 121
    },
    "colab_type": "code",
    "id": "KQa51QDzO_n2",
    "outputId": "b80bf098-8c0e-4954-effa-55e32794d1a6"
   },
   "outputs": [
    {
     "name": "stdout",
     "output_type": "stream",
     "text": [
      "tf.Tensor(b'l \\xe2\\x80\\x99 id\\xc3\\xa9e de concilier les diff\\xc3\\xa9rences religieuses semble donc dangereuse', shape=(), dtype=string)\n",
      "tf.Tensor(b'monsieur le pr\\xc3\\xa9sident mesdames et messieurs les perspectives financi\\xc3\\xa8res esquissent la port\\xc3\\xa9e des activit\\xc3\\xa9s de l \\xe2\\x80\\x99 ue pour les ann\\xc3\\xa9es \\xc3\\xa0 venir fournissent un cadre pour ces activit\\xc3\\xa9s et d\\xc3\\xa9terminent leur efficacit\\xc3\\xa9', shape=(), dtype=string)\n",
      "tf.Tensor(b'la r\\xc3\\xa9ticence doit laisser place \\xc3\\xa0 une politique stimulante', shape=(), dtype=string)\n",
      "tf.Tensor(b'je suis intimement convaincu que nous ne pourrons progresser que si nous coop\\xc3\\xa9rons et n\\xc3\\xa9gocions', shape=(), dtype=string)\n",
      "tf.Tensor(b\"le territoire marin de l ' union europ\\xc3\\xa9enne est plus vaste que son territoire terrestre on y d\\xc3\\xa9nombre 1 200 ports et 90 % de ses exportations sont achemin\\xc3\\xa9es par mer\", shape=(), dtype=string)\n"
     ]
    }
   ],
   "source": [
    "for ex in fr_data.take(5):\n",
    "    print(ex)"
   ]
  },
  {
   "cell_type": "markdown",
   "metadata": {
    "colab_type": "text",
    "id": "1N8WPHYKO_oN"
   },
   "source": [
    "### Build the vocabulary"
   ]
  },
  {
   "cell_type": "code",
   "execution_count": 9,
   "metadata": {
    "colab": {},
    "colab_type": "code",
    "id": "K1jsDxHyO_oP"
   },
   "outputs": [],
   "source": [
    "def build_vocabulary(data):\n",
    "    tokenizer = tfds.features.text.Tokenizer()\n",
    "    vocabulary_set = set()\n",
    "    \n",
    "    for text_tensor in data:\n",
    "        some_tokens = tokenizer.tokenize(text_tensor.numpy())\n",
    "        vocabulary_set.update(some_tokens)\n",
    "    \n",
    "    return vocabulary_set"
   ]
  },
  {
   "cell_type": "code",
   "execution_count": 10,
   "metadata": {
    "colab": {
     "base_uri": "https://localhost:8080/",
     "height": 50
    },
    "colab_type": "code",
    "id": "T49ZrYG_O_oZ",
    "outputId": "6ba9fcbb-0eb7-4cf2-f510-2d88e0b2c92a"
   },
   "outputs": [
    {
     "name": "stdout",
     "output_type": "stream",
     "text": [
      "text vocab size is :  13517\n",
      "translation vocab size is :  17080\n"
     ]
    }
   ],
   "source": [
    "en_vocab = build_vocabulary(en_data)\n",
    "fr_vocab = build_vocabulary(fr_data)\n",
    "\n",
    "print(\"text vocab size is : \", len(en_vocab))\n",
    "print(\"translation vocab size is : \", len(fr_vocab))"
   ]
  },
  {
   "cell_type": "markdown",
   "metadata": {
    "colab_type": "text",
    "id": "8I2mb7eJO_oj"
   },
   "source": [
    "### Encoding"
   ]
  },
  {
   "cell_type": "code",
   "execution_count": 11,
   "metadata": {
    "colab": {},
    "colab_type": "code",
    "id": "nzUd9lHyO_ok"
   },
   "outputs": [],
   "source": [
    "#Encode words\n",
    "en_encoder = tfds.features.text.TokenTextEncoder(en_vocab)\n",
    "fr_encoder = tfds.features.text.TokenTextEncoder(fr_vocab)"
   ]
  },
  {
   "cell_type": "code",
   "execution_count": 12,
   "metadata": {
    "colab": {
     "base_uri": "https://localhost:8080/",
     "height": 34
    },
    "colab_type": "code",
    "id": "Jk35iuHlO_oo",
    "outputId": "f39415de-8f59-4fa0-f3e7-ed95c4ece318"
   },
   "outputs": [
    {
     "name": "stdout",
     "output_type": "stream",
     "text": [
      "b'so too does the idea that accommodating religious differences is dangerous'\n"
     ]
    }
   ],
   "source": [
    "example_text = next(iter(en_data)).numpy()\n",
    "print(example_text)"
   ]
  },
  {
   "cell_type": "code",
   "execution_count": 13,
   "metadata": {
    "colab": {
     "base_uri": "https://localhost:8080/",
     "height": 34
    },
    "colab_type": "code",
    "id": "y_lwxlvIO_os",
    "outputId": "8a6b831b-5e3d-4c36-a894-0ca51052bfdb"
   },
   "outputs": [
    {
     "name": "stdout",
     "output_type": "stream",
     "text": [
      "[3034, 13181, 12240, 882, 3893, 3080, 3478, 1552, 4957, 578, 4057]\n"
     ]
    }
   ],
   "source": [
    "encoded_example = en_encoder.encode(example_text)\n",
    "print(encoded_example)"
   ]
  },
  {
   "cell_type": "code",
   "execution_count": 14,
   "metadata": {
    "colab": {
     "base_uri": "https://localhost:8080/",
     "height": 34
    },
    "colab_type": "code",
    "id": "rEggIZIlO_ow",
    "outputId": "0f420fbe-6eeb-4434-c872-21a3dd965f7c"
   },
   "outputs": [
    {
     "name": "stdout",
     "output_type": "stream",
     "text": [
      "b'l \\xe2\\x80\\x99 id\\xc3\\xa9e de concilier les diff\\xc3\\xa9rences religieuses semble donc dangereuse'\n"
     ]
    }
   ],
   "source": [
    "example_trans = next(iter(fr_data)).numpy()\n",
    "print(example_trans)"
   ]
  },
  {
   "cell_type": "code",
   "execution_count": 15,
   "metadata": {
    "colab": {
     "base_uri": "https://localhost:8080/",
     "height": 34
    },
    "colab_type": "code",
    "id": "GlSO3ci1O_o1",
    "outputId": "d27440e4-1149-4844-f7a4-9da4cd1a2d35"
   },
   "outputs": [
    {
     "name": "stdout",
     "output_type": "stream",
     "text": [
      "[12548, 12750, 6124, 5445, 14712, 5819, 9422, 163, 9151, 1053]\n"
     ]
    }
   ],
   "source": [
    "encoded_example_trans = fr_encoder.encode(example_trans)\n",
    "print(encoded_example_trans)"
   ]
  },
  {
   "cell_type": "code",
   "execution_count": 16,
   "metadata": {
    "colab": {},
    "colab_type": "code",
    "id": "wLSAOValO_o4"
   },
   "outputs": [],
   "source": [
    "# Encoding\n",
    "def encode_en(text, trans):\n",
    "    encoded_text = en_encoder.encode(text.numpy())\n",
    "    \n",
    "    return encoded_text, trans\n",
    "\n",
    "def encode_fr(text, trans):\n",
    "    encoded_text = fr_encoder.encode(text.numpy())\n",
    "    \n",
    "    return encoded_text, trans\n",
    "\n",
    "def encode_map_en(text):\n",
    "    # py_func doesn't set the shape of the returned tensors.\n",
    "    encoded_text, _ = tf.py_function(encode_en, inp=[text, 0], Tout=(tf.int64,tf.int32))\n",
    "    return encoded_text\n",
    "\n",
    "def encode_map_fr(text):\n",
    "    encoded_text, _ = tf.py_function(encode_fr, inp=[text, 0], Tout=(tf.int64,tf.int32))\n",
    "    return encoded_text"
   ]
  },
  {
   "cell_type": "code",
   "execution_count": 17,
   "metadata": {
    "colab": {},
    "colab_type": "code",
    "id": "zTo73RlyO_pA"
   },
   "outputs": [],
   "source": [
    "# Encode the whole dataset\n",
    "en_encoded = en_data.map(encode_map_en)\n",
    "fr_encoded = fr_data.map(encode_map_fr)\n",
    "#encoded_tran = tran_dataset.map(encode_map_fn)"
   ]
  },
  {
   "cell_type": "code",
   "execution_count": 18,
   "metadata": {
    "colab": {
     "base_uri": "https://localhost:8080/",
     "height": 67
    },
    "colab_type": "code",
    "id": "z4jDFle1O_o7",
    "outputId": "21040e44-bb71-411c-e559-d438f08a909c"
   },
   "outputs": [
    {
     "data": {
      "text/plain": [
       "<tf.Tensor: shape=(11,), dtype=int64, numpy=\n",
       "array([ 3034, 13181, 12240,   882,  3893,  3080,  3478,  1552,  4957,\n",
       "         578,  4057], dtype=int64)>"
      ]
     },
     "execution_count": 18,
     "metadata": {},
     "output_type": "execute_result"
    }
   ],
   "source": [
    "exp1 = next(iter(en_encoded))\n",
    "exp1"
   ]
  },
  {
   "cell_type": "code",
   "execution_count": 19,
   "metadata": {
    "colab": {
     "base_uri": "https://localhost:8080/",
     "height": 67
    },
    "colab_type": "code",
    "id": "_kOEzu6hO_o-",
    "outputId": "6f67e974-bccd-401d-f0c7-696ca039a636"
   },
   "outputs": [
    {
     "data": {
      "text/plain": [
       "<tf.Tensor: shape=(10,), dtype=int64, numpy=\n",
       "array([12548, 12750,  6124,  5445, 14712,  5819,  9422,   163,  9151,\n",
       "        1053], dtype=int64)>"
      ]
     },
     "execution_count": 19,
     "metadata": {},
     "output_type": "execute_result"
    }
   ],
   "source": [
    "exp1 = next(iter(fr_encoded))\n",
    "exp1"
   ]
  },
  {
   "cell_type": "markdown",
   "metadata": {
    "colab_type": "text",
    "id": "WoUaYni3O_pK"
   },
   "source": [
    "### Padding"
   ]
  },
  {
   "cell_type": "code",
   "execution_count": 20,
   "metadata": {
    "colab": {
     "base_uri": "https://localhost:8080/",
     "height": 50
    },
    "colab_type": "code",
    "id": "gbrmmbOEpSb8",
    "outputId": "534a5c63-8021-4353-e235-35b1bb4d7e22"
   },
   "outputs": [
    {
     "name": "stdout",
     "output_type": "stream",
     "text": [
      "en_max_len= 92\n",
      "fr_max_len= 104\n"
     ]
    }
   ],
   "source": [
    "en_prev=0\n",
    "fr_prev=0\n",
    "en_max_len=0\n",
    "for x in iter(en_encoded):\n",
    "    en_max_len = max(x.shape[0],en_prev)\n",
    "    en_prev = en_max_len\n",
    "\n",
    "for y in iter(fr_encoded):\n",
    "    fr_max_len = max(y.shape[0],fr_prev)\n",
    "    fr_prev = fr_max_len\n",
    "\n",
    "print(\"en_max_len=\",en_max_len)\n",
    "print(\"fr_max_len=\",fr_max_len)\n",
    "\n",
    "\n",
    "#X_max_len = max([len(sentence) for sentence in train])\n",
    "#y_max_len = max([len(sentence) for sentence in y])\n",
    "#print(train.apply(lambda x:len(x)))\n"
   ]
  },
  {
   "cell_type": "code",
   "execution_count": 21,
   "metadata": {
    "colab": {},
    "colab_type": "code",
    "id": "vcXBOcQ36KsP"
   },
   "outputs": [],
   "source": [
    "en_numpy = tfds.as_numpy(en_encoded)\n",
    "fr_numpy = tfds.as_numpy(fr_encoded)"
   ]
  },
  {
   "cell_type": "code",
   "execution_count": 22,
   "metadata": {
    "colab": {},
    "colab_type": "code",
    "id": "io3XhhNnO_pP"
   },
   "outputs": [],
   "source": [
    "en_padded = pad_sequences(list(en_numpy), maxlen=en_max_len, padding='post')\n",
    "fr_padded = pad_sequences(list(fr_numpy), maxlen=fr_max_len, padding='post')"
   ]
  },
  {
   "cell_type": "code",
   "execution_count": 23,
   "metadata": {},
   "outputs": [
    {
     "data": {
      "text/plain": [
       "11000"
      ]
     },
     "execution_count": 23,
     "metadata": {},
     "output_type": "execute_result"
    }
   ],
   "source": [
    "en_data_size = en_padded.shape[0]\n",
    "en_data_size"
   ]
  },
  {
   "cell_type": "code",
   "execution_count": 24,
   "metadata": {},
   "outputs": [
    {
     "data": {
      "text/plain": [
       "11000"
      ]
     },
     "execution_count": 24,
     "metadata": {},
     "output_type": "execute_result"
    }
   ],
   "source": [
    "fr_data_size = fr_padded.shape[0]\n",
    "fr_data_size"
   ]
  },
  {
   "cell_type": "code",
   "execution_count": 25,
   "metadata": {
    "colab": {
     "base_uri": "https://localhost:8080/",
     "height": 202
    },
    "colab_type": "code",
    "id": "fVjdmPrH3Qq0",
    "outputId": "619bd98a-49f6-4876-b0ef-bee2ac5c74df"
   },
   "outputs": [
    {
     "data": {
      "text/plain": [
       "array([ 3034, 13181, 12240,   882,  3893,  3080,  3478,  1552,  4957,\n",
       "         578,  4057,     0,     0,     0,     0,     0,     0,     0,\n",
       "           0,     0,     0,     0,     0,     0,     0,     0,     0,\n",
       "           0,     0,     0,     0,     0,     0,     0,     0,     0,\n",
       "           0,     0,     0,     0,     0,     0,     0,     0,     0,\n",
       "           0,     0,     0,     0,     0,     0,     0,     0,     0,\n",
       "           0,     0,     0,     0,     0,     0,     0,     0,     0,\n",
       "           0,     0,     0,     0,     0,     0,     0,     0,     0,\n",
       "           0,     0,     0,     0,     0,     0,     0,     0,     0,\n",
       "           0,     0,     0,     0,     0,     0,     0,     0,     0,\n",
       "           0,     0])"
      ]
     },
     "execution_count": 25,
     "metadata": {},
     "output_type": "execute_result"
    }
   ],
   "source": [
    "en_padded[0]"
   ]
  },
  {
   "cell_type": "code",
   "execution_count": 26,
   "metadata": {
    "colab": {
     "base_uri": "https://localhost:8080/",
     "height": 218
    },
    "colab_type": "code",
    "id": "_iJEt2s2AOMO",
    "outputId": "aa1253f7-644e-4f45-82a1-1e942f396eeb"
   },
   "outputs": [
    {
     "data": {
      "text/plain": [
       "array([12548, 12750,  6124,  5445, 14712,  5819,  9422,   163,  9151,\n",
       "        1053,     0,     0,     0,     0,     0,     0,     0,     0,\n",
       "           0,     0,     0,     0,     0,     0,     0,     0,     0,\n",
       "           0,     0,     0,     0,     0,     0,     0,     0,     0,\n",
       "           0,     0,     0,     0,     0,     0,     0,     0,     0,\n",
       "           0,     0,     0,     0,     0,     0,     0,     0,     0,\n",
       "           0,     0,     0,     0,     0,     0,     0,     0,     0,\n",
       "           0,     0,     0,     0,     0,     0,     0,     0,     0,\n",
       "           0,     0,     0,     0,     0,     0,     0,     0,     0,\n",
       "           0,     0,     0,     0,     0,     0,     0,     0,     0,\n",
       "           0,     0,     0,     0,     0,     0,     0,     0,     0,\n",
       "           0,     0,     0,     0,     0])"
      ]
     },
     "execution_count": 26,
     "metadata": {},
     "output_type": "execute_result"
    }
   ],
   "source": [
    "fr_padded[0]"
   ]
  },
  {
   "cell_type": "code",
   "execution_count": 27,
   "metadata": {
    "colab": {},
    "colab_type": "code",
    "id": "gtIITkqoAljg"
   },
   "outputs": [],
   "source": [
    "en_dataset = tf.data.Dataset.from_tensor_slices(en_padded)\n",
    "fr_dataset = tf.data.Dataset.from_tensor_slices(fr_padded)\n",
    "pairs_dataset = tf.data.Dataset.zip((en_dataset, fr_dataset)) "
   ]
  },
  {
   "cell_type": "code",
   "execution_count": 28,
   "metadata": {
    "colab": {
     "base_uri": "https://localhost:8080/",
     "height": 437
    },
    "colab_type": "code",
    "id": "tbE5IRMsA-eC",
    "outputId": "b870a347-d392-48d3-926a-d5ba6d7e40f6"
   },
   "outputs": [
    {
     "data": {
      "text/plain": [
       "(<tf.Tensor: shape=(92,), dtype=int32, numpy=\n",
       " array([ 3034, 13181, 12240,   882,  3893,  3080,  3478,  1552,  4957,\n",
       "          578,  4057,     0,     0,     0,     0,     0,     0,     0,\n",
       "            0,     0,     0,     0,     0,     0,     0,     0,     0,\n",
       "            0,     0,     0,     0,     0,     0,     0,     0,     0,\n",
       "            0,     0,     0,     0,     0,     0,     0,     0,     0,\n",
       "            0,     0,     0,     0,     0,     0,     0,     0,     0,\n",
       "            0,     0,     0,     0,     0,     0,     0,     0,     0,\n",
       "            0,     0,     0,     0,     0,     0,     0,     0,     0,\n",
       "            0,     0,     0,     0,     0,     0,     0,     0,     0,\n",
       "            0,     0,     0,     0,     0,     0,     0,     0,     0,\n",
       "            0,     0])>,\n",
       " <tf.Tensor: shape=(104,), dtype=int32, numpy=\n",
       " array([12548, 12750,  6124,  5445, 14712,  5819,  9422,   163,  9151,\n",
       "         1053,     0,     0,     0,     0,     0,     0,     0,     0,\n",
       "            0,     0,     0,     0,     0,     0,     0,     0,     0,\n",
       "            0,     0,     0,     0,     0,     0,     0,     0,     0,\n",
       "            0,     0,     0,     0,     0,     0,     0,     0,     0,\n",
       "            0,     0,     0,     0,     0,     0,     0,     0,     0,\n",
       "            0,     0,     0,     0,     0,     0,     0,     0,     0,\n",
       "            0,     0,     0,     0,     0,     0,     0,     0,     0,\n",
       "            0,     0,     0,     0,     0,     0,     0,     0,     0,\n",
       "            0,     0,     0,     0,     0,     0,     0,     0,     0,\n",
       "            0,     0,     0,     0,     0,     0,     0,     0,     0,\n",
       "            0,     0,     0,     0,     0])>)"
      ]
     },
     "execution_count": 28,
     "metadata": {},
     "output_type": "execute_result"
    }
   ],
   "source": [
    "next(iter(pairs_dataset))"
   ]
  },
  {
   "cell_type": "code",
   "execution_count": 29,
   "metadata": {},
   "outputs": [],
   "source": [
    "#dataset = tf.data.Dataset.range(11) \n",
    "#dataset = dataset.shuffle(5, reshuffle_each_iteration=False).repeat(1).batch(6, drop_remainder=False)\n",
    "#for x in dataset:\n",
    "#    print(x)\n",
    "#    print(\"next\")"
   ]
  },
  {
   "cell_type": "code",
   "execution_count": 43,
   "metadata": {
    "colab": {},
    "colab_type": "code",
    "id": "riRyHVuwzyBq"
   },
   "outputs": [],
   "source": [
    "#Split the original text dataset into test and train sets\n",
    "BUFFER_SIZE = 11000\n",
    "BATCH_SIZE = 20\n",
    "TAKE_SIZE = 1000\n",
    "train = pairs_dataset.skip(TAKE_SIZE).shuffle(BUFFER_SIZE, \n",
    "                                              reshuffle_each_iteration=True).batch(BATCH_SIZE, drop_remainder=False)\n",
    "\n",
    "test = pairs_dataset.take(TAKE_SIZE).batch(BATCH_SIZE, drop_remainder=False)"
   ]
  },
  {
   "cell_type": "code",
   "execution_count": 31,
   "metadata": {
    "colab": {
     "base_uri": "https://localhost:8080/",
     "height": 286
    },
    "colab_type": "code",
    "id": "t6H8KSb2xEwo",
    "outputId": "a2e41d23-64f8-4749-a81c-53a73be9d974"
   },
   "outputs": [
    {
     "name": "stdout",
     "output_type": "stream",
     "text": [
      "train size =  10000\n",
      "train batches =  200\n",
      "test size =  1000\n",
      "test batches =  20\n"
     ]
    }
   ],
   "source": [
    "i=0\n",
    "j=0\n",
    "for x in train:\n",
    "    i+=x[0].numpy().shape[0]\n",
    "    j+=1\n",
    "print(\"train size = \",i)\n",
    "print(\"train batches = \",j)\n",
    "i=0\n",
    "j=0\n",
    "for x in test:\n",
    "    i+=x[0].numpy().shape[0]\n",
    "    j+=1\n",
    "print(\"test size = \",i)\n",
    "print(\"test batches = \",j)"
   ]
  },
  {
   "cell_type": "code",
   "execution_count": 32,
   "metadata": {
    "colab": {},
    "colab_type": "code",
    "id": "SoFnK-p5O_pW"
   },
   "outputs": [],
   "source": [
    "en_vocab_size = len(en_vocab) + 1\n",
    "fr_vocab_size = len(fr_vocab) + 1\n",
    "#Since we have introduced a new token encoding (the zero used for padding), the vocabulary size has increased by one."
   ]
  },
  {
   "cell_type": "code",
   "execution_count": 33,
   "metadata": {},
   "outputs": [
    {
     "data": {
      "text/plain": [
       "17081"
      ]
     },
     "execution_count": 33,
     "metadata": {},
     "output_type": "execute_result"
    }
   ],
   "source": [
    "fr_vocab_size"
   ]
  },
  {
   "cell_type": "code",
   "execution_count": 34,
   "metadata": {
    "colab": {},
    "colab_type": "code",
    "id": "n2YdfpK3O_pY"
   },
   "outputs": [],
   "source": [
    "# configure problem\n",
    "embedings_dim = 32\n",
    "hidden_size = 1000\n",
    "LR = 0.001"
   ]
  },
  {
   "cell_type": "code",
   "execution_count": 37,
   "metadata": {
    "colab": {},
    "colab_type": "code",
    "id": "nUQk9hA3bfZE"
   },
   "outputs": [],
   "source": [
    "def create_model(X_vocab_len, X_max_len, y_vocab_len, y_max_len, hidden_size, emb_dim, LR):\n",
    "    model = tf.keras.Sequential()\n",
    "\n",
    "    # Creating encoder network\n",
    "    model.add(layers.Input(shape=(X_max_len,)))\n",
    "    model.add(layers.Embedding(X_vocab_len, emb_dim, input_length=X_max_len, mask_zero=True)) #input_length=X_max_len, input_dim=((None, X_max_len)), \n",
    "    model.add(layers.LSTM(hidden_size))\n",
    "    model.add(layers.RepeatVector(y_max_len))\n",
    "\n",
    "    # Creating decoder network\n",
    "    model.add(layers.LSTM(hidden_size, return_sequences=True))\n",
    "    model.add(layers.TimeDistributed(layers.Dense(y_vocab_len)))\n",
    "    model.add(layers.Activation('softmax'))\n",
    "    model.compile(loss=tf.keras.losses.SparseCategoricalCrossentropy(from_logits=True),\n",
    "                  optimizer=tf.keras.optimizers.RMSprop(learning_rate=LR),\n",
    "                  metrics=['accuracy'])\n",
    "    return model"
   ]
  },
  {
   "cell_type": "code",
   "execution_count": 38,
   "metadata": {
    "colab": {
     "base_uri": "https://localhost:8080/",
     "height": 34
    },
    "colab_type": "code",
    "id": "Z4-m7zcw2hqV",
    "outputId": "79978b94-9eca-418b-c4a7-1c1d20d1f710"
   },
   "outputs": [
    {
     "data": {
      "text/plain": [
       "(13518, 92, 17081, 104, 1000, 32, 0.001)"
      ]
     },
     "execution_count": 38,
     "metadata": {},
     "output_type": "execute_result"
    }
   ],
   "source": [
    "en_vocab_size, en_max_len, fr_vocab_size, fr_max_len, hidden_size, embedings_dim, LR"
   ]
  },
  {
   "cell_type": "code",
   "execution_count": 39,
   "metadata": {
    "colab": {},
    "colab_type": "code",
    "id": "nWyvrRopgBY6"
   },
   "outputs": [
    {
     "name": "stdout",
     "output_type": "stream",
     "text": [
      "Model: \"sequential\"\n",
      "_________________________________________________________________\n",
      "Layer (type)                 Output Shape              Param #   \n",
      "=================================================================\n",
      "embedding (Embedding)        (None, 92, 32)            432576    \n",
      "_________________________________________________________________\n",
      "lstm (LSTM)                  (None, 1000)              4132000   \n",
      "_________________________________________________________________\n",
      "repeat_vector (RepeatVector) (None, 104, 1000)         0         \n",
      "_________________________________________________________________\n",
      "lstm_1 (LSTM)                (None, 104, 1000)         8004000   \n",
      "_________________________________________________________________\n",
      "time_distributed (TimeDistri (None, 104, 17081)        17098081  \n",
      "_________________________________________________________________\n",
      "activation (Activation)      (None, 104, 17081)        0         \n",
      "=================================================================\n",
      "Total params: 29,666,657\n",
      "Trainable params: 29,666,657\n",
      "Non-trainable params: 0\n",
      "_________________________________________________________________\n",
      "None\n"
     ]
    }
   ],
   "source": [
    "model2 = create_model(en_vocab_size, en_max_len, fr_vocab_size, fr_max_len, hidden_size, embedings_dim, LR)\n",
    "print(model2.summary())"
   ]
  },
  {
   "cell_type": "code",
   "execution_count": 40,
   "metadata": {
    "colab": {
     "base_uri": "https://localhost:8080/",
     "height": 269
    },
    "colab_type": "code",
    "id": "o_w5vqOpY8dX",
    "outputId": "251d7913-9bb4-49fa-debe-645b403b9585"
   },
   "outputs": [
    {
     "name": "stdout",
     "output_type": "stream",
     "text": [
      "(<tf.Tensor: shape=(50, 92), dtype=int32, numpy=\n",
      "array([[ 3451,  5128, 11482, ...,     0,     0,     0],\n",
      "       [ 5416, 10826,  6130, ...,     0,     0,     0],\n",
      "       [12959,  8304, 11608, ...,     0,     0,     0],\n",
      "       ...,\n",
      "       [  882,  3578,  6952, ...,     0,     0,     0],\n",
      "       [ 2530,  9496,  2786, ...,     0,     0,     0],\n",
      "       [ 6535,  3485,  5845, ...,     0,     0,     0]])>, <tf.Tensor: shape=(50, 104), dtype=int32, numpy=\n",
      "array([[11001, 11634,  9151, ...,     0,     0,     0],\n",
      "       [16563,  6208, 11887, ...,     0,     0,     0],\n",
      "       [  151,  2410, 17041, ...,     0,     0,     0],\n",
      "       ...,\n",
      "       [12548,  7526, 12942, ...,     0,     0,     0],\n",
      "       [11783,  7286,  2365, ...,     0,     0,     0],\n",
      "       [12449, 10511,  3177, ...,     0,     0,     0]])>)\n",
      "1\n"
     ]
    }
   ],
   "source": [
    "i=0\n",
    "for x in train.take(1):\n",
    "    print(x)\n",
    "    example_batch_predictions = model2(x)\n",
    "    i+=1\n",
    "  #print(example_batch_predictions.shape, \"# (batch_size, sequence_length, vocab_size)\")\n",
    "print(i)"
   ]
  },
  {
   "cell_type": "code",
   "execution_count": 41,
   "metadata": {},
   "outputs": [
    {
     "name": "stdout",
     "output_type": "stream",
     "text": [
      "train_step =  220\n",
      "test_step =  20\n"
     ]
    }
   ],
   "source": [
    "BUFFER_SIZE, BATCH_SIZE\n",
    "train_step = BUFFER_SIZE // BATCH_SIZE\n",
    "test_step = TAKE_SIZE // BATCH_SIZE\n",
    "print(\"train_step = \",train_step)\n",
    "print(\"test_step = \",test_step)"
   ]
  },
  {
   "cell_type": "code",
   "execution_count": 44,
   "metadata": {
    "colab": {},
    "colab_type": "code",
    "id": "DJVGoHjsO_pi"
   },
   "outputs": [
    {
     "name": "stdout",
     "output_type": "stream",
     "text": [
      "Train for 500 steps, validate for 50 steps\n",
      "Epoch 1/20\n",
      "500/500 - 161s - loss: 8.9432 - accuracy: 0.8027 - val_loss: 8.9474 - val_accuracy: 0.7984\n",
      "Epoch 2/20\n",
      "500/500 - 161s - loss: 8.9534 - accuracy: 0.7937 - val_loss: 8.9597 - val_accuracy: 0.7862\n",
      "Epoch 3/20\n",
      "500/500 - 160s - loss: 8.9423 - accuracy: 0.8037 - val_loss: 8.9462 - val_accuracy: 0.7997\n",
      "Epoch 4/20\n",
      "500/500 - 160s - loss: 8.9421 - accuracy: 0.8037 - val_loss: 8.9463 - val_accuracy: 0.7996\n",
      "Epoch 5/20\n",
      "500/500 - 160s - loss: 8.9409 - accuracy: 0.8049 - val_loss: 8.9446 - val_accuracy: 0.8012\n",
      "Epoch 6/20\n",
      "500/500 - 160s - loss: 8.9395 - accuracy: 0.8064 - val_loss: 8.9443 - val_accuracy: 0.8015\n",
      "Epoch 7/20\n",
      "500/500 - 160s - loss: 8.9398 - accuracy: 0.8060 - val_loss: 8.9441 - val_accuracy: 0.8017\n",
      "Epoch 8/20\n",
      "500/500 - 160s - loss: 8.9388 - accuracy: 0.8071 - val_loss: 8.9443 - val_accuracy: 0.8016\n",
      "Epoch 9/20\n",
      "500/500 - 161s - loss: 8.9405 - accuracy: 0.8053 - val_loss: 8.9445 - val_accuracy: 0.8013\n",
      "Epoch 10/20\n",
      "500/500 - 160s - loss: 8.9385 - accuracy: 0.8073 - val_loss: 8.9438 - val_accuracy: 0.8020\n",
      "Epoch 11/20\n",
      "500/500 - 161s - loss: 8.9383 - accuracy: 0.8075 - val_loss: 8.9443 - val_accuracy: 0.8015\n",
      "Epoch 12/20\n",
      "500/500 - 160s - loss: 8.9383 - accuracy: 0.8076 - val_loss: 8.9440 - val_accuracy: 0.8018\n",
      "Epoch 13/20\n",
      "500/500 - 161s - loss: 8.9384 - accuracy: 0.8075 - val_loss: 8.9445 - val_accuracy: 0.8013\n",
      "Epoch 14/20\n",
      "500/500 - 161s - loss: 8.9382 - accuracy: 0.8076 - val_loss: 8.9436 - val_accuracy: 0.8022\n",
      "Epoch 15/20\n",
      "500/500 - 161s - loss: 8.9381 - accuracy: 0.8078 - val_loss: 8.9436 - val_accuracy: 0.8023\n",
      "Epoch 16/20\n",
      "500/500 - 161s - loss: 8.9381 - accuracy: 0.8078 - val_loss: 8.9437 - val_accuracy: 0.8022\n",
      "Epoch 17/20\n",
      "500/500 - 161s - loss: 8.9381 - accuracy: 0.8078 - val_loss: 8.9437 - val_accuracy: 0.8021\n",
      "Epoch 18/20\n",
      "500/500 - 161s - loss: 8.9382 - accuracy: 0.8077 - val_loss: 8.9437 - val_accuracy: 0.8021\n",
      "Epoch 19/20\n",
      "500/500 - 161s - loss: 8.9381 - accuracy: 0.8078 - val_loss: 8.9436 - val_accuracy: 0.8022\n",
      "Epoch 20/20\n",
      "500/500 - 161s - loss: 8.9377 - accuracy: 0.8081 - val_loss: 8.9432 - val_accuracy: 0.8026\n"
     ]
    }
   ],
   "source": [
    "# train LSTM\n",
    "#parallel_steps = BUFFER_SIZE // BATCH_SIZE\n",
    "\n",
    "# This `fit` call will be distributed on 2 GPUs.\n",
    "# Since the batch size is 64, each GPU will process 32 samples.\n",
    "history = model2.fit(x=train, epochs=20, verbose=2, #steps_per_epoch = parallel_steps, \n",
    "           validation_data=test)#, validation_steps=parallel_steps)\n",
    "\n",
    "model2.save(\"baseline1.2.h5\")"
   ]
  },
  {
   "cell_type": "code",
   "execution_count": 45,
   "metadata": {},
   "outputs": [
    {
     "name": "stdout",
     "output_type": "stream",
     "text": [
      "dict_keys(['loss', 'accuracy', 'val_loss', 'val_accuracy'])\n"
     ]
    },
    {
     "data": {
      "image/png": "[encoded data removed]",
      "text/plain": [
       "<Figure size 432x288 with 1 Axes>"
      ]
     },
     "metadata": {
      "needs_background": "light"
     },
     "output_type": "display_data"
    },
    {
     "data": {
      "image/png": "[encoded data removed]",
      "text/plain": [
       "<Figure size 432x288 with 1 Axes>"
      ]
     },
     "metadata": {
      "needs_background": "light"
     },
     "output_type": "display_data"
    }
   ],
   "source": [
    "# list all data in history\n",
    "print(history.history.keys())\n",
    "# summarize history for accuracy\n",
    "plt.plot(history.history['accuracy'])\n",
    "plt.plot(history.history['val_accuracy'])\n",
    "plt.title('model accuracy')\n",
    "plt.ylabel('accuracy')\n",
    "plt.xlabel('epoch')\n",
    "plt.legend(['train', 'test'], loc='upper left')\n",
    "plt.show()\n",
    "# summarize history for loss\n",
    "plt.plot(history.history['loss'])\n",
    "plt.plot(history.history['val_loss'])\n",
    "plt.title('model loss')\n",
    "plt.ylabel('loss')\n",
    "plt.xlabel('epoch')\n",
    "plt.legend(['train', 'test'], loc='upper left')\n",
    "plt.show()"
   ]
  },
  {
   "cell_type": "code",
   "execution_count": 87,
   "metadata": {},
   "outputs": [
    {
     "name": "stdout",
     "output_type": "stream",
     "text": [
      "Failed to import pydot. You must install pydot and graphviz for `pydotprint` to work.\n"
     ]
    }
   ],
   "source": [
    "from tensorflow.keras.utils import plot_model\n",
    "plot_model(model2, to_file = \"seq2seq_translation.png\", show_shapes = True)"
   ]
  },
  {
   "cell_type": "markdown",
   "metadata": {},
   "source": [
    "## Evaluation"
   ]
  },
  {
   "cell_type": "code",
   "execution_count": 156,
   "metadata": {
    "colab": {},
    "colab_type": "code",
    "id": "bjLII6chO_pr"
   },
   "outputs": [
    {
     "name": "stdout",
     "output_type": "stream",
     "text": [
      "50/50 [==============================] - 6s 111ms/step - loss: 8.9432 - accuracy: 0.8026\n",
      "\n",
      "Eval loss: 8.943, Eval accuracy: 0.803\n"
     ]
    }
   ],
   "source": [
    "eval_loss, eval_acc = model2.evaluate(test)\n",
    "\n",
    "print('\\nEval loss: {:.3f}, Eval accuracy: {:.3f}'.format(eval_loss, eval_acc))"
   ]
  },
  {
   "cell_type": "code",
   "execution_count": 96,
   "metadata": {},
   "outputs": [],
   "source": [
    "text1 = en_data.take(5)"
   ]
  },
  {
   "cell_type": "code",
   "execution_count": 97,
   "metadata": {},
   "outputs": [
    {
     "data": {
      "text/plain": [
       "(<tf.Tensor: shape=(20, 92), dtype=int32, numpy=\n",
       " array([[ 3034, 13181, 12240, ...,     0,     0,     0],\n",
       "        [ 3223,  8463,  9991, ...,     0,     0,     0],\n",
       "        [ 9894,  7668,  9550, ...,     0,     0,     0],\n",
       "        ...,\n",
       "        [ 5845,  9663,  8546, ...,     0,     0,     0],\n",
       "        [ 3341,  1965,  7706, ...,     0,     0,     0],\n",
       "        [  882,  7624,   283, ...,     0,     0,     0]])>,\n",
       " <tf.Tensor: shape=(20, 104), dtype=int32, numpy=\n",
       " array([[12548, 12750,  6124, ...,     0,     0,     0],\n",
       "        [  336,  1337, 15824, ...,     0,     0,     0],\n",
       "        [ 8191, 16250,  1668, ...,     0,     0,     0],\n",
       "        ...,\n",
       "        [ 3177,  1060,  5453, ...,     0,     0,     0],\n",
       "        [ 3512,  6879,  2458, ...,     0,     0,     0],\n",
       "        [ 1337,  5158,  8630, ...,     0,     0,     0]])>)"
      ]
     },
     "execution_count": 97,
     "metadata": {},
     "output_type": "execute_result"
    }
   ],
   "source": [
    "next(iter(test1))"
   ]
  },
  {
   "cell_type": "code",
   "execution_count": 139,
   "metadata": {},
   "outputs": [
    {
     "name": "stdout",
     "output_type": "stream",
     "text": [
      "['so too does the idea that accommodating religious differences is dangerous\\n', 'mr president ladies and gentlemen the financial perspective outlines the scope of the eu ’s activities over coming years as well as providing a framework for such activities and determining how effective they will be\\n', 'reserve should turn into thought - provoking policy\\n', 'it is my profound belief that we can only advance through cooperation and negotiation\\n', 'the european union has territorial waters greater than its entire territory with 1 200 ports and 90 % of its exports are transported by sea\\n']\n"
     ]
    }
   ],
   "source": [
    "text_inputs = []\n",
    "with open(os.path.join(DIRECTORY_URL, FILE_NAMES[0]), 'r', encoding='utf-8') as en_file:\n",
    "    input_text = en_file.readlines()\n",
    "    en_file.close() \n",
    "print(input_text[0:5])\n",
    "input_text = input_text[0:5]"
   ]
  },
  {
   "cell_type": "code",
   "execution_count": 140,
   "metadata": {},
   "outputs": [],
   "source": [
    "with open(\"text_inputs.txt\", \"w\", encoding='utf-8') as in_file:\n",
    "    in_file.writelines(input_text)\n",
    "    in_file.close()"
   ]
  },
  {
   "cell_type": "code",
   "execution_count": 141,
   "metadata": {},
   "outputs": [
    {
     "name": "stdout",
     "output_type": "stream",
     "text": [
      "['l ’ idée de concilier les différences religieuses semble donc dangereuse\\n', 'monsieur le président mesdames et messieurs les perspectives financières esquissent la portée des activités de l ’ ue pour les années à venir fournissent un cadre pour ces activités et déterminent leur efficacité\\n', 'la réticence doit laisser place à une politique stimulante\\n', 'je suis intimement convaincu que nous ne pourrons progresser que si nous coopérons et négocions\\n', \"le territoire marin de l ' union européenne est plus vaste que son territoire terrestre on y dénombre 1 200 ports et 90 % de ses exportations sont acheminées par mer\\n\"]\n"
     ]
    }
   ],
   "source": [
    "targets = []\n",
    "with open(os.path.join(DIRECTORY_URL, FILE_NAMES[1]), 'r', encoding='utf-8') as fr_file:\n",
    "    targets = fr_file.readlines()\n",
    "    fr_file.close() \n",
    "print(targets[0:5])\n",
    "targets = targets[0:5]"
   ]
  },
  {
   "cell_type": "code",
   "execution_count": 146,
   "metadata": {},
   "outputs": [],
   "source": [
    "with open(\"targets.txt\", \"w\", encoding='utf-8') as target_file:\n",
    "    target_file.writelines(targets)\n",
    "    target_file.close()"
   ]
  },
  {
   "cell_type": "code",
   "execution_count": 153,
   "metadata": {},
   "outputs": [
    {
     "data": {
      "text/plain": [
       "<tf.Tensor: shape=(), dtype=string, numpy=b'so too does the idea that accommodating religious differences is dangerous'>"
      ]
     },
     "execution_count": 153,
     "metadata": {},
     "output_type": "execute_result"
    }
   ],
   "source": [
    "from pathlib import Path\n",
    "args_input_file_path = \"text_inputs.txt\"\n",
    "\n",
    "# Load text input\n",
    "\n",
    "file_to_open = Path(args_input_file_path)\n",
    "f = open(file_to_open)\n",
    "d = tf.data.TextLineDataset(args_input_file_path)\n",
    "next(iter(d))"
   ]
  },
  {
   "cell_type": "code",
   "execution_count": 150,
   "metadata": {},
   "outputs": [],
   "source": [
    "f.close()"
   ]
  },
  {
   "cell_type": "code",
   "execution_count": 155,
   "metadata": {},
   "outputs": [
    {
     "name": "stdout",
     "output_type": "stream",
     "text": [
      "qualifierai requins requins culture culture culture culture culture culture\n",
      "qualifierai requins requins culture culture culture culture culture culture culture culture culture culture culture culture culture culture culture culture culture culture culture culture culture culture culture culture culture\n",
      "renforcer requins requins culture culture culture\n",
      "renforcer requins requins culture culture culture culture culture culture culture culture culture\n",
      "requins requins requins culture culture culture culture culture culture culture culture culture culture culture culture culture culture culture culture culture\n"
     ]
    }
   ],
   "source": [
    "from pathlib import Path\n",
    "\n",
    "# Load model parameters\n",
    "model2.load_weights(\"baseline1.2.h5\")\n",
    "args_input_file_path = \"text_inputs.txt\"\n",
    "pred_file_path = \"predictions.txt\"\n",
    "\n",
    "# Load text input\n",
    "data_input = tf.data.TextLineDataset(args_input_file_path)\n",
    "\n",
    "# Encode text\n",
    "encode_input = data_input.map(encode_map_en)\n",
    "\n",
    "# Paddind\n",
    "pad_input = pad_sequences(list(encode_input), maxlen=en_max_len, padding='post')\n",
    "\n",
    "# Run prediction\n",
    "predictions = np.argmax(model2.predict(pad_input), axis=2)\n",
    "\n",
    "sequences = []\n",
    "for prediction in predictions:\n",
    "    sequence = ' '.join([list(fr_vocab)[index] for index in prediction if index > 0])\n",
    "    print(sequence)\n",
    "    sequences.append(sequence)\n",
    "np.savetxt(pred_file_path, sequences, fmt='%s')"
   ]
  },
  {
   "cell_type": "code",
   "execution_count": 162,
   "metadata": {},
   "outputs": [],
   "source": [
    "def generate_predictions(input_file_path, pred_file_path):\n",
    "    # load model's parameters\n",
    "    \n",
    "    # Load input text\n",
    "    \n",
    "    # Preprocess input text (tokenized, encoded, padded)\n",
    "    \n",
    "    # Run prediction\n",
    "    \n",
    "    # Save to file\n",
    "    \n",
    "    # Run Evaluator.py\n",
    "    \n",
    "    return None\n",
    "    "
   ]
  },
  {
   "cell_type": "markdown",
   "metadata": {
    "colab": {},
    "colab_type": "code",
    "id": "eq0ggv-VO_py"
   },
   "source": [
    "## SacreBLEU Evaluation \n",
    "['1.9', '0.6', '2.5', '1.3', '0.6', '']\n",
    "\n",
    "final avg bleu score: 1.38"
   ]
  },
  {
   "cell_type": "raw",
   "metadata": {},
   "source": [
    "# Error on windows\n",
    "(env1) PS D:\\IFT6759\\Project2\\Notebooks> python evaluator.py --input-file-path predictions.txt --target-file-path targets.txt --do-not-run-model\n",
    "['WARNING:root:Could not import signal.SIGPIPE (this is expected on Windows machines)', '1.9', '0.6', '2.5', '1.3', '0.6', '']\n",
    "Traceback (most recent call last):\n",
    "  File \"evaluator.py\", line 72, in <module>\n",
    "    main()\n",
    "  File \"evaluator.py\", line 64, in main\n",
    "    compute_bleu(args.input_file_path, args.target_file_path, args.print_all_scores)\n",
    "  File \"evaluator.py\", line 46, in compute_bleu\n",
    "    scores = [float(x) for x in lines[:-1]]\n",
    "  File \"evaluator.py\", line 46, in <listcomp>\n",
    "    scores = [float(x) for x in lines[:-1]]\n",
    "ValueError: could not convert string to float: 'WARNING:root:Could not import signal.SIGPIPE (this is expected on Windows machines)'"
   ]
  },
  {
   "cell_type": "code",
   "execution_count": null,
   "metadata": {},
   "outputs": [],
   "source": []
  }
 ],
 "metadata": {
  "colab": {
   "name": "Project2_baseline.ipynb",
   "provenance": []
  },
  "kernelspec": {
   "display_name": "Python 3",
   "language": "python",
   "name": "python3"
  },
  "language_info": {
   "codemirror_mode": {
    "name": "ipython",
    "version": 3
   },
   "file_extension": ".py",
   "mimetype": "text/x-python",
   "name": "python",
   "nbconvert_exporter": "python",
   "pygments_lexer": "ipython3",
   "version": "3.7.6"
  }
 },
 "nbformat": 4,
 "nbformat_minor": 1
}
