{
  "nbformat": 4,
  "nbformat_minor": 0,
  "metadata": {
    "colab": {
      "name": "harman_bert_language_model.ipynb",
      "provenance": [],
      "collapsed_sections": [],
      "mount_file_id": "1aH2xQyaK7N4_gQM6I7mL3KCj2hWAKdp4",
      "authorship_tag": "ABX9TyPd5d7VuX3QaA1W8FLmC0b+",
      "include_colab_link": true
    },
    "kernelspec": {
      "name": "python3",
      "display_name": "Python 3"
    },
    "accelerator": "GPU"
  },
  "cells": [
    {
      "cell_type": "markdown",
      "metadata": {
        "id": "view-in-github",
        "colab_type": "text"
      },
      "source": [
        "<a href=\"https://colab.research.google.com/github/notAlex2/Translation-Team08-IFT6759/blob/master/notebooks/harman_bert_language_model.ipynb\" target=\"_parent\"><img src=\"https://colab.research.google.com/assets/colab-badge.svg\" alt=\"Open In Colab\"/></a>"
      ]
    },
    {
      "cell_type": "code",
      "metadata": {
        "id": "1TrBC_yz4mpj",
        "colab_type": "code",
        "colab": {}
      },
      "source": [
        "import os\n",
        "\n",
        "project_path = \"/content/drive/My Drive/machine-translation\"\n",
        "os.chdir(project_path)\n",
        "\n",
        "data_path = os.path.join(project_path, 'data')"
      ],
      "execution_count": 0,
      "outputs": []
    },
    {
      "cell_type": "code",
      "metadata": {
        "id": "H6NNccnH8lTy",
        "colab_type": "code",
        "colab": {}
      },
      "source": [
        "! pip install transformers"
      ],
      "execution_count": 0,
      "outputs": []
    },
    {
      "cell_type": "code",
      "metadata": {
        "id": "1XNCxDxh8rQ1",
        "colab_type": "code",
        "colab": {}
      },
      "source": [
        "import transformers\n",
        "import numpy as np\n",
        "import tensorflow as tf\n",
        "import io\n",
        "import tokenizers\n",
        "import json\n",
        "from tensorflow.keras.preprocessing.sequence import pad_sequences\n",
        "from transformers import (\n",
        "    PreTrainedTokenizer, \n",
        "    AutoTokenizer, \n",
        "    BertConfig, \n",
        "    TFBertModel\n",
        ")\n",
        "                          \n",
        "from typing import Tuple\n",
        "\n",
        "def set_seed(seed):\n",
        "    np.random.seed(seed)\n",
        "    tf.random.set_seed(seed)\n",
        "\n",
        "set_seed(10)"
      ],
      "execution_count": 0,
      "outputs": []
    },
    {
      "cell_type": "code",
      "metadata": {
        "id": "EAWv71gzRAE1",
        "colab_type": "code",
        "colab": {}
      },
      "source": [
        "unaligned_en_path = os.path.join(data_path, 'unaligned_small.en')\n",
        "\n",
        "VOCAB_EXIST = True\n",
        "VOCAB_SIZE = 30000\n",
        "pretrained_tokenizer_path = \"/content/drive/My Drive/machine-translation/transBERTo\"\n",
        "tokenizer_name = \"bpe_tokenizer\"\n",
        "\n",
        "if not VOCAB_EXIST:\n",
        "    # create vocab from scratch\n",
        "    bpe_tokenizer = tokenizers.ByteLevelBPETokenizer()\n",
        "    special_tokens = [\"<s>\",\"<pad>\",\"</s>\",\"<unk>\",\"<mask>\"]\n",
        "\n",
        "    bpe_tokenizer.train(\n",
        "                    files=[unaligned_en_path], \n",
        "                    vocab_size=VOCAB_SIZE, \n",
        "                    min_frequency=2, \n",
        "                    show_progress=True,\n",
        "                    special_tokens=special_tokens\n",
        "                    )\n",
        "\n",
        "    # Save files to disk\n",
        "    bpe_tokenizer.save(pretrained_tokenizer_path, tokenizer_name)\n",
        "    \n",
        "    # rename files to vocab.json and merges.txt\n",
        "    src = os.path.join(pretrained_tokenizer_path, tokenizer_name + \"-vocab.json\")\n",
        "    dst = os.path.join(pretrained_tokenizer_path, \"vocab.json\")\n",
        "    os.rename(src, dst)\n",
        "\n",
        "    src = os.path.join(pretrained_tokenizer_path, tokenizer_name + \"-merges.txt\")\n",
        "    dst = os.path.join(pretrained_tokenizer_path, \"merges.txt\")\n",
        "    os.rename(src, dst)\n",
        "\n",
        "config = {\n",
        "  \"attention_probs_dropout_prob\": 0.1,\n",
        "  \"hidden_act\": \"gelu\",\n",
        "  \"hidden_dropout_prob\": 0.3,\n",
        "  \"hidden_size\": 128,\n",
        "  \"initializer_range\": 0.02,\n",
        "  \"num_attention_heads\": 1,\n",
        "  \"num_hidden_layers\": 1,\n",
        "  \"vocab_size\": VOCAB_SIZE,\n",
        "  \"intermediate_size\": 256,\n",
        "  \"max_position_embeddings\": 256, \n",
        "  \"model_type\": \"roberta\" # roBERTa model is better than BERT for language modelling\n",
        "}\n",
        "\n",
        "config_path = os.path.join(pretrained_tokenizer_path, \"config.json\")\n",
        "with open(config_path, 'w') as fp:\n",
        "    json.dump(config, fp)\n",
        "\n",
        "tokenizer = AutoTokenizer.from_pretrained(pretrained_tokenizer_path, cache_dir=None)"
      ],
      "execution_count": 0,
      "outputs": []
    },
    {
      "cell_type": "code",
      "metadata": {
        "id": "e2RPQgoi667q",
        "colab_type": "code",
        "colab": {}
      },
      "source": [
        "def max_length(tensor):\n",
        "    return max(len(t) for t in tensor)\n",
        "\n",
        "def tokenize_string(tokenizer, raw_string):\n",
        "    return tokenizer.encode(raw_string)\n",
        "  \n",
        "def encode_dataset(file_path, pretrained_tokenizer_path, num_examples):\n",
        "    tokenizer = AutoTokenizer.from_pretrained(pretrained_tokenizer_path)\n",
        "    sentences = io.open(file_path, encoding='UTF-8').read().strip().split('\\n')\n",
        "    encoded_sequences = [tokenize_string(tokenizer, sentence) for sentence in sentences[:num_examples]]\n",
        "    encoded_sequences = pad_sequences(encoded_sequences, padding='post', value=tokenizer.pad_token_id)\n",
        "    return encoded_sequences\n",
        "\n",
        "NUM_EXAMPLES = 6 \n",
        "encoded_sequences = encode_dataset(unaligned_en_path, pretrained_tokenizer_path, NUM_EXAMPLES)\n",
        "\n",
        "def data_generator_fn():\n",
        "    for seq in encoded_sequences:\n",
        "        yield seq"
      ],
      "execution_count": 0,
      "outputs": []
    },
    {
      "cell_type": "code",
      "metadata": {
        "id": "IHAMeL8ewt7B",
        "colab_type": "code",
        "colab": {}
      },
      "source": [
        "BATCH_SIZE = 2\n",
        "\n",
        "dataset = tf.data.Dataset.from_generator(\n",
        "    data_generator_fn,\n",
        "    output_types=(tf.int32)\n",
        "    ).batch(BATCH_SIZE)"
      ],
      "execution_count": 0,
      "outputs": []
    },
    {
      "cell_type": "code",
      "metadata": {
        "id": "8NUVxzlx3-5Z",
        "colab_type": "code",
        "colab": {
          "base_uri": "https://localhost:8080/",
          "height": 323
        },
        "outputId": "2da1c39a-ad73-4fd1-cd03-06dc8fa8a0c6"
      },
      "source": [
        "for inputs in dataset.take(2):\n",
        "    print(inputs)"
      ],
      "execution_count": 7,
      "outputs": [
        {
          "output_type": "stream",
          "text": [
            "tf.Tensor(\n",
            "[[  0 475 286 264 716 619 290 264 483 550  87 313 225  78 427 648 308 353\n",
            "   74 540  82  88 271  77  94 282  16 602  16 723  16 644 297 387 401  69\n",
            "   17  80 504  18 330  88 389 712  18   2   1   1   1   1   1   1   1   1\n",
            "    1   1   1   1   1   1   1   1   1   1   1   1   1   1   1   1   1]\n",
            " [  0 225  43 269  75 648 386 412 293 556 264 692 577 288  89 441  16 514\n",
            "  330 489 264 720 375  55 414  74 269 325 271 296 265  88 441 284 428 272\n",
            "  274 403  76 592  16 263 390 301 406 405 385 279 464  71 307 286 319 482\n",
            "  577 324  81  93 403 291 567 415  87 587  81 266 272 401 318  18   2]], shape=(2, 71), dtype=int32)\n",
            "tf.Tensor(\n",
            "[[  0 330  11  81 659 381 430 261  77 485  18   2   1   1   1   1   1   1\n",
            "    1   1   1   1   1   1   1   1   1   1   1   1   1   1   1   1   1   1\n",
            "    1   1   1   1   1   1   1   1   1   1   1   1   1   1   1   1   1   1\n",
            "    1   1   1   1   1   1   1   1   1   1   1   1   1   1   1   1   1]\n",
            " [  0 330  88 312 712 314 264 276 469 272 312 280 307 568 264 730 523  11\n",
            "  702 677 437 564 358 381 264 287 316 304  18   2   1   1   1   1   1   1\n",
            "    1   1   1   1   1   1   1   1   1   1   1   1   1   1   1   1   1   1\n",
            "    1   1   1   1   1   1   1   1   1   1   1   1   1   1   1   1   1]], shape=(2, 71), dtype=int32)\n"
          ],
          "name": "stdout"
        }
      ]
    },
    {
      "cell_type": "code",
      "metadata": {
        "id": "Ztn3BrwD2YKG",
        "colab_type": "code",
        "colab": {}
      },
      "source": [
        "def mask_tokens(inputs: tf.Tensor, \n",
        "                tokenizer: PreTrainedTokenizer, \n",
        "                mlm_probability=0.15) -> Tuple[tf.Tensor, tf.Tensor]:\n",
        "    \"\"\" Prepare masked tokens inputs/labels for masked language modeling: 80% MASK, 10% random, 10% original. \"\"\"\n",
        "\n",
        "    if tokenizer.mask_token is None:\n",
        "        raise ValueError(\n",
        "            \"This tokenizer does not have a mask token which is necessary for masked language modeling. \\\n",
        "            Remove the --mlm flag if you want to use this tokenizer.\"\n",
        "        )\n",
        "    labels = inputs\n",
        "    # We sample a few tokens in each sequence for masked-LM training \n",
        "    # (with probability mlm_probability defaults to 0.15 in Bert/RoBERTa)\n",
        "    probability_matrix = np.full(labels.shape, mlm_probability)\n",
        "    special_tokens_mask = [\n",
        "            tokenizer.get_special_tokens_mask(val, already_has_special_tokens=True) for val in labels.numpy().tolist()\n",
        "        ]\n",
        "    probability_matrix = np.ma.array(probability_matrix, mask=special_tokens_mask).filled(0)\n",
        "    if tokenizer._pad_token is not None:\n",
        "        padding_mask = (labels == tokenizer.pad_token_id)\n",
        "        probability_matrix = np.ma.array(probability_matrix, mask=padding_mask).filled(0)\n",
        "\n",
        "    masked_indices = tf.compat.v1.distributions.Bernoulli(probs=probability_matrix)\n",
        "    masked_indices = masked_indices.sample(1)[0].numpy()\n",
        "    masked_indices = np.array(masked_indices, dtype=np.bool)\n",
        "    labels = labels.numpy() \n",
        "    labels[~masked_indices] = -100 # We only compute loss on masked tokens\n",
        "\n",
        "    # 80% of the time, we replace masked input tokens with tokenizer.mask_token ([MASK])\n",
        "    choose_mask_tokens = tf.compat.v1.distributions.Bernoulli(probs=np.full(labels.shape, 0.8))\n",
        "    choose_mask_tokens = choose_mask_tokens.sample(1)[0].numpy()\n",
        "    choose_mask_tokens = np.array(choose_mask_tokens, dtype=np.bool)\n",
        "    indices_replaced = choose_mask_tokens & masked_indices\n",
        "    inputs = inputs.numpy()\n",
        "    inputs[indices_replaced] = tokenizer.convert_tokens_to_ids(tokenizer.mask_token)\n",
        "\n",
        "    # 10% of the time, we replace masked input tokens with random word\n",
        "    choose_random_tokens = tf.compat.v1.distributions.Bernoulli(probs=np.full(labels.shape, 0.5))\n",
        "    choose_random_tokens = choose_random_tokens.sample(1)[0].numpy()\n",
        "    choose_random_tokens = np.array(choose_random_tokens, dtype=np.bool)\n",
        "    indices_random = choose_random_tokens & masked_indices & ~indices_replaced\n",
        "    indices_random, choose_random_tokens\n",
        "    random_words = np.random.randint(0, len(tokenizer), labels.shape, dtype=np.int32)\n",
        "    inputs[indices_random] = random_words[indices_random]\n",
        "\n",
        "    # The rest of the time (10% of the time) we keep the masked input tokens unchanged\n",
        "    return tf.convert_to_tensor(inputs), tf.convert_to_tensor(labels)"
      ],
      "execution_count": 0,
      "outputs": []
    },
    {
      "cell_type": "code",
      "metadata": {
        "id": "bNCTqbbb3biG",
        "colab_type": "code",
        "colab": {
          "base_uri": "https://localhost:8080/",
          "height": 615
        },
        "outputId": "3d899d27-9b53-4d33-9a60-7174957a2ec9"
      },
      "source": [
        "mask_tokens(inputs, tokenizer, mlm_probability=0.15)"
      ],
      "execution_count": 9,
      "outputs": [
        {
          "output_type": "stream",
          "text": [
            "WARNING:tensorflow:From <ipython-input-8-54454c367dc1>:23: Bernoulli.__init__ (from tensorflow.python.ops.distributions.bernoulli) is deprecated and will be removed after 2019-01-01.\n",
            "Instructions for updating:\n",
            "The TensorFlow Distributions library has moved to TensorFlow Probability (https://github.com/tensorflow/probability). You should update all references to use `tfp.distributions` instead of `tf.distributions`.\n",
            "WARNING:tensorflow:From /usr/local/lib/python3.6/dist-packages/tensorflow/python/ops/distributions/bernoulli.py:97: Distribution.__init__ (from tensorflow.python.ops.distributions.distribution) is deprecated and will be removed after 2019-01-01.\n",
            "Instructions for updating:\n",
            "The TensorFlow Distributions library has moved to TensorFlow Probability (https://github.com/tensorflow/probability). You should update all references to use `tfp.distributions` instead of `tf.distributions`.\n"
          ],
          "name": "stdout"
        },
        {
          "output_type": "execute_result",
          "data": {
            "text/plain": [
              "(<tf.Tensor: shape=(2, 71), dtype=int32, numpy=\n",
              " array([[  0, 330, 527,  81, 659, 381, 156, 261,  77, 485,  18,   2,   1,\n",
              "           1,   1,   1,   1,   1,   1,   1,   1,   1,   1,   1,   1,   1,\n",
              "           1,   1,   1,   1,   1,   1,   1,   1,   1,   1,   1,   1,   1,\n",
              "           1,   1,   1,   1,   1,   1,   1,   1,   1,   1,   1,   1,   1,\n",
              "           1,   1,   1,   1,   1,   1,   1,   1,   1,   1,   1,   1,   1,\n",
              "           1,   1,   1,   1,   1,   1],\n",
              "        [  0, 330,  88, 312,   4, 314, 264, 276, 469, 272, 312,   4, 307,\n",
              "         568, 264, 730, 523,  11, 702, 677, 437, 564, 358, 381,   4,   4,\n",
              "         316, 304,  18,   2,   1,   1,   1,   1,   1,   1,   1,   1,   1,\n",
              "           1,   1,   1,   1,   1,   1,   1,   1,   1,   1,   1,   1,   1,\n",
              "           1,   1,   1,   1,   1,   1,   1,   1,   1,   1,   1,   1,   1,\n",
              "           1,   1,   1,   1,   1,   1]], dtype=int32)>,\n",
              " <tf.Tensor: shape=(2, 71), dtype=int32, numpy=\n",
              " array([[-100, -100,   11, -100, -100, -100,  430, -100, -100, -100, -100,\n",
              "         -100, -100, -100, -100, -100, -100, -100, -100, -100, -100, -100,\n",
              "         -100, -100, -100, -100, -100, -100, -100, -100, -100, -100, -100,\n",
              "         -100, -100, -100, -100, -100, -100, -100, -100, -100, -100, -100,\n",
              "         -100, -100, -100, -100, -100, -100, -100, -100, -100, -100, -100,\n",
              "         -100, -100, -100, -100, -100, -100, -100, -100, -100, -100, -100,\n",
              "         -100, -100, -100, -100, -100],\n",
              "        [-100, -100, -100, -100,  712, -100, -100, -100, -100, -100, -100,\n",
              "          280, -100, -100, -100, -100, -100, -100, -100, -100, -100, -100,\n",
              "         -100, -100,  264,  287, -100, -100, -100, -100, -100, -100, -100,\n",
              "         -100, -100, -100, -100, -100, -100, -100, -100, -100, -100, -100,\n",
              "         -100, -100, -100, -100, -100, -100, -100, -100, -100, -100, -100,\n",
              "         -100, -100, -100, -100, -100, -100, -100, -100, -100, -100, -100,\n",
              "         -100, -100, -100, -100, -100]], dtype=int32)>)"
            ]
          },
          "metadata": {
            "tags": []
          },
          "execution_count": 9
        }
      ]
    },
    {
      "cell_type": "code",
      "metadata": {
        "id": "EmOlN8dq6JBW",
        "colab_type": "code",
        "colab": {
          "base_uri": "https://localhost:8080/",
          "height": 34
        },
        "outputId": "7a911d38-de94-4776-938a-075ae2fafb5d"
      },
      "source": [
        "configuration = BertConfig.from_pretrained(pretrained_tokenizer_path)\n",
        "bert_model = TFBertModel(config=configuration)\n",
        "\n",
        "input = np.random.randint(0,10, size=(2,3))\n",
        "output = bert_model(input)\n",
        "output[0].shape, output[1].shape"
      ],
      "execution_count": 10,
      "outputs": [
        {
          "output_type": "execute_result",
          "data": {
            "text/plain": [
              "(TensorShape([2, 3, 128]), TensorShape([2, 128]))"
            ]
          },
          "metadata": {
            "tags": []
          },
          "execution_count": 10
        }
      ]
    },
    {
      "cell_type": "code",
      "metadata": {
        "id": "6rWTpCG17cvw",
        "colab_type": "code",
        "colab": {
          "base_uri": "https://localhost:8080/",
          "height": 187
        },
        "outputId": "111efff6-3ddd-4af2-e96c-406ce3c9c502"
      },
      "source": [
        "bert_model.summary()"
      ],
      "execution_count": 11,
      "outputs": [
        {
          "output_type": "stream",
          "text": [
            "Model: \"tf_bert_model\"\n",
            "_________________________________________________________________\n",
            "Layer (type)                 Output Shape              Param #   \n",
            "=================================================================\n",
            "bert (TFBertMainLayer)       multiple                  4022272   \n",
            "=================================================================\n",
            "Total params: 4,022,272\n",
            "Trainable params: 4,022,272\n",
            "Non-trainable params: 0\n",
            "_________________________________________________________________\n"
          ],
          "name": "stdout"
        }
      ]
    }
  ]
}