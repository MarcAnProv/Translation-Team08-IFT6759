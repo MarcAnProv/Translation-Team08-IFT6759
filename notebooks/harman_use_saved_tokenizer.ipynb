{
  "nbformat": 4,
  "nbformat_minor": 0,
  "metadata": {
    "colab": {
      "name": "harman_use_saved_tokenizer.ipynb",
      "provenance": [],
      "collapsed_sections": [],
      "mount_file_id": "1lyJE8TKGyasgfBDiITWVRWQztwItSODY",
      "authorship_tag": "ABX9TyPy3B1CMQbPH59mDClDuMIX",
      "include_colab_link": true
    },
    "kernelspec": {
      "name": "python3",
      "display_name": "Python 3"
    }
  },
  "cells": [
    {
      "cell_type": "markdown",
      "metadata": {
        "id": "view-in-github",
        "colab_type": "text"
      },
      "source": [
        "<a href=\"https://colab.research.google.com/github/notAlex2/Translation-Team08-IFT6759/blob/master/notebooks/harman_use_saved_tokenizer.ipynb\" target=\"_parent\"><img src=\"https://colab.research.google.com/assets/colab-badge.svg\" alt=\"Open In Colab\"/></a>"
      ]
    },
    {
      "cell_type": "code",
      "metadata": {
        "id": "1TrBC_yz4mpj",
        "colab_type": "code",
        "colab": {}
      },
      "source": [
        "import os\n",
        "project_path = \"/content/drive/My Drive/machine-translation/pretrain_language_model\"\n",
        "os.chdir(project_path)"
      ],
      "execution_count": 0,
      "outputs": []
    },
    {
      "cell_type": "code",
      "metadata": {
        "id": "H6NNccnH8lTy",
        "colab_type": "code",
        "colab": {}
      },
      "source": [
        "! pip install transformers===2.7.0 \n",
        "from transformers import AutoTokenizer"
      ],
      "execution_count": 0,
      "outputs": []
    },
    {
      "cell_type": "code",
      "metadata": {
        "id": "9Q3HVdyd5S6M",
        "colab_type": "code",
        "colab": {
          "base_uri": "https://localhost:8080/",
          "height": 153
        },
        "outputId": "0eb69f84-8a01-443f-e41e-50b128c2459a"
      },
      "source": [
        "tokenizer_path_en = \"tokenizer_data_en\"\n",
        "! tree tokenizer_data_en"
      ],
      "execution_count": 3,
      "outputs": [
        {
          "output_type": "stream",
          "text": [
            "tokenizer_data_en\n",
            "├── config.json\n",
            "├── merges.txt\n",
            "├── special_tokens_map.json\n",
            "├── tokenizer_config.json\n",
            "└── vocab.json\n",
            "\n",
            "0 directories, 5 files\n"
          ],
          "name": "stdout"
        }
      ]
    },
    {
      "cell_type": "code",
      "metadata": {
        "id": "hqeuJMAa7nmR",
        "colab_type": "code",
        "colab": {
          "base_uri": "https://localhost:8080/",
          "height": 153
        },
        "outputId": "68c5db6f-7795-4926-cf60-71285332ccdf"
      },
      "source": [
        "tokenizer_path_fr = \"tokenizer_data_fr\"\n",
        "! tree tokenizer_data_fr"
      ],
      "execution_count": 5,
      "outputs": [
        {
          "output_type": "stream",
          "text": [
            "tokenizer_data_fr\n",
            "├── config.json\n",
            "├── merges.txt\n",
            "├── special_tokens_map.json\n",
            "├── tokenizer_config.json\n",
            "└── vocab.json\n",
            "\n",
            "0 directories, 5 files\n"
          ],
          "name": "stdout"
        }
      ]
    },
    {
      "cell_type": "markdown",
      "metadata": {
        "id": "Yk71RxoR7d-M",
        "colab_type": "text"
      },
      "source": [
        "### **Load/Restore Tokenizer**"
      ]
    },
    {
      "cell_type": "code",
      "metadata": {
        "id": "CUTb-PPj6BrE",
        "colab_type": "code",
        "colab": {}
      },
      "source": [
        "# make sure the path contains above 5 files\n",
        "tokenizer_en = AutoTokenizer.from_pretrained(tokenizer_path_en)\n",
        "\n",
        "tokenizer_fr = AutoTokenizer.from_pretrained(tokenizer_path_fr)"
      ],
      "execution_count": 0,
      "outputs": []
    },
    {
      "cell_type": "markdown",
      "metadata": {
        "id": "tFlRH311JJRb",
        "colab_type": "text"
      },
      "source": [
        "### How to use Tokenizer  \n",
        "\n",
        "\n",
        "*   To tokenize a sentence, use `tokens = tokenizer.tokenize(sentence)`\n",
        "*   To encode a sentence to integers, use `encoded_sequence = tokenizer.encode(sentence)`. Not that it also adds start and end tokens, i.e. `<s>` and `</s>` to the encoded outputs.\n",
        "*   To decode/untokenize a sentence, use `tokenizer.decode(encoded_sequence, skip_special_tokens=True)`\n",
        "* We use keras's `pad_sequences` to pad. Make sure to use `tokenizer.pad_token_id` to provide the tokenizer specific pad token. \n",
        "\n",
        "\n",
        "Usage of this tokenizer is shown in following examples.\n",
        "\n"
      ]
    },
    {
      "cell_type": "code",
      "metadata": {
        "id": "XZf0htpZuwzp",
        "colab_type": "code",
        "outputId": "5d686fcd-ce16-4b23-839b-ccc1c0f3f67c",
        "colab": {
          "base_uri": "https://localhost:8080/",
          "height": 34
        }
      },
      "source": [
        "text = \"Montreal is a great city\".strip()\n",
        "tokenizer_en.tokenize(text)"
      ],
      "execution_count": 12,
      "outputs": [
        {
          "output_type": "execute_result",
          "data": {
            "text/plain": [
              "['M', 'ont', 'real', 'Ġis', 'Ġa', 'Ġgreat', 'Ġcity']"
            ]
          },
          "metadata": {
            "tags": []
          },
          "execution_count": 12
        }
      ]
    },
    {
      "cell_type": "markdown",
      "metadata": {
        "id": "VwR5eKxgPjbr",
        "colab_type": "text"
      },
      "source": [
        "Capitalization and lowercased inputs will give different results. Hence, its user's choice on how he provides input to the tokenizer."
      ]
    },
    {
      "cell_type": "code",
      "metadata": {
        "id": "ZcbFWJP2Pgem",
        "colab_type": "code",
        "outputId": "554a1c4d-2e83-4861-d94c-1c77bf76f195",
        "colab": {
          "base_uri": "https://localhost:8080/",
          "height": 34
        }
      },
      "source": [
        "text = \"Montreal is a great city\".strip().lower()\n",
        "tokenizer_en.tokenize(text)"
      ],
      "execution_count": 13,
      "outputs": [
        {
          "output_type": "execute_result",
          "data": {
            "text/plain": [
              "['mont', 'real', 'Ġis', 'Ġa', 'Ġgreat', 'Ġcity']"
            ]
          },
          "metadata": {
            "tags": []
          },
          "execution_count": 13
        }
      ]
    },
    {
      "cell_type": "code",
      "metadata": {
        "colab_type": "code",
        "outputId": "0ac63b37-b612-4af4-be1e-61c477e6a317",
        "id": "zNaQ3iQoD9Qx",
        "colab": {
          "base_uri": "https://localhost:8080/",
          "height": 34
        }
      },
      "source": [
        "encoded_seq = tokenizer_en.encode(text)\n",
        "encoded_seq"
      ],
      "execution_count": 24,
      "outputs": [
        {
          "output_type": "execute_result",
          "data": {
            "text/plain": [
              "[1, 18325, 306, 263, 805, 3195, 2]"
            ]
          },
          "metadata": {
            "tags": []
          },
          "execution_count": 24
        }
      ]
    },
    {
      "cell_type": "code",
      "metadata": {
        "id": "G09sii-l26VL",
        "colab_type": "code",
        "outputId": "4641de8b-b201-4de6-9a0e-6be2e2d18f27",
        "colab": {
          "base_uri": "https://localhost:8080/",
          "height": 34
        }
      },
      "source": [
        "# decode sequence back!\n",
        "tokenizer_en.decode(encoded_seq, skip_special_tokens=False)"
      ],
      "execution_count": 26,
      "outputs": [
        {
          "output_type": "execute_result",
          "data": {
            "text/plain": [
              "'<s> montreal is a great city</s>'"
            ]
          },
          "metadata": {
            "tags": []
          },
          "execution_count": 26
        }
      ]
    },
    {
      "cell_type": "code",
      "metadata": {
        "id": "MFraHntzFJxs",
        "colab_type": "code",
        "outputId": "5b649663-ba6a-4440-b822-9b8b060fae02",
        "colab": {
          "base_uri": "https://localhost:8080/",
          "height": 34
        }
      },
      "source": [
        "tokenizer_en.decode(encoded_seq, skip_special_tokens=True)"
      ],
      "execution_count": 28,
      "outputs": [
        {
          "output_type": "execute_result",
          "data": {
            "text/plain": [
              "' montreal is a great city'"
            ]
          },
          "metadata": {
            "tags": []
          },
          "execution_count": 28
        }
      ]
    },
    {
      "cell_type": "code",
      "metadata": {
        "colab_type": "code",
        "outputId": "bda79186-064a-4f2c-ac72-c2da89ebdfda",
        "id": "onbcSMDv9aNH",
        "colab": {
          "base_uri": "https://localhost:8080/",
          "height": 51
        }
      },
      "source": [
        "tokens = tokenizer_en.encode_plus(text)\n",
        "tokens"
      ],
      "execution_count": 30,
      "outputs": [
        {
          "output_type": "execute_result",
          "data": {
            "text/plain": [
              "{'attention_mask': [1, 1, 1, 1, 1, 1, 1],\n",
              " 'input_ids': [1, 18325, 306, 263, 805, 3195, 2]}"
            ]
          },
          "metadata": {
            "tags": []
          },
          "execution_count": 30
        }
      ]
    },
    {
      "cell_type": "code",
      "metadata": {
        "id": "-JqhRyIosiJ4",
        "colab_type": "code",
        "outputId": "242b2cce-11a0-488c-80fa-18878e405231",
        "colab": {
          "base_uri": "https://localhost:8080/",
          "height": 34
        }
      },
      "source": [
        "tokens[\"input_ids\"]"
      ],
      "execution_count": 31,
      "outputs": [
        {
          "output_type": "execute_result",
          "data": {
            "text/plain": [
              "[1, 18325, 306, 263, 805, 3195, 2]"
            ]
          },
          "metadata": {
            "tags": []
          },
          "execution_count": 31
        }
      ]
    },
    {
      "cell_type": "code",
      "metadata": {
        "id": "IvsD2BJkRn13",
        "colab_type": "code",
        "outputId": "92e3ae54-c7ca-4c9b-bd1d-bc18527358f0",
        "colab": {
          "base_uri": "https://localhost:8080/",
          "height": 34
        }
      },
      "source": [
        "tokenizer_en.get_special_tokens_mask(encoded_seq, already_has_special_tokens=True)"
      ],
      "execution_count": 33,
      "outputs": [
        {
          "output_type": "execute_result",
          "data": {
            "text/plain": [
              "[1, 0, 0, 0, 0, 0, 1]"
            ]
          },
          "metadata": {
            "tags": []
          },
          "execution_count": 33
        }
      ]
    },
    {
      "cell_type": "code",
      "metadata": {
        "id": "V5WgNfinsiHr",
        "colab_type": "code",
        "outputId": "0c54c384-a234-4563-fa2f-8edca7016b86",
        "colab": {
          "base_uri": "https://localhost:8080/",
          "height": 51
        }
      },
      "source": [
        "from tensorflow.keras.preprocessing.sequence import pad_sequences\n",
        "# pad sequences!\n",
        "padded_seq = pad_sequences([tokens[\"input_ids\"]], padding='post', value=tokenizer_en.pad_token_id, maxlen=15)\n",
        "padded_seq[0]"
      ],
      "execution_count": 36,
      "outputs": [
        {
          "output_type": "execute_result",
          "data": {
            "text/plain": [
              "array([    1, 18325,   306,   263,   805,  3195,     2,     0,     0,\n",
              "           0,     0,     0,     0,     0,     0], dtype=int32)"
            ]
          },
          "metadata": {
            "tags": []
          },
          "execution_count": 36
        }
      ]
    },
    {
      "cell_type": "code",
      "metadata": {
        "id": "FL0weZm9siGV",
        "colab_type": "code",
        "outputId": "ac88e76d-c362-42cd-9c56-45381e1f242c",
        "colab": {
          "base_uri": "https://localhost:8080/",
          "height": 34
        }
      },
      "source": [
        "tokenizer_en.get_special_tokens_mask(padded_seq[0], already_has_special_tokens=True)"
      ],
      "execution_count": 37,
      "outputs": [
        {
          "output_type": "execute_result",
          "data": {
            "text/plain": [
              "[1, 0, 0, 0, 0, 0, 1, 0, 0, 0, 0, 0, 0, 0, 0]"
            ]
          },
          "metadata": {
            "tags": []
          },
          "execution_count": 37
        }
      ]
    },
    {
      "cell_type": "markdown",
      "metadata": {
        "id": "_IGlV7YcSXEN",
        "colab_type": "text"
      },
      "source": [
        "#### Un-tokenize inputs"
      ]
    },
    {
      "cell_type": "code",
      "metadata": {
        "id": "3IDsuZlexIQK",
        "colab_type": "code",
        "outputId": "5eeaf939-e8e6-44e0-bf8d-94a41a95d77b",
        "colab": {
          "base_uri": "https://localhost:8080/",
          "height": 34
        }
      },
      "source": [
        "tokenizer_en.decode(padded_seq[0], skip_special_tokens=False)"
      ],
      "execution_count": 38,
      "outputs": [
        {
          "output_type": "execute_result",
          "data": {
            "text/plain": [
              "'<s> montreal is a great city</s><pad><pad><pad><pad><pad><pad><pad><pad>'"
            ]
          },
          "metadata": {
            "tags": []
          },
          "execution_count": 38
        }
      ]
    },
    {
      "cell_type": "code",
      "metadata": {
        "id": "ldWmAe6oxIKx",
        "colab_type": "code",
        "outputId": "ff868a86-a750-4002-a057-120956a45282",
        "colab": {
          "base_uri": "https://localhost:8080/",
          "height": 34
        }
      },
      "source": [
        "tokenizer_en.decode(padded_seq[0], skip_special_tokens=True)"
      ],
      "execution_count": 39,
      "outputs": [
        {
          "output_type": "execute_result",
          "data": {
            "text/plain": [
              "' montreal is a great city'"
            ]
          },
          "metadata": {
            "tags": []
          },
          "execution_count": 39
        }
      ]
    },
    {
      "cell_type": "code",
      "metadata": {
        "colab_type": "code",
        "outputId": "bba62ec6-253e-45f2-bff4-829dfc10bc98",
        "id": "xRZPf7wOJOqM",
        "colab": {
          "base_uri": "https://localhost:8080/",
          "height": 85
        }
      },
      "source": [
        "# encode batch in one go!\n",
        "text1 = \"Montreal is a great city\".strip()\n",
        "text2 = \"California has good weather\".strip()\n",
        "\n",
        "texts = [text1, text2]\n",
        "tokenizer_en.batch_encode_plus(texts)"
      ],
      "execution_count": 40,
      "outputs": [
        {
          "output_type": "execute_result",
          "data": {
            "text/plain": [
              "{'attention_mask': [[1, 1, 1, 1, 1, 1, 1, 1, 1, 1],\n",
              "  [1, 1, 1, 1, 1, 1, 1, 1, 1]],\n",
              " 'input_ids': [[1, 225, 49, 2096, 9317, 306, 263, 805, 3195, 2],\n",
              "  [1, 225, 39, 289, 8955, 407, 793, 5872, 2]]}"
            ]
          },
          "metadata": {
            "tags": []
          },
          "execution_count": 40
        }
      ]
    }
  ]
}